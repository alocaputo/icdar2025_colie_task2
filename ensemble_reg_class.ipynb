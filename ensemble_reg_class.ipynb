{
 "cells": [
  {
   "cell_type": "markdown",
   "metadata": {},
   "source": [
    "# Ensemble using different models and Conformal Prediction"
   ]
  },
  {
   "cell_type": "markdown",
   "metadata": {},
   "source": [
    "This notebook combines a regression model with conformal prediction to determine a range of possible values, then uses a classifier model to select the most probable value within that range."
   ]
  },
  {
   "cell_type": "code",
   "execution_count": 14,
   "metadata": {
    "tags": []
   },
   "outputs": [],
   "source": [
    "import os\n",
    "os.environ[\"CUDA_VISIBLE_DEVICES\"] = \"2\"\n",
    "\n",
    "import torch\n",
    "import torch.nn as nn\n",
    "import numpy as np\n",
    "import pandas as pd\n",
    "\n",
    "import pickle\n",
    "from tqdm import tqdm\n",
    "from transformers import LongformerTokenizer\n",
    "from torch.utils.data import Dataset, DataLoader\n",
    "import matplotlib.pyplot as plt\n",
    "import random\n",
    "\n",
    "from transformers import LongformerModel, LongformerTokenizer\n",
    "# Import models from the task files\n",
    "# from task2x_combined_regression import SingleHeadLongformerModel as RegressionModel\n",
    "# from task2x_combined import SingleHeadLongformerModel as ClassifierModel\n",
    "# from task2x_combined import FileBasedSingleTaskDataset"
   ]
  },
  {
   "cell_type": "code",
   "execution_count": 7,
   "metadata": {
    "tags": []
   },
   "outputs": [],
   "source": [
    "class RegressionModel(nn.Module):\n",
    "    def __init__(self):\n",
    "        super(RegressionModel, self).__init__()\n",
    "        \n",
    "        self.longformer = LongformerModel.from_pretrained('allenai/longformer-base-4096')\n",
    "        \n",
    "        # Regression head - outputs a single continuous value\n",
    "        self.decade_regressor = nn.Sequential(\n",
    "            nn.Linear(self.longformer.config.hidden_size, 512),\n",
    "            nn.ReLU(),\n",
    "            nn.Dropout(0.3),\n",
    "            nn.Linear(512, 1)\n",
    "        )\n",
    "    \n",
    "    def forward(self, input_ids, attention_mask):\n",
    "        outputs = self.longformer(\n",
    "            input_ids=input_ids, \n",
    "            attention_mask=attention_mask\n",
    "        )\n",
    "        \n",
    "        pooled_output = outputs.last_hidden_state[:, 0, :]\n",
    "        decade_prediction = self.decade_regressor(pooled_output).squeeze(-1)\n",
    "        \n",
    "        return decade_prediction"
   ]
  },
  {
   "cell_type": "code",
   "execution_count": 8,
   "metadata": {
    "tags": []
   },
   "outputs": [],
   "source": [
    "class ClassifierModel(nn.Module):\n",
    "    def __init__(self, num_decades=43):\n",
    "        super(ClassifierModel, self).__init__()\n",
    "        \n",
    "        self.longformer = LongformerModel.from_pretrained('allenai/longformer-base-4096')\n",
    "        \n",
    "        # Single decade classifier head\n",
    "        self.decade_classifier = nn.Sequential(\n",
    "            nn.Linear(self.longformer.config.hidden_size, 512),\n",
    "            nn.ReLU(),\n",
    "            nn.Dropout(0.3),\n",
    "            nn.Linear(512, num_decades)\n",
    "        )\n",
    "    \n",
    "    def forward(self, input_ids, attention_mask):\n",
    "        outputs = self.longformer(\n",
    "            input_ids=input_ids, \n",
    "            attention_mask=attention_mask\n",
    "        )\n",
    "        \n",
    "        pooled_output = outputs.last_hidden_state[:, 0, :]\n",
    "        decade_logits = self.decade_classifier(pooled_output)\n",
    "        \n",
    "        return decade_logits"
   ]
  },
  {
   "cell_type": "code",
   "execution_count": 20,
   "metadata": {
    "tags": []
   },
   "outputs": [],
   "source": [
    "def convert_to_absolute_decade(century, decade):\n",
    "    \"\"\"Convert century (0-4) and decade (0-9) to absolute decade (0-42)\"\"\"\n",
    "    return century * 10 + decade\n",
    "\n",
    "class FileBasedSingleTaskDataset(Dataset):\n",
    "    def __init__(self, file_paths, path, century_labels, decade_labels, tokenizer, max_length=1536):\n",
    "        self.file_paths = file_paths\n",
    "        self.path = path\n",
    "        self.century_labels = century_labels\n",
    "        self.decade_labels = decade_labels\n",
    "        self.tokenizer = tokenizer\n",
    "        self.max_length = max_length            # default 512*3 = 1536\n",
    "        \n",
    "    def __len__(self):\n",
    "        return len(self.file_paths)\n",
    "    \n",
    "    def __getitem__(self, idx):\n",
    "        file_path = self.file_paths[idx]\n",
    "        century = self.century_labels[idx]\n",
    "        decade = self.decade_labels[idx]\n",
    "        \n",
    "        # Convert to absolute decade label\n",
    "        absolute_decade = convert_to_absolute_decade(century, decade)\n",
    "        \n",
    "        with open(os.path.join(self.path, file_path), 'r', encoding='utf-8') as f:\n",
    "            text = f.read()\n",
    "        \n",
    "        encoding = self.tokenizer(\n",
    "            text,\n",
    "            truncation=True,\n",
    "            padding='max_length',\n",
    "            max_length=self.max_length,\n",
    "            return_tensors='pt'\n",
    "        )\n",
    "        \n",
    "        encoding = {key: val.squeeze(0) for key, val in encoding.items()}\n",
    "        encoding['decade_labels'] = torch.tensor(absolute_decade, dtype=torch.long)\n",
    "        \n",
    "        return encoding"
   ]
  },
  {
   "cell_type": "code",
   "execution_count": 10,
   "metadata": {
    "tags": []
   },
   "outputs": [
    {
     "name": "stdout",
     "output_type": "stream",
     "text": [
      "Using device: cuda\n"
     ]
    }
   ],
   "source": [
    "# Set seeds for reproducibility\n",
    "SEED = 42\n",
    "os.environ['PYTHONHASHSEED'] = str(SEED)\n",
    "random.seed(SEED)\n",
    "np.random.seed(SEED)\n",
    "os.environ['NUMPY_SEED'] = str(SEED)\n",
    "np.random.default_rng(SEED)\n",
    "\n",
    "torch.manual_seed(SEED)\n",
    "if torch.cuda.is_available():\n",
    "    torch.cuda.manual_seed_all(SEED)\n",
    "    torch.backends.cudnn.deterministic = True\n",
    "    torch.backends.cudnn.benchmark = False\n",
    "\n",
    "device = torch.device(\"cuda\" if torch.cuda.is_available() else \"cpu\")\n",
    "print(f\"Using device: {device}\")"
   ]
  },
  {
   "cell_type": "code",
   "execution_count": 32,
   "metadata": {
    "tags": []
   },
   "outputs": [
    {
     "name": "stdout",
     "output_type": "stream",
     "text": [
      "Training samples: 178221\n",
      "Validation samples: 42724\n"
     ]
    }
   ],
   "source": [
    "# Load the data from task files\n",
    "texts_path = './data/Task2/texts'\n",
    "\n",
    "train_path = os.path.join(texts_path, 'train')\n",
    "valid_path = os.path.join(texts_path, 'valid')\n",
    "\n",
    "# Task 2.1\n",
    "train21 = pd.read_csv('./data/Task2/task2.1/train.csv')\n",
    "valid21 = pd.read_csv('./data/Task2/task2.1/valid.csv')\n",
    "\n",
    "train21.rename(columns={'label': 'century'}, inplace=True)\n",
    "train21['file_name'] = train21['id']\n",
    "train21['id'] = train21.id.str.replace('train_text', '').str.replace('.txt', '').astype(int)\n",
    "train21.set_index('id', inplace=True)\n",
    "\n",
    "valid21.rename(columns={'label': 'century'}, inplace=True)\n",
    "valid21['file_name'] = valid21['id']\n",
    "valid21['id'] = valid21.id.str.replace('valid_text', '').str.replace('.txt', '').astype(int)\n",
    "valid21.set_index('id', inplace=True)\n",
    "\n",
    "# Task 2.2\n",
    "train22 = pd.read_csv('./data/Task2/task2.2/train.csv')\n",
    "valid22 = pd.read_csv('./data/Task2/task2.2/valid.csv')\n",
    "\n",
    "train22.rename(columns={'label': 'century'}, inplace=True)\n",
    "train22['file_name'] = train22['id']\n",
    "train22['id'] = train22.id.str.replace('train_text', '').str.replace('.txt', '').astype(int)\n",
    "train22.set_index('id', inplace=True)\n",
    "\n",
    "valid22.rename(columns={'label': 'century'}, inplace=True)\n",
    "valid22['file_name'] = valid22['id']\n",
    "valid22['id'] = valid22.id.str.replace('valid_text', '').str.replace('.txt', '').astype(int)\n",
    "valid22.set_index('id', inplace=True)\n",
    "\n",
    "with open('blacklist.pkl', 'rb') as f:\n",
    "    blacklist = pickle.load(f)\n",
    "\n",
    "# Filter the data similar to the task files\n",
    "blacklist_train = blacklist['train']\n",
    "blacklist_valid = blacklist['valid']\n",
    "\n",
    "X_train_21, y_train_21, X_train_22, y_train_22 = [], [], [], []\n",
    "X_valid_21, y_valid_21, X_valid_22, y_valid_22 = [], [], [], []\n",
    "\n",
    "# Process training data\n",
    "for idx, row in train21.iterrows():\n",
    "    #if idx in blacklist_train:\n",
    "    #    continue\n",
    "        \n",
    "    file_name = row.file_name\n",
    "    century = row.century\n",
    "    \n",
    "    with open(os.path.join(texts_path, file_name), 'r') as file:\n",
    "        text = file.read()\n",
    "    if 'gutenberg' in text.lower() and 'project' in text.lower():\n",
    "        continue\n",
    "        \n",
    "    X_train_21.append(file_name)\n",
    "    y_train_21.append(century-1)\n",
    "\n",
    "# Process validation data\n",
    "for idx, row in valid21.iterrows():\n",
    "    #if idx in blacklist_valid:\n",
    "    #    continue\n",
    "        \n",
    "    file_name = row.file_name\n",
    "    century = row.century\n",
    "    \n",
    "    with open(os.path.join(texts_path, file_name), 'r') as file:\n",
    "        text = file.read()\n",
    "    if 'gutenberg' in text.lower() and 'project' in text.lower():\n",
    "        continue\n",
    "        \n",
    "    X_valid_21.append(file_name)\n",
    "    y_valid_21.append(century-1)\n",
    "\n",
    "# Process task2.2 data\n",
    "for idx, row in train22.iterrows():\n",
    "    #if idx in blacklist_train:\n",
    "    #    continue\n",
    "        \n",
    "    file_name = row.file_name\n",
    "    century = row.century\n",
    "    \n",
    "    with open(os.path.join(texts_path, file_name), 'r') as file:\n",
    "        text = file.read()\n",
    "    if 'gutenberg' in text.lower() and 'project' in text.lower():\n",
    "        continue\n",
    "        \n",
    "    X_train_22.append(file_name)\n",
    "    y_train_22.append(century-1)\n",
    "\n",
    "for idx, row in valid22.iterrows():\n",
    "    #if idx in blacklist_valid:\n",
    "    #    continue\n",
    "        \n",
    "    file_name = row.file_name\n",
    "    century = row.century\n",
    "    \n",
    "    with open(os.path.join(texts_path, file_name), 'r') as file:\n",
    "        text = file.read()\n",
    "    if 'gutenberg' in text.lower() and 'project' in text.lower():\n",
    "        continue\n",
    "        \n",
    "    X_valid_22.append(file_name)\n",
    "    y_valid_22.append(century-1)\n",
    "\n",
    "print(f\"Training samples: {len(X_train_21)}\")\n",
    "print(f\"Validation samples: {len(X_valid_21)}\")"
   ]
  },
  {
   "cell_type": "markdown",
   "metadata": {},
   "source": [
    "## Load Pre-trained Models"
   ]
  },
  {
   "cell_type": "code",
   "execution_count": 46,
   "metadata": {
    "tags": []
   },
   "outputs": [
    {
     "name": "stdout",
     "output_type": "stream",
     "text": [
      "Regression model loaded\n",
      "Classifier model loaded\n"
     ]
    }
   ],
   "source": [
    "# Load models\n",
    "tokenizer = LongformerTokenizer.from_pretrained('allenai/longformer-base-4096')\n",
    "\n",
    "# Load regression model\n",
    "regression_model = RegressionModel()\n",
    "regression_model_path = 'old_models/task2x/best_single_head_regression_model_epoch_4.pt'\n",
    "regression_model.load_state_dict(torch.load(regression_model_path, map_location=device))\n",
    "regression_model.to(device)\n",
    "regression_model.eval()\n",
    "print(\"Regression model loaded\")\n",
    "\n",
    "# Load classifier model\n",
    "classifier_model = ClassifierModel()\n",
    "classifier_model_path = 'old_models/task2x/best_single_head_model.pt'\n",
    "classifier_model.load_state_dict(torch.load(classifier_model_path, map_location=device))\n",
    "classifier_model.to(device)\n",
    "classifier_model.eval()\n",
    "print(\"Classifier model loaded\")"
   ]
  },
  {
   "cell_type": "markdown",
   "metadata": {},
   "source": [
    "## Prepare Data for Conformal Prediction"
   ]
  },
  {
   "cell_type": "code",
   "execution_count": 48,
   "metadata": {
    "tags": []
   },
   "outputs": [],
   "source": [
    "from sklearn.model_selection import train_test_split\n",
    "\n",
    "X_test_main, X_calib, y_test21_main, y_calib21, y_test22_main, y_calib22 = train_test_split(\n",
    "    X_valid_21, y_valid_21, y_valid_22, test_size=0.2, random_state=42\n",
    ")\n",
    "\n",
    "# Create datasets\n",
    "calib_dataset = FileBasedSingleTaskDataset(X_calib, texts_path, y_calib21, y_calib22, tokenizer)\n",
    "valid_dataset = FileBasedSingleTaskDataset(X_test_main, texts_path, y_test21_main, y_test22_main, tokenizer)\n",
    "\n",
    "# Create dataloaders\n",
    "batch_size = 16\n",
    "calib_dataloader = DataLoader(calib_dataset, batch_size=batch_size, shuffle=False)\n",
    "valid_dataloader = DataLoader(valid_dataset, batch_size=batch_size, shuffle=False)"
   ]
  },
  {
   "cell_type": "markdown",
   "metadata": {},
   "source": [
    "## Implementing Conformal Prediction"
   ]
  },
  {
   "cell_type": "code",
   "execution_count": 49,
   "metadata": {
    "tags": []
   },
   "outputs": [],
   "source": [
    "def get_regression_predictions(model, dataloader):\n",
    "    model.eval()\n",
    "    all_preds = []\n",
    "    all_labels = []\n",
    "    \n",
    "    with torch.no_grad():\n",
    "        for batch in tqdm(dataloader):\n",
    "            batch = {k: v.to(device) for k, v in batch.items()}\n",
    "            preds = model(input_ids=batch['input_ids'], attention_mask=batch['attention_mask'])\n",
    "            all_preds.extend(preds.cpu().numpy())\n",
    "            all_labels.extend(batch['decade_labels'].cpu().numpy())\n",
    "            \n",
    "    return np.array(all_preds), np.array(all_labels)\n",
    "\n",
    "def get_classifier_predictions(model, dataloader):\n",
    "    model.eval()\n",
    "    all_probs = []\n",
    "    all_preds = []\n",
    "    all_labels = []\n",
    "    \n",
    "    with torch.no_grad():\n",
    "        for batch in tqdm(dataloader):\n",
    "            batch = {k: v.to(device) for k, v in batch.items()}\n",
    "            logits = model(input_ids=batch['input_ids'], attention_mask=batch['attention_mask'])\n",
    "            probs = torch.nn.functional.softmax(logits, dim=1)\n",
    "            preds = torch.argmax(probs, dim=1)\n",
    "            \n",
    "            all_probs.extend(probs.cpu().numpy())\n",
    "            all_preds.extend(preds.cpu().numpy())\n",
    "            all_labels.extend(batch['decade_labels'].cpu().numpy())\n",
    "            \n",
    "    return np.array(all_probs), np.array(all_preds), np.array(all_labels)"
   ]
  },
  {
   "cell_type": "code",
   "execution_count": 55,
   "metadata": {
    "tags": []
   },
   "outputs": [
    {
     "name": "stdout",
     "output_type": "stream",
     "text": [
      "Getting regression predictions on calibration set...\n"
     ]
    },
    {
     "name": "stderr",
     "output_type": "stream",
     "text": [
      "100%|███████████████████████████████████████████████████████████████████████████████████████████████████████████████████████████████████████████████████████████████████████████████| 535/535 [05:38<00:00,  1.58it/s]\n"
     ]
    },
    {
     "name": "stdout",
     "output_type": "stream",
     "text": [
      "Getting classifier predictions on calibration set...\n"
     ]
    },
    {
     "name": "stderr",
     "output_type": "stream",
     "text": [
      "100%|███████████████████████████████████████████████████████████████████████████████████████████████████████████████████████████████████████████████████████████████████████████████| 535/535 [05:36<00:00,  1.59it/s]\n"
     ]
    }
   ],
   "source": [
    "print(\"Getting regression predictions on calibration set...\")\n",
    "calib_reg_preds, calib_labels = get_regression_predictions(regression_model, calib_dataloader)\n",
    "\n",
    "print(\"Getting classifier predictions on calibration set...\")\n",
    "calib_class_probs, calib_class_preds, _ = get_classifier_predictions(classifier_model, calib_dataloader)"
   ]
  },
  {
   "cell_type": "code",
   "execution_count": 58,
   "metadata": {
    "tags": []
   },
   "outputs": [],
   "source": [
    "# Compute nonconformity scores for conformal prediction\n",
    "def compute_nonconformity_scores(predictions, labels):\n",
    "    # Use absolute error as nonconformity score for regression\n",
    "    return np.abs(predictions - labels)\n",
    "\n",
    "# Get nonconformity scores on calibration set\n",
    "nonconformity_scores = compute_nonconformity_scores(calib_reg_preds, calib_labels)\n",
    "\n",
    "# Function to compute prediction intervals based on desired confidence level\n",
    "def get_prediction_intervals(pred, nonconformity_scores, confidence_level=0.9):\n",
    "    # Sort nonconformity scores\n",
    "    sorted_scores = np.sort(nonconformity_scores)\n",
    "    \n",
    "    # Find the threshold for the given confidence level\n",
    "    n = len(sorted_scores)\n",
    "    # Add 1 to ensure valid index and adjust confidence level to be conservative\n",
    "    index = int(np.ceil((n+1) * confidence_level)) - 1\n",
    "    index = min(index, n-1)  # Ensure index is valid\n",
    "    threshold = sorted_scores[index]\n",
    "    \n",
    "    # Calculate prediction intervals\n",
    "    lower_bound = np.floor(pred - threshold).astype(int)\n",
    "    upper_bound = np.ceil(pred + threshold).astype(int)\n",
    "    \n",
    "    # Ensure values are within valid range (0 to 42)\n",
    "    lower_bound = np.maximum(lower_bound, 0)\n",
    "    upper_bound = np.minimum(upper_bound, 42)\n",
    "    \n",
    "    return lower_bound, upper_bound"
   ]
  },
  {
   "cell_type": "code",
   "execution_count": 57,
   "metadata": {
    "tags": []
   },
   "outputs": [
    {
     "name": "stdout",
     "output_type": "stream",
     "text": [
      "Getting regression predictions on validation set...\n"
     ]
    },
    {
     "name": "stderr",
     "output_type": "stream",
     "text": [
      "100%|█████████████████████████████████████████████████████████████████████████████████████████████████████████████████████████████████████████████████████████████████████████████| 2137/2137 [22:30<00:00,  1.58it/s]\n"
     ]
    },
    {
     "name": "stdout",
     "output_type": "stream",
     "text": [
      "Getting classifier predictions on validation set...\n"
     ]
    },
    {
     "name": "stderr",
     "output_type": "stream",
     "text": [
      "100%|█████████████████████████████████████████████████████████████████████████████████████████████████████████████████████████████████████████████████████████████████████████████| 2137/2137 [22:28<00:00,  1.58it/s]"
     ]
    },
    {
     "name": "stdout",
     "output_type": "stream",
     "text": [
      "\n",
      "Sample prediction intervals:\n",
      "True: 25, Reg Pred: 26.94, Interval: [24, 30]\n",
      "True: 27, Reg Pred: 28.35, Interval: [26, 31]\n",
      "True: 24, Reg Pred: 25.26, Interval: [22, 28]\n",
      "True: 24, Reg Pred: 24.46, Interval: [22, 27]\n",
      "True: 23, Reg Pred: 23.94, Interval: [21, 27]\n",
      "True: 23, Reg Pred: 24.60, Interval: [22, 27]\n",
      "True: 28, Reg Pred: 29.29, Interval: [27, 32]\n",
      "True: 31, Reg Pred: 29.55, Interval: [27, 32]\n",
      "True: 23, Reg Pred: 24.46, Interval: [22, 27]\n",
      "True: 29, Reg Pred: 29.54, Interval: [27, 32]\n"
     ]
    },
    {
     "name": "stderr",
     "output_type": "stream",
     "text": [
      "\n"
     ]
    }
   ],
   "source": [
    "# Get predictions for the validation set\n",
    "print(\"Getting regression predictions on validation set...\")\n",
    "valid_reg_preds, valid_labels = get_regression_predictions(regression_model, valid_dataloader)\n",
    "\n",
    "print(\"Getting classifier predictions on validation set...\")\n",
    "valid_class_probs, valid_class_preds, _ = get_classifier_predictions(classifier_model, valid_dataloader)\n",
    "\n",
    "# Compute prediction intervals using conformal prediction\n",
    "confidence_level = 0.9  # 90% confidence interval\n",
    "lower_bounds, upper_bounds = get_prediction_intervals(valid_reg_preds, nonconformity_scores, confidence_level)\n",
    "\n",
    "# Print some examples of prediction intervals\n",
    "print(\"\\nSample prediction intervals:\")\n",
    "for i in range(min(10, len(valid_reg_preds))):\n",
    "    print(f\"True: {valid_labels[i]}, Reg Pred: {valid_reg_preds[i]:.2f}, Interval: [{lower_bounds[i]}, {upper_bounds[i]}]\")"
   ]
  },
  {
   "cell_type": "markdown",
   "metadata": {},
   "source": [
    "## Combine Regression with Conformal Prediction and Classification"
   ]
  },
  {
   "cell_type": "code",
   "execution_count": 70,
   "metadata": {
    "tags": []
   },
   "outputs": [],
   "source": [
    "def ensemble_prediction(reg_pred, lower_bound, upper_bound, class_probs):\n",
    "    # Create an interval of integers from lower_bound to upper_bound\n",
    "    interval = np.arange(lower_bound, upper_bound + 1)\n",
    "    \n",
    "    # Filter probabilities within the interval\n",
    "    filtered_probs = np.array([class_probs[i] if i in interval else 0 for i in range(len(class_probs))])\n",
    "    \n",
    "    # If no valid probabilities in interval, return the regression prediction rounded to nearest integer\n",
    "    if np.sum(filtered_probs) == 0:\n",
    "        return int(np.floor(reg_pred))\n",
    "    \n",
    "    # Otherwise, return the class with the highest probability within the interval\n",
    "    return np.argmax(filtered_probs)\n",
    "\n",
    "# Apply ensemble prediction to each sample\n",
    "ensemble_preds = [\n",
    "    ensemble_prediction(reg_pred, lb, ub, class_probs) \n",
    "    for reg_pred, lb, ub, class_probs in zip(valid_reg_preds, lower_bounds, upper_bounds, valid_class_probs)\n",
    "]\n",
    "\n",
    "ensemble_preds = np.array(ensemble_preds)"
   ]
  },
  {
   "cell_type": "code",
   "execution_count": 75,
   "metadata": {
    "tags": []
   },
   "outputs": [
    {
     "data": {
      "text/plain": [
       "array([25, 27, 24, ..., 25, 29, 25])"
      ]
     },
     "execution_count": 75,
     "metadata": {},
     "output_type": "execute_result"
    }
   ],
   "source": [
    "ensemble_preds"
   ]
  },
  {
   "cell_type": "code",
   "execution_count": 78,
   "metadata": {
    "tags": []
   },
   "outputs": [
    {
     "data": {
      "text/plain": [
       "0.8408379414260219"
      ]
     },
     "execution_count": 78,
     "metadata": {},
     "output_type": "execute_result"
    }
   ],
   "source": [
    "np.mean([ l ==p for l, p in zip(valid_labels, ensemble_preds)])"
   ]
  },
  {
   "cell_type": "code",
   "execution_count": 81,
   "metadata": {
    "tags": []
   },
   "outputs": [
    {
     "name": "stdout",
     "output_type": "stream",
     "text": [
      "\n",
      "Evaluation Metrics:\n",
      "Regression Model - MAE: 1.0656, Accuracy: 0.4246\n",
      "Classification Model - MAE: 0.6446, Accuracy: 0.8507\n",
      "Ensemble Model - MAE: 0.6408, Accuracy: 0.8408\n",
      "\n",
      "Conformal Prediction - Coverage: 0.9521, Avg. Interval Size: 6.55\n"
     ]
    }
   ],
   "source": [
    "# Evaluate results\n",
    "from sklearn.metrics import mean_absolute_error, accuracy_score\n",
    "\n",
    "# Calculate various metrics\n",
    "reg_mae = mean_absolute_error(valid_labels, np.floor(valid_reg_preds).astype(int))\n",
    "class_mae = mean_absolute_error(valid_labels, valid_class_preds)\n",
    "ensemble_mae = mean_absolute_error(valid_labels, ensemble_preds)\n",
    "\n",
    "reg_acc = accuracy_score(valid_labels, np.floor(valid_reg_preds).astype(int))\n",
    "class_acc = accuracy_score(valid_labels, valid_class_preds)\n",
    "ensemble_acc = accuracy_score(valid_labels, ensemble_preds)\n",
    "\n",
    "print(\"\\nEvaluation Metrics:\")\n",
    "print(f\"Regression Model - MAE: {reg_mae:.4f}, Accuracy: {reg_acc:.4f}\")\n",
    "print(f\"Classification Model - MAE: {class_mae:.4f}, Accuracy: {class_acc:.4f}\")\n",
    "print(f\"Ensemble Model - MAE: {ensemble_mae:.4f}, Accuracy: {ensemble_acc:.4f}\")\n",
    "\n",
    "# Coverage evaluation (check if true labels are within the prediction intervals)\n",
    "interval_coverage = np.mean([(lb <= label <= ub) for lb, label, ub in zip(lower_bounds, valid_labels, upper_bounds)])\n",
    "avg_interval_size = np.mean(upper_bounds - lower_bounds + 1)\n",
    "\n",
    "print(f\"\\nConformal Prediction - Coverage: {interval_coverage:.4f}, Avg. Interval Size: {avg_interval_size:.2f}\")"
   ]
  },
  {
   "cell_type": "markdown",
   "metadata": {},
   "source": [
    "## Visualize Results"
   ]
  },
  {
   "cell_type": "code",
   "execution_count": 26,
   "metadata": {
    "tags": []
   },
   "outputs": [
    {
     "data": {
      "image/png": "[encoded data removed]",
      "text/plain": [
       "<Figure size 1000x1200 with 3 Axes>"
      ]
     },
     "metadata": {},
     "output_type": "display_data"
    }
   ],
   "source": [
    "# Plot some example predictions\n",
    "def plot_predictions(sample_indices):\n",
    "    fig, axes = plt.subplots(len(sample_indices), 1, figsize=(10, 4 * len(sample_indices)))\n",
    "    if len(sample_indices) == 1:\n",
    "        axes = [axes]\n",
    "    \n",
    "    for i, idx in enumerate(sample_indices):\n",
    "        ax = axes[i]\n",
    "        # Plot classifier probabilities\n",
    "        ax.bar(range(43), valid_class_probs[idx], alpha=0.5, color='blue', label='Classifier Probs')\n",
    "        \n",
    "        # Highlight prediction interval\n",
    "        interval = np.arange(lower_bounds[idx], upper_bounds[idx] + 1)\n",
    "        filtered_probs = np.array([valid_class_probs[idx][j] if j in interval else 0 for j in range(43)])\n",
    "        ax.bar(range(43), filtered_probs, alpha=0.7, color='green', label='Within Interval')\n",
    "        \n",
    "        # Add lines for various predictions\n",
    "        ax.axvline(x=valid_labels[idx], color='black', linestyle='-', label='True Label')\n",
    "        ax.axvline(x=valid_reg_preds[idx], color='red', linestyle='--', label='Regression Pred')\n",
    "        ax.axvline(x=valid_class_preds[idx], color='blue', linestyle='--', label='Classifier Pred')\n",
    "        ax.axvline(x=ensemble_preds[idx], color='green', linestyle='--', label='Ensemble Pred')\n",
    "        \n",
    "        # Add shaded area for prediction interval\n",
    "        ax.axvspan(lower_bounds[idx], upper_bounds[idx], alpha=0.2, color='red')\n",
    "        \n",
    "        ax.set_title(f\"Sample {idx}: True={valid_labels[idx]}, Reg={valid_reg_preds[idx]:.2f}, Class={valid_class_preds[idx]}, Ensemble={ensemble_preds[idx]}\")\n",
    "        ax.set_xticks(range(0, 43, 5))\n",
    "        ax.set_xlabel('Decade (0-42)')\n",
    "        ax.set_ylabel('Probability')\n",
    "        ax.legend()\n",
    "    \n",
    "    plt.tight_layout()\n",
    "    plt.show()\n",
    "\n",
    "# Plot 3 examples\n",
    "plot_predictions([0, 10, 20])"
   ]
  },
  {
   "cell_type": "code",
   "execution_count": 27,
   "metadata": {
    "tags": []
   },
   "outputs": [
    {
     "name": "stdout",
     "output_type": "stream",
     "text": [
      "Predictions saved to 'reg_class_ensemble_predictions.csv'\n"
     ]
    }
   ],
   "source": [
    "# Save the ensemble predictions to a file\n",
    "output_data = pd.DataFrame({\n",
    "    'file_name': X_valid_21,\n",
    "    'true_label': valid_labels,\n",
    "    'reg_pred': np.round(valid_reg_preds).astype(int),\n",
    "    'class_pred': valid_class_preds,\n",
    "    'ensemble_pred': ensemble_preds,\n",
    "    'lower_bound': lower_bounds,\n",
    "    'upper_bound': upper_bounds\n",
    "})\n",
    "\n",
    "output_data.to_csv('reg_class_ensemble_predictions.csv', index=False)\n",
    "print(\"Predictions saved to 'reg_class_ensemble_predictions.csv'\")"
   ]
  },
  {
   "cell_type": "code",
   "execution_count": null,
   "metadata": {},
   "outputs": [],
   "source": []
  }
 ],
 "metadata": {
  "kernelspec": {
   "display_name": "Python 3 (ipykernel)",
   "language": "python",
   "name": "python3"
  },
  "language_info": {
   "codemirror_mode": {
    "name": "ipython",
    "version": 3
   },
   "file_extension": ".py",
   "mimetype": "text/x-python",
   "name": "python",
   "nbconvert_exporter": "python",
   "pygments_lexer": "ipython3",
   "version": "3.10.16"
  }
 },
 "nbformat": 4,
 "nbformat_minor": 4
}
