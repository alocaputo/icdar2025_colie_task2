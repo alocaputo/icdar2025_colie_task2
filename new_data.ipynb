{
 "cells": [
  {
   "cell_type": "code",
   "execution_count": 4,
   "id": "e75c4039-67d6-454e-a969-a9b3562ef703",
   "metadata": {
    "tags": []
   },
   "outputs": [],
   "source": [
    "import os\n",
    "import pandas as pd\n",
    "import numpy as np"
   ]
  },
  {
   "cell_type": "code",
   "execution_count": 5,
   "id": "f67ae73a-f31c-454f-9c01-f35db5083117",
   "metadata": {
    "tags": []
   },
   "outputs": [],
   "source": [
    "import pickle\n",
    "with open('blacklist.pkl', 'rb') as f:\n",
    "    blacklist = pickle.load(f)\n",
    "\n",
    "blacklist_train = blacklist['train']\n",
    "blacklist_valid = blacklist['valid']"
   ]
  },
  {
   "cell_type": "code",
   "execution_count": 6,
   "id": "b6ce0ea3-976f-4d54-80de-99da519123b9",
   "metadata": {
    "tags": []
   },
   "outputs": [],
   "source": [
    "texts_path = './data/Task2/texts'\n",
    "\n",
    "# train_path = os.path.join(texts_path, 'train')\n",
    "# valid_path = os.path.join(texts_path, 'valid')\n",
    "\n",
    "#train_files = os.listdir(train_path)\n",
    "#valid_files = os.listdir(valid_path)\n",
    "\n",
    "label2century = {1: '17th century', 2: '18th century', 3: '19th century', 4: '20th century', 5: '21st century'}\n",
    "\n",
    "train21 = pd.read_csv('./data/Task2/task2.1/train.csv')\n",
    "valid21 = pd.read_csv('./data/Task2/task2.1/valid.csv')\n",
    "\n",
    "train21.rename(columns={'label': 'century'}, inplace=True)\n",
    "train21['file_name'] = train21['id']\n",
    "train21['id'] = train21.id.str.replace('train_text', '').str.replace('.txt', '').astype(int)\n",
    "train21.set_index('id', inplace=True)\n",
    "\n",
    "valid21.rename(columns={'label': 'century'}, inplace=True)\n",
    "valid21['file_name'] = valid21['id']\n",
    "valid21['id'] = valid21.id.str.replace('valid_text', '').str.replace('.txt', '').astype(int)\n",
    "valid21.set_index('id', inplace=True)"
   ]
  },
  {
   "cell_type": "code",
   "execution_count": 7,
   "id": "64d59b31-9676-49bd-824b-5519ff599804",
   "metadata": {
    "tags": []
   },
   "outputs": [
    {
     "name": "stdout",
     "output_type": "stream",
     "text": [
      "Task2.2 => Train: 180161, Test: 43163\n"
     ]
    }
   ],
   "source": [
    "train22 = pd.read_csv('./data/Task2/task2.2/train.csv')\n",
    "valid22 = pd.read_csv('./data/Task2/task2.2/valid.csv')\n",
    "\n",
    "train22.rename(columns={'label': 'decade'}, inplace=True)\n",
    "train22['file_name'] = train22['id']\n",
    "train22['id'] = train22.id.str.replace('train_text', '').str.replace('.txt', '').astype(int)\n",
    "train22.set_index('id', inplace=True)\n",
    "\n",
    "valid22.rename(columns={'label': 'decade'}, inplace=True)\n",
    "valid22['file_name'] = valid22['id']\n",
    "valid22['id'] = valid22.id.str.replace('valid_text', '').str.replace('.txt', '').astype(int)\n",
    "valid22.set_index('id', inplace=True)\n",
    "\n",
    "print(f\"Task2.2 => Train: {len(train22)}, Test: {len(valid22)}\")"
   ]
  },
  {
   "cell_type": "code",
   "execution_count": 9,
   "id": "4756899d-6324-40bd-861d-7f05012c462d",
   "metadata": {
    "tags": []
   },
   "outputs": [
    {
     "name": "stdout",
     "output_type": "stream",
     "text": [
      "Task2.1 => Train: 204708, Test: 54652\n"
     ]
    }
   ],
   "source": [
    "old_texts_path = './old_data/data/Task2/texts'\n",
    "\n",
    "old_train_path = os.path.join(old_texts_path, 'train')\n",
    "old_valid_path = os.path.join(old_texts_path, 'valid')\n",
    "\n",
    "old_train_files = os.listdir(old_train_path)\n",
    "old_valid_files = os.listdir(old_valid_path)\n",
    "\n",
    "print(f\"Task2.1 => Train: {len(old_train_files)}, Test: {len(old_valid_files)}\")\n",
    "\n",
    "label2century = {1: '17th century', 2: '18th century', 3: '19th century', 4: '20th century', 5: '21st century'}\n",
    "\n",
    "old_train21 = pd.read_csv('./old_data/data/Task2/task2.1/train.csv')\n",
    "old_valid21 = pd.read_csv('./old_data/data/Task2/task2.1/valid.csv')\n",
    "\n",
    "old_train21.rename(columns={'label': 'century'}, inplace=True)\n",
    "old_train21['file_name'] = old_train21['id']\n",
    "old_train21['id'] = old_train21.id.str.replace('train_text', '').str.replace('.txt', '').astype(int)\n",
    "old_train21.set_index('id', inplace=True)\n",
    "\n",
    "old_valid21.rename(columns={'label': 'century'}, inplace=True)\n",
    "old_valid21['file_name'] = old_valid21['id']\n",
    "old_valid21['id'] = old_valid21.id.str.replace('valid_text', '').str.replace('.txt', '').astype(int)\n",
    "old_valid21.set_index('id', inplace=True)"
   ]
  },
  {
   "cell_type": "code",
   "execution_count": 10,
   "id": "766d7a2c-e5e4-4aa2-9012-0ab941e9e033",
   "metadata": {
    "tags": []
   },
   "outputs": [
    {
     "name": "stdout",
     "output_type": "stream",
     "text": [
      "Task2.2 => Train: 204708, Test: 54651\n"
     ]
    }
   ],
   "source": [
    "old_train22 = pd.read_csv('./old_data/data/Task2/task2.2/train.csv')\n",
    "old_valid22 = pd.read_csv('./old_data/data/Task2/task2.2/valid.csv')\n",
    "\n",
    "old_train22.rename(columns={'label': 'decade'}, inplace=True)\n",
    "old_train22['file_name'] = old_train22['id']\n",
    "old_train22['id'] = old_train22.id.str.replace('train_text', '').str.replace('.txt', '').astype(int)\n",
    "old_train22.set_index('id', inplace=True)\n",
    "\n",
    "old_valid22.rename(columns={'label': 'decade'}, inplace=True)\n",
    "old_valid22['file_name'] = old_valid22['id']\n",
    "old_valid22['id'] = old_valid22.id.str.replace('valid_text', '').str.replace('.txt', '').astype(int)\n",
    "old_valid22.set_index('id', inplace=True)\n",
    "\n",
    "print(f\"Task2.2 => Train: {len(old_train22)}, Test: {len(old_valid22)}\")"
   ]
  },
  {
   "cell_type": "code",
   "execution_count": 11,
   "id": "03fd60a8-e4b9-44d4-8aba-71013496c171",
   "metadata": {
    "tags": []
   },
   "outputs": [
    {
     "name": "stdout",
     "output_type": "stream",
     "text": [
      "223324 223324\n"
     ]
    }
   ],
   "source": [
    "text_path_task1 = './data/Task1/texts'\n",
    "text_path_task2 = './data/Task2/texts'\n",
    "\n",
    "print(len(os.listdir(text_path_task1)), len(os.listdir(text_path_task2)))"
   ]
  },
  {
   "cell_type": "code",
   "execution_count": 13,
   "id": "00ea3502-57c2-449b-8e55-041d0db9f799",
   "metadata": {
    "tags": []
   },
   "outputs": [
    {
     "data": {
      "text/plain": [
       "150238"
      ]
     },
     "execution_count": 13,
     "metadata": {},
     "output_type": "execute_result"
    }
   ],
   "source": [
    "len(os.listdir('./data/Task2/test'))"
   ]
  },
  {
   "cell_type": "code",
   "execution_count": 14,
   "id": "3ad951ea-a4d0-43cb-9ef1-a7a0b107cb36",
   "metadata": {
    "tags": []
   },
   "outputs": [
    {
     "name": "stdout",
     "output_type": "stream",
     "text": [
      "2379\n"
     ]
    }
   ],
   "source": [
    "c = 0\n",
    "for a in os.listdir(text_path_task2):\n",
    "    with open(f'./data/Task2/texts/{a}', 'r') as f:\n",
    "        aa = f.read()\n",
    "        if 'project' in aa.lower() and 'gutenberg' in aa.lower():\n",
    "            c +=1\n",
    "print(c)"
   ]
  },
  {
   "cell_type": "code",
   "execution_count": 82,
   "id": "a2d513c6-541e-47c9-8fac-6e197a97af2e",
   "metadata": {
    "tags": []
   },
   "outputs": [],
   "source": [
    "decades = []\n",
    "for _, x in pd.merge(train21, train22, on='id').iterrows():\n",
    "    decades.append((x.century-1)*10 + (x.decade-1))"
   ]
  },
  {
   "cell_type": "code",
   "execution_count": 84,
   "id": "f61159d2-932b-4054-906b-664d0174ead4",
   "metadata": {
    "tags": []
   },
   "outputs": [
    {
     "data": {
      "text/plain": [
       "42"
      ]
     },
     "execution_count": 84,
     "metadata": {},
     "output_type": "execute_result"
    }
   ],
   "source": [
    "max(decades)"
   ]
  },
  {
   "cell_type": "code",
   "execution_count": 16,
   "id": "7ebd659a-50da-43a1-ac45-0c0dcd771e6e",
   "metadata": {
    "tags": []
   },
   "outputs": [],
   "source": [
    "all_train = pd.merge(pd.merge(old_train21, old_train22, on='id'), pd.merge(train21, train22, on='id'), on='id')[['century_x', 'decade_x', 'century_y', 'decade_x']]"
   ]
  },
  {
   "cell_type": "code",
   "execution_count": 17,
   "id": "71a89e2e-0ee4-40ff-9e56-c9427d08dad1",
   "metadata": {
    "tags": []
   },
   "outputs": [
    {
     "data": {
      "text/plain": [
       "(25823, 25744)"
      ]
     },
     "execution_count": 17,
     "metadata": {},
     "output_type": "execute_result"
    }
   ],
   "source": [
    "len(set(all_train.index)), len(set(all_train.index) - set(blacklist_train))"
   ]
  },
  {
   "cell_type": "code",
   "execution_count": 18,
   "id": "cc21421d-0bd2-405b-8f02-618b1365ac57",
   "metadata": {
    "tags": []
   },
   "outputs": [
    {
     "data": {
      "text/html": [
       "<div>\n",
       "<style scoped>\n",
       "    .dataframe tbody tr th:only-of-type {\n",
       "        vertical-align: middle;\n",
       "    }\n",
       "\n",
       "    .dataframe tbody tr th {\n",
       "        vertical-align: top;\n",
       "    }\n",
       "\n",
       "    .dataframe thead th {\n",
       "        text-align: right;\n",
       "    }\n",
       "</style>\n",
       "<table border=\"1\" class=\"dataframe\">\n",
       "  <thead>\n",
       "    <tr style=\"text-align: right;\">\n",
       "      <th></th>\n",
       "      <th>century_x</th>\n",
       "      <th>decade_x</th>\n",
       "      <th>century_y</th>\n",
       "      <th>decade_x</th>\n",
       "    </tr>\n",
       "    <tr>\n",
       "      <th>id</th>\n",
       "      <th></th>\n",
       "      <th></th>\n",
       "      <th></th>\n",
       "      <th></th>\n",
       "    </tr>\n",
       "  </thead>\n",
       "  <tbody>\n",
       "    <tr>\n",
       "      <th>276076</th>\n",
       "      <td>5</td>\n",
       "      <td>1</td>\n",
       "      <td>3</td>\n",
       "      <td>1</td>\n",
       "    </tr>\n",
       "    <tr>\n",
       "      <th>178372</th>\n",
       "      <td>3</td>\n",
       "      <td>7</td>\n",
       "      <td>4</td>\n",
       "      <td>7</td>\n",
       "    </tr>\n",
       "    <tr>\n",
       "      <th>170513</th>\n",
       "      <td>3</td>\n",
       "      <td>10</td>\n",
       "      <td>4</td>\n",
       "      <td>10</td>\n",
       "    </tr>\n",
       "    <tr>\n",
       "      <th>207930</th>\n",
       "      <td>3</td>\n",
       "      <td>9</td>\n",
       "      <td>4</td>\n",
       "      <td>9</td>\n",
       "    </tr>\n",
       "    <tr>\n",
       "      <th>284752</th>\n",
       "      <td>4</td>\n",
       "      <td>2</td>\n",
       "      <td>3</td>\n",
       "      <td>2</td>\n",
       "    </tr>\n",
       "    <tr>\n",
       "      <th>...</th>\n",
       "      <td>...</td>\n",
       "      <td>...</td>\n",
       "      <td>...</td>\n",
       "      <td>...</td>\n",
       "    </tr>\n",
       "    <tr>\n",
       "      <th>129924</th>\n",
       "      <td>3</td>\n",
       "      <td>5</td>\n",
       "      <td>4</td>\n",
       "      <td>5</td>\n",
       "    </tr>\n",
       "    <tr>\n",
       "      <th>285422</th>\n",
       "      <td>4</td>\n",
       "      <td>2</td>\n",
       "      <td>3</td>\n",
       "      <td>2</td>\n",
       "    </tr>\n",
       "    <tr>\n",
       "      <th>267195</th>\n",
       "      <td>4</td>\n",
       "      <td>2</td>\n",
       "      <td>3</td>\n",
       "      <td>2</td>\n",
       "    </tr>\n",
       "    <tr>\n",
       "      <th>189728</th>\n",
       "      <td>3</td>\n",
       "      <td>8</td>\n",
       "      <td>4</td>\n",
       "      <td>8</td>\n",
       "    </tr>\n",
       "    <tr>\n",
       "      <th>271982</th>\n",
       "      <td>4</td>\n",
       "      <td>2</td>\n",
       "      <td>3</td>\n",
       "      <td>2</td>\n",
       "    </tr>\n",
       "  </tbody>\n",
       "</table>\n",
       "<p>6080 rows × 4 columns</p>\n",
       "</div>"
      ],
      "text/plain": [
       "        century_x  decade_x  century_y  decade_x\n",
       "id                                              \n",
       "276076          5         1          3         1\n",
       "178372          3         7          4         7\n",
       "170513          3        10          4        10\n",
       "207930          3         9          4         9\n",
       "284752          4         2          3         2\n",
       "...           ...       ...        ...       ...\n",
       "129924          3         5          4         5\n",
       "285422          4         2          3         2\n",
       "267195          4         2          3         2\n",
       "189728          3         8          4         8\n",
       "271982          4         2          3         2\n",
       "\n",
       "[6080 rows x 4 columns]"
      ]
     },
     "execution_count": 18,
     "metadata": {},
     "output_type": "execute_result"
    }
   ],
   "source": [
    "all_train[all_train['century_x'] != all_train['century_y']]"
   ]
  },
  {
   "cell_type": "code",
   "execution_count": 19,
   "id": "043941f8-3d1d-4aec-8890-54df43844669",
   "metadata": {
    "tags": []
   },
   "outputs": [
    {
     "data": {
      "text/plain": [
       "False"
      ]
     },
     "execution_count": 19,
     "metadata": {},
     "output_type": "execute_result"
    }
   ],
   "source": [
    "# Is test still the same?\n",
    "\n",
    "os.listdir('data/Task2/test') == os.listdir('old_data/data/Task2/test/')"
   ]
  },
  {
   "cell_type": "code",
   "execution_count": 20,
   "id": "58150ed6-1d7b-4210-9180-cf725d1178ab",
   "metadata": {
    "tags": []
   },
   "outputs": [
    {
     "data": {
      "text/html": [
       "<div>\n",
       "<style scoped>\n",
       "    .dataframe tbody tr th:only-of-type {\n",
       "        vertical-align: middle;\n",
       "    }\n",
       "\n",
       "    .dataframe tbody tr th {\n",
       "        vertical-align: top;\n",
       "    }\n",
       "\n",
       "    .dataframe thead th {\n",
       "        text-align: right;\n",
       "    }\n",
       "</style>\n",
       "<table border=\"1\" class=\"dataframe\">\n",
       "  <thead>\n",
       "    <tr style=\"text-align: right;\">\n",
       "      <th></th>\n",
       "      <th>century</th>\n",
       "      <th>file_name</th>\n",
       "    </tr>\n",
       "    <tr>\n",
       "      <th>id</th>\n",
       "      <th></th>\n",
       "      <th></th>\n",
       "    </tr>\n",
       "  </thead>\n",
       "  <tbody>\n",
       "    <tr>\n",
       "      <th>100001</th>\n",
       "      <td>3</td>\n",
       "      <td>100001.txt</td>\n",
       "    </tr>\n",
       "    <tr>\n",
       "      <th>100004</th>\n",
       "      <td>3</td>\n",
       "      <td>100004.txt</td>\n",
       "    </tr>\n",
       "    <tr>\n",
       "      <th>100005</th>\n",
       "      <td>3</td>\n",
       "      <td>100005.txt</td>\n",
       "    </tr>\n",
       "    <tr>\n",
       "      <th>100011</th>\n",
       "      <td>3</td>\n",
       "      <td>100011.txt</td>\n",
       "    </tr>\n",
       "    <tr>\n",
       "      <th>100012</th>\n",
       "      <td>3</td>\n",
       "      <td>100012.txt</td>\n",
       "    </tr>\n",
       "    <tr>\n",
       "      <th>...</th>\n",
       "      <td>...</td>\n",
       "      <td>...</td>\n",
       "    </tr>\n",
       "    <tr>\n",
       "      <th>999976</th>\n",
       "      <td>3</td>\n",
       "      <td>999976.txt</td>\n",
       "    </tr>\n",
       "    <tr>\n",
       "      <th>999980</th>\n",
       "      <td>4</td>\n",
       "      <td>999980.txt</td>\n",
       "    </tr>\n",
       "    <tr>\n",
       "      <th>999982</th>\n",
       "      <td>2</td>\n",
       "      <td>999982.txt</td>\n",
       "    </tr>\n",
       "    <tr>\n",
       "      <th>999989</th>\n",
       "      <td>3</td>\n",
       "      <td>999989.txt</td>\n",
       "    </tr>\n",
       "    <tr>\n",
       "      <th>999995</th>\n",
       "      <td>3</td>\n",
       "      <td>999995.txt</td>\n",
       "    </tr>\n",
       "  </tbody>\n",
       "</table>\n",
       "<p>154338 rows × 2 columns</p>\n",
       "</div>"
      ],
      "text/plain": [
       "        century   file_name\n",
       "id                         \n",
       "100001        3  100001.txt\n",
       "100004        3  100004.txt\n",
       "100005        3  100005.txt\n",
       "100011        3  100011.txt\n",
       "100012        3  100012.txt\n",
       "...         ...         ...\n",
       "999976        3  999976.txt\n",
       "999980        4  999980.txt\n",
       "999982        2  999982.txt\n",
       "999989        3  999989.txt\n",
       "999995        3  999995.txt\n",
       "\n",
       "[154338 rows x 2 columns]"
      ]
     },
     "execution_count": 20,
     "metadata": {},
     "output_type": "execute_result"
    }
   ],
   "source": [
    "new_ids = train21.index.difference(old_train21.index)\n",
    "new_rows = train21.loc[new_ids]\n",
    "new_rows"
   ]
  },
  {
   "cell_type": "code",
   "execution_count": 126,
   "id": "ba71457d-1f3c-4c83-ba38-a638dc94a140",
   "metadata": {
    "tags": []
   },
   "outputs": [
    {
     "name": "stderr",
     "output_type": "stream",
     "text": [
      "100%|█████████████████████████████████████████████████████████████████████████████████████████████████████████████████████████████████████████████████████████████████████████| 150809/150809 [48:47<00:00, 51.52it/s]\n"
     ]
    }
   ],
   "source": [
    "len(os.listdir('data/Task2/test')), len(os.listdir('old_data/data/Task2/test/'))\n",
    "\n",
    "for x in tqdm(os.listdir('old_data/data/Task2/test/')):\n",
    "    if x not in os.listdir('data/Task2/test'):\n",
    "        continue\n",
    "        \n",
    "    with open(f'old_data/data/Task2/test/{x}') as f:\n",
    "        d = f.read()\n",
    "    with open(f\"data/Task2/test/{x}\") as f:\n",
    "        e = f.read()\n",
    "    assert d == e"
   ]
  },
  {
   "cell_type": "code",
   "execution_count": 23,
   "id": "a284ff77-a011-44dc-b297-89398c401aa7",
   "metadata": {
    "tags": []
   },
   "outputs": [
    {
     "data": {
      "text/plain": [
       "571"
      ]
     },
     "execution_count": 23,
     "metadata": {},
     "output_type": "execute_result"
    }
   ],
   "source": [
    "len(set(os.listdir('old_data/data/Task2/test/')) - set(os.listdir('data/Task2/test')))"
   ]
  },
  {
   "cell_type": "code",
   "execution_count": null,
   "id": "2301e549-4e6c-487b-b3d4-244231372220",
   "metadata": {},
   "outputs": [],
   "source": []
  }
 ],
 "metadata": {
  "kernelspec": {
   "display_name": "Python 3 (ipykernel)",
   "language": "python",
   "name": "python3"
  },
  "language_info": {
   "codemirror_mode": {
    "name": "ipython",
    "version": 3
   },
   "file_extension": ".py",
   "mimetype": "text/x-python",
   "name": "python",
   "nbconvert_exporter": "python",
   "pygments_lexer": "ipython3",
   "version": "3.10.16"
  }
 },
 "nbformat": 4,
 "nbformat_minor": 5
}
