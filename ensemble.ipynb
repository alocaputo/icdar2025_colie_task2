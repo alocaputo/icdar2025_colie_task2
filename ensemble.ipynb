{
 "cells": [
  {
   "cell_type": "markdown",
   "id": "d212a3da",
   "metadata": {},
   "source": [
    "# Ensemble of task2x Regression Models"
   ]
  },
  {
   "cell_type": "code",
   "execution_count": 38,
   "id": "4b57fb70-2338-4284-ad41-00629b4d616e",
   "metadata": {
    "tags": []
   },
   "outputs": [],
   "source": [
    "# Try by using floor before weighting"
   ]
  },
  {
   "cell_type": "code",
   "execution_count": 1,
   "id": "afa58244",
   "metadata": {
    "tags": []
   },
   "outputs": [
    {
     "name": "stderr",
     "output_type": "stream",
     "text": [
      "/data01/alocaputo/miniconda3/envs/icdar2025/lib/python3.10/site-packages/tqdm/auto.py:21: TqdmWarning: IProgress not found. Please update jupyter and ipywidgets. See https://ipywidgets.readthedocs.io/en/stable/user_install.html\n",
      "  from .autonotebook import tqdm as notebook_tqdm\n"
     ]
    },
    {
     "name": "stdout",
     "output_type": "stream",
     "text": [
      "Using device: cuda\n"
     ]
    }
   ],
   "source": [
    "import os\n",
    "os.environ[\"CUDA_VISIBLE_DEVICES\"] = \"1\"\n",
    "\n",
    "import torch\n",
    "import torch.nn as nn\n",
    "from transformers import LongformerModel, LongformerTokenizer\n",
    "from torch.utils.data import Dataset, DataLoader\n",
    "import numpy as np\n",
    "import pandas as pd\n",
    "import pickle\n",
    "import glob\n",
    "from tqdm import tqdm\n",
    "import matplotlib.pyplot as plt\n",
    "import seaborn as sns\n",
    "\n",
    "# Set device\n",
    "device = torch.device(\"cuda\" if torch.cuda.is_available() else \"cpu\")\n",
    "print(f\"Using device: {device}\")"
   ]
  },
  {
   "cell_type": "markdown",
   "id": "dc86588c",
   "metadata": {},
   "source": [
    "## Load Model Architecture and Helper Functions"
   ]
  },
  {
   "cell_type": "code",
   "execution_count": 2,
   "id": "08a5092b",
   "metadata": {
    "tags": []
   },
   "outputs": [],
   "source": [
    "# Model definition\n",
    "class SingleHeadLongformerModel(nn.Module):\n",
    "    def __init__(self):\n",
    "        super(SingleHeadLongformerModel, self).__init__()\n",
    "        \n",
    "        self.longformer = LongformerModel.from_pretrained('allenai/longformer-base-4096')\n",
    "        \n",
    "        # Regression head - outputs a single continuous value\n",
    "        self.decade_regressor = nn.Sequential(\n",
    "            nn.Linear(self.longformer.config.hidden_size, 512),\n",
    "            nn.ReLU(),\n",
    "            nn.Dropout(0.3),\n",
    "            nn.Linear(512, 1)\n",
    "        )\n",
    "    \n",
    "    def forward(self, input_ids, attention_mask):\n",
    "        outputs = self.longformer(\n",
    "            input_ids=input_ids, \n",
    "            attention_mask=attention_mask\n",
    "        )\n",
    "        \n",
    "        pooled_output = outputs.last_hidden_state[:, 0, :]\n",
    "        decade_prediction = self.decade_regressor(pooled_output).squeeze(-1)\n",
    "        \n",
    "        return decade_prediction"
   ]
  },
  {
   "cell_type": "code",
   "execution_count": 3,
   "id": "a4138ea0",
   "metadata": {
    "tags": []
   },
   "outputs": [],
   "source": [
    "# Helper functions\n",
    "def convert_to_absolute_decade(century, decade):\n",
    "    \"\"\"Convert century (0-4) and decade (0-9) to absolute decade (0-42)\"\"\"\n",
    "    return century * 10 + decade\n",
    "\n",
    "def mean_avg_error(y_true, y_pred):\n",
    "    \"\"\"Calculate Mean Absolute Error between true and predicted values\"\"\"\n",
    "    return np.mean(np.abs(y_true - y_pred))\n",
    "\n",
    "class FileBasedSingleTaskDataset(Dataset):\n",
    "    def __init__(self, file_paths, path, century_labels, decade_labels, tokenizer, max_length=1536):\n",
    "        self.file_paths = file_paths\n",
    "        self.path = path\n",
    "        self.century_labels = century_labels\n",
    "        self.decade_labels = decade_labels\n",
    "        self.tokenizer = tokenizer\n",
    "        self.max_length = max_length\n",
    "        \n",
    "    def __len__(self):\n",
    "        return len(self.file_paths)\n",
    "    \n",
    "    def __getitem__(self, idx):\n",
    "        file_path = self.file_paths[idx]\n",
    "        century = self.century_labels[idx]\n",
    "        decade = self.decade_labels[idx]\n",
    "        \n",
    "        # Convert to absolute decade label\n",
    "        absolute_decade = convert_to_absolute_decade(century, decade)\n",
    "        \n",
    "        with open(os.path.join(self.path, file_path), 'r', encoding='utf-8') as f:\n",
    "            text = f.read()\n",
    "        \n",
    "        encoding = self.tokenizer(\n",
    "            text,\n",
    "            truncation=True,\n",
    "            padding='max_length',\n",
    "            max_length=self.max_length,\n",
    "            return_tensors='pt'\n",
    "        )\n",
    "        \n",
    "        encoding = {key: val.squeeze(0) for key, val in encoding.items()}\n",
    "        encoding['decade_labels'] = torch.tensor(absolute_decade, dtype=torch.long)\n",
    "        \n",
    "        return encoding"
   ]
  },
  {
   "cell_type": "markdown",
   "id": "877de2b5",
   "metadata": {},
   "source": [
    "## Load Data"
   ]
  },
  {
   "cell_type": "code",
   "execution_count": 40,
   "id": "99d3779c",
   "metadata": {
    "tags": []
   },
   "outputs": [],
   "source": [
    "# Load data\n",
    "texts_path = './data/Task2/texts'\n",
    "\n",
    "train_path = os.path.join(texts_path, 'train')\n",
    "valid_path = os.path.join(texts_path, 'valid')\n",
    "\n",
    "# Task 2.1\n",
    "train21 = pd.read_csv('./data/Task2/task2.1/train.csv')\n",
    "valid21 = pd.read_csv('./data/Task2/task2.1/valid.csv')\n",
    "\n",
    "train21.rename(columns={'label': 'century'}, inplace=True)\n",
    "train21['file_name'] = train21['id']\n",
    "train21['id'] = train21.id.str.replace('train_text', '').str.replace('.txt', '').astype(int)\n",
    "train21.set_index('id', inplace=True)\n",
    "\n",
    "valid21.rename(columns={'label': 'century'}, inplace=True)\n",
    "valid21['file_name'] = valid21['id']\n",
    "valid21['id'] = valid21.id.str.replace('valid_text', '').str.replace('.txt', '').astype(int)\n",
    "valid21.set_index('id', inplace=True)\n",
    "\n",
    "# Task 2.2\n",
    "train22 = pd.read_csv('./data/Task2/task2.2/train.csv')\n",
    "valid22 = pd.read_csv('./data/Task2/task2.2/valid.csv')\n",
    "\n",
    "train22.rename(columns={'label': 'century'}, inplace=True)\n",
    "train22['file_name'] = train22['id']\n",
    "train22['id'] = train22.id.str.replace('train_text', '').str.replace('.txt', '').astype(int)\n",
    "train22.set_index('id', inplace=True)\n",
    "\n",
    "valid22.rename(columns={'label': 'century'}, inplace=True)\n",
    "valid22['file_name'] = valid22['id']\n",
    "valid22['id'] = valid22.id.str.replace('valid_text', '').str.replace('.txt', '').astype(int)\n",
    "valid22.set_index('id', inplace=True)"
   ]
  },
  {
   "cell_type": "code",
   "execution_count": 42,
   "id": "7087182e",
   "metadata": {
    "tags": []
   },
   "outputs": [
    {
     "name": "stdout",
     "output_type": "stream",
     "text": [
      "Train: 178221, Valid: 42724\n"
     ]
    }
   ],
   "source": [
    "# Load blacklist\n",
    "with open('blacklist.pkl', 'rb') as f:\n",
    "    blacklist = pickle.load(f)\n",
    "\n",
    "blacklist_train = blacklist['train']\n",
    "blacklist_valid = blacklist['valid']\n",
    "\n",
    "X_train_21 = [] # file names (.txt)\n",
    "y_train_21 = [] \n",
    "X_valid_21 = [] # file names (.txt)\n",
    "y_valid_21 = []\n",
    "X_train_22 = [] # file names (.txt)\n",
    "y_train_22 = []\n",
    "X_valid_22 = [] # file names (.txt)\n",
    "y_valid_22 = []\n",
    "\n",
    "# Process Task 2.1 data\n",
    "for idx, row in train21.iterrows():\n",
    "    file_name = row.file_name\n",
    "    century = row.century\n",
    "\n",
    "    with open(os.path.join(texts_path, file_name), 'r') as file:\n",
    "        text = file.read()\n",
    "    if 'gutenberg' in text.lower() and 'project' in text.lower():\n",
    "        continue\n",
    "\n",
    "    X_train_21.append(file_name)\n",
    "    y_train_21.append(century-1)\n",
    "\n",
    "for idx, row in valid21.iterrows():\n",
    "    file_name = row.file_name\n",
    "    century = row.century\n",
    "\n",
    "    with open(os.path.join(texts_path, file_name), 'r') as file:\n",
    "        text = file.read()\n",
    "    if 'gutenberg' in text.lower() and 'project' in text.lower():\n",
    "        continue\n",
    "        \n",
    "    X_valid_21.append(file_name)\n",
    "    y_valid_21.append(century-1)\n",
    "\n",
    "# Process Task 2.2 data\n",
    "for idx, row in train22.iterrows():\n",
    "    file_name = row.file_name\n",
    "    century = row.century\n",
    "    if idx in blacklist_train:\n",
    "        continue\n",
    "\n",
    "    with open(os.path.join(texts_path, file_name), 'r') as file:\n",
    "        text = file.read()\n",
    "    if 'gutenberg' in text.lower() and 'project' in text.lower():\n",
    "        continue\n",
    "\n",
    "    X_train_22.append(file_name)\n",
    "    y_train_22.append(century-1)\n",
    "\n",
    "for idx, row in valid22.iterrows():\n",
    "    file_name = row.file_name\n",
    "    century = row.century\n",
    "    if idx in blacklist_valid:\n",
    "        continue\n",
    "\n",
    "    with open(os.path.join(texts_path, file_name), 'r') as file:\n",
    "        text = file.read()\n",
    "    if 'gutenberg' in text.lower() and 'project' in text.lower():\n",
    "        continue\n",
    "\n",
    "    X_valid_22.append(file_name)\n",
    "    y_valid_22.append(century-1)\n",
    "\n",
    "print(f\"Train: {len(X_train_21)}, Valid: {len(X_valid_21)}\")"
   ]
  },
  {
   "cell_type": "markdown",
   "id": "21a2bf57",
   "metadata": {},
   "source": [
    "## Load Models for Ensemble"
   ]
  },
  {
   "cell_type": "code",
   "execution_count": 6,
   "id": "09723850",
   "metadata": {
    "tags": []
   },
   "outputs": [],
   "source": [
    "# Initialize tokenizer\n",
    "tokenizer = LongformerTokenizer.from_pretrained('allenai/longformer-base-4096')\n",
    "\n",
    "# Create validation dataset\n",
    "valid2x = FileBasedSingleTaskDataset(X_valid_21, valid_path, y_valid_21, y_valid_22, tokenizer)\n",
    "valid2x_dataloader = DataLoader(valid2x, batch_size=16, shuffle=False)"
   ]
  },
  {
   "cell_type": "code",
   "execution_count": 43,
   "id": "9e2f0259",
   "metadata": {
    "tags": []
   },
   "outputs": [
    {
     "name": "stdout",
     "output_type": "stream",
     "text": [
      "Found 3 model checkpoints:\n",
      "  - best_single_head_regression_model_epoch_1.pt\n",
      "  - best_single_head_regression_model_epoch_2.pt\n",
      "  - best_single_head_regression_model_epoch_4.pt\n"
     ]
    }
   ],
   "source": [
    "# Find all model checkpoint files\n",
    "model_dir = 'old_models/task2x/'\n",
    "model_files = glob.glob(os.path.join(model_dir, 'best_single_head_regression_model_epoch_*.pt'))\n",
    "print(f\"Found {len(model_files)} model checkpoints:\")\n",
    "for file in model_files:\n",
    "    print(f\"  - {os.path.basename(file)}\")"
   ]
  },
  {
   "cell_type": "code",
   "execution_count": 44,
   "id": "186c9b54",
   "metadata": {
    "tags": []
   },
   "outputs": [
    {
     "name": "stdout",
     "output_type": "stream",
     "text": [
      "Loaded best_single_head_regression_model_epoch_1.pt\n",
      "Loaded best_single_head_regression_model_epoch_2.pt\n",
      "Loaded best_single_head_regression_model_epoch_4.pt\n"
     ]
    }
   ],
   "source": [
    "# Load models\n",
    "models = []\n",
    "\n",
    "for model_path in model_files:\n",
    "    model = SingleHeadLongformerModel()\n",
    "    model.load_state_dict(torch.load(model_path, map_location=device))\n",
    "    model.to(device)\n",
    "    model.eval()\n",
    "    models.append({\n",
    "        'name': os.path.basename(model_path),\n",
    "        'model': model\n",
    "    })\n",
    "    print(f\"Loaded {os.path.basename(model_path)}\")"
   ]
  },
  {
   "cell_type": "markdown",
   "id": "4864afe7",
   "metadata": {},
   "source": [
    "## Evaluate Individual Models"
   ]
  },
  {
   "cell_type": "code",
   "execution_count": 47,
   "id": "e6b26718",
   "metadata": {
    "tags": []
   },
   "outputs": [],
   "source": [
    "def evaluate_model(model, dataloader, name):\n",
    "    model.eval()\n",
    "    all_predictions = []\n",
    "    all_labels = []\n",
    "    \n",
    "    with torch.no_grad():\n",
    "        for batch in tqdm(dataloader, desc=f\"Evaluating {name}\"):\n",
    "            batch = {k: v.to(device) for k, v in batch.items()}\n",
    "            predictions = model(\n",
    "                input_ids=batch['input_ids'],\n",
    "                attention_mask=batch['attention_mask']\n",
    "            )\n",
    "            \n",
    "            all_predictions.extend(predictions.cpu().numpy())\n",
    "            all_labels.extend(batch['decade_labels'].float().cpu().numpy())\n",
    "    \n",
    "    # Calculate metrics\n",
    "    predictions_array = np.array(all_predictions)\n",
    "    labels_array = np.array(all_labels)\n",
    "    \n",
    "    mae = mean_avg_error(labels_array, predictions_array)\n",
    "    mse = np.mean((labels_array - predictions_array)**2)\n",
    "    \n",
    "    return {\n",
    "        'name': name,\n",
    "        'predictions': predictions_array,\n",
    "        'mae': mae,\n",
    "        'mse': mse\n",
    "    }"
   ]
  },
  {
   "cell_type": "code",
   "execution_count": 52,
   "id": "91be6ed4-bef4-4f10-9366-19119a07d28d",
   "metadata": {
    "tags": []
   },
   "outputs": [
    {
     "name": "stdout",
     "output_type": "stream",
     "text": [
      "Using device: cuda\n"
     ]
    }
   ],
   "source": [
    "# Set seeds for reproducibility\n",
    "import random\n",
    "SEED = 42\n",
    "os.environ['PYTHONHASHSEED'] = str(SEED)\n",
    "random.seed(SEED)\n",
    "np.random.seed(SEED)\n",
    "os.environ['NUMPY_SEED'] = str(SEED)\n",
    "np.random.default_rng(SEED)\n",
    "\n",
    "torch.manual_seed(SEED)\n",
    "if torch.cuda.is_available():\n",
    "    torch.cuda.manual_seed_all(SEED)\n",
    "    torch.backends.cudnn.deterministic = True\n",
    "    torch.backends.cudnn.benchmark = False\n",
    "\n",
    "device = torch.device(\"cuda\" if torch.cuda.is_available() else \"cpu\")\n",
    "print(f\"Using device: {device}\")"
   ]
  },
  {
   "cell_type": "code",
   "execution_count": 54,
   "id": "e45f34f1-99f1-4ea9-bbc6-591f029e624f",
   "metadata": {
    "tags": []
   },
   "outputs": [
    {
     "name": "stdout",
     "output_type": "stream",
     "text": [
      "Training samples: 178221\n",
      "Validation samples: 42724\n"
     ]
    }
   ],
   "source": [
    "# Load the data from task files\n",
    "texts_path = './data/Task2/texts'\n",
    "\n",
    "train_path = os.path.join(texts_path, 'train')\n",
    "valid_path = os.path.join(texts_path, 'valid')\n",
    "\n",
    "# Task 2.1\n",
    "train21 = pd.read_csv('./data/Task2/task2.1/train.csv')\n",
    "valid21 = pd.read_csv('./data/Task2/task2.1/valid.csv')\n",
    "\n",
    "train21.rename(columns={'label': 'century'}, inplace=True)\n",
    "train21['file_name'] = train21['id']\n",
    "train21['id'] = train21.id.str.replace('train_text', '').str.replace('.txt', '').astype(int)\n",
    "train21.set_index('id', inplace=True)\n",
    "\n",
    "valid21.rename(columns={'label': 'century'}, inplace=True)\n",
    "valid21['file_name'] = valid21['id']\n",
    "valid21['id'] = valid21.id.str.replace('valid_text', '').str.replace('.txt', '').astype(int)\n",
    "valid21.set_index('id', inplace=True)\n",
    "\n",
    "# Task 2.2\n",
    "train22 = pd.read_csv('./data/Task2/task2.2/train.csv')\n",
    "valid22 = pd.read_csv('./data/Task2/task2.2/valid.csv')\n",
    "\n",
    "train22.rename(columns={'label': 'century'}, inplace=True)\n",
    "train22['file_name'] = train22['id']\n",
    "train22['id'] = train22.id.str.replace('train_text', '').str.replace('.txt', '').astype(int)\n",
    "train22.set_index('id', inplace=True)\n",
    "\n",
    "valid22.rename(columns={'label': 'century'}, inplace=True)\n",
    "valid22['file_name'] = valid22['id']\n",
    "valid22['id'] = valid22.id.str.replace('valid_text', '').str.replace('.txt', '').astype(int)\n",
    "valid22.set_index('id', inplace=True)\n",
    "\n",
    "with open('blacklist.pkl', 'rb') as f:\n",
    "    blacklist = pickle.load(f)\n",
    "\n",
    "# Filter the data similar to the task files\n",
    "blacklist_train = blacklist['train']\n",
    "blacklist_valid = blacklist['valid']\n",
    "\n",
    "X_train_21, y_train_21, X_train_22, y_train_22 = [], [], [], []\n",
    "X_valid_21, y_valid_21, X_valid_22, y_valid_22 = [], [], [], []\n",
    "\n",
    "# Process training data\n",
    "for idx, row in train21.iterrows():\n",
    "    #if idx in blacklist_train:\n",
    "    #    continue\n",
    "        \n",
    "    file_name = row.file_name\n",
    "    century = row.century\n",
    "    \n",
    "    with open(os.path.join(texts_path, file_name), 'r') as file:\n",
    "        text = file.read()\n",
    "    if 'gutenberg' in text.lower() and 'project' in text.lower():\n",
    "        continue\n",
    "        \n",
    "    X_train_21.append(file_name)\n",
    "    y_train_21.append(century-1)\n",
    "\n",
    "# Process validation data\n",
    "for idx, row in valid21.iterrows():\n",
    "    #if idx in blacklist_valid:\n",
    "    #    continue\n",
    "        \n",
    "    file_name = row.file_name\n",
    "    century = row.century\n",
    "    \n",
    "    with open(os.path.join(texts_path, file_name), 'r') as file:\n",
    "        text = file.read()\n",
    "    if 'gutenberg' in text.lower() and 'project' in text.lower():\n",
    "        continue\n",
    "        \n",
    "    X_valid_21.append(file_name)\n",
    "    y_valid_21.append(century-1)\n",
    "\n",
    "# Process task2.2 data\n",
    "for idx, row in train22.iterrows():\n",
    "    #if idx in blacklist_train:\n",
    "    #    continue\n",
    "        \n",
    "    file_name = row.file_name\n",
    "    century = row.century\n",
    "    \n",
    "    with open(os.path.join(texts_path, file_name), 'r') as file:\n",
    "        text = file.read()\n",
    "    if 'gutenberg' in text.lower() and 'project' in text.lower():\n",
    "        continue\n",
    "        \n",
    "    X_train_22.append(file_name)\n",
    "    y_train_22.append(century-1)\n",
    "\n",
    "for idx, row in valid22.iterrows():\n",
    "    #if idx in blacklist_valid:\n",
    "    #    continue\n",
    "        \n",
    "    file_name = row.file_name\n",
    "    century = row.century\n",
    "    \n",
    "    with open(os.path.join(texts_path, file_name), 'r') as file:\n",
    "        text = file.read()\n",
    "    if 'gutenberg' in text.lower() and 'project' in text.lower():\n",
    "        continue\n",
    "        \n",
    "    X_valid_22.append(file_name)\n",
    "    y_valid_22.append(century-1)\n",
    "\n",
    "print(f\"Training samples: {len(X_train_21)}\")\n",
    "print(f\"Validation samples: {len(X_valid_21)}\")"
   ]
  },
  {
   "cell_type": "code",
   "execution_count": 55,
   "id": "1a47ffbe-ce9e-4d34-ae7f-dc45828acc90",
   "metadata": {
    "tags": []
   },
   "outputs": [],
   "source": [
    "from sklearn.model_selection import train_test_split\n",
    "\n",
    "X_test_main, X_calib, y_test21_main, y_calib21, y_test22_main, y_calib22 = train_test_split(\n",
    "    X_valid_21, y_valid_21, y_valid_22, test_size=0.2, random_state=42\n",
    ")\n",
    "\n",
    "# Create datasets\n",
    "calib_dataset = FileBasedSingleTaskDataset(X_calib, texts_path, y_calib21, y_calib22, tokenizer)\n",
    "valid_dataset = FileBasedSingleTaskDataset(X_test_main, texts_path, y_test21_main, y_test22_main, tokenizer)\n",
    "\n",
    "# Create dataloaders\n",
    "batch_size = 16\n",
    "calib_dataloader = DataLoader(calib_dataset, batch_size=batch_size, shuffle=False)\n",
    "valid_dataloader = DataLoader(valid_dataset, batch_size=batch_size, shuffle=False)"
   ]
  },
  {
   "cell_type": "code",
   "execution_count": 56,
   "id": "e4f8d050",
   "metadata": {
    "tags": []
   },
   "outputs": [
    {
     "name": "stderr",
     "output_type": "stream",
     "text": [
      "Evaluating best_single_head_regression_model_epoch_1.pt: 100%|████████████████████████████████████████████████████████████████████████████████████████████████████████████████████| 2137/2137 [22:26<00:00,  1.59it/s]\n"
     ]
    },
    {
     "name": "stdout",
     "output_type": "stream",
     "text": [
      "best_single_head_regression_model_epoch_1.pt: MAE = 1.3238, MSE = 6.2335\n"
     ]
    },
    {
     "name": "stderr",
     "output_type": "stream",
     "text": [
      "Evaluating best_single_head_regression_model_epoch_2.pt: 100%|████████████████████████████████████████████████████████████████████████████████████████████████████████████████████| 2137/2137 [22:25<00:00,  1.59it/s]\n"
     ]
    },
    {
     "name": "stdout",
     "output_type": "stream",
     "text": [
      "best_single_head_regression_model_epoch_2.pt: MAE = 1.3488, MSE = 5.9488\n"
     ]
    },
    {
     "name": "stderr",
     "output_type": "stream",
     "text": [
      "Evaluating best_single_head_regression_model_epoch_4.pt: 100%|████████████████████████████████████████████████████████████████████████████████████████████████████████████████████| 2137/2137 [22:26<00:00,  1.59it/s]"
     ]
    },
    {
     "name": "stdout",
     "output_type": "stream",
     "text": [
      "best_single_head_regression_model_epoch_4.pt: MAE = 1.2852, MSE = 5.6172\n"
     ]
    },
    {
     "name": "stderr",
     "output_type": "stream",
     "text": [
      "\n"
     ]
    }
   ],
   "source": [
    "# Evaluate each model individually\n",
    "model_results = []\n",
    "\n",
    "for model_info in models:\n",
    "    result = evaluate_model(model_info['model'], valid_dataloader, model_info['name'])\n",
    "    model_results.append(result)\n",
    "    print(f\"{result['name']}: MAE = {result['mae']:.4f}, MSE = {result['mse']:.4f}\")"
   ]
  },
  {
   "cell_type": "code",
   "execution_count": 57,
   "id": "f31e2cf3-4296-4195-9218-0fa4a3eb7641",
   "metadata": {
    "tags": []
   },
   "outputs": [],
   "source": [
    "import pickle\n",
    "\n",
    "with open('ensemble_model_results_regression_new_data_valid_no_calib.pkl', 'wb') as f:\n",
    "    pickle.dump(model_results, f)"
   ]
  },
  {
   "cell_type": "markdown",
   "id": "1565cca0",
   "metadata": {},
   "source": [
    "## Create Ensemble Predictions"
   ]
  },
  {
   "cell_type": "code",
   "execution_count": 59,
   "id": "08bf64cb",
   "metadata": {
    "tags": []
   },
   "outputs": [
    {
     "name": "stderr",
     "output_type": "stream",
     "text": [
      "100%|█████████████████████████████████████████████████████████████████████████████████████████████████████████████████████████████████████████████████████████████████████████████| 2137/2137 [03:30<00:00, 10.13it/s]"
     ]
    },
    {
     "name": "stdout",
     "output_type": "stream",
     "text": [
      "Simple Average Ensemble: MAE = 1.2210, MSE = 5.4645\n"
     ]
    },
    {
     "name": "stderr",
     "output_type": "stream",
     "text": [
      "\n"
     ]
    }
   ],
   "source": [
    "# Get all validation labels for reference\n",
    "all_labels = []\n",
    "with torch.no_grad():\n",
    "    for batch in tqdm(valid_dataloader):\n",
    "        all_labels.extend(batch['decade_labels'].float().cpu().numpy())\n",
    "labels_array = np.array(all_labels)\n",
    "\n",
    "# Create a matrix of all predictions\n",
    "predictions_matrix = np.vstack([result['predictions'] for result in model_results])\n",
    "\n",
    "# Simple average ensemble\n",
    "ensemble_predictions = np.mean(predictions_matrix, axis=0)\n",
    "\n",
    "# Calculate ensemble metrics\n",
    "ensemble_mae = mean_avg_error(labels_array, ensemble_predictions)\n",
    "ensemble_mse = np.mean((labels_array - ensemble_predictions)**2)\n",
    "\n",
    "print(f\"Simple Average Ensemble: MAE = {ensemble_mae:.4f}, MSE = {ensemble_mse:.4f}\")"
   ]
  },
  {
   "cell_type": "code",
   "execution_count": 66,
   "id": "f44bf96d-e5cc-47f5-9280-85c3b0185c2a",
   "metadata": {
    "tags": []
   },
   "outputs": [
    {
     "name": "stdout",
     "output_type": "stream",
     "text": [
      "Simple Average Ensemble: MAE = 1.2247, MSE = 5.4905\n"
     ]
    }
   ],
   "source": [
    "# Rounding\n",
    "\n",
    "# Create a matrix of all predictions\n",
    "predictions_matrix = np.vstack([np.round(result['predictions']) for result in model_results])\n",
    "\n",
    "# Simple average ensemble\n",
    "ensemble_predictions = np.mean(predictions_matrix, axis=0)\n",
    "\n",
    "# Calculate ensemble metrics\n",
    "ensemble_mae = mean_avg_error(labels_array, ensemble_predictions)\n",
    "ensemble_mse = np.mean((labels_array - ensemble_predictions)**2)\n",
    "\n",
    "print(f\"Simple Average Ensemble: MAE = {ensemble_mae:.4f}, MSE = {ensemble_mse:.4f}\")"
   ]
  },
  {
   "cell_type": "code",
   "execution_count": 67,
   "id": "9fa8d275",
   "metadata": {
    "tags": []
   },
   "outputs": [
    {
     "data": {
      "text/html": [
       "<div>\n",
       "<style scoped>\n",
       "    .dataframe tbody tr th:only-of-type {\n",
       "        vertical-align: middle;\n",
       "    }\n",
       "\n",
       "    .dataframe tbody tr th {\n",
       "        vertical-align: top;\n",
       "    }\n",
       "\n",
       "    .dataframe thead th {\n",
       "        text-align: right;\n",
       "    }\n",
       "</style>\n",
       "<table border=\"1\" class=\"dataframe\">\n",
       "  <thead>\n",
       "    <tr style=\"text-align: right;\">\n",
       "      <th></th>\n",
       "      <th>Model</th>\n",
       "      <th>MAE</th>\n",
       "      <th>MSE</th>\n",
       "    </tr>\n",
       "  </thead>\n",
       "  <tbody>\n",
       "    <tr>\n",
       "      <th>0</th>\n",
       "      <td>Ensemble (Average)</td>\n",
       "      <td>1.224738</td>\n",
       "      <td>5.490515</td>\n",
       "    </tr>\n",
       "    <tr>\n",
       "      <th>2</th>\n",
       "      <td>best_single_head_regression_model_epoch_4.pt</td>\n",
       "      <td>1.285185</td>\n",
       "      <td>5.617177</td>\n",
       "    </tr>\n",
       "    <tr>\n",
       "      <th>0</th>\n",
       "      <td>best_single_head_regression_model_epoch_1.pt</td>\n",
       "      <td>1.323824</td>\n",
       "      <td>6.233477</td>\n",
       "    </tr>\n",
       "    <tr>\n",
       "      <th>1</th>\n",
       "      <td>best_single_head_regression_model_epoch_2.pt</td>\n",
       "      <td>1.348828</td>\n",
       "      <td>5.948793</td>\n",
       "    </tr>\n",
       "  </tbody>\n",
       "</table>\n",
       "</div>"
      ],
      "text/plain": [
       "                                          Model       MAE       MSE\n",
       "0                            Ensemble (Average)  1.224738  5.490515\n",
       "2  best_single_head_regression_model_epoch_4.pt  1.285185  5.617177\n",
       "0  best_single_head_regression_model_epoch_1.pt  1.323824  6.233477\n",
       "1  best_single_head_regression_model_epoch_2.pt  1.348828  5.948793"
      ]
     },
     "execution_count": 67,
     "metadata": {},
     "output_type": "execute_result"
    }
   ],
   "source": [
    "# Create a dataframe to compare all models\n",
    "comparison_df = pd.DataFrame([\n",
    "    {'Model': result['name'], 'MAE': result['mae'], 'MSE': result['mse']} \n",
    "    for result in model_results\n",
    "])\n",
    "\n",
    "# Add ensemble results\n",
    "comparison_df = pd.concat([\n",
    "    comparison_df, \n",
    "    pd.DataFrame([{'Model': 'Ensemble (Average)', 'MAE': ensemble_mae, 'MSE': ensemble_mse}])\n",
    "])\n",
    "\n",
    "comparison_df.sort_values('MAE')"
   ]
  },
  {
   "cell_type": "markdown",
   "id": "d5f30fda",
   "metadata": {},
   "source": [
    "## Weighted Ensemble"
   ]
  },
  {
   "cell_type": "code",
   "execution_count": 68,
   "id": "33f50a44",
   "metadata": {
    "tags": []
   },
   "outputs": [
    {
     "name": "stdout",
     "output_type": "stream",
     "text": [
      "Model weights:\n",
      "best_single_head_regression_model_epoch_1.pt: 0.3321\n",
      "best_single_head_regression_model_epoch_2.pt: 0.3259\n",
      "best_single_head_regression_model_epoch_4.pt: 0.3420\n",
      "Weighted Ensemble: MAE = 1.1409, MSE = 5.3645\n"
     ]
    }
   ],
   "source": [
    "# Try a weighted ensemble - inverse of MAE as weight\n",
    "weights = 1 / np.array([result['mae'] for result in model_results])\n",
    "weights = weights / np.sum(weights)  # Normalize to sum to 1\n",
    "\n",
    "print(\"Model weights:\")\n",
    "for i, (weight, model_info) in enumerate(zip(weights, model_results)):\n",
    "    print(f\"{model_info['name']}: {weight:.4f}\")\n",
    "\n",
    "# Weighted ensemble predictions\n",
    "weighted_ensemble_predictions = np.zeros_like(ensemble_predictions)\n",
    "for i, result in enumerate(model_results):\n",
    "    weighted_ensemble_predictions += weights[i] * np.floor(result['predictions'])\n",
    "\n",
    "# Calculate weighted ensemble metrics\n",
    "weighted_mae = mean_avg_error(labels_array, weighted_ensemble_predictions)\n",
    "weighted_mse = np.mean((labels_array - weighted_ensemble_predictions)**2)\n",
    "\n",
    "print(f\"Weighted Ensemble: MAE = {weighted_mae:.4f}, MSE = {weighted_mse:.4f}\")"
   ]
  },
  {
   "cell_type": "code",
   "execution_count": 69,
   "id": "79a6af63",
   "metadata": {
    "tags": []
   },
   "outputs": [
    {
     "data": {
      "text/html": [
       "<div>\n",
       "<style scoped>\n",
       "    .dataframe tbody tr th:only-of-type {\n",
       "        vertical-align: middle;\n",
       "    }\n",
       "\n",
       "    .dataframe tbody tr th {\n",
       "        vertical-align: top;\n",
       "    }\n",
       "\n",
       "    .dataframe thead th {\n",
       "        text-align: right;\n",
       "    }\n",
       "</style>\n",
       "<table border=\"1\" class=\"dataframe\">\n",
       "  <thead>\n",
       "    <tr style=\"text-align: right;\">\n",
       "      <th></th>\n",
       "      <th>Model</th>\n",
       "      <th>MAE</th>\n",
       "      <th>MSE</th>\n",
       "    </tr>\n",
       "  </thead>\n",
       "  <tbody>\n",
       "    <tr>\n",
       "      <th>0</th>\n",
       "      <td>Ensemble (Weighted)</td>\n",
       "      <td>1.140945</td>\n",
       "      <td>5.364475</td>\n",
       "    </tr>\n",
       "    <tr>\n",
       "      <th>0</th>\n",
       "      <td>Ensemble (Average)</td>\n",
       "      <td>1.224738</td>\n",
       "      <td>5.490515</td>\n",
       "    </tr>\n",
       "    <tr>\n",
       "      <th>2</th>\n",
       "      <td>best_single_head_regression_model_epoch_4.pt</td>\n",
       "      <td>1.285185</td>\n",
       "      <td>5.617177</td>\n",
       "    </tr>\n",
       "    <tr>\n",
       "      <th>0</th>\n",
       "      <td>best_single_head_regression_model_epoch_1.pt</td>\n",
       "      <td>1.323824</td>\n",
       "      <td>6.233477</td>\n",
       "    </tr>\n",
       "    <tr>\n",
       "      <th>1</th>\n",
       "      <td>best_single_head_regression_model_epoch_2.pt</td>\n",
       "      <td>1.348828</td>\n",
       "      <td>5.948793</td>\n",
       "    </tr>\n",
       "  </tbody>\n",
       "</table>\n",
       "</div>"
      ],
      "text/plain": [
       "                                          Model       MAE       MSE\n",
       "0                           Ensemble (Weighted)  1.140945  5.364475\n",
       "0                            Ensemble (Average)  1.224738  5.490515\n",
       "2  best_single_head_regression_model_epoch_4.pt  1.285185  5.617177\n",
       "0  best_single_head_regression_model_epoch_1.pt  1.323824  6.233477\n",
       "1  best_single_head_regression_model_epoch_2.pt  1.348828  5.948793"
      ]
     },
     "execution_count": 69,
     "metadata": {},
     "output_type": "execute_result"
    }
   ],
   "source": [
    "# Update comparison table\n",
    "comparison_df = pd.concat([\n",
    "    comparison_df, \n",
    "    pd.DataFrame([{'Model': 'Ensemble (Weighted)', 'MAE': weighted_mae, 'MSE': weighted_mse}])\n",
    "])\n",
    "\n",
    "comparison_df.sort_values('MAE')"
   ]
  },
  {
   "cell_type": "markdown",
   "id": "0b4453ff",
   "metadata": {},
   "source": [
    "## Visualize Results"
   ]
  },
  {
   "cell_type": "code",
   "execution_count": 27,
   "id": "f0392cbc",
   "metadata": {
    "tags": []
   },
   "outputs": [
    {
     "data": {
      "image/png": "[encoded data removed]",
      "text/plain": [
       "<Figure size 1200x600 with 2 Axes>"
      ]
     },
     "metadata": {},
     "output_type": "display_data"
    }
   ],
   "source": [
    "plt.figure(figsize=(12, 6))\n",
    "\n",
    "# Plot MAE comparison\n",
    "plt.subplot(1, 2, 1)\n",
    "sns.barplot(x='Model', y='MAE', data=comparison_df.sort_values('MAE'))\n",
    "plt.xticks(rotation=90)\n",
    "plt.title('Mean Absolute Error Comparison')\n",
    "plt.tight_layout()\n",
    "\n",
    "# Plot MSE comparison\n",
    "plt.subplot(1, 2, 2)\n",
    "sns.barplot(x='Model', y='MSE', data=comparison_df.sort_values('MSE'))\n",
    "plt.xticks(rotation=90)\n",
    "plt.title('Mean Squared Error Comparison')\n",
    "plt.tight_layout()\n",
    "\n",
    "#plt.savefig('ensemble_comparison.png', dpi=300, bbox_inches='tight')\n",
    "plt.show()"
   ]
  },
  {
   "cell_type": "markdown",
   "id": "31c08f6b",
   "metadata": {},
   "source": [
    "## Save Best Ensemble"
   ]
  },
  {
   "cell_type": "code",
   "execution_count": 28,
   "id": "cf95bd79",
   "metadata": {
    "tags": []
   },
   "outputs": [
    {
     "name": "stdout",
     "output_type": "stream",
     "text": [
      "Saved best ensemble configuration (type: weighted)\n"
     ]
    }
   ],
   "source": [
    "# Save best ensemble info\n",
    "best_ensemble = {\n",
    "    'type': 'weighted' if weighted_mae < ensemble_mae else 'average',\n",
    "    'models': [m['name'] for m in models],\n",
    "    'weights': weights.tolist() if weighted_mae < ensemble_mae else None,\n",
    "    'mae': min(weighted_mae, ensemble_mae),\n",
    "    'mse': weighted_mse if weighted_mae < ensemble_mae else ensemble_mse,\n",
    "    'predictions': weighted_ensemble_predictions.tolist() if weighted_mae < ensemble_mae else ensemble_predictions.tolist()\n",
    "}\n",
    "\n",
    "with open('best_ensemble_info.pkl', 'wb') as f:\n",
    "    pickle.dump(best_ensemble, f)\n",
    "\n",
    "print(f\"Saved best ensemble configuration (type: {best_ensemble['type']})\")"
   ]
  },
  {
   "cell_type": "code",
   "execution_count": null,
   "id": "eb958980",
   "metadata": {},
   "outputs": [],
   "source": [
    "# Create a function to apply the ensemble to new data\n",
    "def apply_ensemble(dataloader, models, weights=None):\n",
    "    all_predictions = []\n",
    "    \n",
    "    # Get predictions from each model\n",
    "    for model_info in models:\n",
    "        model = model_info['model']\n",
    "        model.eval()\n",
    "        model_predictions = []\n",
    "        \n",
    "        with torch.no_grad():\n",
    "            for batch in tqdm(dataloader, desc=f\"Generating predictions with {model_info['name']}\"):\n",
    "                batch = {k: v.to(device) for k, v in batch.items()}\n",
    "                preds = model(\n",
    "                    input_ids=batch['input_ids'],\n",
    "                    attention_mask=batch['attention_mask']\n",
    "                )\n",
    "                model_predictions.extend(preds.cpu().numpy())\n",
    "        \n",
    "        all_predictions.append(np.array(model_predictions))\n",
    "    \n",
    "    # Stack predictions into a matrix\n",
    "    predictions_matrix = np.vstack(all_predictions)\n",
    "    \n",
    "    # Apply weights if provided, otherwise use simple average\n",
    "    if weights is not None:\n",
    "        ensemble_preds = np.zeros_like(all_predictions[0])\n",
    "        for i, preds in enumerate(all_predictions):\n",
    "            ensemble_preds += weights[i] * preds\n",
    "    else:\n",
    "        ensemble_preds = np.mean(predictions_matrix, axis=0)\n",
    "    \n",
    "    return ensemble_preds"
   ]
  }
 ],
 "metadata": {
  "kernelspec": {
   "display_name": "Python 3 (ipykernel)",
   "language": "python",
   "name": "python3"
  },
  "language_info": {
   "codemirror_mode": {
    "name": "ipython",
    "version": 3
   },
   "file_extension": ".py",
   "mimetype": "text/x-python",
   "name": "python",
   "nbconvert_exporter": "python",
   "pygments_lexer": "ipython3",
   "version": "3.10.16"
  }
 },
 "nbformat": 4,
 "nbformat_minor": 5
}
