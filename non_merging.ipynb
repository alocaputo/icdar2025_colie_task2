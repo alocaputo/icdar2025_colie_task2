{
 "cells": [
  {
   "cell_type": "markdown",
   "id": "c693fdf9-c06a-4a47-b631-b4b17485178a",
   "metadata": {},
   "source": [
    "# Non merging inputs\n",
    "\n",
    "TODO:\n",
    " - [X] Is it better with full or the balanced dataset? -> Non balanced (even better when excluding non-coherent data)\n",
    " - [X] Try conformal with the decade -> Too few classes, argmax is way better"
   ]
  },
  {
   "cell_type": "code",
   "execution_count": 29,
   "id": "e8088807-fe57-460b-a6bf-772898aabeab",
   "metadata": {
    "tags": []
   },
   "outputs": [],
   "source": [
    "import os\n",
    "# cuda_visible_devices = 0,1,2,3\n",
    "os.environ[\"CUDA_VISIBLE_DEVICES\"] = \"1\"\n",
    "# os.environ[\"CUDA_VISIBLE_DEVICES\"] = \"0,1,2,3,4,5,6,7\"\n",
    "\n",
    "import pandas as pd\n",
    "\n",
    "import numpy as np\n",
    "from tabulate import tabulate\n",
    "import seaborn as sns\n",
    "from tqdm import tqdm\n",
    "\n",
    "# import nltk\n",
    "# from nltk import WordPunctTokenizer\n",
    "# from nltk import TreebankWordTokenizer\n",
    "\n",
    "# nltk.download('punkt')\n",
    "# nltk.download('punkt_tab')\n",
    "# nltk.download('stopwords')\n",
    "# nltk.download('wordnet')\n",
    "\n",
    "# from nltk.corpus import stopwords\n",
    "\n",
    "# import stanza\n",
    "# stanza.download('en')\n",
    "\n",
    "\n",
    "import matplotlib.pyplot as plt\n",
    "from sklearn.metrics import confusion_matrix\n",
    "\n",
    "import torch\n",
    "from collections import Counter\n",
    "from tabulate import tabulate\n",
    "from transformers import AutoModel, AutoTokenizer\n",
    "\n",
    "RANDOM_SEED = 42"
   ]
  },
  {
   "cell_type": "markdown",
   "id": "38c4bc7b-669a-4ad2-b51a-5c3e31578067",
   "metadata": {
    "tags": []
   },
   "source": [
    "## Data Loading"
   ]
  },
  {
   "cell_type": "code",
   "execution_count": 2,
   "id": "8c6919b0-51ed-4f15-8474-1a71c1f489eb",
   "metadata": {
    "tags": []
   },
   "outputs": [
    {
     "name": "stdout",
     "output_type": "stream",
     "text": [
      "Task2.1 => Train: 204708, Test: 54652\n"
     ]
    }
   ],
   "source": [
    "texts_path = './data/Task2/texts'\n",
    "\n",
    "train_path = os.path.join(texts_path, 'train')\n",
    "valid_path = os.path.join(texts_path, 'valid')\n",
    "\n",
    "train_files = os.listdir(train_path)\n",
    "valid_files = os.listdir(valid_path)\n",
    "\n",
    "print(f\"Task2.1 => Train: {len(train_files)}, Test: {len(valid_files)}\")\n",
    "\n",
    "label2century = {1: '17th century', 2: '18th century', 3: '19th century', 4: '20th century', 5: '21st century'}\n",
    "\n",
    "train21 = pd.read_csv('./data/Task2/task2.1/train.csv')\n",
    "valid21 = pd.read_csv('./data/Task2/task2.1/valid.csv')\n",
    "\n",
    "train22 = pd.read_csv('./data/Task2/task2.2/train.csv')\n",
    "valid22 = pd.read_csv('./data/Task2/task2.2/valid.csv')\n",
    "\n",
    "train21.rename(columns={'label': 'century'}, inplace=True)\n",
    "train21['file_name'] = train21['id']\n",
    "train21['id'] = train21.id.str.replace('train_text', '').str.replace('.txt', '').astype(int)\n",
    "train21.set_index('id', inplace=True)\n",
    "\n",
    "valid21.rename(columns={'label': 'century'}, inplace=True)\n",
    "valid21['file_name'] = valid21['id']\n",
    "valid21['id'] = valid21.id.str.replace('valid_text', '').str.replace('.txt', '').astype(int)\n",
    "valid21.set_index('id', inplace=True)"
   ]
  },
  {
   "cell_type": "code",
   "execution_count": 3,
   "id": "7fddc6a9-f223-45e8-904c-4700949a128b",
   "metadata": {
    "tags": []
   },
   "outputs": [
    {
     "name": "stdout",
     "output_type": "stream",
     "text": [
      "Task2.2 => Train: 204708, Test: 54651\n"
     ]
    }
   ],
   "source": [
    "train22 = pd.read_csv('./data/Task2/task2.2/train.csv')\n",
    "valid22 = pd.read_csv('./data/Task2/task2.2/valid.csv')\n",
    "\n",
    "train22.rename(columns={'label': 'decade'}, inplace=True)\n",
    "train22['file_name'] = train22['id']\n",
    "train22['id'] = train22.id.str.replace('train_text', '').str.replace('.txt', '').astype(int)\n",
    "train22.set_index('id', inplace=True)\n",
    "\n",
    "valid22.rename(columns={'label': 'decade'}, inplace=True)\n",
    "valid22['file_name'] = valid22['id']\n",
    "valid22['id'] = valid22.id.str.replace('valid_text', '').str.replace('.txt', '').astype(int)\n",
    "valid22.set_index('id', inplace=True)\n",
    "\n",
    "print(f\"Task2.2 => Train: {len(train22)}, Test: {len(valid22)}\")"
   ]
  },
  {
   "cell_type": "code",
   "execution_count": 4,
   "id": "0ace0902-c99f-42cc-add3-8940c2102260",
   "metadata": {
    "tags": []
   },
   "outputs": [],
   "source": [
    "# Load the list of IDs that are not coherent with the Task1 dataset\n",
    "\n",
    "import pickle\n",
    "with open('blacklist.pkl', 'rb') as f:\n",
    "    blacklist = pickle.load(f)\n",
    "\n",
    "blacklist_train = blacklist['train']\n",
    "blacklist_valid = blacklist['valid']"
   ]
  },
  {
   "cell_type": "code",
   "execution_count": 5,
   "id": "133dfe13-5c1a-4ea5-8404-33d7c77705f3",
   "metadata": {
    "tags": []
   },
   "outputs": [],
   "source": [
    "def decade2year(deca):\n",
    "    return ((deca // 10) + 16) * 100 + ((deca % 10)) * 10\n",
    "\n",
    "def year2cd(year):\n",
    "    return ((year // 100 - 16) * 10  + (year - (year // 100)*100)//10)"
   ]
  },
  {
   "cell_type": "code",
   "execution_count": 6,
   "id": "c073f879-ccf7-4fb6-8948-fdba9623f6bb",
   "metadata": {
    "tags": []
   },
   "outputs": [],
   "source": [
    "import ftfy\n",
    "\n",
    "def get_clean_text(path):\n",
    "    \n",
    "    with open(path, 'rb') as infile:\n",
    "        txt_ry = infile.read()\n",
    "    misdecoded_text = txt_ry.decode(\"utf-8\", errors=\"ignore\")\n",
    "\n",
    "    return ftfy.fix_text(misdecoded_text)"
   ]
  },
  {
   "cell_type": "code",
   "execution_count": 7,
   "id": "ef5ddd73-83cd-4a1c-9201-c0a855af85dd",
   "metadata": {
    "tags": []
   },
   "outputs": [],
   "source": [
    "from torch.utils.data import DataLoader, Dataset\n",
    "\n",
    "class TextDataset(Dataset):\n",
    "    def __init__(self, file_names, labels, path, clear=False):\n",
    "        self.file_names = file_names\n",
    "        self.labels = labels\n",
    "        self.path = path\n",
    "        self.clear = clear\n",
    "\n",
    "    def __len__(self):\n",
    "        return len(self.file_names)\n",
    "\n",
    "    def __getitem__(self, idx):\n",
    "        file_name = self.file_names[idx]\n",
    "        if self.clear:\n",
    "            text = get_clean_text(os.path.join(self.path, file_name))\n",
    "        else:\n",
    "            with open(os.path.join(self.path, file_name), 'r') as file:\n",
    "                text = file.read()\n",
    "\n",
    "        return text, self.labels[idx]"
   ]
  },
  {
   "cell_type": "code",
   "execution_count": 10,
   "id": "4121975c-cebb-4d7c-878d-35e57ef217f4",
   "metadata": {
    "tags": []
   },
   "outputs": [],
   "source": [
    "# Load all the data\n",
    "\n",
    "X_train_21 = []\n",
    "y_train_21 = []\n",
    "\n",
    "X_valid_21 = []\n",
    "y_valid_21 = []\n",
    "\n",
    "for idx, row in train21.iterrows():\n",
    "    file_name = row.file_name\n",
    "    century = row.century\n",
    "    X_train_21.append(file_name)\n",
    "    y_train_21.append(century-1)\n",
    "\n",
    "for idx, row in valid21.iterrows():\n",
    "    file_name = row.file_name\n",
    "    century = row.century\n",
    "    X_valid_21.append(file_name)\n",
    "    y_valid_21.append(century-1)"
   ]
  },
  {
   "cell_type": "code",
   "execution_count": 11,
   "id": "980c031a-c62c-40a2-99f9-3ef8b88ee692",
   "metadata": {
    "tags": []
   },
   "outputs": [],
   "source": [
    "# Load data making sure that each class has the same amount of data (undersampling)\n",
    "\n",
    "np.random.seed(RANDOM_SEED)\n",
    "\n",
    "X_train_21_eq = []\n",
    "y_train_21_eq = []\n",
    "for i in range(1, 6):\n",
    "    x = train21[train21['century'] == i].sample(1834)\n",
    "    X_train_21_eq.extend(x['file_name'])\n",
    "    y_train_21_eq.extend(x['century']-1)\n",
    "\n",
    "X_valid_21_eq = []\n",
    "y_valid_21_eq = []\n",
    "for i in range(1, 6):\n",
    "    x = valid21[valid21['century'] == i].sample(457)\n",
    "    X_valid_21_eq.extend(x['file_name'])\n",
    "    y_valid_21_eq.extend(x['century']-1)"
   ]
  },
  {
   "cell_type": "code",
   "execution_count": 12,
   "id": "7d27a69d-15a1-49df-9eb7-2e9f5b950c58",
   "metadata": {
    "tags": []
   },
   "outputs": [],
   "source": [
    "X_train_22 = []\n",
    "y_train_22 = []\n",
    "\n",
    "X_valid_22 = []\n",
    "y_valid_22 = []\n",
    "\n",
    "for idx, row in train22.iterrows():\n",
    "    file_name = row.file_name\n",
    "    decade = row.decade\n",
    "    X_train_22.append(file_name)\n",
    "    y_train_22.append(decade-1)\n",
    "\n",
    "for idx, row in valid22.iterrows():\n",
    "    file_name = row.file_name\n",
    "    decade = row.decade\n",
    "    X_valid_22.append(file_name)\n",
    "    y_valid_22.append(decade-1)"
   ]
  },
  {
   "cell_type": "code",
   "execution_count": 13,
   "id": "fbda3396-6e1e-4968-bb11-18f9546ebd64",
   "metadata": {
    "tags": []
   },
   "outputs": [
    {
     "name": "stderr",
     "output_type": "stream",
     "text": [
      "  0%|                                                                                                                                                                                        | 0/9170 [00:00<?, ?it/s]/tmp/ipykernel_641339/2300074627.py:5: FutureWarning: Calling int on a single element Series is deprecated and will raise a TypeError in the future. Use int(ser.iloc[0]) instead\n",
      "  decade = int(row.decade)\n",
      "100%|█████████████████████████████████████████████████████████████████████████████████████████████████████████████████████████████████████████████████████████████████████████████| 9170/9170 [01:40<00:00, 91.11it/s]\n",
      "/tmp/ipykernel_641339/2300074627.py:13: FutureWarning: Calling int on a single element Series is deprecated and will raise a TypeError in the future. Use int(ser.iloc[0]) instead\n",
      "  decade = int(row.decade)\n"
     ]
    }
   ],
   "source": [
    "X_train_22_eq = []\n",
    "y_train_22_eq = []\n",
    "for x in tqdm(X_train_21_eq):\n",
    "    row = train22[train22['file_name'] == x]\n",
    "    decade = int(row.decade)\n",
    "    X_train_22_eq.append(x)\n",
    "    y_train_22_eq.append(decade)\n",
    "    \n",
    "X_valid_22_eq = []\n",
    "y_valid_22_eq = []\n",
    "for x in X_valid_21_eq:\n",
    "    row = valid22[valid22['file_name'] == x]\n",
    "    decade = int(row.decade)\n",
    "    X_valid_22_eq.append(x)\n",
    "    y_valid_22_eq.append(decade)"
   ]
  },
  {
   "cell_type": "code",
   "execution_count": 14,
   "id": "b14f8ad5-3394-48ed-a6ed-d06cf0d85e78",
   "metadata": {},
   "outputs": [],
   "source": [
    "# Task 2.1 ========================\n",
    "# Full\n",
    "train21_dataset = TextDataset(X_train_21, y_train_21, train_path)\n",
    "valid21_dataset = TextDataset(X_valid_21, y_valid_21, valid_path)\n",
    "\n",
    "batch_size = 16\n",
    "train21_dataloader = DataLoader(train21_dataset, batch_size=batch_size, shuffle=True)\n",
    "valid21_dataloader = DataLoader(valid21_dataset, batch_size=batch_size, shuffle=False)\n",
    "\n",
    "# Undersampling\n",
    "train21_eq_dataset = TextDataset(X_train_21_eq, y_train_21_eq, train_path)\n",
    "valid21_eq_dataset = TextDataset(X_valid_21_eq, y_valid_21_eq, valid_path)\n",
    "\n",
    "batch_size = 16\n",
    "train21_eq_dataloader = DataLoader(train21_eq_dataset, batch_size=batch_size, shuffle=True)\n",
    "valid21_eq_dataloader = DataLoader(valid21_eq_dataset, batch_size=batch_size, shuffle=False)\n",
    "\n",
    "# Task 2.2 ========================\n",
    "# Full\n",
    "train22_dataset = TextDataset(X_train_22, y_train_22, train_path)\n",
    "valid22_dataset = TextDataset(X_valid_22, y_valid_22, valid_path)\n",
    "\n",
    "batch_size = 16\n",
    "train22_dataloader = DataLoader(train22_dataset, batch_size=batch_size, shuffle=True)\n",
    "valid22_dataloader = DataLoader(valid22_dataset, batch_size=batch_size, shuffle=False)\n",
    "\n",
    "# Undersampling\n",
    "train22_eq_dataset = TextDataset(X_train_22_eq, y_train_22_eq, train_path)\n",
    "valid22_eq_dataset = TextDataset(X_valid_22_eq, y_valid_22_eq, valid_path)\n",
    "\n",
    "batch_size = 16\n",
    "train22_eq_dataloader = DataLoader(train22_eq_dataset, batch_size=batch_size, shuffle=True)\n",
    "valid22_eq_dataloader = DataLoader(valid22_eq_dataset, batch_size=batch_size, shuffle=False)"
   ]
  },
  {
   "cell_type": "code",
   "execution_count": 30,
   "id": "06d6a41d-aba2-4fa7-9fa7-e979ef8a3380",
   "metadata": {
    "tags": []
   },
   "outputs": [
    {
     "name": "stderr",
     "output_type": "stream",
     "text": [
      "100%|████████████████████████████████████████████████████████████████████████████████████████████████████████████████████████████████████████████████████████████████████████| 204708/204708 [08:47<00:00, 388.37it/s]\n"
     ]
    },
    {
     "name": "stdout",
     "output_type": "stream",
     "text": [
      "Token Length Statistics:\n",
      "- Maximum: 9481\n",
      "- Mean: 1395.41\n",
      "- Median: 1325.00\n",
      "- 95th percentile: 1876.00\n",
      "- 99th percentile: 2235.00\n"
     ]
    },
    {
     "data": {
      "image/png": "[encoded data removed]",
      "text/plain": [
       "<Figure size 1000x600 with 1 Axes>"
      ]
     },
     "metadata": {},
     "output_type": "display_data"
    }
   ],
   "source": [
    "tokenizer = AutoTokenizer.from_pretrained(\"allenai/longformer-base-4096\")\n",
    "\n",
    "token_lengths = []\n",
    "for text, _ in tqdm(train21_dataset):\n",
    "    tokens = tokenizer(text, add_special_tokens=True, return_tensors=\"pt\")\n",
    "    token_lengths.append(tokens['input_ids'].shape[1])\n",
    "\n",
    "# Calculate statistics\n",
    "max_length = max(token_lengths)\n",
    "mean_length = np.mean(token_lengths)\n",
    "median_length = np.median(token_lengths)\n",
    "p95_length = np.percentile(token_lengths, 95)\n",
    "p99_length = np.percentile(token_lengths, 99)\n",
    "\n",
    "# Create histogram\n",
    "plt.figure(figsize=(10, 6))\n",
    "plt.hist(token_lengths, bins=50, alpha=0.7, color='skyblue', edgecolor='black')\n",
    "plt.axvline(x=mean_length, color='red', linestyle='--', label=f'Mean: {mean_length:.1f}')\n",
    "plt.axvline(x=median_length, color='green', linestyle='--', label=f'Median: {median_length:.1f}')\n",
    "plt.axvline(x=p95_length, color='purple', linestyle='--', label=f'95th percentile: {p95_length:.1f}')\n",
    "plt.axvline(x=max_length, color='black', linestyle='-', label=f'Max: {max_length}')\n",
    "\n",
    "plt.xlabel('Number of Tokens')\n",
    "plt.ylabel('Frequency')\n",
    "plt.legend()\n",
    "plt.grid(True, alpha=0.3)\n",
    "plt.tight_layout()\n",
    "\n",
    "print(f\"Token Length Statistics:\")\n",
    "print(f\"- Maximum: {max_length}\")\n",
    "print(f\"- Mean: {mean_length:.2f}\")\n",
    "print(f\"- Median: {median_length:.2f}\")\n",
    "print(f\"- 95th percentile: {p95_length:.2f}\")\n",
    "print(f\"- 99th percentile: {p99_length:.2f}\")"
   ]
  },
  {
   "cell_type": "code",
   "execution_count": 21,
   "id": "4aa262b7-fbe5-4259-a8f9-19fe1bac57f6",
   "metadata": {
    "tags": []
   },
   "outputs": [
    {
     "name": "stderr",
     "output_type": "stream",
     "text": [
      "100%|██████████████████████████████████████████████████████████████████████████████████████████████████████████████████████████████████████████████████████████████████████| 204708/204708 [00:11<00:00, 18472.76it/s]"
     ]
    },
    {
     "name": "stdout",
     "output_type": "stream",
     "text": [
      "2128\n",
      "Counter({2: 1736, 3: 181, 1: 117, 0: 75, 4: 19})\n"
     ]
    },
    {
     "name": "stderr",
     "output_type": "stream",
     "text": [
      "\n"
     ]
    }
   ],
   "source": [
    "cg = 0\n",
    "cg_list = []\n",
    "cg_labels = []\n",
    "for idx, file_name in tqdm(enumerate(X_train_21), total=len(X_train_21)):\n",
    "    \n",
    "    tidx = int(file_name.replace('train_text', '').replace('.txt', ''))\n",
    "    if tidx in blacklist_valid:\n",
    "        continue\n",
    "    with open(os.path.join(train_path, file_name), 'r') as file:\n",
    "        text = file.read()\n",
    "    \n",
    "    if 'gutenberg' in text.lower(): # and 'project' not in text.lower() :\n",
    "        cg += 1\n",
    "        cg_list.append(text)\n",
    "        cg_labels.append(y_train_21[idx])\n",
    "print(cg)\n",
    "\n",
    "print(Counter(cg_labels))"
   ]
  },
  {
   "cell_type": "code",
   "execution_count": 25,
   "id": "01b02cb4-e90b-4e2f-858c-c787d196cf56",
   "metadata": {
    "tags": []
   },
   "outputs": [
    {
     "name": "stdout",
     "output_type": "stream",
     "text": [
      "you do or cause to occur: (a) distribution of this or any Project Gutenberg-tm work, (b) alteration, modification, or additions or deletions to any Pr\n",
      "do not necessarily keep eBooks in compliance with any particular paper edition. Most people start at our Web site which has the main PG search facilit\n"
     ]
    }
   ],
   "source": [
    "for cgl in cg_list[:2]:\n",
    "    print(cgl[:150])"
   ]
  },
  {
   "cell_type": "code",
   "execution_count": 26,
   "id": "c62b058b-3178-4467-8efb-854a15354b67",
   "metadata": {
    "tags": []
   },
   "outputs": [],
   "source": [
    "def mean_avg_error(y_true, y_pred):\n",
    "    return np.mean(np.abs(y_true - y_pred))"
   ]
  },
  {
   "cell_type": "markdown",
   "id": "d5336cc2-0035-42e0-aa37-16bf971d8404",
   "metadata": {},
   "source": [
    "## Century classifier"
   ]
  },
  {
   "cell_type": "code",
   "execution_count": 28,
   "id": "309fc8e5-4cfe-4858-b8ab-beecfcddb587",
   "metadata": {
    "tags": []
   },
   "outputs": [
    {
     "name": "stderr",
     "output_type": "stream",
     "text": [
      "/data01/alocaputo/miniconda3/envs/icdar2025/lib/python3.10/site-packages/tqdm/auto.py:21: TqdmWarning: IProgress not found. Please update jupyter and ipywidgets. See https://ipywidgets.readthedocs.io/en/stable/user_install.html\n",
      "  from .autonotebook import tqdm as notebook_tqdm\n"
     ]
    }
   ],
   "source": [
    "from transformers import AutoModel, AutoTokenizer\n",
    "import torch\n",
    "import torch.nn as nn\n",
    "import torch.optim as optim\n",
    "\n",
    "device = torch.device(\"cuda\" if torch.cuda.is_available() else \"cpu\")\n",
    "\n",
    "class CenturyClassifier(nn.Module):\n",
    "    def __init__(self, longformer, num_classes):\n",
    "        super(CenturyClassifier, self).__init__()\n",
    "        self.bert = longformer\n",
    "        self.dropout = nn.Dropout(0.1)\n",
    "        self.classifier = nn.Linear(longformer.config.hidden_size, num_classes)\n",
    "\n",
    "    def forward(self, input_ids, attention_mask, token_type_ids=None):\n",
    "        outputs = self.bert(input_ids, token_type_ids=token_type_ids, attention_mask=attention_mask)\n",
    "        pooled_output = outputs.pooler_output\n",
    "        pooled_output = self.dropout(pooled_output)\n",
    "        return self.classifier(pooled_output)"
   ]
  },
  {
   "cell_type": "code",
   "execution_count": 31,
   "id": "6485b3ed-e52d-4b25-86fb-684df178e4e9",
   "metadata": {
    "tags": []
   },
   "outputs": [],
   "source": [
    "def train_century_classifier(model, tokenizer, train_dataloader, n_epochs=3):\n",
    "    \n",
    "    model_century_classifier = CenturyClassifier(model, 5)\n",
    "    model_century_classifier.to(device)\n",
    "    \n",
    "    optimizer = optim.Adam(model_century_classifier.parameters(), lr=1e-5)\n",
    "    criterion = nn.CrossEntropyLoss()\n",
    "    \n",
    "    model_century_classifier.train()\n",
    "    \n",
    "    for epoch in range(n_epochs):\n",
    "        for text, labels in tqdm(train_dataloader):\n",
    "            optimizer.zero_grad()\n",
    "            tokens = tokenizer(text, padding='max_length', truncation=True, return_tensors=\"pt\", max_length=512,).to(device)\n",
    "            labels = torch.tensor(labels).to(device)\n",
    "            output = model_century_classifier(**tokens)\n",
    "            loss = criterion(output.view(-1, 5), labels.view(-1))\n",
    "            loss.backward()\n",
    "            optimizer.step()\n",
    "        print(\"Epoch:\", epoch, \"Loss:\", loss.item())\n",
    "    \n",
    "    return model_century_classifier"
   ]
  },
  {
   "cell_type": "code",
   "execution_count": 135,
   "id": "facb6c13-09fb-4fa6-9517-f4d64dcf5488",
   "metadata": {
    "tags": []
   },
   "outputs": [
    {
     "name": "stderr",
     "output_type": "stream",
     "text": [
      "  0%|                                                                                                                                                                                         | 0/574 [00:00<?, ?it/s]/tmp/ipykernel_518077/2369404271.py:15: UserWarning: To copy construct from a tensor, it is recommended to use sourceTensor.clone().detach() or sourceTensor.clone().detach().requires_grad_(True), rather than torch.tensor(sourceTensor).\n",
      "  labels = torch.tensor(labels).to(device)\n",
      "100%|███████████████████████████████████████████████████████████████████████████████████████████████████████████████████████████████████████████████████████████████████████████████| 574/574 [05:59<00:00,  1.60it/s]\n"
     ]
    },
    {
     "name": "stdout",
     "output_type": "stream",
     "text": [
      "Epoch: 0 Loss: 1.28499174118042\n"
     ]
    },
    {
     "name": "stderr",
     "output_type": "stream",
     "text": [
      "100%|███████████████████████████████████████████████████████████████████████████████████████████████████████████████████████████████████████████████████████████████████████████████| 574/574 [05:59<00:00,  1.60it/s]\n"
     ]
    },
    {
     "name": "stdout",
     "output_type": "stream",
     "text": [
      "Epoch: 1 Loss: 1.2889608144760132\n"
     ]
    },
    {
     "name": "stderr",
     "output_type": "stream",
     "text": [
      "100%|███████████████████████████████████████████████████████████████████████████████████████████████████████████████████████████████████████████████████████████████████████████████| 574/574 [05:59<00:00,  1.60it/s]"
     ]
    },
    {
     "name": "stdout",
     "output_type": "stream",
     "text": [
      "Epoch: 2 Loss: 0.39171406626701355\n"
     ]
    },
    {
     "name": "stderr",
     "output_type": "stream",
     "text": [
      "\n"
     ]
    }
   ],
   "source": [
    "tokenizer = AutoTokenizer.from_pretrained(\"allenai/longformer-base-4096\")\n",
    "model = AutoModel.from_pretrained(\"allenai/longformer-base-4096\")\n",
    "\n",
    "# # Balanced dataset\n",
    "# model_century_classifier_eq = train_century_classifier(model, tokenizer, train21_eq_dataloader)\n",
    "# \n",
    "# tokenizer = AutoTokenizer.from_pretrained(\"allenai/longformer-base-4096\")\n",
    "# model = AutoModel.from_pretrained(\"allenai/longformer-base-4096\")\n",
    "# \n",
    "# # Full dataset\n",
    "# model_century_classifier = train_century_classifier(model, tokenizer, train21_dataloader)"
   ]
  },
  {
   "cell_type": "markdown",
   "id": "c92ffd6d-8685-4248-9245-37c4b653c83d",
   "metadata": {
    "tags": []
   },
   "source": [
    "### Evaluation"
   ]
  },
  {
   "cell_type": "code",
   "execution_count": 32,
   "id": "2056dbd7-0431-4d91-ba05-c1887d74d7a4",
   "metadata": {
    "tags": []
   },
   "outputs": [],
   "source": [
    "def plot_confusion_matrix(y_true, y_pred, n_classes=5):\n",
    "    fig, (ax1, ax2) = plt.subplots(1, 2, figsize=(20, 8))\n",
    "\n",
    "    tick_positions = np.arange(n_classes)\n",
    "\n",
    "    cm = confusion_matrix(y_true, y_pred, labels=np.arange(n_classes))\n",
    "    cm = cm.astype('float') / cm.sum(axis=1)[:, np.newaxis]\n",
    "\n",
    "    sns.heatmap(cm, cmap='Blues', ax=ax1)\n",
    "\n",
    "    ax1.set_xticks(tick_positions + 0.5)\n",
    "    ax1.set_xticklabels(tick_positions)\n",
    "    ax1.set_title('Normalized Confusion Matrix')\n",
    "\n",
    "\n",
    "    freq3 = np.zeros((n_classes,n_classes))\n",
    "    for b, c in zip(y_true, y_pred):\n",
    "        freq3[b,c] += 1\n",
    "\n",
    "    sns.heatmap(freq3, cmap='rocket', ax=ax2, vmin=10, vmax=1000)\n",
    "\n",
    "    ax2.set_xticks(tick_positions + 0.5)\n",
    "    ax2.set_xticklabels(tick_positions)\n",
    "    ax2.set_title('Frequency Heatmap')\n",
    "\n",
    "    for dec_line in range(10,50,10):\n",
    "        ax1.axvline(dec_line, color='red')\n",
    "        ax1.axhline(dec_line, color='red')\n",
    "        ax2.axvline(dec_line, color='red')\n",
    "        ax2.axhline(dec_line, color='red')\n",
    "\n",
    "    plt.tight_layout()\n",
    "    plt.show()"
   ]
  },
  {
   "cell_type": "code",
   "execution_count": 14,
   "id": "4d33221e-908c-48bb-b85e-30fea3b555ff",
   "metadata": {
    "tags": []
   },
   "outputs": [],
   "source": [
    "from transformers import AutoModel, AutoTokenizer\n",
    "import torch\n",
    "import torch.nn as nn\n",
    "import torch.optim as optim\n",
    "\n",
    "device = torch.device(\"cuda\" if torch.cuda.is_available() else \"cpu\")\n",
    "\n",
    "tokenizer = AutoTokenizer.from_pretrained(\"allenai/longformer-base-4096\")\n",
    "model = AutoModel.from_pretrained(\"allenai/longformer-base-4096\")\n",
    "\n",
    "class CenturyClassifier(nn.Module):\n",
    "    def __init__(self, longformer, num_classes):\n",
    "        super(CenturyClassifier, self).__init__()\n",
    "        self.bert = longformer\n",
    "        self.dropout = nn.Dropout(0.1)\n",
    "        self.classifier = nn.Linear(longformer.config.hidden_size, num_classes)\n",
    "\n",
    "    def forward(self, input_ids, attention_mask, token_type_ids=None):\n",
    "        outputs = self.bert(input_ids, token_type_ids=token_type_ids, attention_mask=attention_mask)\n",
    "        pooled_output = outputs.pooler_output\n",
    "        pooled_output = self.dropout(pooled_output)\n",
    "        return self.classifier(pooled_output)"
   ]
  },
  {
   "cell_type": "code",
   "execution_count": 79,
   "id": "3af700f1-b445-4f8f-a5c9-d7df0103ae92",
   "metadata": {
    "tags": []
   },
   "outputs": [
    {
     "name": "stdout",
     "output_type": "stream",
     "text": [
      "Loaded\n"
     ]
    }
   ],
   "source": [
    "tokenizer = AutoTokenizer.from_pretrained(\"allenai/longformer-base-4096\")\n",
    "model = AutoModel.from_pretrained(\"allenai/longformer-base-4096\")\n",
    "\n",
    "model_century_classifier = CenturyClassifier(model, 5)\n",
    "model_century_classifier.load_state_dict(torch.load('models/task21/century_classifier_weights_3.pt'))\n",
    "model_century_classifier.to(device)\n",
    "model_century_classifier.eval()\n",
    "\n",
    "model_century_classifier_equal = CenturyClassifier(model, 5)\n",
    "model_century_classifier_equal.load_state_dict(torch.load('models/task21/century_classifier_weights_3_equal.pt'))\n",
    "model_century_classifier_equal.to(device)\n",
    "model_century_classifier_equal.eval()\n",
    "\n",
    "model_century_classifier_blacklist = CenturyClassifier(model, 5)\n",
    "model_century_classifier_blacklist.load_state_dict(torch.load('models/task21/century_classifier_weights_3_blacklist.pt'))\n",
    "model_century_classifier_blacklist.to(device)\n",
    "model_century_classifier_blacklist.eval()\n",
    "\n",
    "model_century_classifier_equal_blacklist = CenturyClassifier(model, 5)\n",
    "model_century_classifier_equal_blacklist.load_state_dict(torch.load('models/task21/century_classifier_weights_3_equal_blacklist.pt'))\n",
    "model_century_classifier_equal_blacklist.to(device)\n",
    "model_century_classifier_equal_blacklist.eval()\n",
    "print(\"Loaded\")"
   ]
  },
  {
   "cell_type": "code",
   "execution_count": 80,
   "id": "2d16711c-eab5-468d-aa46-4790a17fd863",
   "metadata": {
    "tags": []
   },
   "outputs": [
    {
     "name": "stdout",
     "output_type": "stream",
     "text": [
      "Loaded\n"
     ]
    }
   ],
   "source": [
    "model_century_classifier_full = CenturyClassifier(model, 5)\n",
    "model_century_classifier_full.load_state_dict(torch.load('models/task21/century_classifier_best_val.pt'))\n",
    "model_century_classifier_full.to(device)\n",
    "model_century_classifier_full.eval()\n",
    "print(\"Loaded\")"
   ]
  },
  {
   "cell_type": "code",
   "execution_count": 82,
   "id": "285f4ee7-ef4d-4c20-bd11-42e04f2af034",
   "metadata": {
    "tags": []
   },
   "outputs": [
    {
     "name": "stderr",
     "output_type": "stream",
     "text": [
      "100%|█████████████████████████████████████████████████████████████████████████████████████████████████████████████████████████████████████████████████████████████████████████████| 3416/3416 [31:49<00:00,  1.79it/s]\n"
     ]
    }
   ],
   "source": [
    "tv_probs = []\n",
    "tv_preds = []\n",
    "tv_true = []\n",
    "\n",
    "model_century_classifier_full.eval()\n",
    "\n",
    "with torch.no_grad():\n",
    "    for text, labels in tqdm(valid21_dataloader):\n",
    "        tokens = tokenizer(text, padding='max_length', truncation=True, return_tensors=\"pt\", max_length=512*3).to(device)\n",
    "        output = model_century_classifier_full(**tokens)\n",
    "        probabilities = torch.softmax(output, dim=1)\n",
    "        predictions = output.argmax(dim=1)\n",
    "        tv_probs.extend(probabilities.detach().cpu().numpy())\n",
    "        tv_preds.extend(predictions.detach().cpu().numpy())\n",
    "        tv_true.extend(labels.cpu().numpy())"
   ]
  },
  {
   "cell_type": "code",
   "execution_count": 86,
   "id": "51a55030-d67d-430f-bcfc-9b4c9479b7ef",
   "metadata": {
    "tags": []
   },
   "outputs": [
    {
     "data": {
      "text/plain": [
       "[1.222294442638934,\n",
       " 0.45898203592814374,\n",
       " 0.12904240028745959,\n",
       " 0.07386888273314866,\n",
       " 0.16849015317286653]"
      ]
     },
     "execution_count": 86,
     "metadata": {},
     "output_type": "execute_result"
    }
   ],
   "source": [
    "mean_avg_error(np.array(tv_true), np.array(tv_preds))\n",
    "compute_class_mae(tv_true, tv_preds)"
   ]
  },
  {
   "cell_type": "markdown",
   "id": "ef95b91a-a76c-433f-bef1-73610799549a",
   "metadata": {},
   "source": [
    "#### Standard"
   ]
  },
  {
   "cell_type": "code",
   "execution_count": 20,
   "id": "a18f7564-e81a-4aea-b889-08a03a3fcb61",
   "metadata": {
    "tags": []
   },
   "outputs": [],
   "source": [
    "## Run \n",
    "\n",
    "## CUDA_VISIBLE_DEVICES={ID} python3 eval_task21.py [--equal] [--blacklist]"
   ]
  },
  {
   "cell_type": "code",
   "execution_count": 51,
   "id": "a3603a44-13d7-46ad-af5e-3ea84d811d39",
   "metadata": {
    "tags": []
   },
   "outputs": [],
   "source": [
    "# Load results\n",
    "\n",
    "with open('results/task21/full/century_classifier_weights_3.pkl', 'rb') as f:\n",
    "    mcc = pickle.load(f)\n",
    "    \n",
    "with open('results/task21/full/century_classifier_weights_3_equal.pkl', 'rb') as f:\n",
    "    mcce = pickle.load(f)\n",
    "    \n",
    "with open('results/task21/full/century_classifier_weights_3_blacklist.pkl', 'rb') as f:\n",
    "    mccb = pickle.load(f)\n",
    "    \n",
    "with open('results/task21/full/century_classifier_weights_3_equal_blacklist.pkl', 'rb') as f:\n",
    "    mcceb = pickle.load(f)\n",
    "    \n",
    "    \n",
    "with open('results/task21/blacklist/century_classifier_weights_3.pkl', 'rb') as f:\n",
    "    bmcc = pickle.load(f)\n",
    "    \n",
    "with open('results/task21/blacklist/century_classifier_weights_3_equal.pkl', 'rb') as f:\n",
    "    bmcce = pickle.load(f)\n",
    "    \n",
    "with open('results/task21/blacklist/century_classifier_weights_3_blacklist.pkl', 'rb') as f:\n",
    "    bmccb = pickle.load(f)\n",
    "    \n",
    "with open('results/task21/blacklist/century_classifier_weights_3_equal_blacklist.pkl', 'rb') as f:\n",
    "    bmcceb = pickle.load(f)"
   ]
  },
  {
   "cell_type": "code",
   "execution_count": 85,
   "id": "8ceee7c2-88a4-430d-b947-2d437ca3b9f4",
   "metadata": {
    "tags": []
   },
   "outputs": [],
   "source": [
    "def compute_class_mae(y_true, y_pred, n_classes=5):\n",
    "    class_maes = []\n",
    "    for i in range(n_classes):\n",
    "        indices = [idx for idx, label in enumerate(y_true) if label == i]\n",
    "        if indices:\n",
    "            class_mae = mean_avg_error(np.array([y_true[idx] for idx in indices]), \n",
    "                                        np.array([y_pred[idx] for idx in indices]))\n",
    "            class_maes.append(class_mae)\n",
    "        else:\n",
    "            class_maes.append(float('nan'))\n",
    "    return class_maes\n",
    "\n",
    "def count_class_frequencies(y_true, n_classes=5):\n",
    "    frequencies = [0] * n_classes\n",
    "    for label in y_true:\n",
    "        frequencies[label] += 1\n",
    "    return frequencies"
   ]
  },
  {
   "cell_type": "code",
   "execution_count": 197,
   "id": "ef3a7c45-270b-455b-8a02-7ee4cf4c2cf9",
   "metadata": {
    "tags": []
   },
   "outputs": [
    {
     "name": "stdout",
     "output_type": "stream",
     "text": [
      "+-----------------+----------------+---------------+---------------+----------------+---------------+--------------+\n",
      "| Model           | Overall MAE    | Century 0     | Century 1     | Century 2      | Century 3     | Century 4    |\n",
      "+=================+================+===============+===============+================+===============+==============+\n",
      "| Base            | 0.1993 [54651] | 1.5580 [3077] | 0.7470 [3340] | 0.0712 [44528] | 0.0890 [3249] | 0.3129 [457] |\n",
      "+-----------------+----------------+---------------+---------------+----------------+---------------+--------------+\n",
      "| Equal           | 1.0868 [54651] | 1.1901 [3077] | 1.0114 [3340] | 1.1466 [44528] | 0.3598 [3249] | 0.2823 [457] |\n",
      "+-----------------+----------------+---------------+---------------+----------------+---------------+--------------+\n",
      "| Blacklist       | 0.1849 [54651] | 2.0101 [3077] | 0.9174 [3340] | 0.0086 [44528] | 0.0883 [3249] | 0.4026 [457] |\n",
      "+-----------------+----------------+---------------+---------------+----------------+---------------+--------------+\n",
      "| Equal-Blacklist | 1.1093 [54651] | 1.9916 [3077] | 1.8701 [3340] | 1.0152 [44528] | 0.7695 [3249] | 1.1904 [457] |\n",
      "+-----------------+----------------+---------------+---------------+----------------+---------------+--------------+\n"
     ]
    }
   ],
   "source": [
    "table_data = []\n",
    "\n",
    "# Base model\n",
    "overall_mae_base = mean_avg_error(np.array(mcc['true_labels']), np.array(mcc['predictions']))\n",
    "class_maes_base = compute_class_mae(mcc['true_labels'], mcc['predictions'])\n",
    "class_freqs_base = count_class_frequencies(mcc['true_labels'])\n",
    "base_row = [\"Base\", f\"{overall_mae_base:.4f} [{len(mcc['true_labels'])}]\"]\n",
    "for i, mae in enumerate(class_maes_base):\n",
    "    base_row.append(f\"{mae:.4f} [{class_freqs_base[i]}]\")\n",
    "table_data.append(base_row)\n",
    "\n",
    "# Equal model\n",
    "overall_mae_equal = mean_avg_error(np.array(mcce['true_labels']), np.array(mcce['predictions']))\n",
    "class_maes_equal = compute_class_mae(mcce['true_labels'], mcce['predictions'])\n",
    "class_freqs_equal = count_class_frequencies(mcce['true_labels'])\n",
    "equal_row = [\"Equal\", f\"{overall_mae_equal:.4f} [{len(mcce['true_labels'])}]\"]\n",
    "for i, mae in enumerate(class_maes_equal):\n",
    "    equal_row.append(f\"{mae:.4f} [{class_freqs_equal[i]}]\")\n",
    "table_data.append(equal_row)\n",
    "\n",
    "# Blacklist model\n",
    "overall_mae_blacklist = mean_avg_error(np.array(mccb['true_labels']), np.array(mccb['predictions']))\n",
    "class_maes_blacklist = compute_class_mae(mccb['true_labels'], mccb['predictions'])\n",
    "class_freqs_blacklist = count_class_frequencies(mccb['true_labels'])\n",
    "blacklist_row = [\"Blacklist\", f\"{overall_mae_blacklist:.4f} [{len(mccb['true_labels'])}]\"]\n",
    "for i, mae in enumerate(class_maes_blacklist):\n",
    "    blacklist_row.append(f\"{mae:.4f} [{class_freqs_blacklist[i]}]\")\n",
    "table_data.append(blacklist_row)\n",
    "\n",
    "# Equal-Blacklist model\n",
    "overall_mae_equal_blacklist = mean_avg_error(np.array(mcceb['true_labels']), np.array(mcceb['predictions']))\n",
    "class_maes_equal_blacklist = compute_class_mae(mcceb['true_labels'], mcceb['predictions'])\n",
    "class_freqs_equal_blacklist = count_class_frequencies(mcceb['true_labels'])\n",
    "equal_blacklist_row = [\"Equal-Blacklist\", f\"{overall_mae_equal_blacklist:.4f} [{len(mcceb['true_labels'])}]\"]\n",
    "for i, mae in enumerate(class_maes_equal_blacklist):\n",
    "    equal_blacklist_row.append(f\"{mae:.4f} [{class_freqs_equal_blacklist[i]}]\")\n",
    "table_data.append(equal_blacklist_row)\n",
    "\n",
    "print(tabulate(table_data,\n",
    "               [\"Model\", \"Overall MAE\", \"Century 0\", \"Century 1\", \"Century 2\", \"Century 3\", \"Century 4\"], \n",
    "               tablefmt=\"grid\"))"
   ]
  },
  {
   "cell_type": "code",
   "execution_count": 198,
   "id": "db099c96-3b6d-4eb8-9e51-401f6f694169",
   "metadata": {
    "tags": []
   },
   "outputs": [
    {
     "name": "stdout",
     "output_type": "stream",
     "text": [
      "+-----------------+----------------+-------------+--------------+----------------+---------------+--------------+\n",
      "| Model           | Overall MAE    | Century 0   | Century 1    | Century 2      | Century 3     | Century 4    |\n",
      "+=================+================+=============+==============+================+===============+==============+\n",
      "| Base            | 0.0764 [48400] | 0.0000 [11] | 0.2633 [471] | 0.0710 [44212] | 0.0890 [3249] | 0.3129 [457] |\n",
      "+-----------------+----------------+-------------+--------------+----------------+---------------+--------------+\n",
      "| Equal           | 1.0748 [48400] | 1.0000 [11] | 0.0807 [471] | 1.1461 [44212] | 0.3598 [3249] | 0.2823 [457] |\n",
      "+-----------------+----------------+-------------+--------------+----------------+---------------+--------------+\n",
      "| Blacklist       | 0.0170 [48400] | 0.0000 [11] | 0.0722 [471] | 0.0072 [44212] | 0.0883 [3249] | 0.4026 [457] |\n",
      "+-----------------+----------------+-------------+--------------+----------------+---------------+--------------+\n",
      "| Equal-Blacklist | 0.9968 [48400] | 0.5455 [11] | 0.8217 [471] | 1.0135 [44212] | 0.7695 [3249] | 1.1904 [457] |\n",
      "+-----------------+----------------+-------------+--------------+----------------+---------------+--------------+\n"
     ]
    }
   ],
   "source": [
    "table_data = []\n",
    "\n",
    "\n",
    "# Base model\n",
    "overall_mae_base = mean_avg_error(np.array(bmcc['true_labels']), np.array(bmcc['predictions']))\n",
    "class_maes_base = compute_class_mae(bmcc['true_labels'], bmcc['predictions'])\n",
    "class_freqs_base = count_class_frequencies(bmcc['true_labels'])\n",
    "base_row = [\"Base\", f\"{overall_mae_base:.4f} [{len(bmcc['true_labels'])}]\"]\n",
    "for i, mae in enumerate(class_maes_base):\n",
    "    base_row.append(f\"{mae:.4f} [{class_freqs_base[i]}]\")\n",
    "table_data.append(base_row)\n",
    "\n",
    "# Equal model\n",
    "overall_mae_equal = mean_avg_error(np.array(bmcce['true_labels']), np.array(bmcce['predictions']))\n",
    "class_maes_equal = compute_class_mae(bmcce['true_labels'], bmcce['predictions'])\n",
    "class_freqs_equal = count_class_frequencies(bmcce['true_labels'])\n",
    "equal_row = [\"Equal\", f\"{overall_mae_equal:.4f} [{len(bmcce['true_labels'])}]\"]\n",
    "for i, mae in enumerate(class_maes_equal):\n",
    "    equal_row.append(f\"{mae:.4f} [{class_freqs_equal[i]}]\")\n",
    "table_data.append(equal_row)\n",
    "\n",
    "# Blacklist model\n",
    "overall_mae_blacklist = mean_avg_error(np.array(bmccb['true_labels']), np.array(bmccb['predictions']))\n",
    "class_maes_blacklist = compute_class_mae(bmccb['true_labels'], bmccb['predictions'])\n",
    "class_freqs_blacklist = count_class_frequencies(bmccb['true_labels'])\n",
    "blacklist_row = [\"Blacklist\", f\"{overall_mae_blacklist:.4f} [{len(bmccb['true_labels'])}]\"]\n",
    "for i, mae in enumerate(class_maes_blacklist):\n",
    "    blacklist_row.append(f\"{mae:.4f} [{class_freqs_blacklist[i]}]\")\n",
    "table_data.append(blacklist_row)\n",
    "\n",
    "# Equal-Blacklist model\n",
    "overall_mae_equal_blacklist = mean_avg_error(np.array(bmcceb['true_labels']), np.array(bmcceb['predictions']))\n",
    "class_maes_equal_blacklist = compute_class_mae(bmcceb['true_labels'], bmcceb['predictions'])\n",
    "class_freqs_equal_blacklist = count_class_frequencies(bmcceb['true_labels'])\n",
    "equal_blacklist_row = [\"Equal-Blacklist\", f\"{overall_mae_equal_blacklist:.4f} [{len(bmcceb['true_labels'])}]\"]\n",
    "for i, mae in enumerate(class_maes_equal_blacklist):\n",
    "    equal_blacklist_row.append(f\"{mae:.4f} [{class_freqs_equal_blacklist[i]}]\")\n",
    "table_data.append(equal_blacklist_row)\n",
    "\n",
    "print(tabulate(table_data,\n",
    "               [\"Model\", \"Overall MAE\", \"Century 0\", \"Century 1\", \"Century 2\", \"Century 3\", \"Century 4\"], \n",
    "               tablefmt=\"grid\"))"
   ]
  },
  {
   "cell_type": "code",
   "execution_count": 199,
   "id": "7a16cc26-897d-49b8-be75-2ad94fb57351",
   "metadata": {
    "tags": []
   },
   "outputs": [
    {
     "data": {
      "image/png": "[encoded data removed]",
      "text/plain": [
       "<Figure size 2000x800 with 4 Axes>"
      ]
     },
     "metadata": {},
     "output_type": "display_data"
    }
   ],
   "source": [
    "plot_confusion_matrix(bmccb['true_labels'], bmccb['predictions'], n_classes=5)"
   ]
  },
  {
   "cell_type": "markdown",
   "id": "3cb3d819-9c2f-44c9-8922-3a5e6938d006",
   "metadata": {},
   "source": [
    "#### Conformal Prediction"
   ]
  },
  {
   "cell_type": "code",
   "execution_count": 68,
   "id": "3cdf304a-8a16-4d70-b5aa-5e8dc2933b8d",
   "metadata": {
    "tags": []
   },
   "outputs": [],
   "source": [
    "X_calib_21, X_test_21, y_calib_21, y_test_21 = train_test_split(\n",
    "    X_valid_21, y_valid_21, test_size=0.5, random_state=RANDOM_SEED\n",
    ")\n",
    "\n",
    "calib_21_dataset = TextDataset(X_calib_21, y_calib_21, valid_path)\n",
    "test_21_dataset = TextDataset(X_test_21, y_test_21, valid_path)\n",
    "calib_21_dataloader = DataLoader(calib_21_dataset, batch_size=16, shuffle=False)\n",
    "test_21_dataloader = DataLoader(test_21_dataset, batch_size=16, shuffle=False)"
   ]
  },
  {
   "cell_type": "code",
   "execution_count": 240,
   "id": "330d5e36-b29e-4778-b8a5-98cd331f02dd",
   "metadata": {},
   "outputs": [
    {
     "name": "stderr",
     "output_type": "stream",
     "text": [
      "100%|█████████████████████████████████████████████████████████████████████████████████████████████████████████████████████████████████████████████████████████████████████████████| 1708/1708 [20:27<00:00,  1.39it/s]\n"
     ]
    }
   ],
   "source": [
    "# Calibration\n",
    "calib_21_probs = []\n",
    "calib_21_preds = []\n",
    "calib_21_true = []\n",
    "\n",
    "model_century_classifier.eval()\n",
    "\n",
    "with torch.no_grad():\n",
    "    for text, labels in tqdm(calib_21_dataloader):\n",
    "        tokens = tokenizer(text, padding='max_length', truncation=True, return_tensors=\"pt\", max_length=512).to(device)\n",
    "        output = model_century_classifier(**tokens)\n",
    "        probabilities = torch.softmax(output, dim=1)\n",
    "        predictions = output.argmax(dim=1)\n",
    "        calib_21_probs.extend(probabilities.detach().cpu().numpy())\n",
    "        calib_21_preds.extend(predictions.detach().cpu().numpy())\n",
    "        calib_21_true.extend(labels.cpu().numpy())"
   ]
  },
  {
   "cell_type": "code",
   "execution_count": 242,
   "id": "479f3278-70a6-49fd-b0e6-697036a3356f",
   "metadata": {},
   "outputs": [],
   "source": [
    "# Group calibration data by true class\n",
    "class_nonconformity_21_old = {class_idx: [] for class_idx in range(5)}\n",
    "\n",
    "# Compute class-specific nonconformity scores\n",
    "for i, (prob, true_label) in enumerate(zip(calib_21_probs, calib_21_true)):\n",
    "    nonconformity = 1 - prob[true_label]\n",
    "    class_nonconformity_21_old[true_label].append(nonconformity)\n",
    "\n",
    "# Calculate threshold for each class\n",
    "class_thresholds_21_old = {}\n",
    "confidence_level = 0.90\n",
    "alpha = 1 - confidence_level\n",
    "\n",
    "n_samples = len(calib_21_true)\n",
    "for class_idx, scores in class_nonconformity_21_old.items():\n",
    "    q = np.ceil((n_samples + 1) * (1 - alpha)) / n_samples # corrected formula\n",
    "    class_thresholds_21_old[class_idx] = np.quantile(scores, q)   "
   ]
  },
  {
   "cell_type": "code",
   "execution_count": 241,
   "id": "d10fe07a-a3e0-4733-a6ac-08637921f0ab",
   "metadata": {
    "tags": []
   },
   "outputs": [],
   "source": [
    "## New\n",
    "\n",
    "# Group calibration data by true class\n",
    "class_nonconformity_21 = {class_idx: [] for class_idx in range(5)}\n",
    "\n",
    "# Compute class-specific nonconformity scores\n",
    "for i, (prob, true_label) in enumerate(zip(calib_21_probs, calib_21_true)):\n",
    "    nonconformity = 1 - prob[true_label]\n",
    "    class_nonconformity_21[true_label].append(nonconformity)\n",
    "\n",
    "# Calculate threshold for each class\n",
    "class_thresholds_21 = {}\n",
    "confidence_level = 0.90\n",
    "alpha = 1 - confidence_level\n",
    "    \n",
    "for class_idx, scores in class_nonconformity_21.items():\n",
    "    n_class_samples = len(scores)  # Use class-specific count\n",
    "    q = np.ceil((n_class_samples + 1) * (1 - alpha)) / n_class_samples\n",
    "    class_thresholds_21[class_idx] = np.quantile(scores, q)"
   ]
  },
  {
   "cell_type": "code",
   "execution_count": 250,
   "id": "206fcb56-39a8-4547-837d-f62e54e2fbe5",
   "metadata": {
    "tags": []
   },
   "outputs": [
    {
     "data": {
      "text/plain": [
       "CenturyClassifier(\n",
       "  (bert): LongformerModel(\n",
       "    (embeddings): LongformerEmbeddings(\n",
       "      (word_embeddings): Embedding(50265, 768, padding_idx=1)\n",
       "      (token_type_embeddings): Embedding(1, 768)\n",
       "      (LayerNorm): LayerNorm((768,), eps=1e-05, elementwise_affine=True)\n",
       "      (dropout): Dropout(p=0.1, inplace=False)\n",
       "      (position_embeddings): Embedding(4098, 768, padding_idx=1)\n",
       "    )\n",
       "    (encoder): LongformerEncoder(\n",
       "      (layer): ModuleList(\n",
       "        (0-11): 12 x LongformerLayer(\n",
       "          (attention): LongformerAttention(\n",
       "            (self): LongformerSelfAttention(\n",
       "              (query): Linear(in_features=768, out_features=768, bias=True)\n",
       "              (key): Linear(in_features=768, out_features=768, bias=True)\n",
       "              (value): Linear(in_features=768, out_features=768, bias=True)\n",
       "              (query_global): Linear(in_features=768, out_features=768, bias=True)\n",
       "              (key_global): Linear(in_features=768, out_features=768, bias=True)\n",
       "              (value_global): Linear(in_features=768, out_features=768, bias=True)\n",
       "            )\n",
       "            (output): LongformerSelfOutput(\n",
       "              (dense): Linear(in_features=768, out_features=768, bias=True)\n",
       "              (LayerNorm): LayerNorm((768,), eps=1e-05, elementwise_affine=True)\n",
       "              (dropout): Dropout(p=0.1, inplace=False)\n",
       "            )\n",
       "          )\n",
       "          (intermediate): LongformerIntermediate(\n",
       "            (dense): Linear(in_features=768, out_features=3072, bias=True)\n",
       "            (intermediate_act_fn): GELUActivation()\n",
       "          )\n",
       "          (output): LongformerOutput(\n",
       "            (dense): Linear(in_features=3072, out_features=768, bias=True)\n",
       "            (LayerNorm): LayerNorm((768,), eps=1e-05, elementwise_affine=True)\n",
       "            (dropout): Dropout(p=0.1, inplace=False)\n",
       "          )\n",
       "        )\n",
       "      )\n",
       "    )\n",
       "    (pooler): LongformerPooler(\n",
       "      (dense): Linear(in_features=768, out_features=768, bias=True)\n",
       "      (activation): Tanh()\n",
       "    )\n",
       "  )\n",
       "  (dropout): Dropout(p=0.1, inplace=False)\n",
       "  (classifier): Linear(in_features=768, out_features=5, bias=True)\n",
       ")"
      ]
     },
     "execution_count": 250,
     "metadata": {},
     "output_type": "execute_result"
    }
   ],
   "source": [
    "model_century_classifier"
   ]
  },
  {
   "cell_type": "code",
   "execution_count": 243,
   "id": "0d9dda65-eced-4a42-9399-5d711bbeff97",
   "metadata": {
    "tags": []
   },
   "outputs": [
    {
     "name": "stderr",
     "output_type": "stream",
     "text": [
      "100%|█████████████████████████████████████████████████████████████████████████████████████████████████████████████████████████████████████████████████████████████████████████████| 1708/1708 [20:31<00:00,  1.39it/s]\n"
     ]
    }
   ],
   "source": [
    "# New\n",
    "test_preds_21 = []\n",
    "test_intervals_21 = []\n",
    "test_true_21 = []\n",
    "test_probs_21 = []\n",
    "\n",
    "with torch.no_grad():\n",
    "    for text, labels in tqdm(test_21_dataloader):\n",
    "        tokens = tokenizer(text, padding='max_length', truncation=True, return_tensors=\"pt\", max_length=512).to(device)\n",
    "        output = model_century_classifier(**tokens)\n",
    "        probabilities = torch.softmax(output, dim=1)\n",
    "        predictions = output.argmax(dim=1)      \n",
    "        for i, prob in enumerate(probabilities): # Iterate on the batch\n",
    "            pred = predictions[i].item()\n",
    "            true_label = labels[i].item()          \n",
    "            # Create prediction set using class-specific thresholds\n",
    "            prediction_set = []\n",
    "            for label in range(5):\n",
    "                # For each potential label, check if its nonconformity score is below the threshold\n",
    "                nonconformity = 1 - prob[label].item()\n",
    "                if nonconformity <= class_thresholds_21[label]:\n",
    "                    prediction_set.append(label)\n",
    "                    \n",
    "            test_preds_21.append(pred)\n",
    "            test_intervals_21.append(prediction_set)\n",
    "            test_true_21.append(true_label)\n",
    "            test_probs_21.append(prob.detach().cpu().numpy())"
   ]
  },
  {
   "cell_type": "code",
   "execution_count": 249,
   "id": "8494633e-7e17-411e-8e2b-c5eb15c4220c",
   "metadata": {
    "tags": []
   },
   "outputs": [
    {
     "name": "stdout",
     "output_type": "stream",
     "text": [
      "argmax (MAE): 1.7800263485325332\n",
      "argmax restricted to prediction set (MAE): 1.6900387908951182\n",
      "max margin (MAE): 1.1983458976798653\n",
      "max relative margin (MAE): 1.1521261801946865\n",
      "------------------------------------------------------------------------------------------------------------------------------------\n",
      "Average prediction set size: 3.80\n",
      "Empirical coverage: 0.8986 (target: 0.9000)\n"
     ]
    }
   ],
   "source": [
    "test_preds_argmax_21 = []       # Traditional argmax (most probable class)\n",
    "test_preds_argmax_int_21 = []   # Argmax restricted to the prediction set\n",
    "test_preds_margin_21 = []       # Max margin from threshold in prediction set\n",
    "test_preds_rel_margin_21 = []   # Max relative margin from threshold in prediction set\n",
    "test_true_var_21 = []\n",
    "\n",
    "for idx, tidx in enumerate(X_test_21):\n",
    "    tidx = int(tidx.replace('valid_text', '').replace('.txt', ''))\n",
    "    \n",
    "    # if tidx in blacklist_valid:\n",
    "    #    continue\n",
    "    intervals = test_intervals_21[idx]  # Classes in the prediction set\n",
    "    true_label = test_true_21[idx]\n",
    "    probs = test_probs_21[idx]\n",
    "    \n",
    "    # Standard argmax prediction (baseline)\n",
    "    argmax_pred = np.argmax(probs)\n",
    "    test_preds_argmax_21.append(argmax_pred)\n",
    "    \n",
    "    # If prediction set is empty use argmax\n",
    "    if len(intervals) == 0:\n",
    "        test_preds_argmax_int_21.append(argmax_pred)\n",
    "        test_preds_margin_21.append(argmax_pred)\n",
    "        test_preds_rel_margin_21.append(argmax_pred)\n",
    "        test_true_var_21.append(true_label)\n",
    "        continue\n",
    "    \n",
    "    # Argmax restricted to prediction set\n",
    "    interval_probs = {label: probs[label] for label in intervals}\n",
    "    argmax_int_pred = max(interval_probs, key=interval_probs.get)\n",
    "    test_preds_argmax_int_21.append(argmax_int_pred)\n",
    "    \n",
    "    # Maximum margin from threshold\n",
    "    margins = {}\n",
    "    rel_margins = {}\n",
    "    for label in intervals:\n",
    "        nonconformity = 1 - probs[label]\n",
    "        margin = class_thresholds_21[label] - nonconformity  # How far below threshold\n",
    "        margins[label] = margin\n",
    "        # Relative margin (normalized by threshold)\n",
    "        rel_margin = margin / class_thresholds_21[label] if class_thresholds_21[label] > 0 else 0\n",
    "        rel_margins[label] = rel_margin\n",
    "    \n",
    "    margin_pred = max(margins, key=margins.get)\n",
    "    rel_margin_pred = max(rel_margins, key=rel_margins.get)\n",
    "    \n",
    "    test_preds_margin_21.append(margin_pred)\n",
    "    test_preds_rel_margin_21.append(rel_margin_pred)\n",
    "    test_true_var_21.append(true_label)\n",
    "\n",
    "print(f\"argmax (MAE): {mean_avg_error(np.array(test_true_var_21), np.array(test_preds_argmax_21))}\")\n",
    "print(f\"argmax restricted to prediction set (MAE): {mean_avg_error(np.array(test_true_var_21), np.array(test_preds_argmax_int_21))}\")\n",
    "print(f\"max margin (MAE): {mean_avg_error(np.array(test_true_var_21), np.array(test_preds_margin_21))}\")\n",
    "print(f\"max relative margin (MAE): {mean_avg_error(np.array(test_true_var_21), np.array(test_preds_rel_margin_21))}\")\n",
    "\n",
    "# Calculate prediction set size statistics\n",
    "set_sizes = [len(intervals) for intervals in test_intervals_21]\n",
    "avg_set_size = np.mean(set_sizes)\n",
    "coverage = np.mean([true_label in intervals for true_label, intervals in zip(test_true_21, test_intervals_21)])\n",
    "\n",
    "print(\"----\"*33)\n",
    "print(f\"Average prediction set size: {avg_set_size:.2f}\")\n",
    "print(f\"Empirical coverage: {coverage:.4f} (target: {confidence_level:.4f})\")"
   ]
  },
  {
   "cell_type": "code",
   "execution_count": 218,
   "id": "cc2f68cb-d687-430b-a564-9e12d01e70a1",
   "metadata": {},
   "outputs": [
    {
     "name": "stderr",
     "output_type": "stream",
     "text": [
      "100%|█████████████████████████████████████████████████████████████████████████████████████████████████████████████████████████████████████████████████████████████████████████████| 1708/1708 [20:28<00:00,  1.39it/s]\n"
     ]
    }
   ],
   "source": [
    "test_preds_21_old = []\n",
    "test_intervals_21_old = []\n",
    "test_true_21_old = []\n",
    "test_probs_21_old = []\n",
    "\n",
    "with torch.no_grad():\n",
    "    for text, labels in tqdm(test_21_dataloader):\n",
    "        tokens = tokenizer(text, padding='max_length', truncation=True, return_tensors=\"pt\", max_length=512).to(device)\n",
    "        output = model_century_classifier(**tokens)\n",
    "        probabilities = torch.softmax(output, dim=1)\n",
    "        predictions = output.argmax(dim=1)      \n",
    "        for i, prob in enumerate(probabilities): # Iterate on the batch\n",
    "            pred = predictions[i].item()\n",
    "            true_label = labels[i].item()          \n",
    "            # Create prediction set using class-specific thresholds\n",
    "            prediction_set = []\n",
    "            for label in range(5):\n",
    "                # Use threshold specific to the candidate class\n",
    "                if 1 - prob[label].item() <= class_thresholds_21_old[label]:\n",
    "                    prediction_set.append(label)  \n",
    "                    \n",
    "            test_preds_21_old.append(pred)\n",
    "            test_intervals_21_old.append(prediction_set)\n",
    "            test_true_21_old.append(true_label)\n",
    "            test_probs_21_old.append(prob.detach().cpu().numpy())"
   ]
  },
  {
   "cell_type": "code",
   "execution_count": 222,
   "id": "92242db4-13b6-4a71-a059-5480386d324b",
   "metadata": {
    "tags": []
   },
   "outputs": [
    {
     "name": "stdout",
     "output_type": "stream",
     "text": [
      "argmax (MAE): 1.6773768572055918\n",
      "argmax int (MAE): 1.6777794042304033\n",
      "variance (MAE): 1.480750933177194\n",
      "variance rel (MAE): 1.5050135402181073\n",
      "------------------------------------------------------------------------------------------------------------------------------------\n",
      "Average prediction set size: 2.95\n",
      "Empirical coverage: 0.1531 (target: 0.9000)\n"
     ]
    }
   ],
   "source": [
    "test_preds_argmax_21_old = []\n",
    "test_preds_argmax_int_21_old = []\n",
    "test_preds_var_21_old = []\n",
    "test_preds_var_rel_21_old = []\n",
    "\n",
    "\n",
    "test_true_var_21_old = []\n",
    "thslds_21_old = [ 1 - x for x in class_thresholds_21_old.values()]\n",
    "\n",
    "#for idx in range(len(test_probs_21)):\n",
    "for idx, tidx in enumerate(X_test_21):\n",
    "    \n",
    "    tidx = int(tidx.replace('valid_text', '').replace('.txt', ''))\n",
    "    # if tidx in blacklist_valid:\n",
    "    #    continue\n",
    "    \n",
    "    intervals = test_intervals_21_old[idx]\n",
    "    #if len(intervals) != 1:\n",
    "    #    continue\n",
    "    true_label = test_true_21_old[idx]\n",
    "    probs = test_probs_21_old[idx]\n",
    "    \n",
    "    exeeding_argmax = np.zeros(5)\n",
    "    exeeding_idx = np.zeros(5)\n",
    "    exeeding_rel_idx = np.zeros(5)\n",
    "    \n",
    "    for interval in intervals:\n",
    "        if probs[interval] > thslds_21_old[interval]:\n",
    "            \n",
    "            exeeding_argmax[interval] = probs[interval]\n",
    "            \n",
    "            exeeding_idx[interval] = abs(probs[interval]-thslds_21_old[interval])\n",
    "            \n",
    "            exeeding_rel_idx[interval] = abs(probs[interval]-thslds_21_old[interval]) / (1-thslds_21_old[interval]) #thslds_21[interval] #probs[interval]\n",
    "            \n",
    "    test_preds_argmax_21_old.append(np.argmax(probs))\n",
    "    test_preds_argmax_int_21_old.append(np.argmax(exeeding_argmax))\n",
    "    test_preds_var_21_old.append(np.argmax(exeeding_idx))\n",
    "    test_preds_var_rel_21_old.append(np.argmax(exeeding_rel_idx))\n",
    "    \n",
    "    test_true_var_21_old.append(true_label)\n",
    "    \n",
    "print(f\"argmax (MAE): {mean_avg_error(np.array(test_true_var_21_old), np.array(test_preds_argmax_21_old))}\")\n",
    "print(f\"argmax int (MAE): {mean_avg_error(np.array(test_true_var_21_old), np.array(test_preds_argmax_int_21_old))}\")\n",
    "print(f\"variance (MAE): {mean_avg_error(np.array(test_true_var_21_old), np.array(test_preds_var_21_old))}\")\n",
    "print(f\"variance rel (MAE): {mean_avg_error(np.array(test_true_var_21_old), np.array(test_preds_var_rel_21_old))}\")\n",
    "\n",
    "# Calculate prediction set size statistics\n",
    "set_sizes = [len(intervals) for intervals in test_intervals_21_old]\n",
    "avg_set_size = np.mean(set_sizes)\n",
    "coverage = np.mean([true_label in intervals for true_label, intervals in zip(test_true_21, test_intervals_21_old)])\n",
    "\n",
    "print(\"----\"*33)\n",
    "print(f\"Average prediction set size: {avg_set_size:.2f}\")\n",
    "print(f\"Empirical coverage: {coverage:.4f} (target: {confidence_level:.4f})\")"
   ]
  },
  {
   "cell_type": "code",
   "execution_count": 245,
   "id": "2433f149-85dd-49a6-8123-bf1f3cef81f1",
   "metadata": {
    "tags": []
   },
   "outputs": [
    {
     "name": "stdout",
     "output_type": "stream",
     "text": [
      "+-----------------+----------------+---------------+---------------+----------------+---------------+--------------+\n",
      "| Mode            | Overall MAE    | Century 0     | Century 1     | Century 2      | Century 3     | Century 4    |\n",
      "+=================+================+===============+===============+================+===============+==============+\n",
      "| argmax          | 1.7800 [27326] | 0.1340 [1508] | 0.8166 [1696] | 1.8612 [22243] | 2.9122 [1652] | 3.7225 [227] |\n",
      "+-----------------+----------------+---------------+---------------+----------------+---------------+--------------+\n",
      "| argmax interval | 1.6900 [27326] | 0.1492 [1508] | 0.8107 [1696] | 1.8538 [22243] | 1.6120 [1652] | 3.0220 [227] |\n",
      "+-----------------+----------------+---------------+---------------+----------------+---------------+--------------+\n",
      "| var             | 1.4726 [27326] | 0.5955 [1508] | 0.7936 [1696] | 1.5093 [22243] | 2.2639 [1652] | 3.0176 [227] |\n",
      "+-----------------+----------------+---------------+---------------+----------------+---------------+--------------+\n",
      "| var rel         | 1.4943 [27326] | 0.5458 [1508] | 0.7795 [1696] | 1.5379 [22243] | 2.2954 [1652] | 3.0352 [227] |\n",
      "+-----------------+----------------+---------------+---------------+----------------+---------------+--------------+\n"
     ]
    }
   ],
   "source": [
    "table_data = []\n",
    "\n",
    "\n",
    "# Argmax model\n",
    "overall_mae_base = mean_avg_error(np.array(test_true_var_21), np.array(test_preds_argmax_21))\n",
    "class_maes_base = compute_class_mae(test_true_var_21, test_preds_argmax_21)\n",
    "class_freqs_base = count_class_frequencies(test_true_var_21)\n",
    "argmax_row = [\"argmax\", f\"{overall_mae_base:.4f} [{len(test_true_var_21)}]\"]\n",
    "for i, mae in enumerate(class_maes_base):\n",
    "    argmax_row.append(f\"{mae:.4f} [{class_freqs_base[i]}]\")\n",
    "table_data.append(argmax_row)\n",
    "\n",
    "# Argmax int model\n",
    "overall_mae_base = mean_avg_error(np.array(test_true_var_21), np.array(test_preds_argmax_int_21))\n",
    "class_maes_base = compute_class_mae(test_true_var_21, test_preds_argmax_int_21)\n",
    "class_freqs_base = count_class_frequencies(test_true_var_21)\n",
    "argmax_int_row = [\"argmax interval\", f\"{overall_mae_base:.4f} [{len(test_true_var_21)}]\"]\n",
    "for i, mae in enumerate(class_maes_base):\n",
    "    argmax_int_row.append(f\"{mae:.4f} [{class_freqs_base[i]}]\")\n",
    "table_data.append(argmax_int_row)\n",
    "\n",
    "# Variance model\n",
    "overall_mae_base = mean_avg_error(np.array(test_true_var_21), np.array(test_preds_var_21))\n",
    "class_maes_base = compute_class_mae(test_true_var_21, test_preds_var_21)\n",
    "class_freqs_base = count_class_frequencies(test_true_var_21)\n",
    "var_row = [\"var\", f\"{overall_mae_base:.4f} [{len(test_true_var_21)}]\"]\n",
    "for i, mae in enumerate(class_maes_base):\n",
    "    var_row.append(f\"{mae:.4f} [{class_freqs_base[i]}]\")\n",
    "table_data.append(var_row)\n",
    "\n",
    "# Var rel model\n",
    "overall_mae_base = mean_avg_error(np.array(test_true_var_21), np.array(test_preds_var_rel_21))\n",
    "class_maes_base = compute_class_mae(test_true_var_21, test_preds_var_rel_21)\n",
    "class_freqs_base = count_class_frequencies(test_true_var_21)\n",
    "var_rel_row = [\"var rel\", f\"{overall_mae_base:.4f} [{len(test_true_var_21)}]\"]\n",
    "for i, mae in enumerate(class_maes_base):\n",
    "    var_rel_row.append(f\"{mae:.4f} [{class_freqs_base[i]}]\")\n",
    "table_data.append(var_rel_row)\n",
    "\n",
    "print(tabulate(table_data,\n",
    "               [\"Mode\", \"Overall MAE\", \"Century 0\", \"Century 1\", \"Century 2\", \"Century 3\", \"Century 4\"], \n",
    "               tablefmt=\"grid\"))"
   ]
  },
  {
   "cell_type": "code",
   "execution_count": 247,
   "id": "e0aac866-9ed7-4896-9987-55122fe604c5",
   "metadata": {},
   "outputs": [
    {
     "name": "stdout",
     "output_type": "stream",
     "text": [
      "[0] Pred: 0 - True 2\n",
      "[0, 1, 2, 4]\n",
      "Var: 0\n",
      "Var rel: 0\n"
     ]
    },
    {
     "data": {
      "image/png": "[encoded data removed]",
      "text/plain": [
       "<Figure size 640x480 with 1 Axes>"
      ]
     },
     "metadata": {},
     "output_type": "display_data"
    },
    {
     "name": "stdout",
     "output_type": "stream",
     "text": [
      "[1] Pred: 1 - True 2\n",
      "[1, 2, 4]\n",
      "Var: 0\n",
      "Var rel: 0\n"
     ]
    },
    {
     "data": {
      "image/png": "[encoded data removed]",
      "text/plain": [
       "<Figure size 640x480 with 1 Axes>"
      ]
     },
     "metadata": {},
     "output_type": "display_data"
    },
    {
     "name": "stdout",
     "output_type": "stream",
     "text": [
      "[2] Pred: 0 - True 2\n",
      "[0, 1, 2, 4]\n",
      "Var: 1\n",
      "Var rel: 1\n"
     ]
    },
    {
     "data": {
      "image/png": "[encoded data removed]",
      "text/plain": [
       "<Figure size 640x480 with 1 Axes>"
      ]
     },
     "metadata": {},
     "output_type": "display_data"
    },
    {
     "name": "stdout",
     "output_type": "stream",
     "text": [
      "[3] Pred: 0 - True 2\n",
      "[0, 1, 2, 4]\n",
      "Var: 0\n",
      "Var rel: 0\n"
     ]
    },
    {
     "data": {
      "image/png": "[encoded data removed]",
      "text/plain": [
       "<Figure size 640x480 with 1 Axes>"
      ]
     },
     "metadata": {},
     "output_type": "display_data"
    },
    {
     "name": "stdout",
     "output_type": "stream",
     "text": [
      "[4] Pred: 0 - True 2\n",
      "[0, 1, 2, 4]\n",
      "Var: 0\n",
      "Var rel: 0\n"
     ]
    },
    {
     "data": {
      "image/png": "[encoded data removed]",
      "text/plain": [
       "<Figure size 640x480 with 1 Axes>"
      ]
     },
     "metadata": {},
     "output_type": "display_data"
    },
    {
     "name": "stdout",
     "output_type": "stream",
     "text": [
      "[5] Pred: 0 - True 2\n",
      "[0, 1, 2, 4]\n",
      "Var: 1\n",
      "Var rel: 1\n"
     ]
    },
    {
     "data": {
      "image/png": "[encoded data removed]",
      "text/plain": [
       "<Figure size 640x480 with 1 Axes>"
      ]
     },
     "metadata": {},
     "output_type": "display_data"
    },
    {
     "name": "stdout",
     "output_type": "stream",
     "text": [
      "[6] Pred: 0 - True 2\n",
      "[0, 1, 2, 4]\n",
      "Var: 1\n",
      "Var rel: 1\n"
     ]
    },
    {
     "data": {
      "image/png": "[encoded data removed]",
      "text/plain": [
       "<Figure size 640x480 with 1 Axes>"
      ]
     },
     "metadata": {},
     "output_type": "display_data"
    },
    {
     "name": "stdout",
     "output_type": "stream",
     "text": [
      "[7] Pred: 0 - True 2\n",
      "[0, 1, 2, 4]\n",
      "Var: 0\n",
      "Var rel: 0\n"
     ]
    },
    {
     "data": {
      "image/png": "[encoded data removed]",
      "text/plain": [
       "<Figure size 640x480 with 1 Axes>"
      ]
     },
     "metadata": {},
     "output_type": "display_data"
    },
    {
     "name": "stdout",
     "output_type": "stream",
     "text": [
      "[8] Pred: 0 - True 2\n",
      "[0, 1, 2, 4]\n",
      "Var: 0\n",
      "Var rel: 0\n"
     ]
    },
    {
     "data": {
      "image/png": "[encoded data removed]",
      "text/plain": [
       "<Figure size 640x480 with 1 Axes>"
      ]
     },
     "metadata": {},
     "output_type": "display_data"
    },
    {
     "name": "stdout",
     "output_type": "stream",
     "text": [
      "[9] Pred: 0 - True 2\n",
      "[0, 1, 2, 4]\n",
      "Var: 1\n",
      "Var rel: 1\n"
     ]
    },
    {
     "data": {
      "image/png": "[encoded data removed]",
      "text/plain": [
       "<Figure size 640x480 with 1 Axes>"
      ]
     },
     "metadata": {},
     "output_type": "display_data"
    }
   ],
   "source": [
    "limit = 10\n",
    "for idx in range(len(test_probs_21)):\n",
    "    ex_prob = test_probs_21[idx]\n",
    "    #if np.argmax(ex_prob) == test_true_21[idx]:\n",
    "    #    continue\n",
    "        \n",
    "    # if abs(np.argmax(ex_prob) - test_true_21[idx]) < 2:\n",
    "    #    continue\n",
    "    tidx = X_test_21[idx]\n",
    "    tidx = int(tidx.replace('valid_text', '').replace('.txt', ''))\n",
    "    if tidx in blacklist_valid:\n",
    "        print('ok')\n",
    "        continue\n",
    "    \n",
    "    print(f\"[{idx}] Pred: {test_preds_argmax_int_21[idx]} - True {test_true_21[idx]}\")\n",
    "    print(test_intervals_21[idx])\n",
    "    print(f\"Var: {test_preds_var_21[idx]}\")\n",
    "    print(f\"Var rel: {test_preds_var_rel_21[idx]}\")\n",
    "    oks = [ x if 1 - x <= y else 0  for x, y in zip(ex_prob, class_thresholds_21.values()) ]\n",
    "    not_oks = [ x if 1 - x > y else 0  for x, y in zip(ex_prob, class_thresholds_21.values()) ]\n",
    "\n",
    "    plt.bar(class_thresholds_21.keys(), [ 1 - x for x in class_thresholds_21.values()], color='grey', alpha=0.3, label='threshold')\n",
    "    #plt.bar(range(43), ex_prob, alpha=0.3)\n",
    "    plt.bar(range(5), oks, alpha=0.3, color='green', label='over')\n",
    "    plt.bar(range(5), not_oks, alpha=0.3, color='red', label='under')\n",
    "    \n",
    "    gt = np.zeros(5)\n",
    "    gt[test_true_21[idx]] = 1\n",
    "    plt.bar(range(5), gt, alpha=0.2, edgecolor='black', label='truth value')\n",
    "    plt.ylim(0,1)\n",
    "    plt.legend()\n",
    "    plt.show()\n",
    "    \n",
    "    limit -= 1\n",
    "    if limit == 0:\n",
    "        break"
   ]
  },
  {
   "cell_type": "markdown",
   "id": "e692eaff-927b-4ec0-a51c-cf4e13094aee",
   "metadata": {},
   "source": [
    "## Decade"
   ]
  },
  {
   "cell_type": "code",
   "execution_count": 131,
   "id": "8329f13e-3862-4fcd-9180-cda8b2790ef1",
   "metadata": {
    "tags": []
   },
   "outputs": [],
   "source": [
    "class DecadeClassifier(nn.Module):\n",
    "    def __init__(self, century_model, num_decades=10):\n",
    "        super(DecadeClassifier, self).__init__()\n",
    "       \n",
    "        self.bert = century_model.bert\n",
    "        \n",
    "        for param in self.bert.parameters():\n",
    "            param.requires_grad = False\n",
    "            \n",
    "        self.dropout = nn.Dropout(0.1)\n",
    "        \n",
    "        self.classifier = nn.Linear(self.bert.config.hidden_size, num_decades)\n",
    "        self.century_to_decade = nn.Linear(5, num_decades)\n",
    "        \n",
    "    def forward(self, input_ids, attention_mask, century_logits=None, token_type_ids=None):\n",
    "        \n",
    "        outputs = self.bert(input_ids, token_type_ids=token_type_ids, attention_mask=attention_mask)\n",
    "        pooled_output = outputs.pooler_output\n",
    "        pooled_output = self.dropout(pooled_output)\n",
    "        \n",
    "        \n",
    "        decade_logits = self.classifier(pooled_output)\n",
    "        \n",
    "        if century_logits is not None:\n",
    "            century_contribution = self.century_to_decade(century_logits)\n",
    "            decade_logits = decade_logits + century_contribution\n",
    "            \n",
    "        return decade_logits"
   ]
  },
  {
   "cell_type": "markdown",
   "id": "a4a7fa88-e69e-4245-abe7-cc438851a32b",
   "metadata": {},
   "source": [
    "### Evaluation"
   ]
  },
  {
   "cell_type": "code",
   "execution_count": 137,
   "id": "93ead00d-2171-4610-89f3-afde41c9298d",
   "metadata": {
    "tags": []
   },
   "outputs": [
    {
     "name": "stdout",
     "output_type": "stream",
     "text": [
      "Model loaded!\n"
     ]
    }
   ],
   "source": [
    "# Base model\n",
    "\n",
    "model_century_classifier = CenturyClassifier(model, 5)\n",
    "model_century_classifier.load_state_dict(torch.load('models/task21/century_classifier_weights_3.pt'))\n",
    "model_century_classifier.to(device)\n",
    "\n",
    "model_decade_classifier = DecadeClassifier(model_century_classifier)\n",
    "model_decade_classifier.load_state_dict(torch.load('models/task22/decade_classifier_weights_3_frozen.pt'))\n",
    "model_decade_classifier.to(device)\n",
    "\n",
    "model_century_classifier_blk = CenturyClassifier(model, 5)\n",
    "model_century_classifier_blk.load_state_dict(torch.load('models/task21/century_classifier_weights_3_blacklist.pt'))\n",
    "model_century_classifier_blk.to(device)\n",
    "\n",
    "model_decade_classifier_blk = DecadeClassifier(model_century_classifier_blk)\n",
    "model_decade_classifier_blk.load_state_dict(torch.load('models/task22/decade_classifier_weights_3_blacklist_frozen.pt'))\n",
    "model_decade_classifier_blk.to(device)\n",
    "\n",
    "print('Model loaded!')"
   ]
  },
  {
   "cell_type": "markdown",
   "id": "18160ba8-2c47-41d7-b3fc-573eedf15197",
   "metadata": {},
   "source": [
    "#### Standrard"
   ]
  },
  {
   "cell_type": "code",
   "execution_count": 136,
   "id": "ef8578a7-f974-4431-bb8f-dda39b915bfa",
   "metadata": {
    "tags": []
   },
   "outputs": [
    {
     "name": "stderr",
     "output_type": "stream",
     "text": [
      "100%|█████████████████████████████████████████████████████████████████████████████████████████████████████████████████████████████████████████████████████████████████████████████| 3416/3416 [38:02<00:00,  1.50it/s]"
     ]
    },
    {
     "name": "stdout",
     "output_type": "stream",
     "text": [
      "MAE (without CP) [All]: 2.545900349490403\n"
     ]
    },
    {
     "name": "stderr",
     "output_type": "stream",
     "text": [
      "\n"
     ]
    }
   ],
   "source": [
    "y_test_pred_22 = []\n",
    "y_test_true_22 = []\n",
    "\n",
    "with torch.no_grad():\n",
    "    for text, labels in tqdm(valid22_dataloader):\n",
    "        tokens = tokenizer(text, padding='max_length', truncation=True, return_tensors=\"pt\", max_length=512*3,).to(device)\n",
    "        output = model_decade_classifier(**tokens)\n",
    "        predictions = output.argmax(dim=1)\n",
    "        y_test_pred_22.extend(predictions.detach().cpu().numpy())\n",
    "        y_test_true_22.extend(labels.cpu().numpy())\n",
    "        \n",
    "print(f\"MAE (without CP) [All]: {mean_avg_error(np.array(y_test_true_22), np.array(y_test_pred_22))}\")"
   ]
  },
  {
   "cell_type": "code",
   "execution_count": 138,
   "id": "0e3622ea-b6f2-460c-bdf4-c12f7258b4e3",
   "metadata": {
    "tags": []
   },
   "outputs": [
    {
     "name": "stderr",
     "output_type": "stream",
     "text": [
      "100%|█████████████████████████████████████████████████████████████████████████████████████████████████████████████████████████████████████████████████████████████████████████████| 3416/3416 [38:01<00:00,  1.50it/s]"
     ]
    },
    {
     "name": "stdout",
     "output_type": "stream",
     "text": [
      "MAE (without CP) [All]: 2.508261513970467\n"
     ]
    },
    {
     "name": "stderr",
     "output_type": "stream",
     "text": [
      "\n"
     ]
    }
   ],
   "source": [
    "y_test_pred_22_blk = []\n",
    "y_test_true_22_blk = []\n",
    "\n",
    "with torch.no_grad():\n",
    "    for text, labels in tqdm(valid22_dataloader):\n",
    "        tokens = tokenizer(text, padding='max_length', truncation=True, return_tensors=\"pt\", max_length=512*3,).to(device)\n",
    "        output = model_decade_classifier_blk(**tokens)\n",
    "        predictions = output.argmax(dim=1)\n",
    "        y_test_pred_22_blk.extend(predictions.detach().cpu().numpy())\n",
    "        y_test_true_22_blk.extend(labels.cpu().numpy())\n",
    "        \n",
    "print(f\"MAE (without CP) [All]: {mean_avg_error(np.array(y_test_true_22_blk), np.array(y_test_pred_22_blk))}\")"
   ]
  },
  {
   "cell_type": "markdown",
   "id": "a89843bf-5c00-4aaf-b6e6-5783257a9e0f",
   "metadata": {},
   "source": [
    "#### Confromal "
   ]
  },
  {
   "cell_type": "code",
   "execution_count": 139,
   "id": "460fa99b-410c-45df-97bb-74fa008aeb3a",
   "metadata": {
    "tags": []
   },
   "outputs": [],
   "source": [
    "X_calib_22, X_test_22, y_calib_22, y_test_22 = train_test_split(\n",
    "    X_valid_22, y_valid_22, test_size=0.5, random_state=RANDOM_SEED\n",
    ")\n",
    "\n",
    "calib_22_dataset = TextDataset(X_calib_22, y_calib_22, valid_path)\n",
    "test_22_dataset = TextDataset(X_test_22, y_test_22, valid_path)\n",
    "calib_22_dataloader = DataLoader(calib_22_dataset, batch_size=16, shuffle=False)\n",
    "test_22_dataloader = DataLoader(test_22_dataset, batch_size=16, shuffle=False)"
   ]
  },
  {
   "cell_type": "code",
   "execution_count": 140,
   "id": "d061ebd6-6884-40d8-97d3-8cd83c76f3f5",
   "metadata": {
    "tags": []
   },
   "outputs": [
    {
     "name": "stderr",
     "output_type": "stream",
     "text": [
      "100%|█████████████████████████████████████████████████████████████████████████████████████████████████████████████████████████████████████████████████████████████████████████████| 1708/1708 [18:53<00:00,  1.51it/s]\n"
     ]
    }
   ],
   "source": [
    "# Calibration\n",
    "calib_22_probs = []\n",
    "calib_22_preds = []\n",
    "calib_22_true = []\n",
    "\n",
    "model_decade_classifier.eval()\n",
    "\n",
    "with torch.no_grad():\n",
    "    for text, labels in tqdm(calib_22_dataloader):\n",
    "        tokens = tokenizer(text, padding='max_length', truncation=True, return_tensors=\"pt\", max_length=512*3).to(device)\n",
    "        output = model_decade_classifier(**tokens)\n",
    "        probabilities = torch.softmax(output, dim=1)\n",
    "        predictions = output.argmax(dim=1)\n",
    "        calib_22_probs.extend(probabilities.detach().cpu().numpy())\n",
    "        calib_22_preds.extend(predictions.detach().cpu().numpy())\n",
    "        calib_22_true.extend(labels.cpu().numpy())"
   ]
  },
  {
   "cell_type": "code",
   "execution_count": 142,
   "id": "f47a4a37-6ddf-47ea-83a4-6e07378bbd8b",
   "metadata": {
    "tags": []
   },
   "outputs": [],
   "source": [
    "# Group calibration data by true class\n",
    "class_nonconformity_22 = {class_idx: [] for class_idx in range(10)}\n",
    "\n",
    "# Compute class-specific nonconformity scores\n",
    "for i, (prob, true_label) in enumerate(zip(calib_22_probs, calib_22_true)):\n",
    "    nonconformity = 1 - prob[true_label]\n",
    "    class_nonconformity_22[true_label].append(nonconformity)\n",
    "\n",
    "# Calculate threshold for each class\n",
    "class_thresholds_22 = {}\n",
    "confidence_level = 0.90\n",
    "alpha = 1 - confidence_level\n",
    "\n",
    "n_samples = len(calib_22_true)\n",
    "for class_idx, scores in class_nonconformity_22.items():\n",
    "    q = np.ceil((n_samples + 1) * (1 - alpha)) / n_samples # corrected formula\n",
    "    class_thresholds_22[class_idx] = np.quantile(scores, q)   "
   ]
  },
  {
   "cell_type": "code",
   "execution_count": 143,
   "id": "e1c6a961-fcae-4b55-bb9e-b50a501f6048",
   "metadata": {
    "tags": []
   },
   "outputs": [
    {
     "name": "stderr",
     "output_type": "stream",
     "text": [
      "100%|█████████████████████████████████████████████████████████████████████████████████████████████████████████████████████████████████████████████████████████████████████████████| 1708/1708 [18:57<00:00,  1.50it/s]\n"
     ]
    }
   ],
   "source": [
    "test_preds_22 = []\n",
    "test_intervals_22 = []\n",
    "test_true_22 = []\n",
    "test_probs_22 = []\n",
    "\n",
    "with torch.no_grad():\n",
    "    for text, labels in tqdm(test_22_dataloader):\n",
    "        tokens = tokenizer(text, padding='max_length', truncation=True, return_tensors=\"pt\", max_length=512*3).to(device)\n",
    "        output = model_decade_classifier(**tokens)\n",
    "        probabilities = torch.softmax(output, dim=1)\n",
    "        predictions = output.argmax(dim=1)      \n",
    "        for i, prob in enumerate(probabilities): # Iterate on the batch\n",
    "            pred = predictions[i].item()\n",
    "            true_label = labels[i].item()          \n",
    "            # Create prediction set using class-specific thresholds\n",
    "            prediction_set = []\n",
    "            for label in range(10):\n",
    "                # Use threshold specific to the candidate class\n",
    "                if 1 - prob[label].item() <= class_thresholds_22[label]:\n",
    "                    prediction_set.append(label)  \n",
    "                    \n",
    "            test_preds_22.append(pred)\n",
    "            test_intervals_22.append(prediction_set)\n",
    "            test_true_22.append(true_label)\n",
    "            test_probs_22.append(prob.detach().cpu().numpy())"
   ]
  },
  {
   "cell_type": "code",
   "execution_count": 144,
   "id": "8b6d5c63-6798-4e63-8b54-559a9b49546b",
   "metadata": {
    "tags": []
   },
   "outputs": [
    {
     "name": "stdout",
     "output_type": "stream",
     "text": [
      "argmax (MAE): 2.56367562028837\n",
      "argmax int (MAE): 2.53004464612457\n",
      "variance (MAE): 2.703944960843153\n",
      "variance rel (MAE): 2.696735709580619\n"
     ]
    }
   ],
   "source": [
    "test_preds_argmax_22 = []\n",
    "test_preds_argmax_int_22 = []\n",
    "test_preds_var_22 = []\n",
    "test_preds_var_rel_22 = []\n",
    "\n",
    "\n",
    "test_true_var_22 = []\n",
    "thslds_22 = [ 1 - x for x in class_thresholds_22.values()]\n",
    "\n",
    "#for idx in range(len(test_probs_21)):\n",
    "for idx, tidx in enumerate(X_test_22):\n",
    "    \n",
    "    tidx = int(tidx.replace('valid_text', '').replace('.txt', ''))\n",
    "    # if tidx in blacklist_valid:\n",
    "    #    continue\n",
    "    \n",
    "    intervals = test_intervals_22[idx]\n",
    "    #if len(intervals) != 1:\n",
    "    #    continue\n",
    "    true_label = test_true_22[idx]\n",
    "    probs = test_probs_22[idx]\n",
    "    \n",
    "    exeeding_argmax = np.zeros(10)\n",
    "    exeeding_idx = np.zeros(10)\n",
    "    exeeding_rel_idx = np.zeros(10)\n",
    "    \n",
    "    for interval in intervals:\n",
    "        if probs[interval] > thslds_22[interval]:\n",
    "            \n",
    "            exeeding_argmax[interval] = probs[interval]\n",
    "            \n",
    "            exeeding_idx[interval] = abs(probs[interval]-thslds_22[interval])\n",
    "            \n",
    "            exeeding_rel_idx[interval] = abs(probs[interval]-thslds_22[interval]) / (1-thslds_22[interval]) #thslds_21[interval] #probs[interval]\n",
    "            \n",
    "    test_preds_argmax_22.append(np.argmax(probs))\n",
    "    test_preds_argmax_int_22.append(np.argmax(exeeding_argmax))\n",
    "    test_preds_var_22.append(np.argmax(exeeding_idx))\n",
    "    test_preds_var_rel_22.append(np.argmax(exeeding_rel_idx))\n",
    "    \n",
    "    test_true_var_22.append(true_label)\n",
    "    \n",
    "print(f\"argmax (MAE): {mean_avg_error(np.array(test_true_var_22), np.array(test_preds_argmax_22))}\")\n",
    "print(f\"argmax int (MAE): {mean_avg_error(np.array(test_true_var_22), np.array(test_preds_argmax_int_22))}\")\n",
    "print(f\"variance (MAE): {mean_avg_error(np.array(test_true_var_22), np.array(test_preds_var_22))}\")\n",
    "print(f\"variance rel (MAE): {mean_avg_error(np.array(test_true_var_22), np.array(test_preds_var_rel_22))}\")"
   ]
  },
  {
   "cell_type": "code",
   "execution_count": 154,
   "id": "cd938e3e-e093-43f7-bd20-774d994a4ecf",
   "metadata": {
    "tags": []
   },
   "outputs": [
    {
     "name": "stdout",
     "output_type": "stream",
     "text": [
      "+--------------+---------------+------------+------------+------------+------------+------------+------------+------------+------------+------------+------------+\n",
      "| Mode         | Overall MAE   |   Decade 0 |   Decade 1 |   Decade 2 |   Decade 3 |   Decade 4 |   Decade 5 |   Decade 6 |   Decade 7 |   Decade 8 |   Decade 9 |\n",
      "+==============+===============+============+============+============+============+============+============+============+============+============+============+\n",
      "| argmax       | 2.564 [27326] |      7.451 |      6.693 |      5.97  |      5.035 |      4.046 |      2.996 |      2.083 |      1.151 |      0.337 |      1.134 |\n",
      "+--------------+---------------+------------+------------+------------+------------+------------+------------+------------+------------+------------+------------+\n",
      "| [CP] argmax  | 2.530 [27326] |      7.195 |      6.416 |      5.847 |      5.014 |      4.035 |      2.984 |      2.085 |      1.155 |      0.345 |      1.147 |\n",
      "+--------------+---------------+------------+------------+------------+------------+------------+------------+------------+------------+------------+------------+\n",
      "| [CP] var     | 2.704 [27326] |      4.685 |      3.886 |      3.811 |      3.38  |      2.29  |      2.166 |      2.247 |      2.342 |      2.482 |      2.578 |\n",
      "+--------------+---------------+------------+------------+------------+------------+------------+------------+------------+------------+------------+------------+\n",
      "| [CP] var rel | 2.697 [27326] |      4.815 |      3.98  |      3.897 |      3.474 |      2.358 |      2.191 |      2.235 |      2.3   |      2.392 |      2.517 |\n",
      "+--------------+---------------+------------+------------+------------+------------+------------+------------+------------+------------+------------+------------+\n"
     ]
    }
   ],
   "source": [
    "table_data = []\n",
    "\n",
    "\n",
    "# Argmax model\n",
    "overall_mae_base = mean_avg_error(np.array(test_true_var_22), np.array(test_preds_argmax_22))\n",
    "class_maes_base = compute_class_mae(test_true_var_22, test_preds_argmax_22, n_classes=10)\n",
    "class_freqs_base = count_class_frequencies(test_true_var_22, n_classes=10)\n",
    "argmax_row = [\"argmax\", f\"{overall_mae_base:.3f} [{len(test_true_var_22)}]\"]\n",
    "for i, mae in enumerate(class_maes_base):\n",
    "    # argmax_row.append(f\"{mae:.3f} [{class_freqs_base[i]}]\")\n",
    "    argmax_row.append(f\"{mae:.3f}\")\n",
    "    \n",
    "table_data.append(argmax_row)\n",
    "\n",
    "# Argmax int model\n",
    "overall_mae_base = mean_avg_error(np.array(test_true_var_22), np.array(test_preds_argmax_int_22))\n",
    "class_maes_base = compute_class_mae(test_true_var_22, test_preds_argmax_int_22, n_classes=10)\n",
    "class_freqs_base = count_class_frequencies(test_true_var_22, n_classes=10)\n",
    "argmax_int_row = [\"[CP] argmax\", f\"{overall_mae_base:.3f} [{len(test_true_var_22)}]\"]\n",
    "for i, mae in enumerate(class_maes_base):\n",
    "    # argmax_int_row.append(f\"{mae:.3f} [{class_freqs_base[i]}]\")\n",
    "    argmax_int_row.append(f\"{mae:.3f}\")\n",
    "table_data.append(argmax_int_row)\n",
    "\n",
    "# Variance model\n",
    "overall_mae_base = mean_avg_error(np.array(test_true_var_22), np.array(test_preds_var_22))\n",
    "class_maes_base = compute_class_mae(test_true_var_22, test_preds_var_22, n_classes=10)\n",
    "class_freqs_base = count_class_frequencies(test_true_var_22, n_classes=10)\n",
    "var_row = [\"[CP] var\", f\"{overall_mae_base:.3f} [{len(test_true_var_22)}]\"]\n",
    "for i, mae in enumerate(class_maes_base):\n",
    "    # var_row.append(f\"{mae:.3f} [{class_freqs_base[i]}]\")\n",
    "    var_row.append(f\"{mae:.3f}\")\n",
    "table_data.append(var_row)\n",
    "\n",
    "# Var rel model\n",
    "overall_mae_base = mean_avg_error(np.array(test_true_var_22), np.array(test_preds_var_rel_22))\n",
    "class_maes_base = compute_class_mae(test_true_var_22, test_preds_var_rel_22, n_classes=10)\n",
    "class_freqs_base = count_class_frequencies(test_true_var_22, n_classes=10)\n",
    "var_rel_row = [\"[CP] var rel\", f\"{overall_mae_base:.3f} [{len(test_true_var_22)}]\"]\n",
    "for i, mae in enumerate(class_maes_base):\n",
    "    # var_rel_row.append(f\"{mae:.3f} [{class_freqs_base[i]}]\")\n",
    "    var_rel_row.append(f\"{mae:.3f}\")\n",
    "\n",
    "table_data.append(var_rel_row)\n",
    "\n",
    "print(tabulate(table_data,\n",
    "               [\"Mode\", \"Overall MAE\", \"Decade 0\", \"Decade 1\", \"Decade 2\", \"Decade 3\", \"Decade 4\", \"Decade 5\"\n",
    "               , \"Decade 6\", \"Decade 7\", \"Decade 8\", \"Decade 9\"], \n",
    "               tablefmt=\"grid\"))"
   ]
  },
  {
   "cell_type": "markdown",
   "id": "b4211aae-b950-4cd8-83db-8b28f06d4c61",
   "metadata": {},
   "source": [
    "# Single model"
   ]
  },
  {
   "cell_type": "code",
   "execution_count": 75,
   "id": "e9d0dcd1-81f5-41e4-9a8f-34aa0af98fe6",
   "metadata": {
    "tags": []
   },
   "outputs": [],
   "source": [
    "import torch\n",
    "import torch.nn as nn\n",
    "from transformers import LongformerModel, LongformerTokenizer\n",
    "from torch.utils.data import Dataset, DataLoader\n",
    "from sklearn.model_selection import train_test_split\n",
    "\n",
    "class MultiTaskLongformerModel(nn.Module):\n",
    "    def __init__(self):\n",
    "        super(MultiTaskLongformerModel, self).__init__()\n",
    "        \n",
    "        # Load pre-trained Longformer\n",
    "        self.longformer = LongformerModel.from_pretrained('allenai/longformer-base-4096')\n",
    "        \n",
    "        # Freeze base Longformer layers (optional)\n",
    "        for param in self.longformer.parameters():\n",
    "            param.requires_grad = False\n",
    "        \n",
    "        # Classifier heads for each task\n",
    "        self.century_classifier = nn.Sequential(\n",
    "            nn.Linear(self.longformer.config.hidden_size, 512),\n",
    "            nn.ReLU(),\n",
    "            nn.Dropout(0.3),\n",
    "            nn.Linear(512, 5)\n",
    "        )\n",
    "        \n",
    "        self.decade_classifier = nn.Sequential(\n",
    "            nn.Linear(self.longformer.config.hidden_size, 512),\n",
    "            nn.ReLU(),\n",
    "            nn.Dropout(0.3),\n",
    "            nn.Linear(512, 10)\n",
    "        )\n",
    "    \n",
    "    def forward(self, input_ids, attention_mask):\n",
    "        # Get Longformer embeddings\n",
    "        outputs = self.longformer(\n",
    "            input_ids=input_ids, \n",
    "            attention_mask=attention_mask\n",
    "        )\n",
    "        \n",
    "        # Use the [CLS] token representation\n",
    "        pooled_output = outputs.last_hidden_state[:, 0, :]\n",
    "        \n",
    "        # Task-specific predictions\n",
    "        century_logits = self.century_classifier(pooled_output)\n",
    "        decade_logits = self.decade_classifier(pooled_output)\n",
    "        \n",
    "        return century_logits, decade_logits\n",
    "\n",
    "\n",
    "def multi_task_loss(century_logits, decade_logits, \n",
    "                    century_labels, decade_labels, \n",
    "                    century_weight=0.5, decade_weight=0.5):\n",
    "    century_loss = nn.CrossEntropyLoss()(century_logits, century_labels)\n",
    "    decade_loss = nn.CrossEntropyLoss()(decade_logits, decade_labels)\n",
    "\n",
    "    return century_weight * century_loss + decade_weight * decade_loss\n",
    "\n",
    "def train_multi_task_model(model, train_loader, val_loader, epochs=3):\n",
    "    optimizer = torch.optim.AdamW(model.parameters(), lr=2e-5)\n",
    "    \n",
    "    for epoch in range(epochs):\n",
    "        model.train()\n",
    "        for batch in tqdm(train_loader):\n",
    "            batch = {k: v.to(device) for k, v in batch.items()}\n",
    "            optimizer.zero_grad()\n",
    "            \n",
    "            # Forward pass\n",
    "            century_logits, decade_logits = model(\n",
    "                input_ids=batch['input_ids'], \n",
    "                attention_mask=batch['attention_mask']\n",
    "            )\n",
    "            \n",
    "            # Compute loss\n",
    "            loss = multi_task_loss(\n",
    "                century_logits, decade_logits, \n",
    "                batch['century_labels'], batch['decade_labels']\n",
    "            )\n",
    "            \n",
    "            # Backward pass\n",
    "            loss.backward()\n",
    "            optimizer.step()\n",
    "        \n",
    "        # Validation\n",
    "        model.eval()\n",
    "        val_century_accuracy = evaluate_task(model, val_loader, task='century')\n",
    "        val_decade_accuracy = evaluate_task(model, val_loader, task='decade')\n",
    "        \n",
    "        print(f\"Epoch {epoch+1}: Century Accuracy = {val_century_accuracy}, Decade Accuracy = {val_decade_accuracy}\")\n",
    "\n",
    "def evaluate_task(model, dataloader, task='century'):\n",
    "    model.eval()\n",
    "    correct_predictions = 0\n",
    "    total_predictions = 0\n",
    "    \n",
    "    with torch.no_grad():\n",
    "        for batch in dataloader:\n",
    "            century_logits, decade_logits = model(\n",
    "                input_ids=batch['input_ids'], \n",
    "                attention_mask=batch['attention_mask']\n",
    "            )\n",
    "            \n",
    "            if task == 'century':\n",
    "                predictions = torch.argmax(century_logits, dim=1)\n",
    "                correct_predictions += (predictions == batch['century_labels']).sum().item()\n",
    "            else:\n",
    "                predictions = torch.argmax(decade_logits, dim=1)\n",
    "                correct_predictions += (predictions == batch['decade_labels']).sum().item()\n",
    "            \n",
    "            total_predictions += len(predictions)\n",
    "    \n",
    "    return correct_predictions / total_predictions\n",
    "\n",
    "# Best practices for improving accuracy\n",
    "def improve_accuracy_strategies():\n",
    "    \"\"\"\n",
    "    Strategies to improve multi-task Longformer model accuracy:\n",
    "    1. Data Augmentation\n",
    "    2. Hyperparameter Tuning\n",
    "    3. Cross-Validation\n",
    "    4. Transfer Learning\n",
    "    5. Weighted Loss Function\n",
    "    \"\"\"\n",
    "    pass"
   ]
  },
  {
   "cell_type": "code",
   "execution_count": 66,
   "id": "5d4fdc44-c1fe-47a9-a8c4-467f92c7ee39",
   "metadata": {
    "tags": []
   },
   "outputs": [],
   "source": [
    "import torch\n",
    "from torch.utils.data import Dataset, DataLoader\n",
    "from transformers import LongformerTokenizer\n",
    "from sklearn.model_selection import train_test_split\n",
    "import os\n",
    "\n",
    "class FileBasedMultiTaskDataset(Dataset):\n",
    "    def __init__(self, file_paths, path, century_labels, decade_labels, tokenizer, max_length=512):\n",
    "        \"\"\"\n",
    "        Custom dataset for multi-task text classification using file paths\n",
    "        \n",
    "        Args:\n",
    "            file_paths: List of paths to text files\n",
    "            century_labels: List of century labels (integers)\n",
    "            decade_labels: List of decade labels (integers)\n",
    "            tokenizer: Longformer tokenizer\n",
    "            max_length: Maximum sequence length\n",
    "        \"\"\"\n",
    "        self.file_paths = file_paths\n",
    "        self.path = path\n",
    "        self.century_labels = century_labels\n",
    "        self.decade_labels = decade_labels\n",
    "        self.tokenizer = tokenizer\n",
    "        self.max_length = max_length\n",
    "        \n",
    "    def __len__(self):\n",
    "        return len(self.file_paths)\n",
    "    \n",
    "    def __getitem__(self, idx):\n",
    "        file_path = self.file_paths[idx]\n",
    "        century_label = self.century_labels[idx]\n",
    "        decade_label = self.decade_labels[idx]\n",
    "        \n",
    "        # Read the text from file\n",
    "        with open(os.path.join(self.path, file_path), 'r', encoding='utf-8') as f:\n",
    "            text = f.read()\n",
    "        \n",
    "        # Tokenize the text\n",
    "        encoding = self.tokenizer(\n",
    "            text,\n",
    "            truncation=True,\n",
    "            padding='max_length',\n",
    "            max_length=self.max_length,\n",
    "            return_tensors='pt'\n",
    "        )\n",
    "        \n",
    "        # Remove the batch dimension the tokenizer adds\n",
    "        encoding = {key: val.squeeze(0) for key, val in encoding.items()}\n",
    "        \n",
    "        # Add labels\n",
    "        encoding['century_labels'] = torch.tensor(century_label, dtype=torch.long)\n",
    "        encoding['decade_labels'] = torch.tensor(decade_label, dtype=torch.long)\n",
    "        \n",
    "        return encoding"
   ]
  },
  {
   "cell_type": "code",
   "execution_count": 88,
   "id": "63ed28b9-688c-4234-a31a-39899d69fbcf",
   "metadata": {
    "tags": []
   },
   "outputs": [],
   "source": [
    "train2X = FileBasedMultiTaskDataset(X_train_21, train_path, y_train_21, y_train_22, tokenizer)\n",
    "valid2X = FileBasedMultiTaskDataset(X_valid_21, valid_path, y_valid_21, y_valid_22, tokenizer)\n",
    "\n",
    "train2X_dataloader = DataLoader(train2X, batch_size=batch_size, shuffle=True)\n",
    "valid2X_dataloader = DataLoader(valid2X, batch_size=batch_size, shuffle=False)"
   ]
  },
  {
   "cell_type": "code",
   "execution_count": 89,
   "id": "629b68b3-66f7-41eb-ac9c-1faa3d1c489d",
   "metadata": {
    "tags": []
   },
   "outputs": [],
   "source": [
    "mtlm = MultiTaskLongformerModel().to(device)"
   ]
  },
  {
   "cell_type": "code",
   "execution_count": 94,
   "id": "c63a61ba-b33c-4b47-9822-9fa2bd5247db",
   "metadata": {
    "tags": []
   },
   "outputs": [
    {
     "name": "stderr",
     "output_type": "stream",
     "text": [
      "100%|█████████████████████████████████████████████████████████████████████████████████████████████████████████████████████████████████████████████████████████████████████████████| 3416/3416 [14:58<00:00,  3.80it/s]\n"
     ]
    },
    {
     "data": {
      "text/plain": [
       "0.8162888144773197"
      ]
     },
     "execution_count": 94,
     "metadata": {},
     "output_type": "execute_result"
    }
   ],
   "source": [
    "def evaluate_task(model, dataloader, task='century'):\n",
    "    model.eval()\n",
    "    correct_predictions = 0\n",
    "    total_predictions = 0\n",
    "    \n",
    "    with torch.no_grad():\n",
    "        for batch in tqdm(dataloader):\n",
    "            batch = {k: v.to(device) for k, v in batch.items()}\n",
    "            century_logits, decade_logits = model(\n",
    "                input_ids=batch['input_ids'], \n",
    "                attention_mask=batch['attention_mask']\n",
    "            )\n",
    "            \n",
    "            if task == 'century':\n",
    "                predictions = torch.argmax(century_logits, dim=1)\n",
    "                correct_predictions += (predictions == batch['century_labels']).sum().item()\n",
    "            else:\n",
    "                predictions = torch.argmax(decade_logits, dim=1)\n",
    "                correct_predictions += (predictions == batch['decade_labels']).sum().item()\n",
    "            \n",
    "            total_predictions += len(predictions)\n",
    "    \n",
    "    return correct_predictions / total_predictions\n",
    "\n",
    "evaluate_task(mtlm, valid2X_dataloader)"
   ]
  },
  {
   "cell_type": "code",
   "execution_count": 95,
   "id": "db8235f6-fc20-420b-84c6-7c98623eccd5",
   "metadata": {
    "tags": []
   },
   "outputs": [
    {
     "name": "stderr",
     "output_type": "stream",
     "text": [
      "100%|█████████████████████████████████████████████████████████████████████████████████████████████████████████████████████████████████████████████████████████████████████████████| 3416/3416 [15:11<00:00,  3.75it/s]\n"
     ]
    },
    {
     "data": {
      "text/plain": [
       "0.2549450147298311"
      ]
     },
     "execution_count": 95,
     "metadata": {},
     "output_type": "execute_result"
    }
   ],
   "source": [
    "evaluate_task(mtlm, valid2X_dataloader, task='decade')"
   ]
  },
  {
   "cell_type": "code",
   "execution_count": 90,
   "id": "589e764a-1a77-464d-aa3d-a76a719f2786",
   "metadata": {
    "tags": []
   },
   "outputs": [
    {
     "name": "stderr",
     "output_type": "stream",
     "text": [
      "100%|███████████████████████████████████████████████████████████████████████████████████████████████████████████████████████████████████████████████████████████████████████████| 12795/12795 [46:52<00:00,  4.55it/s]\n"
     ]
    },
    {
     "ename": "RuntimeError",
     "evalue": "Expected all tensors to be on the same device, but found at least two devices, cuda:0 and cpu! (when checking argument for argument index in method wrapper_CUDA__index_select)",
     "output_type": "error",
     "traceback": [
      "\u001b[0;31m---------------------------------------------------------------------------\u001b[0m",
      "\u001b[0;31mRuntimeError\u001b[0m                              Traceback (most recent call last)",
      "Cell \u001b[0;32mIn[90], line 1\u001b[0m\n\u001b[0;32m----> 1\u001b[0m \u001b[43mtrain_multi_task_model\u001b[49m\u001b[43m(\u001b[49m\u001b[43mmtlm\u001b[49m\u001b[43m,\u001b[49m\u001b[43m \u001b[49m\u001b[43mtrain2X_dataloader\u001b[49m\u001b[43m,\u001b[49m\u001b[43m \u001b[49m\u001b[43mvalid2X_dataloader\u001b[49m\u001b[43m)\u001b[49m\n",
      "Cell \u001b[0;32mIn[75], line 85\u001b[0m, in \u001b[0;36mtrain_multi_task_model\u001b[0;34m(model, train_loader, val_loader, epochs)\u001b[0m\n\u001b[1;32m     83\u001b[0m \u001b[38;5;66;03m# Validation\u001b[39;00m\n\u001b[1;32m     84\u001b[0m model\u001b[38;5;241m.\u001b[39meval()\n\u001b[0;32m---> 85\u001b[0m val_century_accuracy \u001b[38;5;241m=\u001b[39m \u001b[43mevaluate_task\u001b[49m\u001b[43m(\u001b[49m\u001b[43mmodel\u001b[49m\u001b[43m,\u001b[49m\u001b[43m \u001b[49m\u001b[43mval_loader\u001b[49m\u001b[43m,\u001b[49m\u001b[43m \u001b[49m\u001b[43mtask\u001b[49m\u001b[38;5;241;43m=\u001b[39;49m\u001b[38;5;124;43m'\u001b[39;49m\u001b[38;5;124;43mcentury\u001b[39;49m\u001b[38;5;124;43m'\u001b[39;49m\u001b[43m)\u001b[49m\n\u001b[1;32m     86\u001b[0m val_decade_accuracy \u001b[38;5;241m=\u001b[39m evaluate_task(model, val_loader, task\u001b[38;5;241m=\u001b[39m\u001b[38;5;124m'\u001b[39m\u001b[38;5;124mdecade\u001b[39m\u001b[38;5;124m'\u001b[39m)\n\u001b[1;32m     88\u001b[0m \u001b[38;5;28mprint\u001b[39m(\u001b[38;5;124mf\u001b[39m\u001b[38;5;124m\"\u001b[39m\u001b[38;5;124mEpoch \u001b[39m\u001b[38;5;132;01m{\u001b[39;00mepoch\u001b[38;5;241m+\u001b[39m\u001b[38;5;241m1\u001b[39m\u001b[38;5;132;01m}\u001b[39;00m\u001b[38;5;124m: Century Accuracy = \u001b[39m\u001b[38;5;132;01m{\u001b[39;00mval_century_accuracy\u001b[38;5;132;01m}\u001b[39;00m\u001b[38;5;124m, Decade Accuracy = \u001b[39m\u001b[38;5;132;01m{\u001b[39;00mval_decade_accuracy\u001b[38;5;132;01m}\u001b[39;00m\u001b[38;5;124m\"\u001b[39m)\n",
      "Cell \u001b[0;32mIn[75], line 97\u001b[0m, in \u001b[0;36mevaluate_task\u001b[0;34m(model, dataloader, task)\u001b[0m\n\u001b[1;32m     95\u001b[0m \u001b[38;5;28;01mwith\u001b[39;00m torch\u001b[38;5;241m.\u001b[39mno_grad():\n\u001b[1;32m     96\u001b[0m     \u001b[38;5;28;01mfor\u001b[39;00m batch \u001b[38;5;129;01min\u001b[39;00m dataloader:\n\u001b[0;32m---> 97\u001b[0m         century_logits, decade_logits \u001b[38;5;241m=\u001b[39m \u001b[43mmodel\u001b[49m\u001b[43m(\u001b[49m\n\u001b[1;32m     98\u001b[0m \u001b[43m            \u001b[49m\u001b[43minput_ids\u001b[49m\u001b[38;5;241;43m=\u001b[39;49m\u001b[43mbatch\u001b[49m\u001b[43m[\u001b[49m\u001b[38;5;124;43m'\u001b[39;49m\u001b[38;5;124;43minput_ids\u001b[39;49m\u001b[38;5;124;43m'\u001b[39;49m\u001b[43m]\u001b[49m\u001b[43m,\u001b[49m\u001b[43m \u001b[49m\n\u001b[1;32m     99\u001b[0m \u001b[43m            \u001b[49m\u001b[43mattention_mask\u001b[49m\u001b[38;5;241;43m=\u001b[39;49m\u001b[43mbatch\u001b[49m\u001b[43m[\u001b[49m\u001b[38;5;124;43m'\u001b[39;49m\u001b[38;5;124;43mattention_mask\u001b[39;49m\u001b[38;5;124;43m'\u001b[39;49m\u001b[43m]\u001b[49m\n\u001b[1;32m    100\u001b[0m \u001b[43m        \u001b[49m\u001b[43m)\u001b[49m\n\u001b[1;32m    102\u001b[0m         \u001b[38;5;28;01mif\u001b[39;00m task \u001b[38;5;241m==\u001b[39m \u001b[38;5;124m'\u001b[39m\u001b[38;5;124mcentury\u001b[39m\u001b[38;5;124m'\u001b[39m:\n\u001b[1;32m    103\u001b[0m             predictions \u001b[38;5;241m=\u001b[39m torch\u001b[38;5;241m.\u001b[39margmax(century_logits, dim\u001b[38;5;241m=\u001b[39m\u001b[38;5;241m1\u001b[39m)\n",
      "File \u001b[0;32m/data01/alocaputo/miniconda3/envs/icdar2025/lib/python3.10/site-packages/torch/nn/modules/module.py:1739\u001b[0m, in \u001b[0;36mModule._wrapped_call_impl\u001b[0;34m(self, *args, **kwargs)\u001b[0m\n\u001b[1;32m   1737\u001b[0m     \u001b[38;5;28;01mreturn\u001b[39;00m \u001b[38;5;28mself\u001b[39m\u001b[38;5;241m.\u001b[39m_compiled_call_impl(\u001b[38;5;241m*\u001b[39margs, \u001b[38;5;241m*\u001b[39m\u001b[38;5;241m*\u001b[39mkwargs)  \u001b[38;5;66;03m# type: ignore[misc]\u001b[39;00m\n\u001b[1;32m   1738\u001b[0m \u001b[38;5;28;01melse\u001b[39;00m:\n\u001b[0;32m-> 1739\u001b[0m     \u001b[38;5;28;01mreturn\u001b[39;00m \u001b[38;5;28;43mself\u001b[39;49m\u001b[38;5;241;43m.\u001b[39;49m\u001b[43m_call_impl\u001b[49m\u001b[43m(\u001b[49m\u001b[38;5;241;43m*\u001b[39;49m\u001b[43margs\u001b[49m\u001b[43m,\u001b[49m\u001b[43m \u001b[49m\u001b[38;5;241;43m*\u001b[39;49m\u001b[38;5;241;43m*\u001b[39;49m\u001b[43mkwargs\u001b[49m\u001b[43m)\u001b[49m\n",
      "File \u001b[0;32m/data01/alocaputo/miniconda3/envs/icdar2025/lib/python3.10/site-packages/torch/nn/modules/module.py:1750\u001b[0m, in \u001b[0;36mModule._call_impl\u001b[0;34m(self, *args, **kwargs)\u001b[0m\n\u001b[1;32m   1745\u001b[0m \u001b[38;5;66;03m# If we don't have any hooks, we want to skip the rest of the logic in\u001b[39;00m\n\u001b[1;32m   1746\u001b[0m \u001b[38;5;66;03m# this function, and just call forward.\u001b[39;00m\n\u001b[1;32m   1747\u001b[0m \u001b[38;5;28;01mif\u001b[39;00m \u001b[38;5;129;01mnot\u001b[39;00m (\u001b[38;5;28mself\u001b[39m\u001b[38;5;241m.\u001b[39m_backward_hooks \u001b[38;5;129;01mor\u001b[39;00m \u001b[38;5;28mself\u001b[39m\u001b[38;5;241m.\u001b[39m_backward_pre_hooks \u001b[38;5;129;01mor\u001b[39;00m \u001b[38;5;28mself\u001b[39m\u001b[38;5;241m.\u001b[39m_forward_hooks \u001b[38;5;129;01mor\u001b[39;00m \u001b[38;5;28mself\u001b[39m\u001b[38;5;241m.\u001b[39m_forward_pre_hooks\n\u001b[1;32m   1748\u001b[0m         \u001b[38;5;129;01mor\u001b[39;00m _global_backward_pre_hooks \u001b[38;5;129;01mor\u001b[39;00m _global_backward_hooks\n\u001b[1;32m   1749\u001b[0m         \u001b[38;5;129;01mor\u001b[39;00m _global_forward_hooks \u001b[38;5;129;01mor\u001b[39;00m _global_forward_pre_hooks):\n\u001b[0;32m-> 1750\u001b[0m     \u001b[38;5;28;01mreturn\u001b[39;00m \u001b[43mforward_call\u001b[49m\u001b[43m(\u001b[49m\u001b[38;5;241;43m*\u001b[39;49m\u001b[43margs\u001b[49m\u001b[43m,\u001b[49m\u001b[43m \u001b[49m\u001b[38;5;241;43m*\u001b[39;49m\u001b[38;5;241;43m*\u001b[39;49m\u001b[43mkwargs\u001b[49m\u001b[43m)\u001b[49m\n\u001b[1;32m   1752\u001b[0m result \u001b[38;5;241m=\u001b[39m \u001b[38;5;28;01mNone\u001b[39;00m\n\u001b[1;32m   1753\u001b[0m called_always_called_hooks \u001b[38;5;241m=\u001b[39m \u001b[38;5;28mset\u001b[39m()\n",
      "Cell \u001b[0;32mIn[75], line 35\u001b[0m, in \u001b[0;36mMultiTaskLongformerModel.forward\u001b[0;34m(self, input_ids, attention_mask)\u001b[0m\n\u001b[1;32m     33\u001b[0m \u001b[38;5;28;01mdef\u001b[39;00m\u001b[38;5;250m \u001b[39m\u001b[38;5;21mforward\u001b[39m(\u001b[38;5;28mself\u001b[39m, input_ids, attention_mask):\n\u001b[1;32m     34\u001b[0m     \u001b[38;5;66;03m# Get Longformer embeddings\u001b[39;00m\n\u001b[0;32m---> 35\u001b[0m     outputs \u001b[38;5;241m=\u001b[39m \u001b[38;5;28;43mself\u001b[39;49m\u001b[38;5;241;43m.\u001b[39;49m\u001b[43mlongformer\u001b[49m\u001b[43m(\u001b[49m\n\u001b[1;32m     36\u001b[0m \u001b[43m        \u001b[49m\u001b[43minput_ids\u001b[49m\u001b[38;5;241;43m=\u001b[39;49m\u001b[43minput_ids\u001b[49m\u001b[43m,\u001b[49m\u001b[43m \u001b[49m\n\u001b[1;32m     37\u001b[0m \u001b[43m        \u001b[49m\u001b[43mattention_mask\u001b[49m\u001b[38;5;241;43m=\u001b[39;49m\u001b[43mattention_mask\u001b[49m\n\u001b[1;32m     38\u001b[0m \u001b[43m    \u001b[49m\u001b[43m)\u001b[49m\n\u001b[1;32m     40\u001b[0m     \u001b[38;5;66;03m# Use the [CLS] token representation\u001b[39;00m\n\u001b[1;32m     41\u001b[0m     pooled_output \u001b[38;5;241m=\u001b[39m outputs\u001b[38;5;241m.\u001b[39mlast_hidden_state[:, \u001b[38;5;241m0\u001b[39m, :]\n",
      "File \u001b[0;32m/data01/alocaputo/miniconda3/envs/icdar2025/lib/python3.10/site-packages/torch/nn/modules/module.py:1739\u001b[0m, in \u001b[0;36mModule._wrapped_call_impl\u001b[0;34m(self, *args, **kwargs)\u001b[0m\n\u001b[1;32m   1737\u001b[0m     \u001b[38;5;28;01mreturn\u001b[39;00m \u001b[38;5;28mself\u001b[39m\u001b[38;5;241m.\u001b[39m_compiled_call_impl(\u001b[38;5;241m*\u001b[39margs, \u001b[38;5;241m*\u001b[39m\u001b[38;5;241m*\u001b[39mkwargs)  \u001b[38;5;66;03m# type: ignore[misc]\u001b[39;00m\n\u001b[1;32m   1738\u001b[0m \u001b[38;5;28;01melse\u001b[39;00m:\n\u001b[0;32m-> 1739\u001b[0m     \u001b[38;5;28;01mreturn\u001b[39;00m \u001b[38;5;28;43mself\u001b[39;49m\u001b[38;5;241;43m.\u001b[39;49m\u001b[43m_call_impl\u001b[49m\u001b[43m(\u001b[49m\u001b[38;5;241;43m*\u001b[39;49m\u001b[43margs\u001b[49m\u001b[43m,\u001b[49m\u001b[43m \u001b[49m\u001b[38;5;241;43m*\u001b[39;49m\u001b[38;5;241;43m*\u001b[39;49m\u001b[43mkwargs\u001b[49m\u001b[43m)\u001b[49m\n",
      "File \u001b[0;32m/data01/alocaputo/miniconda3/envs/icdar2025/lib/python3.10/site-packages/torch/nn/modules/module.py:1750\u001b[0m, in \u001b[0;36mModule._call_impl\u001b[0;34m(self, *args, **kwargs)\u001b[0m\n\u001b[1;32m   1745\u001b[0m \u001b[38;5;66;03m# If we don't have any hooks, we want to skip the rest of the logic in\u001b[39;00m\n\u001b[1;32m   1746\u001b[0m \u001b[38;5;66;03m# this function, and just call forward.\u001b[39;00m\n\u001b[1;32m   1747\u001b[0m \u001b[38;5;28;01mif\u001b[39;00m \u001b[38;5;129;01mnot\u001b[39;00m (\u001b[38;5;28mself\u001b[39m\u001b[38;5;241m.\u001b[39m_backward_hooks \u001b[38;5;129;01mor\u001b[39;00m \u001b[38;5;28mself\u001b[39m\u001b[38;5;241m.\u001b[39m_backward_pre_hooks \u001b[38;5;129;01mor\u001b[39;00m \u001b[38;5;28mself\u001b[39m\u001b[38;5;241m.\u001b[39m_forward_hooks \u001b[38;5;129;01mor\u001b[39;00m \u001b[38;5;28mself\u001b[39m\u001b[38;5;241m.\u001b[39m_forward_pre_hooks\n\u001b[1;32m   1748\u001b[0m         \u001b[38;5;129;01mor\u001b[39;00m _global_backward_pre_hooks \u001b[38;5;129;01mor\u001b[39;00m _global_backward_hooks\n\u001b[1;32m   1749\u001b[0m         \u001b[38;5;129;01mor\u001b[39;00m _global_forward_hooks \u001b[38;5;129;01mor\u001b[39;00m _global_forward_pre_hooks):\n\u001b[0;32m-> 1750\u001b[0m     \u001b[38;5;28;01mreturn\u001b[39;00m \u001b[43mforward_call\u001b[49m\u001b[43m(\u001b[49m\u001b[38;5;241;43m*\u001b[39;49m\u001b[43margs\u001b[49m\u001b[43m,\u001b[49m\u001b[43m \u001b[49m\u001b[38;5;241;43m*\u001b[39;49m\u001b[38;5;241;43m*\u001b[39;49m\u001b[43mkwargs\u001b[49m\u001b[43m)\u001b[49m\n\u001b[1;32m   1752\u001b[0m result \u001b[38;5;241m=\u001b[39m \u001b[38;5;28;01mNone\u001b[39;00m\n\u001b[1;32m   1753\u001b[0m called_always_called_hooks \u001b[38;5;241m=\u001b[39m \u001b[38;5;28mset\u001b[39m()\n",
      "File \u001b[0;32m/data01/alocaputo/miniconda3/envs/icdar2025/lib/python3.10/site-packages/transformers/models/longformer/modeling_longformer.py:1725\u001b[0m, in \u001b[0;36mLongformerModel.forward\u001b[0;34m(self, input_ids, attention_mask, global_attention_mask, head_mask, token_type_ids, position_ids, inputs_embeds, output_attentions, output_hidden_states, return_dict)\u001b[0m\n\u001b[1;32m   1719\u001b[0m \u001b[38;5;66;03m# We can provide a self-attention mask of dimensions [batch_size, from_seq_length, to_seq_length]\u001b[39;00m\n\u001b[1;32m   1720\u001b[0m \u001b[38;5;66;03m# ourselves in which case we just need to make it broadcastable to all heads.\u001b[39;00m\n\u001b[1;32m   1721\u001b[0m extended_attention_mask: torch\u001b[38;5;241m.\u001b[39mTensor \u001b[38;5;241m=\u001b[39m \u001b[38;5;28mself\u001b[39m\u001b[38;5;241m.\u001b[39mget_extended_attention_mask(attention_mask, input_shape)[\n\u001b[1;32m   1722\u001b[0m     :, \u001b[38;5;241m0\u001b[39m, \u001b[38;5;241m0\u001b[39m, :\n\u001b[1;32m   1723\u001b[0m ]\n\u001b[0;32m-> 1725\u001b[0m embedding_output \u001b[38;5;241m=\u001b[39m \u001b[38;5;28;43mself\u001b[39;49m\u001b[38;5;241;43m.\u001b[39;49m\u001b[43membeddings\u001b[49m\u001b[43m(\u001b[49m\n\u001b[1;32m   1726\u001b[0m \u001b[43m    \u001b[49m\u001b[43minput_ids\u001b[49m\u001b[38;5;241;43m=\u001b[39;49m\u001b[43minput_ids\u001b[49m\u001b[43m,\u001b[49m\u001b[43m \u001b[49m\u001b[43mposition_ids\u001b[49m\u001b[38;5;241;43m=\u001b[39;49m\u001b[43mposition_ids\u001b[49m\u001b[43m,\u001b[49m\u001b[43m \u001b[49m\u001b[43mtoken_type_ids\u001b[49m\u001b[38;5;241;43m=\u001b[39;49m\u001b[43mtoken_type_ids\u001b[49m\u001b[43m,\u001b[49m\u001b[43m \u001b[49m\u001b[43minputs_embeds\u001b[49m\u001b[38;5;241;43m=\u001b[39;49m\u001b[43minputs_embeds\u001b[49m\n\u001b[1;32m   1727\u001b[0m \u001b[43m\u001b[49m\u001b[43m)\u001b[49m\n\u001b[1;32m   1729\u001b[0m encoder_outputs \u001b[38;5;241m=\u001b[39m \u001b[38;5;28mself\u001b[39m\u001b[38;5;241m.\u001b[39mencoder(\n\u001b[1;32m   1730\u001b[0m     embedding_output,\n\u001b[1;32m   1731\u001b[0m     attention_mask\u001b[38;5;241m=\u001b[39mextended_attention_mask,\n\u001b[0;32m   (...)\u001b[0m\n\u001b[1;32m   1736\u001b[0m     return_dict\u001b[38;5;241m=\u001b[39mreturn_dict,\n\u001b[1;32m   1737\u001b[0m )\n\u001b[1;32m   1738\u001b[0m sequence_output \u001b[38;5;241m=\u001b[39m encoder_outputs[\u001b[38;5;241m0\u001b[39m]\n",
      "File \u001b[0;32m/data01/alocaputo/miniconda3/envs/icdar2025/lib/python3.10/site-packages/torch/nn/modules/module.py:1739\u001b[0m, in \u001b[0;36mModule._wrapped_call_impl\u001b[0;34m(self, *args, **kwargs)\u001b[0m\n\u001b[1;32m   1737\u001b[0m     \u001b[38;5;28;01mreturn\u001b[39;00m \u001b[38;5;28mself\u001b[39m\u001b[38;5;241m.\u001b[39m_compiled_call_impl(\u001b[38;5;241m*\u001b[39margs, \u001b[38;5;241m*\u001b[39m\u001b[38;5;241m*\u001b[39mkwargs)  \u001b[38;5;66;03m# type: ignore[misc]\u001b[39;00m\n\u001b[1;32m   1738\u001b[0m \u001b[38;5;28;01melse\u001b[39;00m:\n\u001b[0;32m-> 1739\u001b[0m     \u001b[38;5;28;01mreturn\u001b[39;00m \u001b[38;5;28;43mself\u001b[39;49m\u001b[38;5;241;43m.\u001b[39;49m\u001b[43m_call_impl\u001b[49m\u001b[43m(\u001b[49m\u001b[38;5;241;43m*\u001b[39;49m\u001b[43margs\u001b[49m\u001b[43m,\u001b[49m\u001b[43m \u001b[49m\u001b[38;5;241;43m*\u001b[39;49m\u001b[38;5;241;43m*\u001b[39;49m\u001b[43mkwargs\u001b[49m\u001b[43m)\u001b[49m\n",
      "File \u001b[0;32m/data01/alocaputo/miniconda3/envs/icdar2025/lib/python3.10/site-packages/torch/nn/modules/module.py:1750\u001b[0m, in \u001b[0;36mModule._call_impl\u001b[0;34m(self, *args, **kwargs)\u001b[0m\n\u001b[1;32m   1745\u001b[0m \u001b[38;5;66;03m# If we don't have any hooks, we want to skip the rest of the logic in\u001b[39;00m\n\u001b[1;32m   1746\u001b[0m \u001b[38;5;66;03m# this function, and just call forward.\u001b[39;00m\n\u001b[1;32m   1747\u001b[0m \u001b[38;5;28;01mif\u001b[39;00m \u001b[38;5;129;01mnot\u001b[39;00m (\u001b[38;5;28mself\u001b[39m\u001b[38;5;241m.\u001b[39m_backward_hooks \u001b[38;5;129;01mor\u001b[39;00m \u001b[38;5;28mself\u001b[39m\u001b[38;5;241m.\u001b[39m_backward_pre_hooks \u001b[38;5;129;01mor\u001b[39;00m \u001b[38;5;28mself\u001b[39m\u001b[38;5;241m.\u001b[39m_forward_hooks \u001b[38;5;129;01mor\u001b[39;00m \u001b[38;5;28mself\u001b[39m\u001b[38;5;241m.\u001b[39m_forward_pre_hooks\n\u001b[1;32m   1748\u001b[0m         \u001b[38;5;129;01mor\u001b[39;00m _global_backward_pre_hooks \u001b[38;5;129;01mor\u001b[39;00m _global_backward_hooks\n\u001b[1;32m   1749\u001b[0m         \u001b[38;5;129;01mor\u001b[39;00m _global_forward_hooks \u001b[38;5;129;01mor\u001b[39;00m _global_forward_pre_hooks):\n\u001b[0;32m-> 1750\u001b[0m     \u001b[38;5;28;01mreturn\u001b[39;00m \u001b[43mforward_call\u001b[49m\u001b[43m(\u001b[49m\u001b[38;5;241;43m*\u001b[39;49m\u001b[43margs\u001b[49m\u001b[43m,\u001b[49m\u001b[43m \u001b[49m\u001b[38;5;241;43m*\u001b[39;49m\u001b[38;5;241;43m*\u001b[39;49m\u001b[43mkwargs\u001b[49m\u001b[43m)\u001b[49m\n\u001b[1;32m   1752\u001b[0m result \u001b[38;5;241m=\u001b[39m \u001b[38;5;28;01mNone\u001b[39;00m\n\u001b[1;32m   1753\u001b[0m called_always_called_hooks \u001b[38;5;241m=\u001b[39m \u001b[38;5;28mset\u001b[39m()\n",
      "File \u001b[0;32m/data01/alocaputo/miniconda3/envs/icdar2025/lib/python3.10/site-packages/transformers/models/longformer/modeling_longformer.py:461\u001b[0m, in \u001b[0;36mLongformerEmbeddings.forward\u001b[0;34m(self, input_ids, token_type_ids, position_ids, inputs_embeds)\u001b[0m\n\u001b[1;32m    458\u001b[0m     token_type_ids \u001b[38;5;241m=\u001b[39m torch\u001b[38;5;241m.\u001b[39mzeros(input_shape, dtype\u001b[38;5;241m=\u001b[39mtorch\u001b[38;5;241m.\u001b[39mlong, device\u001b[38;5;241m=\u001b[39mposition_ids\u001b[38;5;241m.\u001b[39mdevice)\n\u001b[1;32m    460\u001b[0m \u001b[38;5;28;01mif\u001b[39;00m inputs_embeds \u001b[38;5;129;01mis\u001b[39;00m \u001b[38;5;28;01mNone\u001b[39;00m:\n\u001b[0;32m--> 461\u001b[0m     inputs_embeds \u001b[38;5;241m=\u001b[39m \u001b[38;5;28;43mself\u001b[39;49m\u001b[38;5;241;43m.\u001b[39;49m\u001b[43mword_embeddings\u001b[49m\u001b[43m(\u001b[49m\u001b[43minput_ids\u001b[49m\u001b[43m)\u001b[49m\n\u001b[1;32m    462\u001b[0m position_embeddings \u001b[38;5;241m=\u001b[39m \u001b[38;5;28mself\u001b[39m\u001b[38;5;241m.\u001b[39mposition_embeddings(position_ids)\n\u001b[1;32m    463\u001b[0m token_type_embeddings \u001b[38;5;241m=\u001b[39m \u001b[38;5;28mself\u001b[39m\u001b[38;5;241m.\u001b[39mtoken_type_embeddings(token_type_ids)\n",
      "File \u001b[0;32m/data01/alocaputo/miniconda3/envs/icdar2025/lib/python3.10/site-packages/torch/nn/modules/module.py:1739\u001b[0m, in \u001b[0;36mModule._wrapped_call_impl\u001b[0;34m(self, *args, **kwargs)\u001b[0m\n\u001b[1;32m   1737\u001b[0m     \u001b[38;5;28;01mreturn\u001b[39;00m \u001b[38;5;28mself\u001b[39m\u001b[38;5;241m.\u001b[39m_compiled_call_impl(\u001b[38;5;241m*\u001b[39margs, \u001b[38;5;241m*\u001b[39m\u001b[38;5;241m*\u001b[39mkwargs)  \u001b[38;5;66;03m# type: ignore[misc]\u001b[39;00m\n\u001b[1;32m   1738\u001b[0m \u001b[38;5;28;01melse\u001b[39;00m:\n\u001b[0;32m-> 1739\u001b[0m     \u001b[38;5;28;01mreturn\u001b[39;00m \u001b[38;5;28;43mself\u001b[39;49m\u001b[38;5;241;43m.\u001b[39;49m\u001b[43m_call_impl\u001b[49m\u001b[43m(\u001b[49m\u001b[38;5;241;43m*\u001b[39;49m\u001b[43margs\u001b[49m\u001b[43m,\u001b[49m\u001b[43m \u001b[49m\u001b[38;5;241;43m*\u001b[39;49m\u001b[38;5;241;43m*\u001b[39;49m\u001b[43mkwargs\u001b[49m\u001b[43m)\u001b[49m\n",
      "File \u001b[0;32m/data01/alocaputo/miniconda3/envs/icdar2025/lib/python3.10/site-packages/torch/nn/modules/module.py:1750\u001b[0m, in \u001b[0;36mModule._call_impl\u001b[0;34m(self, *args, **kwargs)\u001b[0m\n\u001b[1;32m   1745\u001b[0m \u001b[38;5;66;03m# If we don't have any hooks, we want to skip the rest of the logic in\u001b[39;00m\n\u001b[1;32m   1746\u001b[0m \u001b[38;5;66;03m# this function, and just call forward.\u001b[39;00m\n\u001b[1;32m   1747\u001b[0m \u001b[38;5;28;01mif\u001b[39;00m \u001b[38;5;129;01mnot\u001b[39;00m (\u001b[38;5;28mself\u001b[39m\u001b[38;5;241m.\u001b[39m_backward_hooks \u001b[38;5;129;01mor\u001b[39;00m \u001b[38;5;28mself\u001b[39m\u001b[38;5;241m.\u001b[39m_backward_pre_hooks \u001b[38;5;129;01mor\u001b[39;00m \u001b[38;5;28mself\u001b[39m\u001b[38;5;241m.\u001b[39m_forward_hooks \u001b[38;5;129;01mor\u001b[39;00m \u001b[38;5;28mself\u001b[39m\u001b[38;5;241m.\u001b[39m_forward_pre_hooks\n\u001b[1;32m   1748\u001b[0m         \u001b[38;5;129;01mor\u001b[39;00m _global_backward_pre_hooks \u001b[38;5;129;01mor\u001b[39;00m _global_backward_hooks\n\u001b[1;32m   1749\u001b[0m         \u001b[38;5;129;01mor\u001b[39;00m _global_forward_hooks \u001b[38;5;129;01mor\u001b[39;00m _global_forward_pre_hooks):\n\u001b[0;32m-> 1750\u001b[0m     \u001b[38;5;28;01mreturn\u001b[39;00m \u001b[43mforward_call\u001b[49m\u001b[43m(\u001b[49m\u001b[38;5;241;43m*\u001b[39;49m\u001b[43margs\u001b[49m\u001b[43m,\u001b[49m\u001b[43m \u001b[49m\u001b[38;5;241;43m*\u001b[39;49m\u001b[38;5;241;43m*\u001b[39;49m\u001b[43mkwargs\u001b[49m\u001b[43m)\u001b[49m\n\u001b[1;32m   1752\u001b[0m result \u001b[38;5;241m=\u001b[39m \u001b[38;5;28;01mNone\u001b[39;00m\n\u001b[1;32m   1753\u001b[0m called_always_called_hooks \u001b[38;5;241m=\u001b[39m \u001b[38;5;28mset\u001b[39m()\n",
      "File \u001b[0;32m/data01/alocaputo/miniconda3/envs/icdar2025/lib/python3.10/site-packages/torch/nn/modules/sparse.py:190\u001b[0m, in \u001b[0;36mEmbedding.forward\u001b[0;34m(self, input)\u001b[0m\n\u001b[1;32m    189\u001b[0m \u001b[38;5;28;01mdef\u001b[39;00m\u001b[38;5;250m \u001b[39m\u001b[38;5;21mforward\u001b[39m(\u001b[38;5;28mself\u001b[39m, \u001b[38;5;28minput\u001b[39m: Tensor) \u001b[38;5;241m-\u001b[39m\u001b[38;5;241m>\u001b[39m Tensor:\n\u001b[0;32m--> 190\u001b[0m     \u001b[38;5;28;01mreturn\u001b[39;00m \u001b[43mF\u001b[49m\u001b[38;5;241;43m.\u001b[39;49m\u001b[43membedding\u001b[49m\u001b[43m(\u001b[49m\n\u001b[1;32m    191\u001b[0m \u001b[43m        \u001b[49m\u001b[38;5;28;43minput\u001b[39;49m\u001b[43m,\u001b[49m\n\u001b[1;32m    192\u001b[0m \u001b[43m        \u001b[49m\u001b[38;5;28;43mself\u001b[39;49m\u001b[38;5;241;43m.\u001b[39;49m\u001b[43mweight\u001b[49m\u001b[43m,\u001b[49m\n\u001b[1;32m    193\u001b[0m \u001b[43m        \u001b[49m\u001b[38;5;28;43mself\u001b[39;49m\u001b[38;5;241;43m.\u001b[39;49m\u001b[43mpadding_idx\u001b[49m\u001b[43m,\u001b[49m\n\u001b[1;32m    194\u001b[0m \u001b[43m        \u001b[49m\u001b[38;5;28;43mself\u001b[39;49m\u001b[38;5;241;43m.\u001b[39;49m\u001b[43mmax_norm\u001b[49m\u001b[43m,\u001b[49m\n\u001b[1;32m    195\u001b[0m \u001b[43m        \u001b[49m\u001b[38;5;28;43mself\u001b[39;49m\u001b[38;5;241;43m.\u001b[39;49m\u001b[43mnorm_type\u001b[49m\u001b[43m,\u001b[49m\n\u001b[1;32m    196\u001b[0m \u001b[43m        \u001b[49m\u001b[38;5;28;43mself\u001b[39;49m\u001b[38;5;241;43m.\u001b[39;49m\u001b[43mscale_grad_by_freq\u001b[49m\u001b[43m,\u001b[49m\n\u001b[1;32m    197\u001b[0m \u001b[43m        \u001b[49m\u001b[38;5;28;43mself\u001b[39;49m\u001b[38;5;241;43m.\u001b[39;49m\u001b[43msparse\u001b[49m\u001b[43m,\u001b[49m\n\u001b[1;32m    198\u001b[0m \u001b[43m    \u001b[49m\u001b[43m)\u001b[49m\n",
      "File \u001b[0;32m/data01/alocaputo/miniconda3/envs/icdar2025/lib/python3.10/site-packages/torch/nn/functional.py:2551\u001b[0m, in \u001b[0;36membedding\u001b[0;34m(input, weight, padding_idx, max_norm, norm_type, scale_grad_by_freq, sparse)\u001b[0m\n\u001b[1;32m   2545\u001b[0m     \u001b[38;5;66;03m# Note [embedding_renorm set_grad_enabled]\u001b[39;00m\n\u001b[1;32m   2546\u001b[0m     \u001b[38;5;66;03m# XXX: equivalent to\u001b[39;00m\n\u001b[1;32m   2547\u001b[0m     \u001b[38;5;66;03m# with torch.no_grad():\u001b[39;00m\n\u001b[1;32m   2548\u001b[0m     \u001b[38;5;66;03m#   torch.embedding_renorm_\u001b[39;00m\n\u001b[1;32m   2549\u001b[0m     \u001b[38;5;66;03m# remove once script supports set_grad_enabled\u001b[39;00m\n\u001b[1;32m   2550\u001b[0m     _no_grad_embedding_renorm_(weight, \u001b[38;5;28minput\u001b[39m, max_norm, norm_type)\n\u001b[0;32m-> 2551\u001b[0m \u001b[38;5;28;01mreturn\u001b[39;00m \u001b[43mtorch\u001b[49m\u001b[38;5;241;43m.\u001b[39;49m\u001b[43membedding\u001b[49m\u001b[43m(\u001b[49m\u001b[43mweight\u001b[49m\u001b[43m,\u001b[49m\u001b[43m \u001b[49m\u001b[38;5;28;43minput\u001b[39;49m\u001b[43m,\u001b[49m\u001b[43m \u001b[49m\u001b[43mpadding_idx\u001b[49m\u001b[43m,\u001b[49m\u001b[43m \u001b[49m\u001b[43mscale_grad_by_freq\u001b[49m\u001b[43m,\u001b[49m\u001b[43m \u001b[49m\u001b[43msparse\u001b[49m\u001b[43m)\u001b[49m\n",
      "\u001b[0;31mRuntimeError\u001b[0m: Expected all tensors to be on the same device, but found at least two devices, cuda:0 and cpu! (when checking argument for argument index in method wrapper_CUDA__index_select)"
     ]
    }
   ],
   "source": [
    "train_multi_task_model(mtlm, train2X_dataloader, valid2X_dataloader)"
   ]
  },
  {
   "cell_type": "code",
   "execution_count": null,
   "id": "332ec081-54f7-4939-ac54-152b01d99e71",
   "metadata": {},
   "outputs": [],
   "source": []
  }
 ],
 "metadata": {
  "kernelspec": {
   "display_name": "Python 3 (ipykernel)",
   "language": "python",
   "name": "python3"
  },
  "language_info": {
   "codemirror_mode": {
    "name": "ipython",
    "version": 3
   },
   "file_extension": ".py",
   "mimetype": "text/x-python",
   "name": "python",
   "nbconvert_exporter": "python",
   "pygments_lexer": "ipython3",
   "version": "3.10.16"
  },
  "toc-autonumbering": false,
  "toc-showcode": false,
  "toc-showmarkdowntxt": false,
  "toc-showtags": false
 },
 "nbformat": 4,
 "nbformat_minor": 5
}
