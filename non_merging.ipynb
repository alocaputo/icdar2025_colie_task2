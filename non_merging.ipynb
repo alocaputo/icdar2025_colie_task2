{
 "cells": [
  {
   "cell_type": "markdown",
   "id": "c693fdf9-c06a-4a47-b631-b4b17485178a",
   "metadata": {},
   "source": [
    "# Non merging inputs\n",
    "\n",
    "TODO:\n",
    " - [X] Is it better with full or the balanced dataset? -> Non balanced (even better when excluding non-coherent data)\n",
    " - [X] Try conformal with the decade -> Too few classes, argmax is way better"
   ]
  },
  {
   "cell_type": "code",
   "execution_count": 1,
   "id": "e8088807-fe57-460b-a6bf-772898aabeab",
   "metadata": {
    "tags": []
   },
   "outputs": [
    {
     "name": "stderr",
     "output_type": "stream",
     "text": [
      "[nltk_data] Downloading package punkt to /home/alocaputo/nltk_data...\n",
      "[nltk_data]   Package punkt is already up-to-date!\n",
      "[nltk_data] Downloading package punkt_tab to\n",
      "[nltk_data]     /home/alocaputo/nltk_data...\n",
      "[nltk_data]   Package punkt_tab is already up-to-date!\n",
      "[nltk_data] Downloading package stopwords to\n",
      "[nltk_data]     /home/alocaputo/nltk_data...\n",
      "[nltk_data]   Package stopwords is already up-to-date!\n",
      "[nltk_data] Downloading package wordnet to\n",
      "[nltk_data]     /home/alocaputo/nltk_data...\n",
      "[nltk_data]   Package wordnet is already up-to-date!\n",
      "/data01/alocaputo/miniconda3/envs/icdar2025/lib/python3.10/site-packages/tqdm/auto.py:21: TqdmWarning: IProgress not found. Please update jupyter and ipywidgets. See https://ipywidgets.readthedocs.io/en/stable/user_install.html\n",
      "  from .autonotebook import tqdm as notebook_tqdm\n",
      "Downloading https://raw.githubusercontent.com/stanfordnlp/stanza-resources/main/resources_1.10.0.json: 424kB [00:00, 29.9MB/s]                                                                                        \n",
      "2025-03-26 08:50:18 INFO: Downloaded file to /home/alocaputo/stanza_resources/resources.json\n",
      "2025-03-26 08:50:18 INFO: Downloading default packages for language: en (English) ...\n",
      "2025-03-26 08:50:19 INFO: File exists: /home/alocaputo/stanza_resources/en/default.zip\n",
      "2025-03-26 08:50:22 INFO: Finished downloading models and saved to /home/alocaputo/stanza_resources\n"
     ]
    }
   ],
   "source": [
    "import os\n",
    "# cuda_visible_devices = 0,1,2,3\n",
    "os.environ[\"CUDA_VISIBLE_DEVICES\"] = \"7\"\n",
    "# os.environ[\"CUDA_VISIBLE_DEVICES\"] = \"0,1,2,3,4,5,6,7\"\n",
    "\n",
    "import pandas as pd\n",
    "\n",
    "import numpy as np\n",
    "from tabulate import tabulate\n",
    "import seaborn as sns\n",
    "from tqdm import tqdm\n",
    "\n",
    "import nltk\n",
    "from nltk import WordPunctTokenizer\n",
    "from nltk import TreebankWordTokenizer\n",
    "\n",
    "nltk.download('punkt')\n",
    "nltk.download('punkt_tab')\n",
    "nltk.download('stopwords')\n",
    "nltk.download('wordnet')\n",
    "\n",
    "from nltk.corpus import stopwords\n",
    "\n",
    "import stanza\n",
    "stanza.download('en')\n",
    "\n",
    "\n",
    "import matplotlib.pyplot as plt\n",
    "from sklearn.metrics import confusion_matrix\n",
    "\n",
    "import torch\n",
    "\n",
    "from tabulate import tabulate\n",
    "\n",
    "RANDOM_SEED = 42"
   ]
  },
  {
   "cell_type": "markdown",
   "id": "38c4bc7b-669a-4ad2-b51a-5c3e31578067",
   "metadata": {
    "tags": []
   },
   "source": [
    "## Data Loading"
   ]
  },
  {
   "cell_type": "code",
   "execution_count": 2,
   "id": "8c6919b0-51ed-4f15-8474-1a71c1f489eb",
   "metadata": {
    "tags": []
   },
   "outputs": [],
   "source": [
    "texts_path = './data/Task2/texts'\n",
    "\n",
    "train_path = os.path.join(texts_path, 'train')\n",
    "valid_path = os.path.join(texts_path, 'valid')\n",
    "\n",
    "train_files = os.listdir(train_path)\n",
    "valid_files = os.listdir(valid_path)\n",
    "\n",
    "f\"Train: {len(train_files)}, Test: {len(valid_files)}\"\n",
    "\n",
    "label2century = {1: '17th century', 2: '18th century', 3: '19th century', 4: '20th century', 5: '21st century'}\n",
    "\n",
    "train21 = pd.read_csv('./data/Task2/task2.1/train.csv')\n",
    "valid21 = pd.read_csv('./data/Task2/task2.1/valid.csv')\n",
    "\n",
    "train22 = pd.read_csv('./data/Task2/task2.2/train.csv')\n",
    "valid22 = pd.read_csv('./data/Task2/task2.2/valid.csv')\n",
    "\n",
    "train21.rename(columns={'label': 'century'}, inplace=True)\n",
    "train21['file_name'] = train21['id']\n",
    "train21['id'] = train21.id.str.replace('train_text', '').str.replace('.txt', '').astype(int)\n",
    "train21.set_index('id', inplace=True)\n",
    "\n",
    "valid21.rename(columns={'label': 'century'}, inplace=True)\n",
    "valid21['file_name'] = valid21['id']\n",
    "valid21['id'] = valid21.id.str.replace('valid_text', '').str.replace('.txt', '').astype(int)\n",
    "valid21.set_index('id', inplace=True)"
   ]
  },
  {
   "cell_type": "code",
   "execution_count": 3,
   "id": "7fddc6a9-f223-45e8-904c-4700949a128b",
   "metadata": {
    "tags": []
   },
   "outputs": [],
   "source": [
    "train22 = pd.read_csv('./data/Task2/task2.2/train.csv')\n",
    "valid22 = pd.read_csv('./data/Task2/task2.2/valid.csv')\n",
    "\n",
    "train22.rename(columns={'label': 'decade'}, inplace=True)\n",
    "train22['file_name'] = train22['id']\n",
    "train22['id'] = train22.id.str.replace('train_text', '').str.replace('.txt', '').astype(int)\n",
    "train22.set_index('id', inplace=True)\n",
    "\n",
    "valid22.rename(columns={'label': 'decade'}, inplace=True)\n",
    "valid22['file_name'] = valid22['id']\n",
    "valid22['id'] = valid22.id.str.replace('valid_text', '').str.replace('.txt', '').astype(int)\n",
    "valid22.set_index('id', inplace=True)"
   ]
  },
  {
   "cell_type": "code",
   "execution_count": 4,
   "id": "0ace0902-c99f-42cc-add3-8940c2102260",
   "metadata": {
    "tags": []
   },
   "outputs": [],
   "source": [
    "import pickle\n",
    "with open('blacklist.pkl', 'rb') as f:\n",
    "    blacklist = pickle.load(f)\n",
    "\n",
    "blacklist_train = blacklist['train']\n",
    "blacklist_valid = blacklist['valid']"
   ]
  },
  {
   "cell_type": "code",
   "execution_count": 5,
   "id": "133dfe13-5c1a-4ea5-8404-33d7c77705f3",
   "metadata": {
    "tags": []
   },
   "outputs": [],
   "source": [
    "def decade2year(deca):\n",
    "    return ((deca // 10) + 16) * 100 + ((deca % 10)) * 10\n",
    "\n",
    "def year2cd(year):\n",
    "    return ((year // 100 - 16) * 10  + (year - (year // 100)*100)//10)"
   ]
  },
  {
   "cell_type": "code",
   "execution_count": 6,
   "id": "c073f879-ccf7-4fb6-8948-fdba9623f6bb",
   "metadata": {
    "tags": []
   },
   "outputs": [],
   "source": [
    "import ftfy\n",
    "\n",
    "def get_clean_text(path):\n",
    "    \n",
    "    with open(path, 'rb') as infile:\n",
    "        txt_ry = infile.read()\n",
    "    misdecoded_text = txt_ry.decode(\"utf-8\", errors=\"ignore\")\n",
    "\n",
    "    return ftfy.fix_text(misdecoded_text)"
   ]
  },
  {
   "cell_type": "code",
   "execution_count": 7,
   "id": "ef5ddd73-83cd-4a1c-9201-c0a855af85dd",
   "metadata": {
    "tags": []
   },
   "outputs": [],
   "source": [
    "from torch.utils.data import DataLoader, Dataset\n",
    "\n",
    "class TextDataset(Dataset):\n",
    "    def __init__(self, file_names, labels, path, clear=False):\n",
    "        self.file_names = file_names\n",
    "        self.labels = labels\n",
    "        self.path = path\n",
    "        self.clear = clear\n",
    "\n",
    "    def __len__(self):\n",
    "        return len(self.file_names)\n",
    "\n",
    "    def __getitem__(self, idx):\n",
    "        file_name = self.file_names[idx]\n",
    "        if self.clear:\n",
    "            text = get_clean_text(os.path.join(self.path, file_name))\n",
    "        else:\n",
    "            with open(os.path.join(self.path, file_name), 'r') as file:\n",
    "                text = file.read()\n",
    "\n",
    "        return text, self.labels[idx]"
   ]
  },
  {
   "cell_type": "code",
   "execution_count": 8,
   "id": "4121975c-cebb-4d7c-878d-35e57ef217f4",
   "metadata": {
    "tags": []
   },
   "outputs": [],
   "source": [
    "X_train_21 = []\n",
    "y_train_21 = []\n",
    "\n",
    "X_valid_21 = []\n",
    "y_valid_21 = []\n",
    "\n",
    "for idx, row in train21.iterrows():\n",
    "    file_name = row.file_name\n",
    "    century = row.century\n",
    "    X_train_21.append(file_name)\n",
    "    y_train_21.append(century-1)\n",
    "\n",
    "for idx, row in valid21.iterrows():\n",
    "    file_name = row.file_name\n",
    "    century = row.century\n",
    "    X_valid_21.append(file_name)\n",
    "    y_valid_21.append(century-1)"
   ]
  },
  {
   "cell_type": "code",
   "execution_count": 9,
   "id": "980c031a-c62c-40a2-99f9-3ef8b88ee692",
   "metadata": {
    "tags": []
   },
   "outputs": [],
   "source": [
    "np.random.seed(RANDOM_SEED)\n",
    "\n",
    "X_train_21_eq = []\n",
    "y_train_21_eq = []\n",
    "for i in range(1, 6):\n",
    "    x = train21[train21['century'] == i].sample(1834)\n",
    "    X_train_21_eq.extend(x['file_name'])\n",
    "    y_train_21_eq.extend(x['century']-1)\n",
    "\n",
    "X_valid_21_eq = []\n",
    "y_valid_21_eq = []\n",
    "for i in range(1, 6):\n",
    "    x = valid21[valid21['century'] == i].sample(457)\n",
    "    X_valid_21_eq.extend(x['file_name'])\n",
    "    y_valid_21_eq.extend(x['century']-1)"
   ]
  },
  {
   "cell_type": "code",
   "execution_count": 10,
   "id": "7d27a69d-15a1-49df-9eb7-2e9f5b950c58",
   "metadata": {
    "tags": []
   },
   "outputs": [],
   "source": [
    "X_train_22 = []\n",
    "y_train_22 = []\n",
    "\n",
    "X_valid_22 = []\n",
    "y_valid_22 = []\n",
    "\n",
    "for idx, row in train22.iterrows():\n",
    "    file_name = row.file_name\n",
    "    decade = row.decade\n",
    "    X_train_22.append(file_name)\n",
    "    y_train_22.append(decade-1)\n",
    "\n",
    "for idx, row in valid22.iterrows():\n",
    "    file_name = row.file_name\n",
    "    decade = row.decade\n",
    "    X_valid_22.append(file_name)\n",
    "    y_valid_22.append(decade-1)"
   ]
  },
  {
   "cell_type": "code",
   "execution_count": 11,
   "id": "fbda3396-6e1e-4968-bb11-18f9546ebd64",
   "metadata": {
    "tags": []
   },
   "outputs": [
    {
     "name": "stderr",
     "output_type": "stream",
     "text": [
      "  0%|                                                                                                                                                                                        | 0/9170 [00:00<?, ?it/s]/tmp/ipykernel_2953525/2300074627.py:5: FutureWarning: Calling int on a single element Series is deprecated and will raise a TypeError in the future. Use int(ser.iloc[0]) instead\n",
      "  decade = int(row.decade)\n",
      "100%|█████████████████████████████████████████████████████████████████████████████████████████████████████████████████████████████████████████████████████████████████████████████| 9170/9170 [02:16<00:00, 67.30it/s]\n",
      "/tmp/ipykernel_2953525/2300074627.py:13: FutureWarning: Calling int on a single element Series is deprecated and will raise a TypeError in the future. Use int(ser.iloc[0]) instead\n",
      "  decade = int(row.decade)\n"
     ]
    }
   ],
   "source": [
    "X_train_22_eq = []\n",
    "y_train_22_eq = []\n",
    "for x in tqdm(X_train_21_eq):\n",
    "    row = train22[train22['file_name'] == x]\n",
    "    decade = int(row.decade)\n",
    "    X_train_22_eq.append(x)\n",
    "    y_train_22_eq.append(decade)\n",
    "    \n",
    "X_valid_22_eq = []\n",
    "y_valid_22_eq = []\n",
    "for x in X_valid_21_eq:\n",
    "    row = valid22[valid22['file_name'] == x]\n",
    "    decade = int(row.decade)\n",
    "    X_valid_22_eq.append(x)\n",
    "    y_valid_22_eq.append(decade)"
   ]
  },
  {
   "cell_type": "code",
   "execution_count": 12,
   "id": "b14f8ad5-3394-48ed-a6ed-d06cf0d85e78",
   "metadata": {},
   "outputs": [],
   "source": [
    "train21_dataset = TextDataset(X_train_21, y_train_21, train_path)\n",
    "valid21_dataset = TextDataset(X_valid_21, y_valid_21, valid_path)\n",
    "\n",
    "batch_size = 16\n",
    "train21_dataloader = DataLoader(train21_dataset, batch_size=batch_size, shuffle=True)\n",
    "valid21_dataloader = DataLoader(valid21_dataset, batch_size=batch_size, shuffle=False)\n",
    "\n",
    "train21_eq_dataset = TextDataset(X_train_21_eq, y_train_21_eq, train_path)\n",
    "valid21_eq_dataset = TextDataset(X_valid_21_eq, y_valid_21_eq, valid_path)\n",
    "\n",
    "batch_size = 16\n",
    "train21_eq_dataloader = DataLoader(train21_eq_dataset, batch_size=batch_size, shuffle=True)\n",
    "valid21_eq_dataloader = DataLoader(valid21_eq_dataset, batch_size=batch_size, shuffle=False)\n",
    "\n",
    "train22_dataset = TextDataset(X_train_22, y_train_22, train_path)\n",
    "valid22_dataset = TextDataset(X_valid_22, y_valid_22, valid_path)\n",
    "\n",
    "batch_size = 16\n",
    "train22_dataloader = DataLoader(train22_dataset, batch_size=batch_size, shuffle=True)\n",
    "valid22_dataloader = DataLoader(valid22_dataset, batch_size=batch_size, shuffle=False)\n",
    "\n",
    "train22_eq_dataset = TextDataset(X_train_22_eq, y_train_22_eq, train_path)\n",
    "valid22_eq_dataset = TextDataset(X_valid_22_eq, y_valid_22_eq, valid_path)\n",
    "\n",
    "batch_size = 16\n",
    "train22_eq_dataloader = DataLoader(train22_eq_dataset, batch_size=batch_size, shuffle=True)\n",
    "valid22_eq_dataloader = DataLoader(valid22_eq_dataset, batch_size=batch_size, shuffle=False)"
   ]
  },
  {
   "cell_type": "code",
   "execution_count": 169,
   "id": "06d6a41d-aba2-4fa7-9fa7-e979ef8a3380",
   "metadata": {
    "tags": []
   },
   "outputs": [
    {
     "name": "stderr",
     "output_type": "stream",
     "text": [
      "100%|████████████████████████████████████████████████████████████████████████████████████████████████████████████████████████████████████████████████████████████████████████| 204708/204708 [10:16<00:00, 332.07it/s]\n"
     ]
    },
    {
     "name": "stdout",
     "output_type": "stream",
     "text": [
      "Token Length Statistics:\n",
      "- Maximum: 9481\n",
      "- Mean: 1395.41\n",
      "- Median: 1325.00\n",
      "- 95th percentile: 1876.00\n",
      "- 99th percentile: 2235.00\n"
     ]
    },
    {
     "data": {
      "image/png": "[encoded data removed]",
      "text/plain": [
       "<Figure size 1000x600 with 1 Axes>"
      ]
     },
     "metadata": {},
     "output_type": "display_data"
    }
   ],
   "source": [
    "token_lengths = []\n",
    "for text, _ in tqdm(train21_dataset):\n",
    "    tokens = tokenizer(text, add_special_tokens=True, return_tensors=\"pt\")\n",
    "    token_lengths.append(tokens['input_ids'].shape[1])\n",
    "\n",
    "# Calculate statistics\n",
    "max_length = max(token_lengths)\n",
    "mean_length = np.mean(token_lengths)\n",
    "median_length = np.median(token_lengths)\n",
    "p95_length = np.percentile(token_lengths, 95)\n",
    "p99_length = np.percentile(token_lengths, 99)\n",
    "\n",
    "# Create histogram\n",
    "plt.figure(figsize=(10, 6))\n",
    "plt.hist(token_lengths, bins=50, alpha=0.7, color='skyblue', edgecolor='black')\n",
    "plt.axvline(x=mean_length, color='red', linestyle='--', label=f'Mean: {mean_length:.1f}')\n",
    "plt.axvline(x=median_length, color='green', linestyle='--', label=f'Median: {median_length:.1f}')\n",
    "plt.axvline(x=p95_length, color='purple', linestyle='--', label=f'95th percentile: {p95_length:.1f}')\n",
    "plt.axvline(x=max_length, color='black', linestyle='-', label=f'Max: {max_length}')\n",
    "\n",
    "plt.xlabel('Number of Tokens')\n",
    "plt.ylabel('Frequency')\n",
    "plt.legend()\n",
    "plt.grid(True, alpha=0.3)\n",
    "plt.tight_layout()\n",
    "\n",
    "print(f\"Token Length Statistics:\")\n",
    "print(f\"- Maximum: {max_length}\")\n",
    "print(f\"- Mean: {mean_length:.2f}\")\n",
    "print(f\"- Median: {median_length:.2f}\")\n",
    "print(f\"- 95th percentile: {p95_length:.2f}\")\n",
    "print(f\"- 99th percentile: {p99_length:.2f}\")"
   ]
  },
  {
   "cell_type": "code",
   "execution_count": null,
   "id": "0e6a85b4-3ea9-4b41-96a4-a6f3e2252577",
   "metadata": {},
   "outputs": [],
   "source": [
    "_train_22"
   ]
  },
  {
   "cell_type": "code",
   "execution_count": 192,
   "id": "4aa262b7-fbe5-4259-a8f9-19fe1bac57f6",
   "metadata": {
    "tags": []
   },
   "outputs": [
    {
     "name": "stderr",
     "output_type": "stream",
     "text": [
      "100%|██████████████████████████████████████████████████████████████████████████████████████████████████████████████████████████████████████████████████████████████████████| 204708/204708 [00:12<00:00, 16872.76it/s]"
     ]
    },
    {
     "name": "stdout",
     "output_type": "stream",
     "text": [
      "2128\n"
     ]
    },
    {
     "name": "stderr",
     "output_type": "stream",
     "text": [
      "\n"
     ]
    }
   ],
   "source": [
    "cg = 0\n",
    "cg_list = []\n",
    "cg_labels = []\n",
    "for idx, file_name in tqdm(enumerate(X_train_21), total=len(X_train_21)):\n",
    "    \n",
    "    tidx = int(file_name.replace('train_text', '').replace('.txt', ''))\n",
    "    if tidx in blacklist_valid:\n",
    "        continue\n",
    "    with open(os.path.join(train_path, file_name), 'r') as file:\n",
    "        text = file.read()\n",
    "    \n",
    "    if 'gutenberg' in text.lower():\n",
    "        cg += 1\n",
    "        cg_list.append(text)\n",
    "        cg_labels.append(y_train_21[idx])\n",
    "print(cg)"
   ]
  },
  {
   "cell_type": "code",
   "execution_count": 193,
   "id": "a82f8255-e338-4961-a1ba-7e32326f043c",
   "metadata": {
    "tags": []
   },
   "outputs": [
    {
     "data": {
      "text/plain": [
       "Counter({2: 1736, 3: 181, 1: 117, 0: 75, 4: 19})"
      ]
     },
     "execution_count": 193,
     "metadata": {},
     "output_type": "execute_result"
    }
   ],
   "source": [
    "Counter(cg_labels)"
   ]
  },
  {
   "cell_type": "code",
   "execution_count": 181,
   "id": "01b02cb4-e90b-4e2f-858c-c787d196cf56",
   "metadata": {
    "tags": []
   },
   "outputs": [
    {
     "name": "stdout",
     "output_type": "stream",
     "text": [
      "you do or cause to occur: (a) distribution of this or any Project Gutenberg-tm work, (b) alteration, modification, or additions or deletions to any Project Gutenberg-tm work, and (c) any Defect you cause. Section 2. Information about the Mission of Project Gutenberg-tm Project Gutenberg-tm is synonymous with the free distribution of electronic works in formats readable by the widest variety of computers including obsolete, old, middle-aged and new computers. It exists because of the efforts of hundreds of volunteers and donations from people in all walks of life. Volunteers and financial support to provide volunteers with the assistance they need, is critical to reaching Project Gutenberg-tm's goals and ensuring that the Project Gutenberg-tm collection will remain freely available for generations to come. In 2001, the Project Gutenberg Literary Archive Foundation was created to provide a secure and permanent future for Project Gutenberg-tm and future generations. To learn more about the Project Gutenberg Literary Archive Foundation and how your efforts and donations can help, see Sections 3 and 4 and the Foundation web page at http://www.gutenberg.org/fundraising/pglaf. Section 3. Information about the Project Gutenberg Literary Archive Foundation The Project Gutenberg Literary Archive Foundation is a non profit 501(c)(3) educational corporation organized under the laws of the state of Mississippi and granted tax exempt status by the Internal Revenue Service. The Foundation's EIN or federal tax identification number is 64-6221541. Contributions to the Project Gutenberg Literary Archive Foundation are tax deductible to the full extent permitted by U.S. federal laws and your state's laws. The Foundation's principal office is located at 4557 Melan Dr. S. Fairbanks, AK, 99712., but its volunteers and employees are scattered throughout numerous locations. Its business office is located at 809 North 1500 West, Salt Lake City, UT 84116, (801) 596-1887, email business@pglaf.org. Email contact links and up to date contact information can be found at the Foundation's web site and official page at http://www.gutenberg.org/about/contact For additional contact information: Dr. Gregory B. Newby Chief Executive and Director gbnewby@pglaf.org Section 4. Information about Donations to the Project Gutenberg Literary Archive Foundation Project Gutenberg-tm depends upon and cannot survive without wide spread public support and donations to carry out its mission of increasing the number of public domain and licensed works that can be freely distributed in machine readable form accessible by the widest array of equipment including outdated equipment. Many small donations ($1 to $5,000) are particularly important to maintaining tax exempt status with the IRS. The Foundation is committed to complying with the laws regulating charities and charitable donations in all 50 states of the United States. Compliance requirements are not uniform and it takes a considerable effort, much paperwork and many fees to meet and keep up with these requirements. We do not solicit donations in locations where we have not received written confirmation of compliance. To SEND DONATIONS or determine the status of compliance for any particular state visit http://www.gutenberg.org/fundraising/donate While we cannot and do not solicit contributions from states where we have not met the solicitation requirements, we know of no prohibition against accepting unsolicited donations from donors in such states who approach us with offers to donate. International donations are gratefully accepted, but we cannot make any statements concerning tax treatment of donations received from outside the United States. U.S. laws alone swamp our small staff. Please check the Project Gutenberg Web pages for current donation methods and addresses. Donations are accepted in a number of other ways including checks, online payments and credit card donations. To donate, please visit: http://www.gutenberg.org/fundraising/donate Section 5. General Information About Project Gutenberg-tm electronic works. Professor Michael S. Hart is the originator of the Project Gutenberg-tm concept of a library of electronic works that could be freely shared with anyone. For thirty years, he produced and distributed Project Gutenberg-tm eBooks with only a loose network of volunteer support. Project Gutenberg-tm eBooks are often created from several printed editions, all of which are confirmed as Public Domain in the U.S. unless a copyright notice is included. Thus, we do not necessarily keep eBooks in compliance with any particular paper edition. Most people start at our Web site which has the main PG search facility: http://www.gutenberg.org This Web site includes information about Project Gutenberg-tm, including how to make donations to the Project Gutenberg Literary Archive Foundation, how to help produce our new eBooks, and how to subscribe to our email newsletter to hear about new eBooks.\n",
      "\n",
      "do not necessarily keep eBooks in compliance with any particular paper edition. Most people start at our Web site which has the main PG search facility: https://www.gutenberg.org This Web site includes information about Project Gutenberg-tm, including how to make donations to the Project Gutenberg Literary Archive Foundation, how to help produce our new eBooks, and how to subscribe to our email newsletter to hear about new eBooks.\n",
      "\n",
      "could invent one; he was known to be a fanatic on the subject of the small farmers' wrongs: yet now, with a veritable claim to sue for, the old protestant was dumb. Had Solomon turned the other cheek? There were jokes about it in the office; they looked to have some fun with Solomon yet. In the early autumn the joking ceased. There was a final reason for the old man's silence,--Solomon was dead. His ranch was rented to a Chinese vegetable-gardener who bought water from the ditch. The company, through its officials, was disposed to recognize this unspoken claim that had perished on the lips of the dead. They made an estimate, and offered Nancy Lark a fair sum in consideration of her father's losses by the ditch. It was unusual for a company to volunteer a settlement of this kind; it was still more unusual for the indemnity to be refused. Nancy declined, by letter, first; then the manager asked her to call at the office. She did not come. He took pains to hunt her up at the house of her friends in town. He might have delegated the call, but he chose to make it in person, and was struck by an added dignity, a finer beauty in the saddened face of the girl whom he remembered as a bit of a rustic coquette. He went over the business with her. She was perfectly intelligent in the matter; there had been no misunderstanding. Why then would she not take what belonged to her? Companies were not in the habit of paying claims that were claims of sentiment. Ã¢ÂÂI have made no claim,Ã¢ÂÂ said Nancy. Ã¢ÂÂBut you have one. You inherited one. We do not propose to robÃ¢ÂÂ-- She put out her hand with a gesture of appeal. Ã¢ÂÂMy father had no claim. He never made one, nor meant to make one. I am the best judge of what belongs to me. I don't want this money, and I will never take one cent of it. But there is a claim you can settle, if you are hunting up claims. It won't cost you anything,Ã¢ÂÂ she faltered, as if some unguarded impulse had hurried her into a subject that she hardly knew how to go on with. She moved her chair back a little from the light. Ã¢ÂÂThere was one of your watchmen, on the Glenn's Ferry beat, who lost his place on account of those breaks coming one after anotherÃ¢ÂÂ-- Ã¢ÂÂYes,Ã¢ÂÂ said the manager; Ã¢ÂÂthere were several that did. Which man do you refer to?Ã¢ÂÂ The name, she thought, was Travis. Then, blushing, she spoke out courageously:-- Ã¢ÂÂIt was Mr. Travis. He was discharged just after the big break. You thought it was his carelessness, but it was not. I am the only one that can say so, and I know it. You lost the best watchman you ever had on the ditch when you took his name off your pay-roll. He worked for more than just his money's worth, and it hurt him to lose that place.Ã¢ÂÂ Ã¢ÂÂAre you aware that he made the worst record of any man on the line?Ã¢ÂÂ Ã¢ÂÂI don't care what his record was; he kept a good watch. It's no concern of mine to say so,Ã¢ÂÂ she said. Trembling and red and white, the tears shining in her honest eyes, she persisted: Ã¢ÂÂHe had his reasons for never explaining, and they were nothing to be ashamed of. I think you might believe me!Ã¢ÂÂ Ã¢ÂÂI do,Ã¢ÂÂ said the manager, willing to spare her. Ã¢ÂÂI will attend to the case of Mr. Travis when I see him. I do not think he has left the country. In fact, he was inquiring about you only the other day, in the office, and he seemed very much concerned to hear of your--of the loss you have suffered. Shall I say that you spoke a good word for him?Ã¢ÂÂ Ã¢ÂÂYou need not do that,Ã¢ÂÂ she answered with spirit. Ã¢ÂÂHe knows whether he kept watch. But you may say that I ask, as a favor, that he will answer all your questions; and you need not be afraid to question him.Ã¢ÂÂ Travis was given back his beat, but no more explicit exoneration would he accept. The reason of his reinstatement was not made public, and naturally there was gossip about it among other discharged watchmen who had not been invited to try again. Two of these cynic philosophers, popularly known as sore-heads, foregathered one morning at Glenn's Ferry and began to discuss the management and the ditch. Ã¢ÂÂTravis don't seem to have so much trouble with the water this year as he had last,Ã¢ÂÂ the first ex-watchman remarked. Ã¢ÂÂUsed to get away with him on an average once a week, so I hear.Ã¢ÂÂ Ã¢ÂÂHe's married his girl,Ã¢ÂÂ the other explained sarcastically. Ã¢ÂÂHe's got more time to look after the ditch.Ã¢ÂÂ There is no sand, now, in Travis's bread; the prettiest girl on the ditch makes it for him, and walks beside him when the lights are fair and the shadows long on the ditch-bank. And it is a pleasure to record that both Nancy and the ditch are behaving as dutifully as girls and water can be expected to do, when taken from their self-found paths and committed to the sober bounds of responsibility. Flowers bloom upon its banks, heaven is reflected in its waters, fair and broad are the fertile pastures that lie beyond; but the best-trained ditch can never be a river, nor the gentlest wife a girl again. End of Project Gutenberg's In Exile and Other Stories, by Mary Hallock Foote\n",
      "\n",
      "of Scotland Yard. 12. Young Sleuthâs Ghost; or, The Keen Detective and the Confidence Queen. * * * * * Fun by the Bushel in Every Number of The 5 Cent Comic Library. THE ONLY COMIC LIBRARY PUBLISHED IN THE WORLD. Issued Every Saturday. Each Number a Complete Story. Look Through Your Newsdealerâs Stock of This Library and Make Your Selection. THE FOLLOWING ARE NOW ON SALE: 1. Two Dandies of New York; or, The Funny Side of Everything, by Tom Teaser 2. Cheeky Jim, the Boy From Chicago; or, Nothing Too Good for Him, by Sam Smiley 3. Gymnastic Joe; or, Not a Bit Like His Uncle, by Tom Teaser 4. Shorty; or, Kicked Into Good Luck, by Peter Pad 5. Mamaâs Pet; or, Always In It, by Sam Smiley 6. Tommy Bounce, the Family Mischief, by Peter Pad 7. Dick Quack, the Doctorâs Boy; or, A Hard Pill To Swallow, by Tom Teaser 8. Shorty in Luck, by Peter Pad 9. Casey From Ireland; or, A Green Son of the Old Sod, by Tom Teaser 10. Skinny, the Tin Peddler, by Tom Teaser 11. Millions In It; or, Something New Every Minute, by Sam Smiley 12. The Mulcahey Twins, by Tom Teaser 13. The Village Sport; or, Two to One on Everything, by Sam Smiley * * * * * OF COURSE YOU HAVE HEARD ABOUT Frank Reade, Jr., the Great Inventor! Read About His Thrilling Adventures With His Wonderful Machines in the FRANK READE LIBRARY. Price 5 Cents. - - - - Issued Every Saturday. EVERY NUMBER A COMPLETE STORY. THE FOLLOWING HAVE BEEN ISSUED: 1. Frank Reade, Jr., and His New Steam Man; or, The Young Inventorâs Trip to the Far West, by âNonameâ 2. Frank Reade, Jr., With His New Steam Man in No Manâs Land; or, On a Mysterious Trail, by âNonameâ 3. Frank Reade, Jr., With His New Steam Man in Central America, by âNonameâ 4. Frank Reade, Jr., With His New Steam Man in Texas; or, Chasing the Train Robbers, by âNonameâ 5. Frank Reade, Jr., With His New Steam Man in Mexico; or, Hot Work Among the Greasers, by âNonameâ 6. Frank Reade, Jr., With His New Steam Man Chasing a Gang of âRustlers;â or, Wild Adventures in Montana, by âNonameâ 7. Frank Reade, Jr., With His New Steam Horse; or, The Search for a Million Dollars. A Story of Wild Life in New Mexico, by âNonameâ 8. Frank Reade, Jr., With His New Steam Horse Among the Cowboys; or, the League of the Plains, by âNonameâ 9. Frank Reade, Jr., With His New Steam Horse in the Great American Desert; or, The Sandy Trail of Death, by âNonameâ 10. Frank Reade, Jr., With His New Steam Horse and the Mystery of the Underground Ranch, by âNonameâ 11. Frank Reade, Jr., With His New Steam Horse in Search of an Ancient Mine, by âNonameâ For sale by all newsdealers in the United States and Canada, or sent to your address, post-paid, on receipt of price. Address Box 2730, FRANK TOUSEY Publisher, 34 & 36 North Moore Street, New York. * * * * * Transcriberâs Notes: âNonameâ was used by the publisher for several different authors, and the author of this work is Harry Enton. Punctuation has been made consistent. Variations in spelling and hyphenation were retained as they appear in the original publication, except that obvious typos have been corrected. End of Project Gutenberg's Frank Reade and His Steam Horse, by Harry Enton\n",
      "\n",
      "together with my wife that we might throw open our home to you--ahem--you understand.\" \"We can settle it today,\" said Lyman. \"I believe you told me once that I ought to go away, or sent some word of that sort, I don't remember which, and I am now ready to take your advice.\" The banker sighed, and they walked along in silence until they came to the gate of Eva's home. \"Walk in,\" said McElwin. They stepped upon the veranda and Lyman saw Eva sitting in the parlor. She came running to meet him, forgetful of everything--came running with her hands held out. \"He has come to sign the petition,\" said the banker in a dry voice. \"Where is your mother?\" She drew back. \"In the garden I think,\" she answered. \"I will go after her,\" said McElwin. He walked away, heavy of foot. Eva turned to Lyman and asked him to sit down. He did so, and she remained standing. It reminded him of the night when they had met at the lantern picnic, only their position now were reversed, for then he had remained standing while she sat looking up at him. He took up a volume of Tennyson and opened it, and between the pages in front of him lay a faded clover bloom. \"A memory?\" he asked, looking at her. \"Yes, a beautiful memory. Some one plucked it, threw it up and it fell in my lap--one day at the creek.\" He looked at her searchingly. They heard McElwin in the garden calling his wife, \"Lucy, oh, Lucy. Where are you?\" \"Eva, I have not been honorable with you--I have held you not as a protector--I have held you selfishly--I love you.\" \"Lucy, where are you?\" the banker called. \"I have not dared to hope that you could love me--I'm old and ugly. But I worshipped you and I can not set you free. I told your father that I would come to sign the paper, and I spoke sarcastically to him, but I will beg his pardon, for I honor him.\" \"Lucy, come here, quick!\" the banker shouted in the garden. \"You did not think I could love you,\" she said, looking at him frankly, her eyes full of surprise and happiness; \"you did not know me. I told my mother that with you life would be joyous in a shanty. Oh, my husband.\" He got up quietly, the tears streaming down his face--he held out his arms. * * * * * \"Lucy, he has come to sign the paper.\" They were standing in the garden walk. She was almost breathless, having run to meet him. \"Oh, he must not,\" she said. \"It will kill her.\" \"He is going to sign it and we must be brave. Wait here till I fetch it,\" he said when they reached the rear veranda. She waited, tearful, trembling. He came with the paper and they stepped into the parlor. Lyman stood with his back toward them, his arms about Eva, her face hidden in his bosom. Mrs. McElwin held up her hands and then bowed her head with a whispered, \"Thank God.\" The banker stood there, quickly, but without noise, tearing the paper into bits. His wife held her arms out toward him. He opened his hand and the bits of paper fluttered to the floor. ***END OF THE PROJECT GUTENBERG EBOOK OLD EBENEZER*** ******* This file should be named 23215.txt or 23215.zip ******* This and all associated files of various formats will be found in: https://www.gutenberg.org/dirs/2/3/2/1/23215 Updated editions will replace the previous one--the old editions will be renamed. Creating the works from public domain print editions means that no one owns a United States copyright in these works, so the Foundation (and you!) can copy and distribute it in the United States without permission and without paying copyright royalties. Special rules, set forth in the General Terms of Use part of this license, apply to copying and distributing Project Gutenberg-tm electronic works to protect the PROJECT GUTENBERG-tm concept and trademark. Project Gutenberg is a registered trademark, and may not be used if you charge for the eBooks, unless you receive specific permission. If you do not charge anything for copies of this eBook, complying with the rules is very easy. You may use this eBook for nearly any purpose such as creation of derivative works, reports, performances and research. They may be modified and printed and given away--you may do practically ANYTHING with public domain eBooks. Redistribution is subject to the trademark license, especially commercial redistribution. *** START: FULL LICENSE *** THE FULL PROJECT GUTENBERG LICENSE PLEASE READ THIS BEFORE YOU DISTRIBUTE OR USE THIS WORK To protect the Project Gutenberg-tm mission of promoting the free distribution of electronic works, by using or distributing this work (or any other work associated in any way with the phrase \"Project Gutenberg\"), you agree to comply with all the terms of the Full Project Gutenberg-tm License (available with this file or online at https://www.gutenberg.org/license). Section 1. General Terms of Use and Redistributing Project Gutenberg-tm electronic works 1.A. By reading or using any part of this Project Gutenberg-tm electronic work, you indicate that you have read, understand, agree to and accept all the terms of this license and intellectual property (trademark/copyright) agreement. If you do not agree to abide by all the terms of this agreement, you must cease using and return or destroy all copies of Project Gutenberg-tm electronic works in your possession. If you paid a fee for obtaining a copy of or access to a Project Gutenberg-tm electronic work and you do not agree to be bound by the terms of this agreement, you may obtain a refund from the person or entity to whom you paid the fee as set forth in paragraph 1.E.8. 1.B. \"Project Gutenberg\" is a registered trademark. It may only be used on or associated in any way with an electronic work by people who agree to be bound by the terms\n",
      "\n",
      "We do not solicit donations in locations where we have not received written confirmation of compliance. To SEND DONATIONS or determine the status of compliance for any particular state visit http://www.gutenberg.org/fundraising/donate While we cannot and do not solicit contributions from states where we have not met the solicitation requirements, we know of no prohibition against accepting unsolicited donations from donors in such states who approach us with offers to donate. International donations are gratefully accepted, but we cannot make any statements concerning tax treatment of donations received from outside the United States. U.S. laws alone swamp our small staff. Please check the Project Gutenberg Web pages for current donation methods and addresses. Donations are accepted in a number of other ways including checks, online payments and credit card donations. To donate, please visit: http://www.gutenberg.org/fundraising/donate Section 5. General Information About Project Gutenberg-tm electronic works. Professor Michael S. Hart is the originator of the Project Gutenberg-tm concept of a library of electronic works that could be freely shared with anyone. For thirty years, he produced and distributed Project Gutenberg-tm eBooks with only a loose network of volunteer support. Project Gutenberg-tm eBooks are often created from several printed editions, all of which are confirmed as Public Domain in the U.S. unless a copyright notice is included. Thus, we do not necessarily keep eBooks in compliance with any particular paper edition. Most people start at our Web site which has the main PG search facility: http://www.gutenberg.org This Web site includes information about Project Gutenberg-tm, including how to make donations to the Project Gutenberg Literary Archive Foundation, how to help produce our new eBooks, and how to subscribe to our email newsletter to hear about new eBooks.\n",
      "\n",
      "eBooks are often created from several printed editions, all of which are confirmed as not protected by copyright in the U.S. unless a copyright notice is included. Thus, we do not necessarily keep eBooks in compliance with any particular paper edition. Most people start at our Web site which has the main PG search facility: www.gutenberg.org This Web site includes information about Project Gutenberg-tm, including how to make donations to the Project Gutenberg Literary Archive Foundation, how to help produce our new eBooks, and how to subscribe to our email newsletter to hear about new eBooks.\n",
      "\n",
      "&c., &c. THE LIFE OF CHRIST, in the Words of the Evangelists. A complete Harmony of the Gospel History of our Saviour. For the use of young Persons. Illustrated with Engravings after Chapman and others, by Adams. EVENINGS AT HOME; or, the Juvenile Budget Opened. By Dr. AIKIN and Mrs. BARBAULD. From the fifteenth London edition; Illustrated with Engravings after Harvey and Chapman, by Adams. VELASCO; A Tragedy, in five acts. By EPES SARGENT, Esq. THE WORKS OF LORD CHESTERFIELD Including his Letters to his Son, &c. To which is prefixed an original Life of the Author. THE HARMONY OF CHRISTIAN FAITH AND CHRISTIAN CHARACTER; AND THE CULTURE AND DISCIPLINE OF THE MIND. By JOHN ABERCROMBIE, M.D., F.R.S.E., Author of \"Inquiries concerning the Intellectual Powers and the Investigation of Truth,\" &c. A MANUAL OF CONCHOLOGY According to the System laid down by Lamarck, with the late Improvements by De Blainville. Exemplified and arranged for the Use of Students. By THOMAS WYATT, M.A. Illustrated by thirty-six plates containing more than two hundred types, drawn from the natural shell. PELAYO: a Story of the Goth. By the Author of \"Mellichampe,\" \"The Yemassee,\" \"Guy Rivers,\" &c. HOW TO OBSERVE: MORALS AND MANNERS. By HARRIET MARTINEAU. THE WORKS OF EDWARD LYTTON BULWER, ESQ. Containing Pelham; The Disowned; Devereux; Paul Clifford; Eugene Aram; The Last Days of Pompeii; The Pilgrims of the Rhine; Falkland; Rienzi; Ernest Maltravers, and Alice. PUBLIC AND PRIVATE ECONOMY. Illustrated by Observations made in England in the year 1836. Part second. By THEODORE SEDGWICK. INCIDENTS OF TRAVEL IN GREECE, TURKEY, RUSSIA, AND POLAND. By the Author of \"Incidents of Travel in Egypt, Arabia PetrÃ¦a, and the Holy Land.\" With a Map and Engravings. In two vols. THE NARRATIVE OF A. GORDON PYM, of Nantucket. Comprising the details of a Mutiny and atrocious Butchery on board the American brig Grampus, on her way to the South Seas, in the Month of June, 1827. RETROSPECT OF WESTERN TRAVEL. By HARRIET MARTINEAU, Author of \"Society in America.\" 2 vols. CALDERON, THE COURTIER. A Tale. By the Author of \"Pelham,\" \"Alice,\" \"Leila,\" &c, &c. THE AMERICAN SCHOOL LIBRARY. Published under the Direction of the American Society for the Diffusion of Useful Knowledge. BURTON; or, the Sieges. By J. H. INGRAHAM, Esq., Author of \"Lafitte,\" &c. 2 vols. SACRED HISTORY OF THE WORLD. By SHARON TURNER, LL.D. [Vol. III.--Family Library, No. 84.] THE WORKS OF MRS. SHERWOOD. Vol. 15. Containing Part Four of Henry Milner, &c., &c. THE ROBBER. By G. P. R. JAMES, Esq., Author of \"Richelieu,\" &c. 2 vols. GREAT BRITAIN, FRANCE, AND BELGIUM. A Short Tour in 1835. By HEMAN HUMPHREY, D.D. 2 vols. THE LADY OF LYONS: A Play. By E. L. BULWER, Esq. TRAVELS IN EUROPE: Viz., in Great Britain, France, Italy, Switzerland, Germany, and the Netherlands. By WILBUR FISK, D.D. CROMWELL: a Romance. By H. W. HERBERT, Esq., Author of \"The Brothers.\" 2 vols. ANECDOTICAL OLIO: Being a Collection of Literary, Moral, Religious, and Miscellaneous Anecdotes. By the Rev. Messrs. HOES and WAY. CELESTIAL SCENERY; Or, the Wonders of the Planetary System displayed; illustrating the Perfections of Deity and a Plurality of Worlds. By THOMAS DICK, LL.D. With Engravings. [Family Library, No. 83.] INCIDENTS OF TRAVEL IN EGYPT, ARABIA PETRÃA, AND THE HOLY LAND. By an American. With a Map and Engravings. 2 vols. THE MONK OF CIMIES, &c. By Mrs. SHERWOOD. With a Portrait. [Mrs. Sherwood's Works, vol. 14.] THE HISTORY OF AMELIA. By HENRY FIELDING, Esq. With Illustrations by CRUIKSHANK. LEILA; OR, THE SIEGE OF GRENADA. By E. L. BULWER, Esq. CAPTAIN KYD; Or, the Wizard of the Sea. By the Author of \"Burton,\" \"Lafitte,\" &c. 2 vols. ANTHON'S SERIES OF CLASSICAL WORKS FOR SCHOOLS AND COLLEGES. The following works, already published, may be regarded as specimens of the whole series, which will consist of about thirty volumes. FIRST LATIN LESSONS, containing the most important Parts of the Grammar of the Latin Language, together with appropriate Exercises in the translating and writing of Latin, for the Use of Beginners. FIRST GREEK LESSONS, containing the most important Parts of the Grammar of the Greek Language, together with appropriate Exercises in the translating and writing of Greek, for the Use of Beginners. A GRAMMAR OF THE GREEK LANGUAGE, for the Use of Schools and Colleges. A SYSTEM OF GREEK PROSODY AND METRE, for the Use of Schools and Colleges; together with the Choral Scanning of the Prometheus Vinctus of Ãschylus, and the Ajax and OEdipus Tyrannus of Sophocles; to which are appended Remarks on the Indo-Germanic Analogies. SALLUST'S JUGURTHINE WAR AND CONSPIRACY OF CATALINE, with an English Commentary, and Geographical and Historical Indexes. CÃSAR'S COMMENTARIES ON THE GALLIC WAR; with the first Book of the Greek Paraphrase; with English Notes, critical and explanatory, Plans of Battles, Seiges, &c., and Historical, Geographical, and ArchÃ¦ological Indexes. With a Map, Portrait, &c. SELECT ORATIONS OF CICERO, with an English Commentary, and Historical, Geographical, and Legal Indexes. With a Portrait. End of Project Gutenberg's Captain Kyd (Vol 1 of 2), by Jonathon Holt Ingraham\n",
      "\n",
      "See paragraph 1.C below. There are a lot of things you can do with Project Gutenberg-tm electronic works if you follow the terms of this agreement and help preserve free future access to Project Gutenberg-tm electronic works. See paragraph 1.E below. 1.C. The Project Gutenberg Literary Archive Foundation (\"the Foundation\" or PGLAF), owns a compilation copyright in the collection of Project Gutenberg-tm electronic works. Nearly all the individual works in the collection are in the public domain in the United States. If an individual work is in the public domain in the United States and you are located in the United States, we do not claim a right to prevent you from copying, distributing, performing, displaying or creating derivative works based on the work as long as all references to Project Gutenberg are removed. Of course, we hope that you will support the Project Gutenberg-tm mission of promoting free access to electronic works by freely sharing Project Gutenberg-tm works in compliance with the terms of this agreement for keeping the Project Gutenberg-tm name associated with the work. You can easily comply with the terms of this agreement by keeping this work in the same format with its attached full Project Gutenberg-tm License when you share it without charge with others. 1.D. The copyright laws of the place where you are located also govern what you can do with this work. Copyright laws in most countries are in a constant state of change. If you are outside the United States, check the laws of your country in addition to the terms of this agreement before downloading, copying, displaying, performing, distributing or creating derivative works based on this work or any other Project Gutenberg-tm work. The Foundation makes no representations concerning the copyright status of any work in any country outside the United States. 1.E. Unless you have removed all references to Project Gutenberg: 1.E.1. The following sentence, with active links to, or other immediate access to, the full Project Gutenberg-tm License must appear prominently whenever any copy of a Project Gutenberg-tm work (any work on which the phrase \"Project Gutenberg\" appears, or with which the phrase \"Project Gutenberg\" is associated) is accessed, displayed, performed, viewed, copied or distributed: This eBook is for the use of anyone anywhere at no cost and with almost no restrictions whatsoever. You may copy it, give it away or re-use it under the terms of the Project Gutenberg License included with this eBook or online at www.gutenberg.org 1.E.2. If an individual Project Gutenberg-tm electronic work is derived from the public domain (does not contain a notice indicating that it is posted with permission of the copyright holder), the work can be copied and distributed to anyone in the United States without paying any fees or charges. If you are redistributing or providing access to a work with the phrase \"Project Gutenberg\" associated with or appearing on the work, you must comply either with the requirements of paragraphs 1.E.1 through 1.E.7 or obtain permission for the use of the work and the Project Gutenberg-tm trademark as set forth in paragraphs 1.E.8 or 1.E.9. 1.E.3. If an individual Project Gutenberg-tm electronic work is posted with the permission of the copyright holder, your use and distribution must comply with both paragraphs 1.E.1 through 1.E.7 and any additional terms imposed by the copyright holder. Additional terms will be linked to the Project Gutenberg-tm License for all works posted with the permission of the copyright holder found at the beginning of this work. 1.E.4. Do not unlink or detach or remove the full Project Gutenberg-tm License terms from this work, or any files containing a part of this work or any other work associated with Project Gutenberg-tm. 1.E.5. Do not copy, display, perform, distribute or redistribute this electronic work, or any part of this electronic work, without prominently displaying the sentence set forth in paragraph 1.E.1 with active links or immediate access to the full terms of the Project Gutenberg-tm License. 1.E.6. You may convert to and distribute this work in any binary, compressed, marked up, nonproprietary or proprietary form, including any word processing or hypertext form. However, if you provide access to or distribute copies of a Project Gutenberg-tm work in a format other than \"Plain Vanilla ASCII\" or other format used in the official version posted on the official Project Gutenberg-tm web site (www.gutenberg.org), you must, at no additional cost, fee or expense to the user, provide a copy, a means of exporting a copy, or a means of obtaining a copy upon request, of the work in its original \"Plain Vanilla ASCII\" or other form. Any alternate format must include the full Project Gutenberg-tm License as specified in paragraph 1.E.1. 1.E.7. Do not charge a fee for access to, viewing, displaying, performing, copying or distributing any Project Gutenberg-tm works unless you comply with paragraph 1.E.8 or 1.E.9. 1.E.8. You may charge a reasonable fee for copies of or providing access to or distributing Project Gutenberg-tm electronic works provided that - You pay a royalty fee of 20% of the gross profits you derive from the use of Project Gutenberg-tm works calculated using the method you already use to calculate your applicable taxes. The fee is owed to the owner of the Project Gutenberg-tm trademark, but he has agreed to donate royalties under this paragraph to the Project Gutenberg Literary Archive Foundation. Royalty payments must be paid within 60 days following each date on which you prepare (or are legally required to prepare) your periodic tax returns. Royalty payments should be clearly marked as such and sent to the Project Gutenberg Literary Archive Foundation at the address specified in Section 4, \"Information about donations to the Project Gutenberg Literary Archive Foundation.\" - You provide a full refund of any money paid by a user who notifies you in writing (or by e-mail) within 30 days of receipt that s/he does not agree to the terms of the full Project Gutenberg-tm License. You must require such a user to return\n",
      "\n",
      "the United States, check the laws of your country in addition to the terms of this agreement before downloading, copying, displaying, performing, distributing or creating derivative works based on this work or any other Project Gutenberg-tm work. The Foundation makes no representations concerning the copyright status of any work in any country outside the United States. 1.E. Unless you have removed all references to Project Gutenberg: 1.E.1. The following sentence, with active links to, or other immediate access to, the full Project Gutenberg-tm License must appear prominently whenever any copy of a Project Gutenberg-tm work (any work on which the phrase \"Project Gutenberg\" appears, or with which the phrase \"Project Gutenberg\" is associated) is accessed, displayed, performed, viewed, copied or distributed: This eBook is for the use of anyone anywhere at no cost and with almost no restrictions whatsoever. You may copy it, give it away or re-use it under the terms of the Project Gutenberg License included with this eBook or online at www.gutenberg.org 1.E.2. If an individual Project Gutenberg-tm electronic work is derived from the public domain (does not contain a notice indicating that it is posted with permission of the copyright holder), the work can be copied and distributed to anyone in the United States without paying any fees or charges. If you are redistributing or providing access to a work with the phrase \"Project Gutenberg\" associated with or appearing on the work, you must comply either with the requirements of paragraphs 1.E.1 through 1.E.7 or obtain permission for the use of the work and the Project Gutenberg-tm trademark as set forth in paragraphs 1.E.8 or 1.E.9. 1.E.3. If an individual Project Gutenberg-tm electronic work is posted with the permission of the copyright holder, your use and distribution must comply with both paragraphs 1.E.1 through 1.E.7 and any additional terms imposed by the copyright holder. Additional terms will be linked to the Project Gutenberg-tm License for all works posted with the permission of the copyright holder found at the beginning of this work. 1.E.4. Do not unlink or detach or remove the full Project Gutenberg-tm License terms from this work, or any files containing a part of this work or any other work associated with Project Gutenberg-tm. 1.E.5. Do not copy, display, perform, distribute or redistribute this electronic work, or any part of this electronic work, without prominently displaying the sentence set forth in paragraph 1.E.1 with active links or immediate access to the full terms of the Project Gutenberg-tm License. 1.E.6. You may convert to and distribute this work in any binary, compressed, marked up, nonproprietary or proprietary form, including any word processing or hypertext form. However, if you provide access to or distribute copies of a Project Gutenberg-tm work in a format other than \"Plain Vanilla ASCII\" or other format used in the official version posted on the official Project Gutenberg-tm web site (www.gutenberg.org), you must, at no additional cost, fee or expense to the user, provide a copy, a means of exporting a copy, or a means of obtaining a copy upon request, of the work in its original \"Plain Vanilla ASCII\" or other form. Any alternate format must include the full Project Gutenberg-tm License as specified in paragraph 1.E.1. 1.E.7. Do not charge a fee for access to, viewing, displaying, performing, copying or distributing any Project Gutenberg-tm works unless you comply with paragraph 1.E.8 or 1.E.9. 1.E.8. You may charge a reasonable fee for copies of or providing access to or distributing Project Gutenberg-tm electronic works provided that - You pay a royalty fee of 20% of the gross profits you derive from the use of Project Gutenberg-tm works calculated using the method you already use to calculate your applicable taxes. The fee is owed to the owner of the Project Gutenberg-tm trademark, but he has agreed to donate royalties under this paragraph to the Project Gutenberg Literary Archive Foundation. Royalty payments must be paid within 60 days following each date on which you prepare (or are legally required to prepare) your periodic tax returns. Royalty payments should be clearly marked as such and sent to the Project Gutenberg Literary Archive Foundation at the address specified in Section 4, \"Information about donations to the Project Gutenberg Literary Archive Foundation.\" - You provide a full refund of any money paid by a user who notifies you in writing (or by e-mail) within 30 days of receipt that s/he does not agree to the terms of the full Project Gutenberg-tm License. You must require such a user to return or destroy all copies of the works possessed in a physical medium and discontinue all use of and all access to other copies of Project Gutenberg-tm works. - You provide, in accordance with paragraph 1.F.3, a full refund of any money paid for a work or a replacement copy, if a defect in the electronic work is discovered and reported to you within 90 days of receipt of the work. - You comply with all other terms of this agreement for free distribution of Project Gutenberg-tm works. 1.E.9. If you wish to charge a fee or distribute a Project Gutenberg-tm electronic work or group of works on different terms than are set forth in this agreement, you must obtain permission in writing from both the Project Gutenberg Literary Archive Foundation and Michael Hart, the owner of the Project Gutenberg-tm trademark. Contact the Foundation as set forth in Section 3 below. 1.F. 1.F.1. Project Gutenberg volunteers and employees expend considerable effort to identify, do copyright research on, transcribe and proofread public domain works in creating the Project Gutenberg-tm collection. Despite these efforts, Project Gutenberg-tm electronic works, and the medium on which they may be stored, may contain \"Defects,\" such as, but not limited to, incomplete, inaccurate or corrupt data, transcription errors, a copyright or other intellectual property infringement, a defective or damaged disk or other medium, a computer virus, or computer codes that damage or cannot be read by your equipment. 1.F.2. LIMITED WARRANTY, DISCLAIMER OF DAMAGES\n",
      "\n",
      "steps, and he feels that in answer to prayer, his appetite for strong drink has been taken away. Life with Mrs. Clifford has become a thing of brightness and beauty, and when children sprang up in her path making gladness and sunshine around her home, she was a wife and tender mother, fond but not foolish; firm in her household government, but not stern and unsympathising in her manner. The faithful friend and companion of her daughters, she won their confidence by her loving care and tender caution. She taught them to come to her in their hours of perplexity and trial and to keep no secrets from her sympathising heart. She taught her sons to be as upright in their lives and as pure in their conversation as she would have her daughters, recognizing for each only one code of morals and one law of spiritual life, and in course of time she saw her daughters ripening into such a beautiful womanhood, and her sons entering the arena of life not with the simplicity which is ignorant of danger and evil, but with the sterling integrity which baffles the darts of temptation with the panoply of principle and the armor of uprightness. Unconsciously she elevated the tone of society in which she moved by a life which was a beautiful and earnest expression of patient continuance in well doing. Paul Clifford's life has been a grand success, not in the mere accumulation of wealth, but in the enrichment of his moral and spiritual nature. He is still ever ready to lend a helping hand. He has not lived merely for wealth and enjoyment, but happiness, lasting and true springs up in his soul as naturally as a flower leaps into blossoms, and whether he is loved or hated, honored or forgotten, he constantly endeavors to make the world better by his example and gladdened by his presence feeling that if every one would be faithful to duty that even here, Eden would spring up in our path, and Paradise be around our way. Notes 1. This installment is numbered as a second Chapter I in the original. 2. The original reads \"Jeanette Romaine.\" 3. The original reads \"Mr. Roland.\" 4. The original reads \"to showing.\" 5. The phrase \"that of\" is repeated in the original. 6. A note from the _Christian Recorder_ follows this paragraph: \"[The rest of this chapter was crowded out. It will appear next week.]\" 7. The original reads: \"if once [or possibly \"one\"] subject to the lest excitement.\" 8. The original reads \"and there was a tone of bitterness in the tone of John Anderson.\" 9. The original reads \"by an old friend and college and class mate of mine.\" 10. The original reads \"out of those shoulders spring two serpents.\" ***END OF THE PROJECT GUTENBERG EBOOK SOWING AND REAPING*** ******* This file should be named 11022.txt or 11022.zip ******* This and all associated files of various formats will be found in: https://www.gutenberg.org/1/1/0/2/11022 Updated editions will replace the previous one--the old editions will be renamed. Creating the works from public domain print editions means that no one owns a United States copyright in these works, so the Foundation (and you!) can copy and distribute it in the United States without permission and without paying copyright royalties. Special rules, set forth in the General Terms of Use part of this license, apply to copying and distributing Project Gutenberg-tm electronic works to protect the PROJECT GUTENBERG-tm concept and trademark. Project Gutenberg is a registered trademark, and may not be used if you charge for the eBooks, unless you receive specific permission. If you do not charge anything for copies of this eBook, complying with the rules is very easy. You may use this eBook for nearly any purpose such as creation of derivative works, reports, performances and research. They may be modified and printed and given away--you may do practically ANYTHING with public domain eBooks. Redistribution is subject to the trademark license, especially commercial redistribution. *** START: FULL LICENSE *** THE FULL PROJECT GUTENBERG LICENSE PLEASE READ THIS BEFORE YOU DISTRIBUTE OR USE THIS WORK To protect the Project Gutenberg-tm mission of promoting the free distribution of electronic works, by using or distributing this work (or any other work associated in any way with the phrase \"Project Gutenberg\"), you agree to comply with all the terms of the Full Project Gutenberg-tm License (available with this file or online at https://gutenberg.org/license). Section 1. General Terms of Use and Redistributing Project Gutenberg-tm electronic works 1.A. By reading or using any part of this Project Gutenberg-tm electronic work, you indicate that you have read, understand, agree to and accept all the terms of this license and intellectual property (trademark/copyright) agreement. If you do not agree to abide by all the terms of this agreement, you must cease using and return or destroy all copies of Project Gutenberg-tm electronic works in your possession. If you paid a fee for obtaining a copy of or access to a Project Gutenberg-tm electronic work and you do not agree to be bound by the terms of this agreement, you may obtain a refund from the person or entity to whom you paid the fee as set forth in paragraph 1.E.8. 1.B. \"Project Gutenberg\" is a registered trademark. It may only be used on or associated in any way with an electronic work by people who agree to be bound by the terms of this agreement. There are a few things that you can do with most Project Gutenberg-tm electronic works even without complying with the full terms of this agreement. See paragraph 1.C below. There are a lot of things you can do with Project Gutenberg-tm electronic works if you follow the terms of this agreement and help preserve free future access to Project Gutenberg-tm electronic works. See paragraph 1.E below. 1.C. The Project Gutenberg Literary Archive Foundation (\"the Foundation\" or PGLAF), owns a compilation copyright in the collection of Project Gutenberg-tm electronic works.\n",
      "\n",
      "Compostella. This it has been my good fortune already to accomplish, our ship having been driven, by a storm, into a port of Gallicia. Not thinking this penance enough for my sins, I resolved to continue my pains, and neither doff my pilgrim's cap, nor do on my shoes, until I had reached your favour's castle of the Cork-tree.\" \"I welcome thee to it, again, and for thy life; and I congratulate thee, that thou art relieved of the love of war; wherein, thou wilt find, I have somewhat preceded thee. Enter, and be at peace.--When thou art rested a little, I shall desire of thee to speak,--for very impatient am I to know,--what circumstances of marvel and renown, of romance and chivalry, have distinguished the last days of Tenochtitlan.\" ***END OF THE PROJECT GUTENBERG EBOOK CALAVAR*** ******* This file should be named 34121-8.txt or 34121-8.zip ******* This and all associated files of various formats will be found in: http://www.gutenberg.org/dirs/3/4/1/2/34121 Updated editions will replace the previous one--the old editions will be renamed. Creating the works from public domain print editions means that no one owns a United States copyright in these works, so the Foundation (and you!) can copy and distribute it in the United States without permission and without paying copyright royalties. Special rules, set forth in the General Terms of Use part of this license, apply to copying and distributing Project Gutenberg-tm electronic works to protect the PROJECT GUTENBERG-tm concept and trademark. Project Gutenberg is a registered trademark, and may not be used if you charge for the eBooks, unless you receive specific permission. If you do not charge anything for copies of this eBook, complying with the rules is very easy. You may use this eBook for nearly any purpose such as creation of derivative works, reports, performances and research. They may be modified and printed and given away--you may do practically ANYTHING with public domain eBooks. Redistribution is subject to the trademark license, especially commercial redistribution. *** START: FULL LICENSE *** THE FULL PROJECT GUTENBERG LICENSE PLEASE READ THIS BEFORE YOU DISTRIBUTE OR USE THIS WORK To protect the Project Gutenberg-tm mission of promoting the free distribution of electronic works, by using or distributing this work (or any other work associated in any way with the phrase \"Project Gutenberg\"), you agree to comply with all the terms of the Full Project Gutenberg-tm License (available with this file or online at http://www.gutenberg.org/license). Section 1. General Terms of Use and Redistributing Project Gutenberg-tm electronic works 1.A. By reading or using any part of this Project Gutenberg-tm electronic work, you indicate that you have read, understand, agree to and accept all the terms of this license and intellectual property (trademark/copyright) agreement. If you do not agree to abide by all the terms of this agreement, you must cease using and return or destroy all copies of Project Gutenberg-tm electronic works in your possession. If you paid a fee for obtaining a copy of or access to a Project Gutenberg-tm electronic work and you do not agree to be bound by the terms of this agreement, you may obtain a refund from the person or entity to whom you paid the fee as set forth in paragraph 1.E.8. 1.B. \"Project Gutenberg\" is a registered trademark. It may only be used on or associated in any way with an electronic work by people who agree to be bound by the terms of this agreement. There are a few things that you can do with most Project Gutenberg-tm electronic works even without complying with the full terms of this agreement. See paragraph 1.C below. There are a lot of things you can do with Project Gutenberg-tm electronic works if you follow the terms of this agreement and help preserve free future access to Project Gutenberg-tm electronic works. See paragraph 1.E below. 1.C. The Project Gutenberg Literary Archive Foundation (\"the Foundation\" or PGLAF), owns a compilation copyright in the collection of Project Gutenberg-tm electronic works. Nearly all the individual works in the collection are in the public domain in the United States. If an individual work is in the public domain in the United States and you are located in the United States, we do not claim a right to prevent you from copying, distributing, performing, displaying or creating derivative works based on the work as long as all references to Project Gutenberg are removed. Of course, we hope that you will support the Project Gutenberg-tm mission of promoting free access to electronic works by freely sharing Project Gutenberg-tm works in compliance with the terms of this agreement for keeping the Project Gutenberg-tm name associated with the work. You can easily comply with the terms of this agreement by keeping this work in the same format with its attached full Project Gutenberg-tm License when you share it without charge with others. 1.D. The copyright laws of the place where you are located also govern what you can do with this work. Copyright laws in most countries are in a constant state of change. If you are outside the United States, check the laws of your country in addition to the terms of this agreement before downloading, copying, displaying, performing, distributing or creating derivative works based on this work or any other Project Gutenberg-tm work. The Foundation makes no representations concerning the copyright status of any work in any country outside the United States. 1.E. Unless you have removed all references to Project Gutenberg: 1.E.1. The following sentence, with active links to, or other immediate access to, the full Project Gutenberg-tm License must appear prominently whenever any copy of a Project Gutenberg-tm work (any work on which the phrase \"Project Gutenberg\" appears, or with which the phrase \"Project Gutenberg\" is associated) is accessed, displayed, performed, viewed, copied or distributed: This eBook is for the use of anyone anywhere at no cost and with almost no restrictions whatsoever. You may copy it, give it away or re-use it under the terms of the Project Gutenberg\n",
      "\n",
      "of a refund. If you received the work electronically, the person or entity providing it to you may choose to give you a second opportunity to receive the work electronically in lieu of a refund. If the second copy is also defective, you may demand a refund in writing without further opportunities to fix the problem. 1.F.4. Except for the limited right of replacement or refund set forth in paragraph 1.F.3, this work is provided to you Ã¢ÂÂAS-IS,Ã¢ÂÂ WITH NO OTHER WARRANTIES OF ANY KIND, EXPRESS OR IMPLIED, INCLUDING BUT NOT LIMITED TO WARRANTIES OF MERCHANTIBILITY OR FITNESS FOR ANY PURPOSE. 1.F.5. Some states do not allow disclaimers of certain implied warranties or the exclusion or limitation of certain types of damages. If any disclaimer or limitation set forth in this agreement violates the law of the state applicable to this agreement, the agreement shall be interpreted to make the maximum disclaimer or limitation permitted by the applicable state law. The invalidity or unenforceability of any provision of this agreement shall not void the remaining provisions. 1.F.6. INDEMNITY Ã¢ÂÂ You agree to indemnify and hold the Foundation, the trademark owner, any agent or employee of the Foundation, anyone providing copies of Project GutenbergÃ¢ÂÂ¢ electronic works in accordance with this agreement, and any volunteers associated with the production, promotion and distribution of Project GutenbergÃ¢ÂÂ¢ electronic works, harmless from all liability, costs and expenses, including legal fees, that arise directly or indirectly from any of the following which you do or cause to occur: (a) distribution of this or any Project GutenbergÃ¢ÂÂ¢ work, (b) alteration, modification, or additions or deletions to any Project GutenbergÃ¢ÂÂ¢ work, and (c) any Defect you cause. Section 2. Information about the Mission of Project GutenbergÃ¢ÂÂ¢ Project GutenbergÃ¢ÂÂ¢ is synonymous with the free distribution of electronic works in formats readable by the widest variety of computers including obsolete, old, middle-aged and new computers. It exists because of the efforts of hundreds of volunteers and donations from people in all walks of life. Volunteers and financial support to provide volunteers with the assistance they need, is critical to reaching Project GutenbergÃ¢ÂÂ¢Ã¢ÂÂs goals and ensuring that the Project GutenbergÃ¢ÂÂ¢ collection will remain freely available for generations to come. In 2001, the Project Gutenberg Literary Archive Foundation was created to provide a secure and permanent future for Project GutenbergÃ¢ÂÂ¢ and future generations. To learn more about the Project Gutenberg Literary Archive Foundation and how your efforts and donations can help, see Sections 3 and 4 and the Foundation web page at http://www.pglaf.org. Section 3. Information about the Project Gutenberg Literary Archive Foundation The Project Gutenberg Literary Archive Foundation is a non profit 501(c)(3) educational corporation organized under the laws of the state of Mississippi and granted tax exempt status by the Internal Revenue Service. The FoundationÃ¢ÂÂs EIN or federal tax identification number is 64-6221541. Its 501(c)(3) letter is posted at http://www.gutenberg.org/fundraising/pglaf. Contributions to the Project Gutenberg Literary Archive Foundation are tax deductible to the full extent permitted by U.S. federal laws and your stateÃ¢ÂÂs laws. The FoundationÃ¢ÂÂs principal office is located at 4557 Melan Dr. S. Fairbanks, AK, 99712., but its volunteers and employees are scattered throughout numerous locations. Its business office is located at 809 North 1500 West, Salt Lake City, UT 84116, (801) 596-1887, email business@pglaf.org. Email contact links and up to date contact information can be found at the FoundationÃ¢ÂÂs web site and official page at http://www.pglaf.org For additional contact information: Dr. Gregory B. Newby Chief Executive and Director gbnewby@pglaf.org Section 4. Information about Donations to the Project Gutenberg Literary Archive Foundation Project GutenbergÃ¢ÂÂ¢ depends upon and cannot survive without wide spread public support and donations to carry out its mission of increasing the number of public domain and licensed works that can be freely distributed in machine readable form accessible by the widest array of equipment including outdated equipment. Many small donations ($1 to $5,000) are particularly important to maintaining tax exempt status with the IRS. The Foundation is committed to complying with the laws regulating charities and charitable donations in all 50 states of the United States. Compliance requirements are not uniform and it takes a considerable effort, much paperwork and many fees to meet and keep up with these requirements. We do not solicit donations in locations where we have not received written confirmation of compliance. To SEND DONATIONS or determine the status of compliance for any particular state visit http://www.gutenberg.org/fundraising/donate While we cannot and do not solicit contributions from states where we have not met the solicitation requirements, we know of no prohibition against accepting unsolicited donations from donors in such states who approach us with offers to donate. International donations are gratefully accepted, but we cannot make any statements concerning tax treatment of donations received from outside the United States. U.S. laws alone swamp our small staff. Please check the Project Gutenberg Web pages for current donation methods and addresses. Donations are accepted in a number of other ways including checks, online payments and credit card donations. To donate, please visit: http://www.gutenberg.org/fundraising/donate Section 5. General Information About Project GutenbergÃ¢ÂÂ¢ electronic works. Professor Michael S. Hart is the originator of the Project GutenbergÃ¢ÂÂ¢ concept of a library of electronic works that could be freely shared with anyone. For thirty years, he produced and distributed Project GutenbergÃ¢ÂÂ¢ eBooks with only a loose network of volunteer support. Project GutenbergÃ¢ÂÂ¢ eBooks are often created from several printed editions, all of which are confirmed as Public Domain in the U.S. unless a copyright notice is included. Thus, we do not necessarily keep eBooks in compliance with any particular paper edition. Each eBook is in a subdirectory of the same number as the eBookÃ¢ÂÂs eBook number, often in several formats including plain vanilla ASCII, compressed (zipped), HTML and others. Corrected _editions_ of our eBooks replace the old file and take over the old filename and etext number. The replaced older file is renamed. _Versions_ based on separate sources are treated as new eBooks receiving new filenames and etext numbers.\n",
      "\n",
      "left that same evening and returning to Reno started up the Sierras. I confess that a feeling of something like desolation took possession of me. The region was so dreary, it seemed to me that only my husband was between me and chaos. After leaving Reno a couple of hours, we entered the snow sheds and I went to sleep with a thought that I was under a mountain of snow. I wakened next morning in Sacramento and when I looked out the birds were singing and flowers were blooming around me. Before noon we reached San Francisco and drove to the Palace. There we were met by a gentleman named Miller, the one that made for father our money. He is very rich. He told husband that he had been \"coppering\" the market ever since he came to the city and had \"taken every trick.\" Later I asked husband what \"coppering\" meant and he smiled and said: \"betting that it will not win.\" I do not quite understand it yet, but I know it is right for husband says so. This Mr. Miller told husband that he was going to make me a present and that he must not say a word at which Sammy said \"go ahead.\" Then he handed me a little package but said I must not open it until I reached home. What do you think? It is a diamond cluster which the cost of must have been fifteen hundred dollars. In San Francisco I found the most delicious flowers I ever saw. Tell aunty, too, that there are no such hotels, as one or two in San Francisco, \"not even in Boston.\" There are splendid churches and theatres. The Bay is beautiful, the park is going to be grand, the ladies dress most richly. We sailed over to Saucelito and San Rafael, looked out through the Golden Gate--in short, ran around for a week. Then we came directly home, reaching this place last night. A charming supper was in waiting, and, all smiles, the Chinaman who prepared it was in attendance. His name is Yap Sing, and he has been with husband ever since his first return from the East. He was the cook for the Club which you have heard our husbands talk about, and of course knew father. He fairly ran over with joy at our coming, and such a cook as he is. I would like to hear what Aunt Martha would say to one of his dinners. But husband pays him forty dollars a month. Is not that a dreadful price for a cook? We have received good news since coming home. Husband's mine in Arizona is yielding him for his one-half interest twelve hundred and fifty dollars per month. My house is a beautiful cottage, with broad halls and verandas, and is furnished elegantly all through. My heart runs over with gratitude. My soul is on its knees in thankfulness all the time. I believe I am the happiest woman in the world. \"The truest and best of men\" sits across the room writing letter after letter, clearing up a delayed correspondence. He is handsomer than on that day when I first looked in his eyes, and knew in an instant that he was my fate, that I should worship him forever, whether he knew it or not; that if he did not ask me to be his wife, I should never be a wife, but by myself should walk through life bearing my burdens as humbly and bravely as I could, and keeping my heart warm by the flame in the vestal lamp which his smile had kindled within it. Now heaven has opened to me, and so jubilant is my heart that I can feel it throbbing as I write, and with a thankfulness unspeakable I worship at my hero's feet. With warmest love to you, dear sister, and to your husband and Auntie, in which my other self joins heartily, I am Your loving sister, MILDRED BREWSTER HARDING. P. S.--Sister: This morning as we sat here I asked my lord why he and your husband clasped hands over our father's coffin. Waiting a moment, he answered that on the journey East with father's body, your husband and himself made a covenant together that henceforth, whatever might happen, they would watch over us as a sacred trust received from our father, and that the hand-clasp was but an involuntary pledge of the sincerity of that compact. Can we ever be good enough wives to these men who do not half realize how grand they are? Love and kisses, MILDRED. End of Project Gutenberg's The Comstock Club, by Charles Carroll Goodwin\n",
      "\n",
      "and you are located in the United States, we do not claim a right to prevent you from copying, distributing, performing, displaying or creating derivative works based on the work as long as all references to Project Gutenberg are removed. Of course, we hope that you will support the Project Gutenberg-tm mission of promoting free access to electronic works by freely sharing Project Gutenberg-tm works in compliance with the terms of this agreement for keeping the Project Gutenberg-tm name associated with the work. You can easily comply with the terms of this agreement by keeping this work in the same format with its attached full Project Gutenberg-tm License when you share it without charge with others. 1.D. The copyright laws of the place where you are located also govern what you can do with this work. Copyright laws in most countries are in a constant state of change. If you are outside the United States, check the laws of your country in addition to the terms of this agreement before downloading, copying, displaying, performing, distributing or creating derivative works based on this work or any other Project Gutenberg-tm work. The Foundation makes no representations concerning the copyright status of any work in any country outside the United States. 1.E. Unless you have removed all references to Project Gutenberg: 1.E.1. The following sentence, with active links to, or other immediate access to, the full Project Gutenberg-tm License must appear prominently whenever any copy of a Project Gutenberg-tm work (any work on which the phrase \"Project Gutenberg\" appears, or with which the phrase \"Project Gutenberg\" is associated) is accessed, displayed, performed, viewed, copied or distributed: This eBook is for the use of anyone anywhere at no cost and with almost no restrictions whatsoever. You may copy it, give it away or re-use it under the terms of the Project Gutenberg License included with this eBook or online at www.gutenberg.org 1.E.2. If an individual Project Gutenberg-tm electronic work is derived from the public domain (does not contain a notice indicating that it is posted with permission of the copyright holder), the work can be copied and distributed to anyone in the United States without paying any fees or charges. If you are redistributing or providing access to a work with the phrase \"Project Gutenberg\" associated with or appearing on the work, you must comply either with the requirements of paragraphs 1.E.1 through 1.E.7 or obtain permission for the use of the work and the Project Gutenberg-tm trademark as set forth in paragraphs 1.E.8 or 1.E.9. 1.E.3. If an individual Project Gutenberg-tm electronic work is posted with the permission of the copyright holder, your use and distribution must comply with both paragraphs 1.E.1 through 1.E.7 and any additional terms imposed by the copyright holder. Additional terms will be linked to the Project Gutenberg-tm License for all works posted with the permission of the copyright holder found at the beginning of this work. 1.E.4. Do not unlink or detach or remove the full Project Gutenberg-tm License terms from this work, or any files containing a part of this work or any other work associated with Project Gutenberg-tm. 1.E.5. Do not copy, display, perform, distribute or redistribute this electronic work, or any part of this electronic work, without prominently displaying the sentence set forth in paragraph 1.E.1 with active links or immediate access to the full terms of the Project Gutenberg-tm License. 1.E.6. You may convert to and distribute this work in any binary, compressed, marked up, nonproprietary or proprietary form, including any word processing or hypertext form. However, if you provide access to or distribute copies of a Project Gutenberg-tm work in a format other than \"Plain Vanilla ASCII\" or other format used in the official version posted on the official Project Gutenberg-tm web site (www.gutenberg.org), you must, at no additional cost, fee or expense to the user, provide a copy, a means of exporting a copy, or a means of obtaining a copy upon request, of the work in its original \"Plain Vanilla ASCII\" or other form. Any alternate format must include the full Project Gutenberg-tm License as specified in paragraph 1.E.1. 1.E.7. Do not charge a fee for access to, viewing, displaying, performing, copying or distributing any Project Gutenberg-tm works unless you comply with paragraph 1.E.8 or 1.E.9. 1.E.8. You may charge a reasonable fee for copies of or providing access to or distributing Project Gutenberg-tm electronic works provided that - You pay a royalty fee of 20% of the gross profits you derive from the use of Project Gutenberg-tm works calculated using the method you already use to calculate your applicable taxes. The fee is owed to the owner of the Project Gutenberg-tm trademark, but he has agreed to donate royalties under this paragraph to the Project Gutenberg Literary Archive Foundation. Royalty payments must be paid within 60 days following each date on which you prepare (or are legally required to prepare) your periodic tax returns. Royalty payments should be clearly marked as such and sent to the Project Gutenberg Literary Archive Foundation at the address specified in Section 4, \"Information about donations to the Project Gutenberg Literary Archive Foundation.\" - You provide a full refund of any money paid by a user who notifies you in writing (or by e-mail) within 30 days of receipt that s/he does not agree to the terms of the full Project Gutenberg-tm License. You must require such a user to return or destroy all copies of the works possessed in a physical medium and discontinue all use of and all access to other copies of Project Gutenberg-tm works. - You provide, in accordance with paragraph 1.F.3, a full refund of any money paid for a work or a replacement copy, if a defect in the electronic work is discovered and reported to you within 90 days of receipt of the work. - You comply with all other terms of this agreement for free distribution of Project Gutenberg-tm works. 1.E.9. If you wish to charge a\n",
      "\n",
      "I will go and look at that.\" Robert bethought himself suddenly that Edward had better not. \"I can tell you the time to a second,\" he said. \"It's now twelve minutes past eleven.\" Edward held his watch balancing. \"Twelve,\" he repeated; and, behind this mask of common-place dialogue, they watched one another--warily, and still with pity, on Robert's side. \"You can't place any reliance on watches,\" said Edward. \"None, I believe,\" Robert remarked. \"If you could see the sun every day in this climate!\" Edward looked up. \"Ah, the sun's the best timepiece, when visible,\" Robert acquiesced. \"Backwoodsmen in America don't need watches.\" \"Unless it is to astonish the Indians with them.\" \"Ah! yes!\" hummed Robert. \"Twelve--fifteen--it must be a quarter past. Or, a three quarters to the next hour, as the Germans say.\" \"Odd!\" Robert ejaculated. \"Foreigners have the queerest ways in the world. They mean no harm, but they make you laugh.\" \"They think the same of us, and perhaps do the laughing more loudly.\" \"Ah! let them,\" said Robert, not without contemptuous indignation, though his mind was far from the talk. The sweat was on Edward's forehead. \"In a few minutes it will be half-past--half-past eleven! I expect a friend; that makes me impatient. Mr. Eccles\"--Edward showed his singular, smallish, hard-cut and flashing features, clear as if he had blown off a mist--\"you are too much of a man to bear malice. Where is Dahlia? Tell me at once. Some one seems to be cruelly driving her. Has she lost her senses? She has:--or else she is coerced in an inexplicable and shameful manner.\" \"Mr. Blancove,\" said Robert, \"I bear you not a bit of malice--couldn't if I would. I'm not sure I could have said guilty to the same sort of things, in order to tell an enemy of mine I was sorry for what I had done, and I respect you for your courage. Dahlia was taken from here by me.\" Edward nodded, as if briefly assenting, while his features sharpened. \"Why?\" he asked. \"It was her sister's wish.\" \"Has she no will of her own?\" \"Very little, I'm afraid, just now, sir.\" \"A remarkable sister! Are they of Puritan origin?\" \"Not that I am aware of.\" \"And this father?\" \"Mr. Blancove, he is one of those sort--he can't lift up his head if he so much as suspects a reproach to his children.\" Edward brooded. \"I desire--as I told you, as I told her sister, as I told my father last night--I desire to make her my wife. What can I do more? Are they mad with some absurd country pride? Half-past eleven!--it will be murder if they force her to it! Where is she? To such a man as that! Poor soul! I can hardly fear it, for I can't imagine it. Here-- the time is going. You know the man yourself.\" \"I know the man?\" said Robert. \"I've never set eyes on him--I've never set eyes on him, and never liked to ask much about him. I had a sort of feeling. Her sister says he is a good, and kind, honourable young fellow, and he must be.\" \"Before it's too late,\" Edward muttered hurriedly--\"you know him--his name is Sedgett.\" Robert hung swaying over him with a big voiceless chest. \"That Sedgett?\" he breathed huskily, and his look was hard to meet. Edward frowned, unable to raise his head. \"Lord in heaven! some one has something to answer for!\" cried Robert. \"Come on; come to the church. That foul dog?--Or you, stay where you are. I'll go. He to be Dahlia's husband! They've seen him, and can't see what he is!--cunning with women as that? How did they meet? Do you know?--can't you guess?\" He flung a lightning at Edward and ran off. Bursting into the aisle, he saw the minister closing the Book at the altar, and three persons moving toward the vestry, of whom the last, and the one he discerned, was Rhoda. ETEXT EDITOR'S BOOKMARKS: Ashamed of letting his ears be filled with secret talk Full-o'-Beer's a hasty chap Gravely reproaching the tobacconist for the growing costliness of cigars He lies as naturally as an infant sucks I would cut my tongue out, if it did you a service Inferences are like shadows on the wall Marriage is an awful thing, where there's no love One learns to have compassion for fools, by studying them Principle of examining your hypothesis before you proceed to decide by it Rhoda will love you. She is firm when she loves Sort of religion with her to believe no wrong of you The unhappy, who do not wish to live, and cannot die You choose to give yourself to an obscure dog End of this Project Gutenberg Etext of Rhoda Fleming, v4 by George Meredith\n",
      "\n",
      "Email contact links and up to date contact information can be found at the Foundation's web site and official page at www.gutenberg.org/contact For additional contact information: Dr. Gregory B. Newby Chief Executive and Director gbnewby@pglaf.org Section 4. Information about Donations to the Project Gutenberg Literary Archive Foundation Project Gutenberg-tm depends upon and cannot survive without wide spread public support and donations to carry out its mission of increasing the number of public domain and licensed works that can be freely distributed in machine readable form accessible by the widest array of equipment including outdated equipment. Many small donations ($1 to $5,000) are particularly important to maintaining tax exempt status with the IRS. The Foundation is committed to complying with the laws regulating charities and charitable donations in all 50 states of the United States. Compliance requirements are not uniform and it takes a considerable effort, much paperwork and many fees to meet and keep up with these requirements. We do not solicit donations in locations where we have not received written confirmation of compliance. To SEND DONATIONS or determine the status of compliance for any particular state visit www.gutenberg.org/donate While we cannot and do not solicit contributions from states where we have not met the solicitation requirements, we know of no prohibition against accepting unsolicited donations from donors in such states who approach us with offers to donate. International donations are gratefully accepted, but we cannot make any statements concerning tax treatment of donations received from outside the United States. U.S. laws alone swamp our small staff. Please check the Project Gutenberg Web pages for current donation methods and addresses. Donations are accepted in a number of other ways including checks, online payments and credit card donations. To donate, please visit: www.gutenberg.org/donate Section 5. General Information About Project Gutenberg-tm electronic works. Professor Michael S. Hart was the originator of the Project Gutenberg-tm concept of a library of electronic works that could be freely shared with anyone. For forty years, he produced and distributed Project Gutenberg-tm eBooks with only a loose network of volunteer support. Project Gutenberg-tm eBooks are often created from several printed editions, all of which are confirmed as Public Domain in the U.S. unless a copyright notice is included. Thus, we do not necessarily keep eBooks in compliance with any particular paper edition. Most people start at our Web site which has the main PG search facility: www.gutenberg.org This Web site includes information about Project Gutenberg-tm, including how to make donations to the Project Gutenberg Literary Archive Foundation, how to help produce our new eBooks, and how to subscribe to our email newsletter to hear about new eBooks.\n",
      "\n",
      "and revelry, And mask, and antique pageantry; Such sights as useful poets dream On summer eves, by haunted stream.Ã¢ÂÂ ON the morning of a fine day, late in September, the Beechcroft bells were ringing merrily, and a wedding procession was entering the gate of the churchyard. In the afternoon there was a great feast on the top of the hill, attended by all the Mohuns, who were forced, to LilyÃ¢ÂÂs great satisfaction, to give it there, as there was no space in the grounds at the New Court. All was wonderfully suitable to old times, inasmuch as the Baron was actually persuaded to sit for five minutes under the yew-tree where Ã¢ÂÂMohunÃ¢ÂÂs chairÃ¢ÂÂ ought to have been, and the cricketers were of all ranks, from the Marquis of Rotherwood to little Dick Grey. The wedding had been hurried on, and the wedding tour was shortened, in order that Mrs. William Mohun might be installed as mistress of the New Court before EleanorÃ¢ÂÂs departure, which took place early in October; and shortly after Mrs. Ridley, who had come on a visit to Beechcroft, to take leave of her brother, returned to the north, taking with her the little Harry. He was nearly a year old, and it gave great pain to his young aunts to part with him, now that he had endeared himself to them by many engaging ways, but Lily felt herself too unequal to the task of training him up to make any objection, and there were many promises that he should not be a stranger to his grandfatherÃ¢ÂÂs home. Mrs. and Miss Aylmer had been about a month settled at a superior sort of cottage, near the New Court, with Mrs. Eden for their servant. Lord Rotherwood had fitted out the second son, who sailed for India with Mr. and Mrs. Hawkesworth, had sent Devereux to school, and was lying in wait to see what could be done for the two others, and Jane was congratulated far more than she wished, on having been the means of discovering such an excellent governess. Jane was now a regular inhabitant of the schoolroom, as much tied down to lessons and schoolroom hours as her two little sisters, with the prospect of so continuing for two years, if not for three. She made one attempt to be pert to Miss Aylmer; but something in the manner of her governess quite baffled her, and she was obliged to be more obedient than she had ever been. The mischief which Emily and Lilias had done to her, by throwing off their allegiance to Eleanor, and thus unconsciously leading her to set her at nought, was, at her age, not to be so easily repaired; yet with no opportunity for gossiping, and with involuntary respect for her governess, there were hopes that she would lose the habit of her two great faults. There certainly was an improvement in her general tone and manner, which made Mr. Devereux hope that he might soon resume with her the preparation for confirmation which had been cut short the year before. Phyllis and Adeline had been possessed by Reginald with a great dread of governesses; and they were agreeably surprised in Miss Aylmer, whom they found neither cross nor strict, and always willing to forward their amusements, and let them go out with their papa and sisters whenever they were asked. Phyllis, without much annoyance to one so obedient, was trained into more civilisation, and AdaÃ¢ÂÂs more serious faults were duly watched and guarded against. The removal of Esther was a great advantage to Ada; an older and more steady person was taken in her place; while to the great relief of Mr. Mohun and Lilias, Rachel Harvey took Esther to her brotherÃ¢ÂÂs farmhouse, where she promised to watch and teach her, and hoped in time to make her a good servant. Of Emily there is little to say. She ate, drank, and slept, talked agreeably, read idle books, and looked nice in the drawing-room, wasting time, throwing away talents, weakening the powers of her mind, and laying up a store of sad reflections for herself against the time when she must awake from her selfish apathy. As to Lilias Mohun, the heroine of this tale, the history of the formation of her character has been told, and all that remains to be said of her is, that the memory of her faults and her sorrows did not fleet away like a morning cloud, though followed by many happy and prosperous days, and though the effects of many were repaired. AgnesÃ¢ÂÂs death, EstherÃ¢ÂÂs theft, AdaÃ¢ÂÂs accident, the schism in the parish, and her own numerous mistakes, were constantly recalled, and never without a thought of the danger of being wise above her elders, and taking mere feeling for Christian charity. ***END OF THE PROJECT GUTENBERG EBOOK SCENES AND CHARACTERS*** ******* This file should be named 4944-0.txt or 4944-0.zip ******* This and all associated files of various formats will be found in: http://www.gutenberg.org/dirs/4/9/4/4944 Updated editions will replace the previous one--the old editions will be renamed. Creating the works from print editions not protected by U.S. copyright law means that no one owns a United States copyright in these works, so the Foundation (and you!) can copy and distribute it in the United States without permission and without paying copyright royalties. Special rules, set forth in the General Terms of Use part of this license, apply to copying and distributing Project Gutenberg-tm electronic works to protect the PROJECT GUTENBERG-tm concept and trademark. Project Gutenberg is a registered trademark, and may not be used if you charge for the eBooks, unless you receive specific permission. If you do not charge anything for copies of this eBook, complying with the rules is very easy. You may use this eBook for nearly any purpose such as creation of derivative works, reports, performances and research. They may be modified and printed and given away--you may do practically ANYTHING in the United States with\n",
      "\n",
      "Peter will pick up my sandals and say: Ã¢ÂÂThese were his.Ã¢ÂÂ Father will say: Ã¢ÂÂHe helped me make this box.Ã¢ÂÂ The Godhead is before me and I struggle with delight and with astonishment. Tammuz 12 I am entrusting my journal to Matthew. Since we have friends at the synagogue in Capernaum he will leave my journal there. Verily, verily I say: Fear God and keep His commandments. This is the duty of man. FAREWELL THOUGHTS I hope these thoughts may be helpful. It is very late and lamplight flickers... Inside a man of light there is light and with this light he lights the world. The angels and the prophets will come to you and give you strength. Blessed are the ones who have heard the FatherÃ¢ÂÂs word and kept it in truth. Have you then discovered the beginning so that you ask the end? Where the beginning is, there the end will be. The kingdom is inside you. When you really understand you will know that you are the son of the living Father. If you do not understand yourself you will be in poverty. Split wood and I am there. Pick up a stone; there you will find me. Come to me because my yoke is easy, my lordship gentle. You will find rest. The kingdom of the Father is spread over the earth and men do not see it. Blessed are the solitary and the elect; you shall find the kingdom because you have come from it and you shall go there again. I say, whenever one is one he will be filled with light, but whenever he is divided he will be filled with darkness. Love your brother as your own soul. Guard him as the apple of your eye. There will be days when you seek and you will not find me. NOTE: These logia appear for the first time in a journal. They are from the 4th century Coptic book, The Gospel According to Thomas, discovered in Hammadi, Egypt, quoted through the courtesy of the translator, Dr. Ray Rummers, Chairman, Department of English, Baylor University. ABOUT THE AUTHOR P aul Alexander Bartlett (1909-1990) was a writer and artist, born in Moberly, Missouri, and educated at Oberlin College, the University of Arizona, the Academia de San Carlos in Mexico City, and the Instituto de Bellas Artes in Guadalajara. His work can be divided into three categories: He is the author of many novels, short stories, and poems; second, as a fine artist, his drawings, illustrations, and paintings have been exhibited in more than forty one-man shows in leading galleries, including the Los Angeles County Museum, the Atlanta Art Museum, the Bancroft Library, the Richmond Art Institute, the Brooks Museum, the Instituto-Mexicano-Norteamericano in Mexico City, and many other galleries; and, third, he devoted much of his life to the most comprehensive study of the haciendas of Mexico that has been undertaken. More than 350 of his pen-and-ink illustrations of the haciendas and more than one thousand hacienda photographs make up the Paul Alexander Bartlett Collection held by the Nettie Lee Benson Latin American Collection of the University of Texas, and form part of a second diversified collection held by the American Heritage Center of the University of Wyoming, which also includes an archive of BartlettÃ¢ÂÂs literary work, fine art, and letters. Paul Alexander BartlettÃ¢ÂÂs fiction has been commended by many authors, among them Pearl Buck, Ford Madox Ford, John Dos Passos, James Michener, Upton Sinclair, Evelyn Eaton, and many others. He was the recipient of many grants, awards, and fellowships, from such organizations as the Leopold Schepp Foundation, the Edward MacDowell Association, the New School for Social Research, the Huntington Hartford Foundation, the Montalvo Foundation, and the Carnegie Foundation. His wife, Elizabeth Bartlett, a widely published poet, is the author of seventeen published books of poetry, numerous poems, short stories, and essays published in leading literary quarterlies and anthologies, and, as the founder of Literary Olympics, Inc., is the editor of a series of multi-language volumes of international poetry that honor the work of outstanding contemporary poets. Paul and ElizabethÃ¢ÂÂs son, Steven, edited and designed this volume. ChristÃ¢ÂÂs Journal was set in Garamond type by Autograph Editions. The typeface is named after Claude Garamond (c. 1480-1561), a French type designer and publisher and the worldÃ¢ÂÂs first commercial typefounder. GaramondÃ¢ÂÂs contribution to the history of typesetting was substantial. He perfected the design of Roman type: The fonts that he cut beginning in 1531 were recognized as possessing a superior grace and clarity, so much so that GaramondÃ¢ÂÂs fonts influenced European printing for the next century and a half. It is interesting to note that Garamond type is the evolutionary ancestor of the type used to print the first official copies of the Declaration of Independence. In the 1730s, Englishman William Caslon refined GaramondÃ¢ÂÂs version of Aldine roman, the well-balanced typeface became popular, and was introduced to the American colonies by Benjamin Franklin. Despite his considerable contribution to the evolution of typography, Garamond was not a successful businessman and he died in poverty. During the past five centuries, so many variations of GaramondÃ¢ÂÂs type designs have been created that the phrase Ã¢ÂÂGaramond typeÃ¢ÂÂ has come to be used loosely, with little memory remaining of its history. VOICES FROM THE PAST Ã¯ÂÂ xxii Ã¯ÂÂ Ã¯ÂÂ xxi Ã¯ÂÂ CHRISTÃ¢ÂÂS JOURNAL Ã¯ÂÂ 17 Ã¯ÂÂ VOICES FROM THE PAST Ã¯ÂÂ 24 Ã¯ÂÂ Ã¯ÂÂ 9 Ã¯ÂÂ CHRISTÃ¢ÂÂS JOURNAL Ã¯ÂÂ 25 Ã¯ÂÂ Ã¯ÂÂ 19 Ã¯ÂÂ Ã¯ÂÂ 27 Ã¯ÂÂ CHRISTÃ¢ÂÂS JOURNAL Ã¯ÂÂ 79 Ã¯ÂÂ Ã¯ÂÂ 74 Ã¯ÂÂ VOICES FROM THE PAST Ã¯ÂÂ 87 Ã¯ÂÂ End of Project Gutenberg's Christ's Journal, by Paul Alexander Bartlett\n",
      "\n",
      "payments should be clearly marked as such and sent to the Project Gutenberg Literary Archive Foundation at the address specified in Section 4, \"Information about donations to the Project Gutenberg Literary Archive Foundation.\" * You provide a full refund of any money paid by a user who notifies you in writing (or by e-mail) within 30 days of receipt that s/he does not agree to the terms of the full Project Gutenberg-tm License. You must require such a user to return or destroy all copies of the works possessed in a physical medium and discontinue all use of and all access to other copies of Project Gutenberg-tm works. * You provide, in accordance with paragraph 1.F.3, a full refund of any money paid for a work or a replacement copy, if a defect in the electronic work is discovered and reported to you within 90 days of receipt of the work. * You comply with all other terms of this agreement for free distribution of Project Gutenberg-tm works. 1.E.9. If you wish to charge a fee or distribute a Project Gutenberg-tm electronic work or group of works on different terms than are set forth in this agreement, you must obtain permission in writing from both the Project Gutenberg Literary Archive Foundation and The Project Gutenberg Trademark LLC, the owner of the Project Gutenberg-tm trademark. Contact the Foundation as set forth in Section 3 below. 1.F. 1.F.1. Project Gutenberg volunteers and employees expend considerable effort to identify, do copyright research on, transcribe and proofread works not protected by U.S. copyright law in creating the Project Gutenberg-tm collection. Despite these efforts, Project Gutenberg-tm electronic works, and the medium on which they may be stored, may contain \"Defects,\" such as, but not limited to, incomplete, inaccurate or corrupt data, transcription errors, a copyright or other intellectual property infringement, a defective or damaged disk or other medium, a computer virus, or computer codes that damage or cannot be read by your equipment. 1.F.2. LIMITED WARRANTY, DISCLAIMER OF DAMAGES - Except for the \"Right of Replacement or Refund\" described in paragraph 1.F.3, the Project Gutenberg Literary Archive Foundation, the owner of the Project Gutenberg-tm trademark, and any other party distributing a Project Gutenberg-tm electronic work under this agreement, disclaim all liability to you for damages, costs and expenses, including legal fees. YOU AGREE THAT YOU HAVE NO REMEDIES FOR NEGLIGENCE, STRICT LIABILITY, BREACH OF WARRANTY OR BREACH OF CONTRACT EXCEPT THOSE PROVIDED IN PARAGRAPH 1.F.3. YOU AGREE THAT THE FOUNDATION, THE TRADEMARK OWNER, AND ANY DISTRIBUTOR UNDER THIS AGREEMENT WILL NOT BE LIABLE TO YOU FOR ACTUAL, DIRECT, INDIRECT, CONSEQUENTIAL, PUNITIVE OR INCIDENTAL DAMAGES EVEN IF YOU GIVE NOTICE OF THE POSSIBILITY OF SUCH DAMAGE. 1.F.3. LIMITED RIGHT OF REPLACEMENT OR REFUND - If you discover a defect in this electronic work within 90 days of receiving it, you can receive a refund of the money (if any) you paid for it by sending a written explanation to the person you received the work from. If you received the work on a physical medium, you must return the medium with your written explanation. The person or entity that provided you with the defective work may elect to provide a replacement copy in lieu of a refund. If you received the work electronically, the person or entity providing it to you may choose to give you a second opportunity to receive the work electronically in lieu of a refund. If the second copy is also defective, you may demand a refund in writing without further opportunities to fix the problem. 1.F.4. Except for the limited right of replacement or refund set forth in paragraph 1.F.3, this work is provided to you 'AS-IS', WITH NO OTHER WARRANTIES OF ANY KIND, EXPRESS OR IMPLIED, INCLUDING BUT NOT LIMITED TO WARRANTIES OF MERCHANTABILITY OR FITNESS FOR ANY PURPOSE. 1.F.5. Some states do not allow disclaimers of certain implied warranties or the exclusion or limitation of certain types of damages. If any disclaimer or limitation set forth in this agreement violates the law of the state applicable to this agreement, the agreement shall be interpreted to make the maximum disclaimer or limitation permitted by the applicable state law. The invalidity or unenforceability of any provision of this agreement shall not void the remaining provisions. 1.F.6. INDEMNITY - You agree to indemnify and hold the Foundation, the trademark owner, any agent or employee of the Foundation, anyone providing copies of Project Gutenberg-tm electronic works in accordance with this agreement, and any volunteers associated with the production, promotion and distribution of Project Gutenberg-tm electronic works, harmless from all liability, costs and expenses, including legal fees, that arise directly or indirectly from any of the following which you do or cause to occur: (a) distribution of this or any Project Gutenberg-tm work, (b) alteration, modification, or additions or deletions to any Project Gutenberg-tm work, and (c) any Defect you cause. Section 2. Information about the Mission of Project Gutenberg-tm Project Gutenberg-tm is synonymous with the free distribution of electronic works in formats readable by the widest variety of computers including obsolete, old, middle-aged and new computers. It exists because of the efforts of hundreds of volunteers and donations from people in all walks of life. Volunteers and financial support to provide volunteers with the assistance they need are critical to reaching Project Gutenberg-tm's goals and ensuring that the Project Gutenberg-tm collection will remain freely available for generations to come. In 2001, the Project Gutenberg Literary Archive Foundation was created to provide a secure and permanent future for Project Gutenberg-tm and future generations. To learn more about the Project Gutenberg Literary Archive Foundation and how your efforts and donations can help, see Sections 3 and 4 and the Foundation information page at www.gutenberg.org Section 3. Information about the Project Gutenberg Literary Archive Foundation The Project Gutenberg Literary Archive Foundation is a non profit 501(c)(3) educational corporation organized under the laws of the state of Mississippi and granted tax exempt status by the Internal Revenue\n",
      "\n"
     ]
    }
   ],
   "source": [
    "for cgl in cg_list[:20]:\n",
    "    print(cgl)\n",
    "    print()"
   ]
  },
  {
   "cell_type": "code",
   "execution_count": 13,
   "id": "c62b058b-3178-4467-8efb-854a15354b67",
   "metadata": {
    "tags": []
   },
   "outputs": [],
   "source": [
    "def mean_avg_error(y_true, y_pred):\n",
    "    return np.mean(np.abs(y_true - y_pred))"
   ]
  },
  {
   "cell_type": "markdown",
   "id": "d5336cc2-0035-42e0-aa37-16bf971d8404",
   "metadata": {},
   "source": [
    "## Century classifier"
   ]
  },
  {
   "cell_type": "code",
   "execution_count": 131,
   "id": "309fc8e5-4cfe-4858-b8ab-beecfcddb587",
   "metadata": {
    "tags": []
   },
   "outputs": [],
   "source": [
    "from transformers import AutoModel, AutoTokenizer\n",
    "import torch\n",
    "import torch.nn as nn\n",
    "import torch.optim as optim\n",
    "\n",
    "device = torch.device(\"cuda\" if torch.cuda.is_available() else \"cpu\")\n",
    "\n",
    "class CenturyClassifier(nn.Module):\n",
    "    def __init__(self, longformer, num_classes):\n",
    "        super(CenturyClassifier, self).__init__()\n",
    "        self.bert = longformer\n",
    "        self.dropout = nn.Dropout(0.1)\n",
    "        self.classifier = nn.Linear(longformer.config.hidden_size, num_classes)\n",
    "\n",
    "    def forward(self, input_ids, attention_mask, token_type_ids=None):\n",
    "        outputs = self.bert(input_ids, token_type_ids=token_type_ids, attention_mask=attention_mask)\n",
    "        pooled_output = outputs.pooler_output\n",
    "        pooled_output = self.dropout(pooled_output)\n",
    "        return self.classifier(pooled_output)"
   ]
  },
  {
   "cell_type": "code",
   "execution_count": 132,
   "id": "6485b3ed-e52d-4b25-86fb-684df178e4e9",
   "metadata": {
    "tags": []
   },
   "outputs": [],
   "source": [
    "def train_century_classifier(model, tokenizer, train_dataloader, n_epochs=3):\n",
    "    \n",
    "    model_century_classifier = CenturyClassifier(model, 5)\n",
    "    model_century_classifier.to(device)\n",
    "    \n",
    "    optimizer = optim.Adam(model_century_classifier.parameters(), lr=1e-5)\n",
    "    criterion = nn.CrossEntropyLoss()\n",
    "    \n",
    "    model_century_classifier.train()\n",
    "    \n",
    "    for epoch in range(n_epochs):\n",
    "        for text, labels in tqdm(train_dataloader):\n",
    "            optimizer.zero_grad()\n",
    "            tokens = tokenizer(text, padding='max_length', truncation=True, return_tensors=\"pt\", max_length=512,).to(device)\n",
    "            labels = torch.tensor(labels).to(device)\n",
    "            output = model_century_classifier(**tokens)\n",
    "            loss = criterion(output.view(-1, 5), labels.view(-1))\n",
    "            loss.backward()\n",
    "            optimizer.step()\n",
    "        print(\"Epoch:\", epoch, \"Loss:\", loss.item())\n",
    "    \n",
    "    return model_century_classifier"
   ]
  },
  {
   "cell_type": "code",
   "execution_count": 135,
   "id": "facb6c13-09fb-4fa6-9517-f4d64dcf5488",
   "metadata": {
    "tags": []
   },
   "outputs": [
    {
     "name": "stderr",
     "output_type": "stream",
     "text": [
      "  0%|                                                                                                                                                                                         | 0/574 [00:00<?, ?it/s]/tmp/ipykernel_518077/2369404271.py:15: UserWarning: To copy construct from a tensor, it is recommended to use sourceTensor.clone().detach() or sourceTensor.clone().detach().requires_grad_(True), rather than torch.tensor(sourceTensor).\n",
      "  labels = torch.tensor(labels).to(device)\n",
      "100%|███████████████████████████████████████████████████████████████████████████████████████████████████████████████████████████████████████████████████████████████████████████████| 574/574 [05:59<00:00,  1.60it/s]\n"
     ]
    },
    {
     "name": "stdout",
     "output_type": "stream",
     "text": [
      "Epoch: 0 Loss: 1.28499174118042\n"
     ]
    },
    {
     "name": "stderr",
     "output_type": "stream",
     "text": [
      "100%|███████████████████████████████████████████████████████████████████████████████████████████████████████████████████████████████████████████████████████████████████████████████| 574/574 [05:59<00:00,  1.60it/s]\n"
     ]
    },
    {
     "name": "stdout",
     "output_type": "stream",
     "text": [
      "Epoch: 1 Loss: 1.2889608144760132\n"
     ]
    },
    {
     "name": "stderr",
     "output_type": "stream",
     "text": [
      "100%|███████████████████████████████████████████████████████████████████████████████████████████████████████████████████████████████████████████████████████████████████████████████| 574/574 [05:59<00:00,  1.60it/s]"
     ]
    },
    {
     "name": "stdout",
     "output_type": "stream",
     "text": [
      "Epoch: 2 Loss: 0.39171406626701355\n"
     ]
    },
    {
     "name": "stderr",
     "output_type": "stream",
     "text": [
      "\n"
     ]
    }
   ],
   "source": [
    "tokenizer = AutoTokenizer.from_pretrained(\"allenai/longformer-base-4096\")\n",
    "model = AutoModel.from_pretrained(\"allenai/longformer-base-4096\")\n",
    "\n",
    "# Balanced dataset\n",
    "model_century_classifier_eq = train_century_classifier(model, tokenizer, train21_eq_dataloader)\n",
    "\n",
    "tokenizer = AutoTokenizer.from_pretrained(\"allenai/longformer-base-4096\")\n",
    "model = AutoModel.from_pretrained(\"allenai/longformer-base-4096\")\n",
    "\n",
    "# Full dataset\n",
    "model_century_classifier = train_century_classifier(model, tokenizer, train21_dataloader)"
   ]
  },
  {
   "cell_type": "markdown",
   "id": "f4cfc748-7d43-4385-8c65-817325b93f25",
   "metadata": {},
   "source": [
    "### Standard"
   ]
  },
  {
   "cell_type": "code",
   "execution_count": 138,
   "id": "33808cc4-0d31-4b02-b625-668b2cdde914",
   "metadata": {
    "tags": []
   },
   "outputs": [
    {
     "name": "stderr",
     "output_type": "stream",
     "text": [
      "100%|█████████████████████████████████████████████████████████████████████████████████████████████████████████████████████████████████████████████████████████████████████████████| 3416/3416 [10:19<00:00,  5.52it/s]"
     ]
    },
    {
     "name": "stdout",
     "output_type": "stream",
     "text": [
      "MAE: 0.9219959378602405\n"
     ]
    },
    {
     "name": "stderr",
     "output_type": "stream",
     "text": [
      "\n"
     ]
    }
   ],
   "source": [
    "model_century_classifier_eq.eval()\n",
    "y_pred_21_eq = []\n",
    "y_true_21_eq = []\n",
    "\n",
    "with torch.no_grad():\n",
    "    for text, labels in tqdm(valid21_dataloader):\n",
    "        tokens = tokenizer(text, padding='max_length', truncation=True, return_tensors=\"pt\", max_length=512,).to(device)\n",
    "        output = model_century_classifier_eq(**tokens)\n",
    "        predictions = output.argmax(dim=1)\n",
    "        y_pred_21_eq.extend(predictions.detach().cpu().numpy())\n",
    "        y_true_21_eq.extend(labels.cpu().numpy())\n",
    "        \n",
    "print(f\"MAE: {mean_avg_error(np.array(y_true_21_eq), np.array(y_pred_21_eq))}\")"
   ]
  },
  {
   "cell_type": "code",
   "execution_count": 49,
   "id": "66a8ce38-76f6-4d8a-aa56-46a27ee0b1d9",
   "metadata": {
    "tags": []
   },
   "outputs": [
    {
     "name": "stderr",
     "output_type": "stream",
     "text": [
      "100%|█████████████████████████████████████████████████████████████████████████████████████████████████████████████████████████████████████████████████████████████████████████████| 3416/3416 [10:24<00:00,  5.47it/s]"
     ]
    },
    {
     "name": "stdout",
     "output_type": "stream",
     "text": [
      "MAE: 2.0821210956798595\n"
     ]
    },
    {
     "name": "stderr",
     "output_type": "stream",
     "text": [
      "\n"
     ]
    }
   ],
   "source": [
    "model_century_classifier.eval()\n",
    "y_pred = []\n",
    "y_true = []\n",
    "\n",
    "with torch.no_grad():\n",
    "    for text, labels in tqdm(valid21_dataloader):\n",
    "        tokens = tokenizer(text, padding='max_length', truncation=True, return_tensors=\"pt\", max_length=512,).to(device)\n",
    "        output = model_decade_classifier(**tokens)\n",
    "        predictions = output.argmax(dim=1)\n",
    "        y_pred.extend(predictions.detach().cpu().numpy())\n",
    "        y_true.extend(labels.cpu().numpy())\n",
    "        \n",
    "print(f\"MAE: {mean_avg_error(np.array(y_true), np.array(y_pred))}\")"
   ]
  },
  {
   "cell_type": "markdown",
   "id": "b6afb9d4-489c-47b8-90cf-6ab5b214b76b",
   "metadata": {},
   "source": [
    "### Conformal Prediction"
   ]
  },
  {
   "cell_type": "code",
   "execution_count": 141,
   "id": "f43457e7-2b46-4a0b-b28e-f0532a4c3bf3",
   "metadata": {
    "tags": []
   },
   "outputs": [],
   "source": [
    "from sklearn.model_selection import train_test_split\n",
    "\n",
    "\n",
    "X_calib_21_eq, X_test_21_eq, y_calib_21_eq, y_test_21_eq = train_test_split(\n",
    "    X_valid_21_eq, y_valid_21_eq, test_size=0.5, random_state=RANDOM_SEED\n",
    ")\n",
    "\n",
    "calib_21_eq_dataset = TextDataset(X_calib_21_eq, y_calib_21_eq, valid_path)\n",
    "test_21_eq_dataset = TextDataset(X_test_21_eq, y_test_21_eq, valid_path)\n",
    "calib_21_eq_dataloader = DataLoader(calib_21_eq_dataset, batch_size=16, shuffle=False)\n",
    "test_21_eq_dataloader = DataLoader(test_21_eq_dataset, batch_size=16, shuffle=False)"
   ]
  },
  {
   "cell_type": "code",
   "execution_count": 142,
   "id": "b84031d2-3a87-4151-b2c2-3ce2ca0c54bd",
   "metadata": {
    "tags": []
   },
   "outputs": [],
   "source": [
    "X_calib_21, X_test_21, y_calib_21, y_test_21 = train_test_split(\n",
    "    X_valid_21, y_valid_21, test_size=0.5, random_state=RANDOM_SEED\n",
    ")\n",
    "\n",
    "calib_21_dataset = TextDataset(X_calib_21, y_calib_21, valid_path)\n",
    "test_21_dataset = TextDataset(X_test_21, y_test_21, valid_path)\n",
    "calib_21_dataloader = DataLoader(calib_21_dataset, batch_size=16, shuffle=False)\n",
    "test_21_dataloader = DataLoader(test_21_dataset, batch_size=16, shuffle=False)"
   ]
  },
  {
   "cell_type": "code",
   "execution_count": 153,
   "id": "61af1155-5914-4a69-b5e1-2607f9385b67",
   "metadata": {
    "tags": []
   },
   "outputs": [
    {
     "name": "stderr",
     "output_type": "stream",
     "text": [
      "100%|█████████████████████████████████████████████████████████████████████████████████████████████████████████████████████████████████████████████████████████████████████████████| 1708/1708 [05:09<00:00,  5.52it/s]\n"
     ]
    }
   ],
   "source": [
    "# Calibration\n",
    "calib_21_probs = []\n",
    "calib_21_preds = []\n",
    "calib_21_true = []\n",
    "\n",
    "model_century_classifier_eq.eval()\n",
    "\n",
    "with torch.no_grad():\n",
    "    for text, labels in tqdm(calib_21_dataloader):\n",
    "        tokens = tokenizer(text, padding='max_length', truncation=True, return_tensors=\"pt\", max_length=512).to(device)\n",
    "        output = model_century_classifier_eq(**tokens)\n",
    "        probabilities = torch.softmax(output, dim=1)\n",
    "        predictions = output.argmax(dim=1)\n",
    "        calib_21_probs.extend(probabilities.detach().cpu().numpy())\n",
    "        calib_21_preds.extend(predictions.detach().cpu().numpy())\n",
    "        calib_21_true.extend(labels.cpu().numpy())"
   ]
  },
  {
   "cell_type": "code",
   "execution_count": 156,
   "id": "c7a6cf7e-38d6-41f8-8078-dbfd1158b1d6",
   "metadata": {
    "tags": []
   },
   "outputs": [],
   "source": [
    "# Group calibration data by true class\n",
    "class_nonconformity_21 = {class_idx: [] for class_idx in range(5)}\n",
    "\n",
    "# Compute class-specific nonconformity scores\n",
    "for i, (prob, true_label) in enumerate(zip(calib_21_probs, calib_21_true)):\n",
    "    nonconformity = 1 - prob[true_label]\n",
    "    class_nonconformity_21[true_label].append(nonconformity)\n",
    "\n",
    "# Calculate threshold for each class\n",
    "class_thresholds_21 = {}\n",
    "confidence_level = 0.90\n",
    "alpha = 1 - confidence_level\n",
    "\n",
    "n_samples = len(calib_21_true)\n",
    "for class_idx, scores in class_nonconformity_21.items():\n",
    "    q = np.ceil((n_samples + 1) * (1 - alpha)) / n_samples # corrected formula\n",
    "    class_thresholds_21[class_idx] = np.quantile(scores, q)        "
   ]
  },
  {
   "cell_type": "code",
   "execution_count": 157,
   "id": "623454b9-05fe-4c0d-9ecb-a1c6c64ef80a",
   "metadata": {
    "tags": []
   },
   "outputs": [
    {
     "name": "stderr",
     "output_type": "stream",
     "text": [
      "100%|█████████████████████████████████████████████████████████████████████████████████████████████████████████████████████████████████████████████████████████████████████████████| 1708/1708 [05:11<00:00,  5.48it/s]\n"
     ]
    }
   ],
   "source": [
    "test_preds_21 = []\n",
    "test_intervals_21 = []\n",
    "test_true_21 = []\n",
    "test_probs_21 = []\n",
    "\n",
    "with torch.no_grad():\n",
    "    for text, labels in tqdm(test_21_dataloader):\n",
    "        tokens = tokenizer(text, padding='max_length', truncation=True, return_tensors=\"pt\", max_length=512).to(device)\n",
    "        output = model_century_classifier_eq(**tokens)\n",
    "        probabilities = torch.softmax(output, dim=1)\n",
    "        predictions = output.argmax(dim=1)      \n",
    "        for i, prob in enumerate(probabilities):\n",
    "            pred = predictions[i].item()\n",
    "            true_label = labels[i].item()          \n",
    "            # Create prediction set using class-specific thresholds\n",
    "            prediction_set = []\n",
    "            for label in range(5):\n",
    "                # Use threshold specific to the candidate class\n",
    "                if 1 - prob[label].item() <= class_thresholds_21[label]:\n",
    "                    prediction_set.append(label)  \n",
    "                    \n",
    "            test_preds_21.append(pred)\n",
    "            test_intervals_21.append(prediction_set)\n",
    "            test_true_21.append(true_label)\n",
    "            test_probs_21.append(prob.detach().cpu().numpy())"
   ]
  },
  {
   "cell_type": "code",
   "execution_count": 159,
   "id": "782d2b71-5bca-463d-983a-49b2e77ac934",
   "metadata": {
    "tags": []
   },
   "outputs": [
    {
     "name": "stdout",
     "output_type": "stream",
     "text": [
      "argmax (MAE): 0.9223450193954476\n",
      "variance (MAE): 0.9301763887872356\n",
      "variance rel (MAE): 1.0139793603161824\n"
     ]
    }
   ],
   "source": [
    "test_preds_argmax_21 = []\n",
    "test_preds_var_21 = []\n",
    "test_preds_var_rel_21 = []\n",
    "\n",
    "test_true_var_21 = []\n",
    "thslds_21 = [ 1 - x for x in class_thresholds_21.values()]\n",
    "\n",
    "for idx in range(len(test_probs_21)):\n",
    "    intervals = test_intervals_21[idx]\n",
    "    #if len(intervals) != 1:\n",
    "    #    continue\n",
    "    true_label = test_true_21[idx]\n",
    "    probs = test_probs_21[idx]\n",
    "    \n",
    "    exeeding_idx = np.zeros(5)\n",
    "    exeeding_rel_idx = np.zeros(5)\n",
    "    \n",
    "    for interval in intervals:\n",
    "        if probs[interval] > thslds_21[interval]:\n",
    "            \n",
    "            exeeding_idx[interval] = abs(probs[interval]-thslds_21[interval])\n",
    "            \n",
    "            exeeding_rel_idx[interval] = abs(probs[interval]-thslds_21[interval]) / thslds_21[interval] #probs[interval]\n",
    "            \n",
    "    test_preds_argmax_21.append(np.argmax(probs))\n",
    "    test_preds_var_21.append(np.argmax(exeeding_idx))\n",
    "    test_preds_var_rel_21.append(np.argmax(exeeding_rel_idx))\n",
    "    test_true_var_21.append(true_label)\n",
    "    \n",
    "print(f\"argmax (MAE): {mean_avg_error(np.array(test_true_var_21), np.array(test_preds_argmax_21))}\")\n",
    "print(f\"variance (MAE): {mean_avg_error(np.array(test_true_var_21), np.array(test_preds_var_21))}\")\n",
    "print(f\"variance rel (MAE): {mean_avg_error(np.array(test_true_var_21), np.array(test_preds_var_rel_21))}\")"
   ]
  },
  {
   "cell_type": "code",
   "execution_count": 41,
   "id": "e6e65502-f166-46be-ad6b-61c13a61159f",
   "metadata": {
    "tags": []
   },
   "outputs": [
    {
     "data": {
      "image/png": "[encoded data removed]",
      "text/plain": [
       "<Figure size 2000x800 with 4 Axes>"
      ]
     },
     "metadata": {},
     "output_type": "display_data"
    }
   ],
   "source": [
    "fig, (ax1, ax2) = plt.subplots(1, 2, figsize=(20, 8))\n",
    "\n",
    "tick_positions = np.arange(5)\n",
    "\n",
    "cm = confusion_matrix(y_test_true, y_test_pred, labels=np.arange(5))\n",
    "cm = cm.astype('float') / cm.sum(axis=1)[:, np.newaxis]\n",
    "\n",
    "sns.heatmap(cm, cmap='Blues', ax=ax1)\n",
    "\n",
    "ax1.set_xticks(tick_positions + 0.5)\n",
    "ax1.set_xticklabels(tick_positions)\n",
    "ax1.set_title('Normalized Confusion Matrix')\n",
    "\n",
    "\n",
    "freq3 = np.zeros((5,5))\n",
    "for b, c in zip(y_test_true, y_test_pred):\n",
    "    freq3[b,c] += 1\n",
    "\n",
    "sns.heatmap(freq3, cmap='rocket', ax=ax2)\n",
    "\n",
    "ax2.set_xticks(tick_positions + 0.5)\n",
    "ax2.set_xticklabels(tick_positions)\n",
    "ax2.set_title('Frequency Heatmap')\n",
    "\n",
    "plt.tight_layout()\n",
    "plt.show()"
   ]
  },
  {
   "cell_type": "code",
   "execution_count": 37,
   "id": "ab4fc727-0a24-411d-95a0-e2a4995b63a8",
   "metadata": {
    "tags": []
   },
   "outputs": [
    {
     "data": {
      "image/png": "[encoded data removed]",
      "text/plain": [
       "<Figure size 2000x800 with 4 Axes>"
      ]
     },
     "metadata": {},
     "output_type": "display_data"
    }
   ],
   "source": [
    "fig, (ax1, ax2) = plt.subplots(1, 2, figsize=(20, 8))\n",
    "\n",
    "tick_positions = np.arange(5)\n",
    "\n",
    "cm = confusion_matrix(test_true_var, test_preds_var_rel, labels=np.arange(5))\n",
    "cm = cm.astype('float') / cm.sum(axis=1)[:, np.newaxis]\n",
    "\n",
    "sns.heatmap(cm, cmap='Blues', ax=ax1)\n",
    "\n",
    "ax1.set_xticks(tick_positions + 0.5)\n",
    "ax1.set_xticklabels(tick_positions)\n",
    "ax1.set_title('Normalized Confusion Matrix')\n",
    "\n",
    "\n",
    "freq3 = np.zeros((5,5))\n",
    "for b, c in zip(test_true_var, test_preds_var_rel):\n",
    "    freq3[b,c] += 1\n",
    "\n",
    "sns.heatmap(freq3, cmap='rocket', ax=ax2)\n",
    "\n",
    "ax2.set_xticks(tick_positions + 0.5)\n",
    "ax2.set_xticklabels(tick_positions)\n",
    "ax2.set_title('Frequency Heatmap')\n",
    "\n",
    "for dec_line in range(10,50,10):\n",
    "    ax1.axvline(dec_line, color='red')\n",
    "    ax1.axhline(dec_line, color='red')\n",
    "    ax2.axvline(dec_line, color='red')\n",
    "    ax2.axhline(dec_line, color='red')\n",
    "\n",
    "plt.tight_layout()\n",
    "plt.show()"
   ]
  },
  {
   "cell_type": "code",
   "execution_count": 48,
   "id": "3ec02a1e-537a-439a-a9a2-25c8cf5edcba",
   "metadata": {
    "tags": []
   },
   "outputs": [
    {
     "name": "stderr",
     "output_type": "stream",
     "text": [
      "100%|█████████████████████████████████████████████████████████████████████████████████████████████████████████████████████████████████████████████████████████████████████████████| 3416/3416 [10:18<00:00,  5.52it/s]"
     ]
    },
    {
     "name": "stdout",
     "output_type": "stream",
     "text": [
      "MAE (without CP) [All]: 1.3576329801833453\n"
     ]
    },
    {
     "name": "stderr",
     "output_type": "stream",
     "text": [
      "\n"
     ]
    }
   ],
   "source": [
    "y_test_pred_all = []\n",
    "y_test_true_all = []\n",
    "\n",
    "with torch.no_grad():\n",
    "    for text, labels in tqdm(valid21_dataloader):\n",
    "        tokens = tokenizer(text, padding='max_length', truncation=True, return_tensors=\"pt\", max_length=512,).to(device)\n",
    "        output = model_century_classifier(**tokens)\n",
    "        predictions = output.argmax(dim=1)\n",
    "        y_test_pred_all.extend(predictions.detach().cpu().numpy())\n",
    "        y_test_true_all.extend(labels.cpu().numpy())\n",
    "        \n",
    "print(f\"MAE (without CP) [All]: {mean_avg_error(np.array(y_test_true_all), np.array(y_test_pred_all))}\")"
   ]
  },
  {
   "cell_type": "code",
   "execution_count": 50,
   "id": "e4f71d27-2c83-4e7b-a01d-95131b6d7d4e",
   "metadata": {
    "tags": []
   },
   "outputs": [
    {
     "name": "stderr",
     "output_type": "stream",
     "text": [
      "100%|█████████████████████████████████████████████████████████████████████████████████████████████████████████████████████████████████████████████████████████████████████████████| 1708/1708 [05:11<00:00,  5.48it/s]\n"
     ]
    }
   ],
   "source": [
    "# Calibration\n",
    "calib_probs_all = []\n",
    "calib_preds_all = []\n",
    "calib_true_all = []\n",
    "\n",
    "model_century_classifier.eval()\n",
    "\n",
    "with torch.no_grad():\n",
    "    for text, labels in tqdm(calib_all_dataloader):\n",
    "        tokens = tokenizer(text, padding='max_length', truncation=True, return_tensors=\"pt\", max_length=512).to(device)\n",
    "        output = model_century_classifier(**tokens)\n",
    "        probabilities = torch.softmax(output, dim=1)\n",
    "        predictions = output.argmax(dim=1)\n",
    "        calib_probs_all.extend(probabilities.detach().cpu().numpy())\n",
    "        calib_preds_all.extend(predictions.detach().cpu().numpy())\n",
    "        calib_true_all.extend(labels.cpu().numpy())"
   ]
  },
  {
   "cell_type": "code",
   "execution_count": 51,
   "id": "9aef888a-c7bd-44b7-be42-92848eb5ae72",
   "metadata": {
    "tags": []
   },
   "outputs": [],
   "source": [
    "# Group calibration data by true class\n",
    "class_nonconformity_all = {class_idx: [] for class_idx in range(5)}\n",
    "\n",
    "# Compute class-specific nonconformity scores\n",
    "for i, (prob, true_label) in enumerate(zip(calib_probs_all, calib_true_all)):\n",
    "    nonconformity = 1 - prob[true_label]\n",
    "    class_nonconformity_all[true_label].append(nonconformity)\n",
    "\n",
    "# Calculate threshold for each class\n",
    "class_thresholds_all = {}\n",
    "confidence_level = 0.90\n",
    "alpha = 1 - confidence_level\n",
    "\n",
    "n_samples = len(calib_true_all)\n",
    "for class_idx, scores in class_nonconformity_all.items():\n",
    "    # class_thresholds_longformer2[class_idx] = np.quantile(scores, 1 - alpha)\n",
    "    if len(scores) > 0:\n",
    "        q = np.ceil((n_samples + 1) * (1 - alpha)) / n_samples # corrected formula\n",
    "        class_thresholds_all[class_idx] = np.quantile(scores, q)\n",
    "    else:\n",
    "        class_thresholds_all[class_idx] = threshold\n",
    "        "
   ]
  },
  {
   "cell_type": "code",
   "execution_count": 52,
   "id": "45fb5edc-66ce-46b0-bb33-9515ce83007a",
   "metadata": {
    "tags": []
   },
   "outputs": [
    {
     "name": "stderr",
     "output_type": "stream",
     "text": [
      "100%|█████████████████████████████████████████████████████████████████████████████████████████████████████████████████████████████████████████████████████████████████████████████| 3416/3416 [10:27<00:00,  5.44it/s]\n"
     ]
    }
   ],
   "source": [
    "test_preds_all = []\n",
    "test_intervals_all = []\n",
    "test_true_all = []\n",
    "test_probs_all = []\n",
    "\n",
    "with torch.no_grad():\n",
    "    for text, labels in tqdm(valid21_dataloader):\n",
    "        tokens = tokenizer(text, padding='max_length', truncation=True, return_tensors=\"pt\", max_length=512).to(device)\n",
    "        output = model_century_classifier(**tokens)\n",
    "        probabilities = torch.softmax(output, dim=1)\n",
    "        predictions = output.argmax(dim=1)      \n",
    "        for i, prob in enumerate(probabilities): # Iterate on the batch\n",
    "            pred = predictions[i].item()\n",
    "            true_label = labels[i].item()          \n",
    "            # Create prediction set using class-specific thresholds\n",
    "            prediction_set = []\n",
    "            for label in range(5):\n",
    "                # Use threshold specific to the candidate class\n",
    "                if 1 - prob[label].item() <= class_thresholds[label]:\n",
    "                    prediction_set.append(label)  \n",
    "                    \n",
    "            test_preds_all.append(pred)\n",
    "            test_intervals_all.append(prediction_set)\n",
    "            test_true_all.append(true_label)\n",
    "            test_probs_all.append(prob.detach().cpu().numpy())"
   ]
  },
  {
   "cell_type": "code",
   "execution_count": 53,
   "id": "92d6c4c9-325e-41e2-8324-962755b0e00f",
   "metadata": {
    "tags": []
   },
   "outputs": [
    {
     "name": "stdout",
     "output_type": "stream",
     "text": [
      "argmax (MAE) [All]: 0.849890590809628\n",
      "variance (MAE) [All]: 0.8512035010940919\n",
      "variance rel (MAE) [All]: 0.8183807439824945\n"
     ]
    }
   ],
   "source": [
    "test_preds_argmax = []\n",
    "test_preds_var = []\n",
    "test_preds_var_rel = []\n",
    "\n",
    "test_true_var = []\n",
    "thslds = [ 1 - x for x in class_thresholds.values()]\n",
    "\n",
    "for idx in range(len(test_probs)):\n",
    "    intervals = test_intervals[idx]\n",
    "    #if len(intervals) != 1:\n",
    "    #    continue\n",
    "    true_label = test_true[idx]\n",
    "    probs = test_probs[idx]\n",
    "    \n",
    "    exeeding_idx = np.zeros(5)\n",
    "    exeeding_rel_idx = np.zeros(5)\n",
    "    \n",
    "    for interval in intervals:\n",
    "        if probs[interval] > thslds[interval]:\n",
    "            \n",
    "            exeeding_idx[interval] = abs(probs[interval]-thslds[interval])\n",
    "            \n",
    "            exeeding_rel_idx[interval] = abs(probs[interval]-thslds[interval]) / thslds[interval] #probs[interval]\n",
    "            \n",
    "    test_preds_argmax.append(np.argmax(probs))\n",
    "    test_preds_var.append(np.argmax(exeeding_idx))\n",
    "    test_preds_var_rel.append(np.argmax(exeeding_rel_idx))\n",
    "    test_true_var.append(true_label)\n",
    "    \n",
    "print(f\"argmax (MAE) [All]: {mean_avg_error(np.array(test_true_var), np.array(test_preds_argmax))}\")\n",
    "print(f\"variance (MAE) [All]: {mean_avg_error(np.array(test_true_var), np.array(test_preds_var))}\")\n",
    "print(f\"variance rel (MAE) [All]: {mean_avg_error(np.array(test_true_var), np.array(test_preds_var_rel))}\")"
   ]
  },
  {
   "cell_type": "code",
   "execution_count": 56,
   "id": "3ad4ec55-f147-4b57-ab21-4f423dfe8863",
   "metadata": {
    "tags": []
   },
   "outputs": [
    {
     "data": {
      "image/png": "[encoded data removed]",
      "text/plain": [
       "<Figure size 2000x800 with 4 Axes>"
      ]
     },
     "metadata": {},
     "output_type": "display_data"
    }
   ],
   "source": [
    "fig, (ax1, ax2) = plt.subplots(1, 2, figsize=(20, 8))\n",
    "\n",
    "tick_positions = np.arange(5)\n",
    "\n",
    "cm = confusion_matrix(test_true_var, test_preds_var_rel, labels=np.arange(5))\n",
    "cm = cm.astype('float') / cm.sum(axis=1)[:, np.newaxis]\n",
    "\n",
    "sns.heatmap(cm, cmap='Blues', ax=ax1)\n",
    "\n",
    "ax1.set_xticks(tick_positions + 0.5)\n",
    "ax1.set_xticklabels(tick_positions)\n",
    "ax1.set_title('Normalized Confusion Matrix')\n",
    "\n",
    "\n",
    "freq3 = np.zeros((5,5))\n",
    "for b, c in zip(test_true_var, test_preds_var_rel):\n",
    "    freq3[b,c] += 1\n",
    "\n",
    "sns.heatmap(freq3, cmap='rocket', ax=ax2)\n",
    "\n",
    "ax2.set_xticks(tick_positions + 0.5)\n",
    "ax2.set_xticklabels(tick_positions)\n",
    "ax2.set_title('Frequency Heatmap')\n",
    "\n",
    "for dec_line in range(10,50,10):\n",
    "    ax1.axvline(dec_line, color='red')\n",
    "    ax1.axhline(dec_line, color='red')\n",
    "    ax2.axvline(dec_line, color='red')\n",
    "    ax2.axhline(dec_line, color='red')\n",
    "\n",
    "plt.tight_layout()\n",
    "plt.show()"
   ]
  },
  {
   "cell_type": "markdown",
   "id": "c92ffd6d-8685-4248-9245-37c4b653c83d",
   "metadata": {},
   "source": [
    "### Evaluation"
   ]
  },
  {
   "cell_type": "code",
   "execution_count": 49,
   "id": "2056dbd7-0431-4d91-ba05-c1887d74d7a4",
   "metadata": {
    "tags": []
   },
   "outputs": [],
   "source": [
    "def plot_confusion_matrix(y_true, y_pred, n_classes=5):\n",
    "    fig, (ax1, ax2) = plt.subplots(1, 2, figsize=(20, 8))\n",
    "\n",
    "    tick_positions = np.arange(n_classes)\n",
    "\n",
    "    cm = confusion_matrix(y_true, y_pred, labels=np.arange(n_classes))\n",
    "    cm = cm.astype('float') / cm.sum(axis=1)[:, np.newaxis]\n",
    "\n",
    "    sns.heatmap(cm, cmap='Blues', ax=ax1)\n",
    "\n",
    "    ax1.set_xticks(tick_positions + 0.5)\n",
    "    ax1.set_xticklabels(tick_positions)\n",
    "    ax1.set_title('Normalized Confusion Matrix')\n",
    "\n",
    "\n",
    "    freq3 = np.zeros((n_classes,n_classes))\n",
    "    for b, c in zip(y_true, y_pred):\n",
    "        freq3[b,c] += 1\n",
    "\n",
    "    sns.heatmap(freq3, cmap='rocket', ax=ax2, vmin=10, vmax=1000)\n",
    "\n",
    "    ax2.set_xticks(tick_positions + 0.5)\n",
    "    ax2.set_xticklabels(tick_positions)\n",
    "    ax2.set_title('Frequency Heatmap')\n",
    "\n",
    "    for dec_line in range(10,50,10):\n",
    "        ax1.axvline(dec_line, color='red')\n",
    "        ax1.axhline(dec_line, color='red')\n",
    "        ax2.axvline(dec_line, color='red')\n",
    "        ax2.axhline(dec_line, color='red')\n",
    "\n",
    "    plt.tight_layout()\n",
    "    plt.show()"
   ]
  },
  {
   "cell_type": "code",
   "execution_count": 14,
   "id": "4d33221e-908c-48bb-b85e-30fea3b555ff",
   "metadata": {
    "tags": []
   },
   "outputs": [],
   "source": [
    "from transformers import AutoModel, AutoTokenizer\n",
    "import torch\n",
    "import torch.nn as nn\n",
    "import torch.optim as optim\n",
    "\n",
    "device = torch.device(\"cuda\" if torch.cuda.is_available() else \"cpu\")\n",
    "\n",
    "tokenizer = AutoTokenizer.from_pretrained(\"allenai/longformer-base-4096\")\n",
    "model = AutoModel.from_pretrained(\"allenai/longformer-base-4096\")\n",
    "\n",
    "class CenturyClassifier(nn.Module):\n",
    "    def __init__(self, longformer, num_classes):\n",
    "        super(CenturyClassifier, self).__init__()\n",
    "        self.bert = longformer\n",
    "        self.dropout = nn.Dropout(0.1)\n",
    "        self.classifier = nn.Linear(longformer.config.hidden_size, num_classes)\n",
    "\n",
    "    def forward(self, input_ids, attention_mask, token_type_ids=None):\n",
    "        outputs = self.bert(input_ids, token_type_ids=token_type_ids, attention_mask=attention_mask)\n",
    "        pooled_output = outputs.pooler_output\n",
    "        pooled_output = self.dropout(pooled_output)\n",
    "        return self.classifier(pooled_output)"
   ]
  },
  {
   "cell_type": "code",
   "execution_count": 15,
   "id": "3af700f1-b445-4f8f-a5c9-d7df0103ae92",
   "metadata": {
    "tags": []
   },
   "outputs": [
    {
     "name": "stdout",
     "output_type": "stream",
     "text": [
      "Loaded\n"
     ]
    }
   ],
   "source": [
    "model_century_classifier = CenturyClassifier(model, 5)\n",
    "model_century_classifier.load_state_dict(torch.load('models/task21/century_classifier_weights_3.pt'))\n",
    "model_century_classifier.to(device)\n",
    "model_century_classifier.eval()\n",
    "\n",
    "model_century_classifier_equal = CenturyClassifier(model, 5)\n",
    "model_century_classifier_equal.load_state_dict(torch.load('models/task21/century_classifier_weights_3_equal.pt'))\n",
    "model_century_classifier_equal.to(device)\n",
    "model_century_classifier_equal.eval()\n",
    "\n",
    "model_century_classifier_blacklist = CenturyClassifier(model, 5)\n",
    "model_century_classifier_blacklist.load_state_dict(torch.load('models/task21/century_classifier_weights_3_blacklist.pt'))\n",
    "model_century_classifier_blacklist.to(device)\n",
    "model_century_classifier_blacklist.eval()\n",
    "\n",
    "model_century_classifier_equal_blacklist = CenturyClassifier(model, 5)\n",
    "model_century_classifier_equal_blacklist.load_state_dict(torch.load('models/task21/century_classifier_weights_3_equal_blacklist.pt'))\n",
    "model_century_classifier_equal_blacklist.to(device)\n",
    "model_century_classifier_equal_blacklist.eval()\n",
    "print(\"Loaded\")"
   ]
  },
  {
   "cell_type": "markdown",
   "id": "ef95b91a-a76c-433f-bef1-73610799549a",
   "metadata": {},
   "source": [
    "#### Standard"
   ]
  },
  {
   "cell_type": "code",
   "execution_count": 20,
   "id": "a18f7564-e81a-4aea-b889-08a03a3fcb61",
   "metadata": {
    "tags": []
   },
   "outputs": [],
   "source": [
    "## Run \n",
    "\n",
    "## CUDA_VISIBLE_DEVICES={ID} python3 eval_task21.py [--equal] [--blacklist]"
   ]
  },
  {
   "cell_type": "code",
   "execution_count": 51,
   "id": "a3603a44-13d7-46ad-af5e-3ea84d811d39",
   "metadata": {
    "tags": []
   },
   "outputs": [],
   "source": [
    "# Load results\n",
    "\n",
    "with open('results/task21/full/century_classifier_weights_3.pkl', 'rb') as f:\n",
    "    mcc = pickle.load(f)\n",
    "    \n",
    "with open('results/task21/full/century_classifier_weights_3_equal.pkl', 'rb') as f:\n",
    "    mcce = pickle.load(f)\n",
    "    \n",
    "with open('results/task21/full/century_classifier_weights_3_blacklist.pkl', 'rb') as f:\n",
    "    mccb = pickle.load(f)\n",
    "    \n",
    "with open('results/task21/full/century_classifier_weights_3_equal_blacklist.pkl', 'rb') as f:\n",
    "    mcceb = pickle.load(f)\n",
    "    \n",
    "    \n",
    "with open('results/task21/blacklist/century_classifier_weights_3.pkl', 'rb') as f:\n",
    "    bmcc = pickle.load(f)\n",
    "    \n",
    "with open('results/task21/blacklist/century_classifier_weights_3_equal.pkl', 'rb') as f:\n",
    "    bmcce = pickle.load(f)\n",
    "    \n",
    "with open('results/task21/blacklist/century_classifier_weights_3_blacklist.pkl', 'rb') as f:\n",
    "    bmccb = pickle.load(f)\n",
    "    \n",
    "with open('results/task21/blacklist/century_classifier_weights_3_equal_blacklist.pkl', 'rb') as f:\n",
    "    bmcceb = pickle.load(f)"
   ]
  },
  {
   "cell_type": "code",
   "execution_count": 62,
   "id": "8ceee7c2-88a4-430d-b947-2d437ca3b9f4",
   "metadata": {
    "tags": []
   },
   "outputs": [],
   "source": [
    "def compute_class_mae(y_true, y_pred, n_classes=5):\n",
    "    class_maes = []\n",
    "    for i in range(n_classes):\n",
    "        indices = [idx for idx, label in enumerate(y_true) if label == i]\n",
    "        if indices:\n",
    "            class_mae = mean_avg_error(np.array([y_true[idx] for idx in indices]), \n",
    "                                        np.array([y_pred[idx] for idx in indices]))\n",
    "            class_maes.append(class_mae)\n",
    "        else:\n",
    "            class_maes.append(float('nan'))\n",
    "    return class_maes\n",
    "\n",
    "def count_class_frequencies(y_true, n_classes=5):\n",
    "    frequencies = [0] * n_classes\n",
    "    for label in y_true:\n",
    "        frequencies[label] += 1\n",
    "    return frequencies"
   ]
  },
  {
   "cell_type": "code",
   "execution_count": 63,
   "id": "ef3a7c45-270b-455b-8a02-7ee4cf4c2cf9",
   "metadata": {
    "tags": []
   },
   "outputs": [
    {
     "name": "stdout",
     "output_type": "stream",
     "text": [
      "+-----------------+----------------+---------------+---------------+----------------+---------------+--------------+\n",
      "| Model           | Overall MAE    | Century 0     | Century 1     | Century 2      | Century 3     | Century 4    |\n",
      "+=================+================+===============+===============+================+===============+==============+\n",
      "| Base            | 0.1993 [54651] | 1.5580 [3077] | 0.7470 [3340] | 0.0712 [44528] | 0.0890 [3249] | 0.3129 [457] |\n",
      "+-----------------+----------------+---------------+---------------+----------------+---------------+--------------+\n",
      "| Equal           | 1.0868 [54651] | 1.1901 [3077] | 1.0114 [3340] | 1.1466 [44528] | 0.3598 [3249] | 0.2823 [457] |\n",
      "+-----------------+----------------+---------------+---------------+----------------+---------------+--------------+\n",
      "| Blacklist       | 0.1849 [54651] | 2.0101 [3077] | 0.9174 [3340] | 0.0086 [44528] | 0.0883 [3249] | 0.4026 [457] |\n",
      "+-----------------+----------------+---------------+---------------+----------------+---------------+--------------+\n",
      "| Equal-Blacklist | 1.1093 [54651] | 1.9916 [3077] | 1.8701 [3340] | 1.0152 [44528] | 0.7695 [3249] | 1.1904 [457] |\n",
      "+-----------------+----------------+---------------+---------------+----------------+---------------+--------------+\n"
     ]
    }
   ],
   "source": [
    "table_data = []\n",
    "\n",
    "# Base model\n",
    "overall_mae_base = mean_avg_error(np.array(mcc['true_labels']), np.array(mcc['predictions']))\n",
    "class_maes_base = compute_class_mae(mcc['true_labels'], mcc['predictions'])\n",
    "class_freqs_base = count_class_frequencies(mcc['true_labels'])\n",
    "base_row = [\"Base\", f\"{overall_mae_base:.4f} [{len(mcc['true_labels'])}]\"]\n",
    "for i, mae in enumerate(class_maes_base):\n",
    "    base_row.append(f\"{mae:.4f} [{class_freqs_base[i]}]\")\n",
    "table_data.append(base_row)\n",
    "\n",
    "# Equal model\n",
    "overall_mae_equal = mean_avg_error(np.array(mcce['true_labels']), np.array(mcce['predictions']))\n",
    "class_maes_equal = compute_class_mae(mcce['true_labels'], mcce['predictions'])\n",
    "class_freqs_equal = count_class_frequencies(mcce['true_labels'])\n",
    "equal_row = [\"Equal\", f\"{overall_mae_equal:.4f} [{len(mcce['true_labels'])}]\"]\n",
    "for i, mae in enumerate(class_maes_equal):\n",
    "    equal_row.append(f\"{mae:.4f} [{class_freqs_equal[i]}]\")\n",
    "table_data.append(equal_row)\n",
    "\n",
    "# Blacklist model\n",
    "overall_mae_blacklist = mean_avg_error(np.array(mccb['true_labels']), np.array(mccb['predictions']))\n",
    "class_maes_blacklist = compute_class_mae(mccb['true_labels'], mccb['predictions'])\n",
    "class_freqs_blacklist = count_class_frequencies(mccb['true_labels'])\n",
    "blacklist_row = [\"Blacklist\", f\"{overall_mae_blacklist:.4f} [{len(mccb['true_labels'])}]\"]\n",
    "for i, mae in enumerate(class_maes_blacklist):\n",
    "    blacklist_row.append(f\"{mae:.4f} [{class_freqs_blacklist[i]}]\")\n",
    "table_data.append(blacklist_row)\n",
    "\n",
    "# Equal-Blacklist model\n",
    "overall_mae_equal_blacklist = mean_avg_error(np.array(mcceb['true_labels']), np.array(mcceb['predictions']))\n",
    "class_maes_equal_blacklist = compute_class_mae(mcceb['true_labels'], mcceb['predictions'])\n",
    "class_freqs_equal_blacklist = count_class_frequencies(mcceb['true_labels'])\n",
    "equal_blacklist_row = [\"Equal-Blacklist\", f\"{overall_mae_equal_blacklist:.4f} [{len(mcceb['true_labels'])}]\"]\n",
    "for i, mae in enumerate(class_maes_equal_blacklist):\n",
    "    equal_blacklist_row.append(f\"{mae:.4f} [{class_freqs_equal_blacklist[i]}]\")\n",
    "table_data.append(equal_blacklist_row)\n",
    "\n",
    "print(tabulate(table_data,\n",
    "               [\"Model\", \"Overall MAE\", \"Century 0\", \"Century 1\", \"Century 2\", \"Century 3\", \"Century 4\"], \n",
    "               tablefmt=\"grid\"))"
   ]
  },
  {
   "cell_type": "code",
   "execution_count": 64,
   "id": "db099c96-3b6d-4eb8-9e51-401f6f694169",
   "metadata": {
    "tags": []
   },
   "outputs": [
    {
     "name": "stdout",
     "output_type": "stream",
     "text": [
      "+-----------------+----------------+-------------+--------------+----------------+---------------+--------------+\n",
      "| Model           | Overall MAE    | Century 0   | Century 1    | Century 2      | Century 3     | Century 4    |\n",
      "+=================+================+=============+==============+================+===============+==============+\n",
      "| Base            | 0.0764 [48400] | 0.0000 [11] | 0.2633 [471] | 0.0710 [44212] | 0.0890 [3249] | 0.3129 [457] |\n",
      "+-----------------+----------------+-------------+--------------+----------------+---------------+--------------+\n",
      "| Equal           | 1.0748 [48400] | 1.0000 [11] | 0.0807 [471] | 1.1461 [44212] | 0.3598 [3249] | 0.2823 [457] |\n",
      "+-----------------+----------------+-------------+--------------+----------------+---------------+--------------+\n",
      "| Blacklist       | 0.0170 [48400] | 0.0000 [11] | 0.0722 [471] | 0.0072 [44212] | 0.0883 [3249] | 0.4026 [457] |\n",
      "+-----------------+----------------+-------------+--------------+----------------+---------------+--------------+\n",
      "| Equal-Blacklist | 0.9968 [48400] | 0.5455 [11] | 0.8217 [471] | 1.0135 [44212] | 0.7695 [3249] | 1.1904 [457] |\n",
      "+-----------------+----------------+-------------+--------------+----------------+---------------+--------------+\n"
     ]
    }
   ],
   "source": [
    "table_data = []\n",
    "\n",
    "\n",
    "# Base model\n",
    "overall_mae_base = mean_avg_error(np.array(bmcc['true_labels']), np.array(bmcc['predictions']))\n",
    "class_maes_base = compute_class_mae(bmcc['true_labels'], bmcc['predictions'])\n",
    "class_freqs_base = count_class_frequencies(bmcc['true_labels'])\n",
    "base_row = [\"Base\", f\"{overall_mae_base:.4f} [{len(bmcc['true_labels'])}]\"]\n",
    "for i, mae in enumerate(class_maes_base):\n",
    "    base_row.append(f\"{mae:.4f} [{class_freqs_base[i]}]\")\n",
    "table_data.append(base_row)\n",
    "\n",
    "# Equal model\n",
    "overall_mae_equal = mean_avg_error(np.array(bmcce['true_labels']), np.array(bmcce['predictions']))\n",
    "class_maes_equal = compute_class_mae(bmcce['true_labels'], bmcce['predictions'])\n",
    "class_freqs_equal = count_class_frequencies(bmcce['true_labels'])\n",
    "equal_row = [\"Equal\", f\"{overall_mae_equal:.4f} [{len(bmcce['true_labels'])}]\"]\n",
    "for i, mae in enumerate(class_maes_equal):\n",
    "    equal_row.append(f\"{mae:.4f} [{class_freqs_equal[i]}]\")\n",
    "table_data.append(equal_row)\n",
    "\n",
    "# Blacklist model\n",
    "overall_mae_blacklist = mean_avg_error(np.array(bmccb['true_labels']), np.array(bmccb['predictions']))\n",
    "class_maes_blacklist = compute_class_mae(bmccb['true_labels'], bmccb['predictions'])\n",
    "class_freqs_blacklist = count_class_frequencies(bmccb['true_labels'])\n",
    "blacklist_row = [\"Blacklist\", f\"{overall_mae_blacklist:.4f} [{len(bmccb['true_labels'])}]\"]\n",
    "for i, mae in enumerate(class_maes_blacklist):\n",
    "    blacklist_row.append(f\"{mae:.4f} [{class_freqs_blacklist[i]}]\")\n",
    "table_data.append(blacklist_row)\n",
    "\n",
    "# Equal-Blacklist model\n",
    "overall_mae_equal_blacklist = mean_avg_error(np.array(bmcceb['true_labels']), np.array(bmcceb['predictions']))\n",
    "class_maes_equal_blacklist = compute_class_mae(bmcceb['true_labels'], bmcceb['predictions'])\n",
    "class_freqs_equal_blacklist = count_class_frequencies(bmcceb['true_labels'])\n",
    "equal_blacklist_row = [\"Equal-Blacklist\", f\"{overall_mae_equal_blacklist:.4f} [{len(bmcceb['true_labels'])}]\"]\n",
    "for i, mae in enumerate(class_maes_equal_blacklist):\n",
    "    equal_blacklist_row.append(f\"{mae:.4f} [{class_freqs_equal_blacklist[i]}]\")\n",
    "table_data.append(equal_blacklist_row)\n",
    "\n",
    "print(tabulate(table_data,\n",
    "               [\"Model\", \"Overall MAE\", \"Century 0\", \"Century 1\", \"Century 2\", \"Century 3\", \"Century 4\"], \n",
    "               tablefmt=\"grid\"))"
   ]
  },
  {
   "cell_type": "code",
   "execution_count": 65,
   "id": "7a16cc26-897d-49b8-be75-2ad94fb57351",
   "metadata": {
    "tags": []
   },
   "outputs": [
    {
     "data": {
      "image/png": "[encoded data removed]",
      "text/plain": [
       "<Figure size 2000x800 with 4 Axes>"
      ]
     },
     "metadata": {},
     "output_type": "display_data"
    }
   ],
   "source": [
    "plot_confusion_matrix(bmccb['true_labels'], bmccb['predictions'], n_classes=5)"
   ]
  },
  {
   "cell_type": "markdown",
   "id": "3cb3d819-9c2f-44c9-8922-3a5e6938d006",
   "metadata": {},
   "source": [
    "#### Conformal Prediction"
   ]
  },
  {
   "cell_type": "code",
   "execution_count": 68,
   "id": "3cdf304a-8a16-4d70-b5aa-5e8dc2933b8d",
   "metadata": {
    "tags": []
   },
   "outputs": [],
   "source": [
    "X_calib_21, X_test_21, y_calib_21, y_test_21 = train_test_split(\n",
    "    X_valid_21, y_valid_21, test_size=0.5, random_state=RANDOM_SEED\n",
    ")\n",
    "\n",
    "calib_21_dataset = TextDataset(X_calib_21, y_calib_21, valid_path)\n",
    "test_21_dataset = TextDataset(X_test_21, y_test_21, valid_path)\n",
    "calib_21_dataloader = DataLoader(calib_21_dataset, batch_size=16, shuffle=False)\n",
    "test_21_dataloader = DataLoader(test_21_dataset, batch_size=16, shuffle=False)"
   ]
  },
  {
   "cell_type": "code",
   "execution_count": null,
   "id": "330d5e36-b29e-4778-b8a5-98cd331f02dd",
   "metadata": {},
   "outputs": [
    {
     "name": "stderr",
     "output_type": "stream",
     "text": [
      "100%|█████████████████████████████████████████████████████████████████████████████████████████████████████████████████████████████████████████████████████████████████████████████| 1708/1708 [25:17<00:00,  1.13it/s]\n"
     ]
    }
   ],
   "source": [
    "# Calibration\n",
    "calib_21_probs = []\n",
    "calib_21_preds = []\n",
    "calib_21_true = []\n",
    "\n",
    "model_century_classifier.eval()\n",
    "\n",
    "with torch.no_grad():\n",
    "    for text, labels in tqdm(calib_21_dataloader):\n",
    "        tokens = tokenizer(text, padding='max_length', truncation=True, return_tensors=\"pt\", max_length=512*3).to(device)\n",
    "        output = model_century_classifier(**tokens)\n",
    "        probabilities = torch.softmax(output, dim=1)\n",
    "        predictions = output.argmax(dim=1)\n",
    "        calib_21_probs.extend(probabilities.detach().cpu().numpy())\n",
    "        calib_21_preds.extend(predictions.detach().cpu().numpy())\n",
    "        calib_21_true.extend(labels.cpu().numpy())"
   ]
  },
  {
   "cell_type": "code",
   "execution_count": null,
   "id": "479f3278-70a6-49fd-b0e6-697036a3356f",
   "metadata": {},
   "outputs": [],
   "source": [
    "# Group calibration data by true class\n",
    "class_nonconformity_21 = {class_idx: [] for class_idx in range(5)}\n",
    "\n",
    "# Compute class-specific nonconformity scores\n",
    "for i, (prob, true_label) in enumerate(zip(calib_21_probs, calib_21_true)):\n",
    "    nonconformity = 1 - prob[true_label]\n",
    "    class_nonconformity_21[true_label].append(nonconformity)\n",
    "\n",
    "# Calculate threshold for each class\n",
    "class_thresholds_21 = {}\n",
    "confidence_level = 0.90\n",
    "alpha = 1 - confidence_level\n",
    "\n",
    "n_samples = len(calib_21_true)\n",
    "for class_idx, scores in class_nonconformity_21.items():\n",
    "    q = np.ceil((n_samples + 1) * (1 - alpha)) / n_samples # corrected formula\n",
    "    class_thresholds_21[class_idx] = np.quantile(scores, q)   "
   ]
  },
  {
   "cell_type": "code",
   "execution_count": null,
   "id": "cc2f68cb-d687-430b-a564-9e12d01e70a1",
   "metadata": {},
   "outputs": [
    {
     "name": "stderr",
     "output_type": "stream",
     "text": [
      "100%|█████████████████████████████████████████████████████████████████████████████████████████████████████████████████████████████████████████████████████████████████████████████| 1708/1708 [25:00<00:00,  1.14it/s]\n"
     ]
    }
   ],
   "source": [
    "test_preds_21 = []\n",
    "test_intervals_21 = []\n",
    "test_true_21 = []\n",
    "test_probs_21 = []\n",
    "\n",
    "with torch.no_grad():\n",
    "    for text, labels in tqdm(test_21_dataloader):\n",
    "        tokens = tokenizer(text, padding='max_length', truncation=True, return_tensors=\"pt\", max_length=512*3).to(device)\n",
    "        output = model_century_classifier(**tokens)\n",
    "        probabilities = torch.softmax(output, dim=1)\n",
    "        predictions = output.argmax(dim=1)      \n",
    "        for i, prob in enumerate(probabilities): # Iterate on the batch\n",
    "            pred = predictions[i].item()\n",
    "            true_label = labels[i].item()          \n",
    "            # Create prediction set using class-specific thresholds\n",
    "            prediction_set = []\n",
    "            for label in range(5):\n",
    "                # Use threshold specific to the candidate class\n",
    "                if 1 - prob[label].item() <= class_thresholds_21[label]:\n",
    "                    prediction_set.append(label)  \n",
    "                    \n",
    "            test_preds_21.append(pred)\n",
    "            test_intervals_21.append(prediction_set)\n",
    "            test_true_21.append(true_label)\n",
    "            test_probs_21.append(prob.detach().cpu().numpy())"
   ]
  },
  {
   "cell_type": "code",
   "execution_count": 127,
   "id": "92242db4-13b6-4a71-a059-5480386d324b",
   "metadata": {
    "tags": []
   },
   "outputs": [
    {
     "name": "stdout",
     "output_type": "stream",
     "text": [
      "argmax (MAE): 0.2504574398009222\n",
      "argmax int (MAE): 0.41023201346702776\n",
      "variance (MAE): 1.0482324526092366\n",
      "variance rel (MAE): 1.0225792285735198\n"
     ]
    }
   ],
   "source": [
    "test_preds_argmax_21 = []\n",
    "test_preds_argmax_int_21 = []\n",
    "test_preds_var_21 = []\n",
    "test_preds_var_rel_21 = []\n",
    "\n",
    "\n",
    "test_true_var_21 = []\n",
    "thslds_21 = [ 1 - x for x in class_thresholds_21.values()]\n",
    "\n",
    "#for idx in range(len(test_probs_21)):\n",
    "for idx, tidx in enumerate(X_test_21):\n",
    "    \n",
    "    tidx = int(tidx.replace('valid_text', '').replace('.txt', ''))\n",
    "    # if tidx in blacklist_valid:\n",
    "    #    continue\n",
    "    \n",
    "    intervals = test_intervals_21[idx]\n",
    "    #if len(intervals) != 1:\n",
    "    #    continue\n",
    "    true_label = test_true_21[idx]\n",
    "    probs = test_probs_21[idx]\n",
    "    \n",
    "    exeeding_argmax = np.zeros(5)\n",
    "    exeeding_idx = np.zeros(5)\n",
    "    exeeding_rel_idx = np.zeros(5)\n",
    "    \n",
    "    for interval in intervals:\n",
    "        if probs[interval] > thslds_21[interval]:\n",
    "            \n",
    "            exeeding_argmax[interval] = probs[interval]\n",
    "            \n",
    "            exeeding_idx[interval] = abs(probs[interval]-thslds_21[interval])\n",
    "            \n",
    "            exeeding_rel_idx[interval] = abs(probs[interval]-thslds_21[interval]) / (1-thslds_21[interval]) #thslds_21[interval] #probs[interval]\n",
    "            \n",
    "    test_preds_argmax_21.append(np.argmax(probs))\n",
    "    test_preds_argmax_int_21.append(np.argmax(exeeding_argmax))\n",
    "    test_preds_var_21.append(np.argmax(exeeding_idx))\n",
    "    test_preds_var_rel_21.append(np.argmax(exeeding_rel_idx))\n",
    "    \n",
    "    test_true_var_21.append(true_label)\n",
    "    \n",
    "print(f\"argmax (MAE): {mean_avg_error(np.array(test_true_var_21), np.array(test_preds_argmax_21))}\")\n",
    "print(f\"argmax int (MAE): {mean_avg_error(np.array(test_true_var_21), np.array(test_preds_argmax_int_21))}\")\n",
    "print(f\"variance (MAE): {mean_avg_error(np.array(test_true_var_21), np.array(test_preds_var_21))}\")\n",
    "print(f\"variance rel (MAE): {mean_avg_error(np.array(test_true_var_21), np.array(test_preds_var_rel_21))}\")"
   ]
  },
  {
   "cell_type": "code",
   "execution_count": 128,
   "id": "2433f149-85dd-49a6-8123-bf1f3cef81f1",
   "metadata": {
    "tags": []
   },
   "outputs": [
    {
     "name": "stdout",
     "output_type": "stream",
     "text": [
      "+-----------------+----------------+---------------+---------------+----------------+---------------+--------------+\n",
      "| Mode            | Overall MAE    | Century 0     | Century 1     | Century 2      | Century 3     | Century 4    |\n",
      "+=================+================+===============+===============+================+===============+==============+\n",
      "| argmax          | 0.2505 [27326] | 2.0000 [1508] | 1.0000 [1696] | 0.0007 [22243] | 1.0024 [1652] | 2.0264 [227] |\n",
      "+-----------------+----------------+---------------+---------------+----------------+---------------+--------------+\n",
      "| argmax interval | 0.4102 [27326] | 1.8130 [1508] | 1.0106 [1696] | 0.1966 [22243] | 1.1429 [1652] | 2.2115 [227] |\n",
      "+-----------------+----------------+---------------+---------------+----------------+---------------+--------------+\n",
      "| var             | 1.0482 [27326] | 1.4980 [1508] | 0.8066 [1696] | 0.9855 [22243] | 1.5738 [1652] | 2.1850 [227] |\n",
      "+-----------------+----------------+---------------+---------------+----------------+---------------+--------------+\n",
      "| var rel         | 1.0226 [27326] | 1.4894 [1508] | 0.7807 [1696] | 0.9562 [22243] | 1.5732 [1652] | 2.2247 [227] |\n",
      "+-----------------+----------------+---------------+---------------+----------------+---------------+--------------+\n"
     ]
    }
   ],
   "source": [
    "table_data = []\n",
    "\n",
    "\n",
    "# Argmax model\n",
    "overall_mae_base = mean_avg_error(np.array(test_true_var_21), np.array(test_preds_argmax_21))\n",
    "class_maes_base = compute_class_mae(test_true_var_21, test_preds_argmax_21)\n",
    "class_freqs_base = count_class_frequencies(test_true_var_21)\n",
    "argmax_row = [\"argmax\", f\"{overall_mae_base:.4f} [{len(test_true_var_21)}]\"]\n",
    "for i, mae in enumerate(class_maes_base):\n",
    "    argmax_row.append(f\"{mae:.4f} [{class_freqs_base[i]}]\")\n",
    "table_data.append(argmax_row)\n",
    "\n",
    "# Argmax int model\n",
    "overall_mae_base = mean_avg_error(np.array(test_true_var_21), np.array(test_preds_argmax_int_21))\n",
    "class_maes_base = compute_class_mae(test_true_var_21, test_preds_argmax_int_21)\n",
    "class_freqs_base = count_class_frequencies(test_true_var_21)\n",
    "argmax_int_row = [\"argmax interval\", f\"{overall_mae_base:.4f} [{len(test_true_var_21)}]\"]\n",
    "for i, mae in enumerate(class_maes_base):\n",
    "    argmax_int_row.append(f\"{mae:.4f} [{class_freqs_base[i]}]\")\n",
    "table_data.append(argmax_int_row)\n",
    "\n",
    "# Variance model\n",
    "overall_mae_base = mean_avg_error(np.array(test_true_var_21), np.array(test_preds_var_21))\n",
    "class_maes_base = compute_class_mae(test_true_var_21, test_preds_var_21)\n",
    "class_freqs_base = count_class_frequencies(test_true_var_21)\n",
    "var_row = [\"var\", f\"{overall_mae_base:.4f} [{len(test_true_var_21)}]\"]\n",
    "for i, mae in enumerate(class_maes_base):\n",
    "    var_row.append(f\"{mae:.4f} [{class_freqs_base[i]}]\")\n",
    "table_data.append(var_row)\n",
    "\n",
    "# Var rel model\n",
    "overall_mae_base = mean_avg_error(np.array(test_true_var_21), np.array(test_preds_var_rel_21))\n",
    "class_maes_base = compute_class_mae(test_true_var_21, test_preds_var_rel_21)\n",
    "class_freqs_base = count_class_frequencies(test_true_var_21)\n",
    "var_rel_row = [\"var rel\", f\"{overall_mae_base:.4f} [{len(test_true_var_21)}]\"]\n",
    "for i, mae in enumerate(class_maes_base):\n",
    "    var_rel_row.append(f\"{mae:.4f} [{class_freqs_base[i]}]\")\n",
    "table_data.append(var_rel_row)\n",
    "\n",
    "print(tabulate(table_data,\n",
    "               [\"Mode\", \"Overall MAE\", \"Century 0\", \"Century 1\", \"Century 2\", \"Century 3\", \"Century 4\"], \n",
    "               tablefmt=\"grid\"))"
   ]
  },
  {
   "cell_type": "code",
   "execution_count": 129,
   "id": "e0aac866-9ed7-4896-9987-55122fe604c5",
   "metadata": {},
   "outputs": [
    {
     "name": "stdout",
     "output_type": "stream",
     "text": [
      "[34] Pred: 2 - True 1\n",
      "[0, 1, 2, 3]\n",
      "2\n"
     ]
    },
    {
     "data": {
      "image/png": "[encoded data removed]",
      "text/plain": [
       "<Figure size 640x480 with 1 Axes>"
      ]
     },
     "metadata": {},
     "output_type": "display_data"
    }
   ],
   "source": [
    "limit = 1\n",
    "for idx in range(len(test_probs_21)):\n",
    "    ex_prob = test_probs_21[idx]\n",
    "    if np.argmax(ex_prob) == test_true_21[idx]:\n",
    "        continue\n",
    "        \n",
    "    #if abs(np.argmax(ex_prob) - test_true_21[idx]) < 5:\n",
    "    #    continue\n",
    "        \n",
    "    print(f\"[{idx}] Pred: {np.argmax(ex_prob)} - True {test_true_21[idx]}\")\n",
    "    print(test_intervals_21[idx])\n",
    "    print(test_preds_21[idx])\n",
    "    oks = [ x if 1 - x <= y else 0  for x, y in zip(ex_prob, class_thresholds_21.values()) ]\n",
    "    not_oks = [ x if 1 - x > y else 0  for x, y in zip(ex_prob, class_thresholds_21.values()) ]\n",
    "\n",
    "    plt.bar(class_thresholds_21.keys(), [ 1 - x for x in class_thresholds_21.values()], color='grey', alpha=0.3, label='threshold')\n",
    "    #plt.bar(range(43), ex_prob, alpha=0.3)\n",
    "    plt.bar(range(5), oks, alpha=0.3, color='green', label='over')\n",
    "    plt.bar(range(5), not_oks, alpha=0.3, color='red', label='under')\n",
    "    \n",
    "    gt = np.zeros(5)\n",
    "    gt[test_true_21[idx]] = 1\n",
    "    plt.bar(range(5), gt, alpha=0.2, edgecolor='black', label='truth value')\n",
    "    plt.ylim(0,1)\n",
    "    plt.legend()\n",
    "    plt.show()\n",
    "    \n",
    "    limit -= 1\n",
    "    if limit == 0:\n",
    "        break"
   ]
  },
  {
   "cell_type": "markdown",
   "id": "e692eaff-927b-4ec0-a51c-cf4e13094aee",
   "metadata": {},
   "source": [
    "## Decade"
   ]
  },
  {
   "cell_type": "code",
   "execution_count": 131,
   "id": "8329f13e-3862-4fcd-9180-cda8b2790ef1",
   "metadata": {
    "tags": []
   },
   "outputs": [],
   "source": [
    "class DecadeClassifier(nn.Module):\n",
    "    def __init__(self, century_model, num_decades=10):\n",
    "        super(DecadeClassifier, self).__init__()\n",
    "       \n",
    "        self.bert = century_model.bert\n",
    "        \n",
    "        for param in self.bert.parameters():\n",
    "            param.requires_grad = False\n",
    "            \n",
    "        self.dropout = nn.Dropout(0.1)\n",
    "        \n",
    "        self.classifier = nn.Linear(self.bert.config.hidden_size, num_decades)\n",
    "        self.century_to_decade = nn.Linear(5, num_decades)\n",
    "        \n",
    "    def forward(self, input_ids, attention_mask, century_logits=None, token_type_ids=None):\n",
    "        \n",
    "        outputs = self.bert(input_ids, token_type_ids=token_type_ids, attention_mask=attention_mask)\n",
    "        pooled_output = outputs.pooler_output\n",
    "        pooled_output = self.dropout(pooled_output)\n",
    "        \n",
    "        \n",
    "        decade_logits = self.classifier(pooled_output)\n",
    "        \n",
    "        if century_logits is not None:\n",
    "            century_contribution = self.century_to_decade(century_logits)\n",
    "            decade_logits = decade_logits + century_contribution\n",
    "            \n",
    "        return decade_logits"
   ]
  },
  {
   "cell_type": "markdown",
   "id": "a4a7fa88-e69e-4245-abe7-cc438851a32b",
   "metadata": {},
   "source": [
    "### Evaluation"
   ]
  },
  {
   "cell_type": "code",
   "execution_count": 137,
   "id": "93ead00d-2171-4610-89f3-afde41c9298d",
   "metadata": {
    "tags": []
   },
   "outputs": [
    {
     "name": "stdout",
     "output_type": "stream",
     "text": [
      "Model loaded!\n"
     ]
    }
   ],
   "source": [
    "# Base model\n",
    "\n",
    "model_century_classifier = CenturyClassifier(model, 5)\n",
    "model_century_classifier.load_state_dict(torch.load('models/task21/century_classifier_weights_3.pt'))\n",
    "model_century_classifier.to(device)\n",
    "\n",
    "model_decade_classifier = DecadeClassifier(model_century_classifier)\n",
    "model_decade_classifier.load_state_dict(torch.load('models/task22/decade_classifier_weights_3_frozen.pt'))\n",
    "model_decade_classifier.to(device)\n",
    "\n",
    "model_century_classifier_blk = CenturyClassifier(model, 5)\n",
    "model_century_classifier_blk.load_state_dict(torch.load('models/task21/century_classifier_weights_3_blacklist.pt'))\n",
    "model_century_classifier_blk.to(device)\n",
    "\n",
    "model_decade_classifier_blk = DecadeClassifier(model_century_classifier_blk)\n",
    "model_decade_classifier_blk.load_state_dict(torch.load('models/task22/decade_classifier_weights_3_blacklist_frozen.pt'))\n",
    "model_decade_classifier_blk.to(device)\n",
    "\n",
    "print('Model loaded!')"
   ]
  },
  {
   "cell_type": "markdown",
   "id": "18160ba8-2c47-41d7-b3fc-573eedf15197",
   "metadata": {},
   "source": [
    "#### Standrard"
   ]
  },
  {
   "cell_type": "code",
   "execution_count": 136,
   "id": "ef8578a7-f974-4431-bb8f-dda39b915bfa",
   "metadata": {
    "tags": []
   },
   "outputs": [
    {
     "name": "stderr",
     "output_type": "stream",
     "text": [
      "100%|█████████████████████████████████████████████████████████████████████████████████████████████████████████████████████████████████████████████████████████████████████████████| 3416/3416 [38:02<00:00,  1.50it/s]"
     ]
    },
    {
     "name": "stdout",
     "output_type": "stream",
     "text": [
      "MAE (without CP) [All]: 2.545900349490403\n"
     ]
    },
    {
     "name": "stderr",
     "output_type": "stream",
     "text": [
      "\n"
     ]
    }
   ],
   "source": [
    "y_test_pred_22 = []\n",
    "y_test_true_22 = []\n",
    "\n",
    "with torch.no_grad():\n",
    "    for text, labels in tqdm(valid22_dataloader):\n",
    "        tokens = tokenizer(text, padding='max_length', truncation=True, return_tensors=\"pt\", max_length=512*3,).to(device)\n",
    "        output = model_decade_classifier(**tokens)\n",
    "        predictions = output.argmax(dim=1)\n",
    "        y_test_pred_22.extend(predictions.detach().cpu().numpy())\n",
    "        y_test_true_22.extend(labels.cpu().numpy())\n",
    "        \n",
    "print(f\"MAE (without CP) [All]: {mean_avg_error(np.array(y_test_true_22), np.array(y_test_pred_22))}\")"
   ]
  },
  {
   "cell_type": "code",
   "execution_count": 138,
   "id": "0e3622ea-b6f2-460c-bdf4-c12f7258b4e3",
   "metadata": {
    "tags": []
   },
   "outputs": [
    {
     "name": "stderr",
     "output_type": "stream",
     "text": [
      "100%|█████████████████████████████████████████████████████████████████████████████████████████████████████████████████████████████████████████████████████████████████████████████| 3416/3416 [38:01<00:00,  1.50it/s]"
     ]
    },
    {
     "name": "stdout",
     "output_type": "stream",
     "text": [
      "MAE (without CP) [All]: 2.508261513970467\n"
     ]
    },
    {
     "name": "stderr",
     "output_type": "stream",
     "text": [
      "\n"
     ]
    }
   ],
   "source": [
    "y_test_pred_22_blk = []\n",
    "y_test_true_22_blk = []\n",
    "\n",
    "with torch.no_grad():\n",
    "    for text, labels in tqdm(valid22_dataloader):\n",
    "        tokens = tokenizer(text, padding='max_length', truncation=True, return_tensors=\"pt\", max_length=512*3,).to(device)\n",
    "        output = model_decade_classifier_blk(**tokens)\n",
    "        predictions = output.argmax(dim=1)\n",
    "        y_test_pred_22_blk.extend(predictions.detach().cpu().numpy())\n",
    "        y_test_true_22_blk.extend(labels.cpu().numpy())\n",
    "        \n",
    "print(f\"MAE (without CP) [All]: {mean_avg_error(np.array(y_test_true_22_blk), np.array(y_test_pred_22_blk))}\")"
   ]
  },
  {
   "cell_type": "markdown",
   "id": "a89843bf-5c00-4aaf-b6e6-5783257a9e0f",
   "metadata": {},
   "source": [
    "#### Confromal "
   ]
  },
  {
   "cell_type": "code",
   "execution_count": 139,
   "id": "460fa99b-410c-45df-97bb-74fa008aeb3a",
   "metadata": {
    "tags": []
   },
   "outputs": [],
   "source": [
    "X_calib_22, X_test_22, y_calib_22, y_test_22 = train_test_split(\n",
    "    X_valid_22, y_valid_22, test_size=0.5, random_state=RANDOM_SEED\n",
    ")\n",
    "\n",
    "calib_22_dataset = TextDataset(X_calib_22, y_calib_22, valid_path)\n",
    "test_22_dataset = TextDataset(X_test_22, y_test_22, valid_path)\n",
    "calib_22_dataloader = DataLoader(calib_22_dataset, batch_size=16, shuffle=False)\n",
    "test_22_dataloader = DataLoader(test_22_dataset, batch_size=16, shuffle=False)"
   ]
  },
  {
   "cell_type": "code",
   "execution_count": 140,
   "id": "d061ebd6-6884-40d8-97d3-8cd83c76f3f5",
   "metadata": {
    "tags": []
   },
   "outputs": [
    {
     "name": "stderr",
     "output_type": "stream",
     "text": [
      "100%|█████████████████████████████████████████████████████████████████████████████████████████████████████████████████████████████████████████████████████████████████████████████| 1708/1708 [18:53<00:00,  1.51it/s]\n"
     ]
    }
   ],
   "source": [
    "# Calibration\n",
    "calib_22_probs = []\n",
    "calib_22_preds = []\n",
    "calib_22_true = []\n",
    "\n",
    "model_decade_classifier.eval()\n",
    "\n",
    "with torch.no_grad():\n",
    "    for text, labels in tqdm(calib_22_dataloader):\n",
    "        tokens = tokenizer(text, padding='max_length', truncation=True, return_tensors=\"pt\", max_length=512*3).to(device)\n",
    "        output = model_decade_classifier(**tokens)\n",
    "        probabilities = torch.softmax(output, dim=1)\n",
    "        predictions = output.argmax(dim=1)\n",
    "        calib_22_probs.extend(probabilities.detach().cpu().numpy())\n",
    "        calib_22_preds.extend(predictions.detach().cpu().numpy())\n",
    "        calib_22_true.extend(labels.cpu().numpy())"
   ]
  },
  {
   "cell_type": "code",
   "execution_count": 142,
   "id": "f47a4a37-6ddf-47ea-83a4-6e07378bbd8b",
   "metadata": {
    "tags": []
   },
   "outputs": [],
   "source": [
    "# Group calibration data by true class\n",
    "class_nonconformity_22 = {class_idx: [] for class_idx in range(10)}\n",
    "\n",
    "# Compute class-specific nonconformity scores\n",
    "for i, (prob, true_label) in enumerate(zip(calib_22_probs, calib_22_true)):\n",
    "    nonconformity = 1 - prob[true_label]\n",
    "    class_nonconformity_22[true_label].append(nonconformity)\n",
    "\n",
    "# Calculate threshold for each class\n",
    "class_thresholds_22 = {}\n",
    "confidence_level = 0.90\n",
    "alpha = 1 - confidence_level\n",
    "\n",
    "n_samples = len(calib_22_true)\n",
    "for class_idx, scores in class_nonconformity_22.items():\n",
    "    q = np.ceil((n_samples + 1) * (1 - alpha)) / n_samples # corrected formula\n",
    "    class_thresholds_22[class_idx] = np.quantile(scores, q)   "
   ]
  },
  {
   "cell_type": "code",
   "execution_count": 143,
   "id": "e1c6a961-fcae-4b55-bb9e-b50a501f6048",
   "metadata": {
    "tags": []
   },
   "outputs": [
    {
     "name": "stderr",
     "output_type": "stream",
     "text": [
      "100%|█████████████████████████████████████████████████████████████████████████████████████████████████████████████████████████████████████████████████████████████████████████████| 1708/1708 [18:57<00:00,  1.50it/s]\n"
     ]
    }
   ],
   "source": [
    "test_preds_22 = []\n",
    "test_intervals_22 = []\n",
    "test_true_22 = []\n",
    "test_probs_22 = []\n",
    "\n",
    "with torch.no_grad():\n",
    "    for text, labels in tqdm(test_22_dataloader):\n",
    "        tokens = tokenizer(text, padding='max_length', truncation=True, return_tensors=\"pt\", max_length=512*3).to(device)\n",
    "        output = model_decade_classifier(**tokens)\n",
    "        probabilities = torch.softmax(output, dim=1)\n",
    "        predictions = output.argmax(dim=1)      \n",
    "        for i, prob in enumerate(probabilities): # Iterate on the batch\n",
    "            pred = predictions[i].item()\n",
    "            true_label = labels[i].item()          \n",
    "            # Create prediction set using class-specific thresholds\n",
    "            prediction_set = []\n",
    "            for label in range(10):\n",
    "                # Use threshold specific to the candidate class\n",
    "                if 1 - prob[label].item() <= class_thresholds_22[label]:\n",
    "                    prediction_set.append(label)  \n",
    "                    \n",
    "            test_preds_22.append(pred)\n",
    "            test_intervals_22.append(prediction_set)\n",
    "            test_true_22.append(true_label)\n",
    "            test_probs_22.append(prob.detach().cpu().numpy())"
   ]
  },
  {
   "cell_type": "code",
   "execution_count": 144,
   "id": "8b6d5c63-6798-4e63-8b54-559a9b49546b",
   "metadata": {
    "tags": []
   },
   "outputs": [
    {
     "name": "stdout",
     "output_type": "stream",
     "text": [
      "argmax (MAE): 2.56367562028837\n",
      "argmax int (MAE): 2.53004464612457\n",
      "variance (MAE): 2.703944960843153\n",
      "variance rel (MAE): 2.696735709580619\n"
     ]
    }
   ],
   "source": [
    "test_preds_argmax_22 = []\n",
    "test_preds_argmax_int_22 = []\n",
    "test_preds_var_22 = []\n",
    "test_preds_var_rel_22 = []\n",
    "\n",
    "\n",
    "test_true_var_22 = []\n",
    "thslds_22 = [ 1 - x for x in class_thresholds_22.values()]\n",
    "\n",
    "#for idx in range(len(test_probs_21)):\n",
    "for idx, tidx in enumerate(X_test_22):\n",
    "    \n",
    "    tidx = int(tidx.replace('valid_text', '').replace('.txt', ''))\n",
    "    # if tidx in blacklist_valid:\n",
    "    #    continue\n",
    "    \n",
    "    intervals = test_intervals_22[idx]\n",
    "    #if len(intervals) != 1:\n",
    "    #    continue\n",
    "    true_label = test_true_22[idx]\n",
    "    probs = test_probs_22[idx]\n",
    "    \n",
    "    exeeding_argmax = np.zeros(10)\n",
    "    exeeding_idx = np.zeros(10)\n",
    "    exeeding_rel_idx = np.zeros(10)\n",
    "    \n",
    "    for interval in intervals:\n",
    "        if probs[interval] > thslds_22[interval]:\n",
    "            \n",
    "            exeeding_argmax[interval] = probs[interval]\n",
    "            \n",
    "            exeeding_idx[interval] = abs(probs[interval]-thslds_22[interval])\n",
    "            \n",
    "            exeeding_rel_idx[interval] = abs(probs[interval]-thslds_22[interval]) / (1-thslds_22[interval]) #thslds_21[interval] #probs[interval]\n",
    "            \n",
    "    test_preds_argmax_22.append(np.argmax(probs))\n",
    "    test_preds_argmax_int_22.append(np.argmax(exeeding_argmax))\n",
    "    test_preds_var_22.append(np.argmax(exeeding_idx))\n",
    "    test_preds_var_rel_22.append(np.argmax(exeeding_rel_idx))\n",
    "    \n",
    "    test_true_var_22.append(true_label)\n",
    "    \n",
    "print(f\"argmax (MAE): {mean_avg_error(np.array(test_true_var_22), np.array(test_preds_argmax_22))}\")\n",
    "print(f\"argmax int (MAE): {mean_avg_error(np.array(test_true_var_22), np.array(test_preds_argmax_int_22))}\")\n",
    "print(f\"variance (MAE): {mean_avg_error(np.array(test_true_var_22), np.array(test_preds_var_22))}\")\n",
    "print(f\"variance rel (MAE): {mean_avg_error(np.array(test_true_var_22), np.array(test_preds_var_rel_22))}\")"
   ]
  },
  {
   "cell_type": "code",
   "execution_count": 154,
   "id": "cd938e3e-e093-43f7-bd20-774d994a4ecf",
   "metadata": {
    "tags": []
   },
   "outputs": [
    {
     "name": "stdout",
     "output_type": "stream",
     "text": [
      "+--------------+---------------+------------+------------+------------+------------+------------+------------+------------+------------+------------+------------+\n",
      "| Mode         | Overall MAE   |   Decade 0 |   Decade 1 |   Decade 2 |   Decade 3 |   Decade 4 |   Decade 5 |   Decade 6 |   Decade 7 |   Decade 8 |   Decade 9 |\n",
      "+==============+===============+============+============+============+============+============+============+============+============+============+============+\n",
      "| argmax       | 2.564 [27326] |      7.451 |      6.693 |      5.97  |      5.035 |      4.046 |      2.996 |      2.083 |      1.151 |      0.337 |      1.134 |\n",
      "+--------------+---------------+------------+------------+------------+------------+------------+------------+------------+------------+------------+------------+\n",
      "| [CP] argmax  | 2.530 [27326] |      7.195 |      6.416 |      5.847 |      5.014 |      4.035 |      2.984 |      2.085 |      1.155 |      0.345 |      1.147 |\n",
      "+--------------+---------------+------------+------------+------------+------------+------------+------------+------------+------------+------------+------------+\n",
      "| [CP] var     | 2.704 [27326] |      4.685 |      3.886 |      3.811 |      3.38  |      2.29  |      2.166 |      2.247 |      2.342 |      2.482 |      2.578 |\n",
      "+--------------+---------------+------------+------------+------------+------------+------------+------------+------------+------------+------------+------------+\n",
      "| [CP] var rel | 2.697 [27326] |      4.815 |      3.98  |      3.897 |      3.474 |      2.358 |      2.191 |      2.235 |      2.3   |      2.392 |      2.517 |\n",
      "+--------------+---------------+------------+------------+------------+------------+------------+------------+------------+------------+------------+------------+\n"
     ]
    }
   ],
   "source": [
    "table_data = []\n",
    "\n",
    "\n",
    "# Argmax model\n",
    "overall_mae_base = mean_avg_error(np.array(test_true_var_22), np.array(test_preds_argmax_22))\n",
    "class_maes_base = compute_class_mae(test_true_var_22, test_preds_argmax_22, n_classes=10)\n",
    "class_freqs_base = count_class_frequencies(test_true_var_22, n_classes=10)\n",
    "argmax_row = [\"argmax\", f\"{overall_mae_base:.3f} [{len(test_true_var_22)}]\"]\n",
    "for i, mae in enumerate(class_maes_base):\n",
    "    # argmax_row.append(f\"{mae:.3f} [{class_freqs_base[i]}]\")\n",
    "    argmax_row.append(f\"{mae:.3f}\")\n",
    "    \n",
    "table_data.append(argmax_row)\n",
    "\n",
    "# Argmax int model\n",
    "overall_mae_base = mean_avg_error(np.array(test_true_var_22), np.array(test_preds_argmax_int_22))\n",
    "class_maes_base = compute_class_mae(test_true_var_22, test_preds_argmax_int_22, n_classes=10)\n",
    "class_freqs_base = count_class_frequencies(test_true_var_22, n_classes=10)\n",
    "argmax_int_row = [\"[CP] argmax\", f\"{overall_mae_base:.3f} [{len(test_true_var_22)}]\"]\n",
    "for i, mae in enumerate(class_maes_base):\n",
    "    # argmax_int_row.append(f\"{mae:.3f} [{class_freqs_base[i]}]\")\n",
    "    argmax_int_row.append(f\"{mae:.3f}\")\n",
    "table_data.append(argmax_int_row)\n",
    "\n",
    "# Variance model\n",
    "overall_mae_base = mean_avg_error(np.array(test_true_var_22), np.array(test_preds_var_22))\n",
    "class_maes_base = compute_class_mae(test_true_var_22, test_preds_var_22, n_classes=10)\n",
    "class_freqs_base = count_class_frequencies(test_true_var_22, n_classes=10)\n",
    "var_row = [\"[CP] var\", f\"{overall_mae_base:.3f} [{len(test_true_var_22)}]\"]\n",
    "for i, mae in enumerate(class_maes_base):\n",
    "    # var_row.append(f\"{mae:.3f} [{class_freqs_base[i]}]\")\n",
    "    var_row.append(f\"{mae:.3f}\")\n",
    "table_data.append(var_row)\n",
    "\n",
    "# Var rel model\n",
    "overall_mae_base = mean_avg_error(np.array(test_true_var_22), np.array(test_preds_var_rel_22))\n",
    "class_maes_base = compute_class_mae(test_true_var_22, test_preds_var_rel_22, n_classes=10)\n",
    "class_freqs_base = count_class_frequencies(test_true_var_22, n_classes=10)\n",
    "var_rel_row = [\"[CP] var rel\", f\"{overall_mae_base:.3f} [{len(test_true_var_22)}]\"]\n",
    "for i, mae in enumerate(class_maes_base):\n",
    "    # var_rel_row.append(f\"{mae:.3f} [{class_freqs_base[i]}]\")\n",
    "    var_rel_row.append(f\"{mae:.3f}\")\n",
    "\n",
    "table_data.append(var_rel_row)\n",
    "\n",
    "print(tabulate(table_data,\n",
    "               [\"Mode\", \"Overall MAE\", \"Decade 0\", \"Decade 1\", \"Decade 2\", \"Decade 3\", \"Decade 4\", \"Decade 5\"\n",
    "               , \"Decade 6\", \"Decade 7\", \"Decade 8\", \"Decade 9\"], \n",
    "               tablefmt=\"grid\"))"
   ]
  },
  {
   "cell_type": "code",
   "execution_count": null,
   "id": "e38cea22-4ee3-47e3-9cc1-66f7ed40a959",
   "metadata": {},
   "outputs": [],
   "source": []
  }
 ],
 "metadata": {
  "kernelspec": {
   "display_name": "Python 3 (ipykernel)",
   "language": "python",
   "name": "python3"
  },
  "language_info": {
   "codemirror_mode": {
    "name": "ipython",
    "version": 3
   },
   "file_extension": ".py",
   "mimetype": "text/x-python",
   "name": "python",
   "nbconvert_exporter": "python",
   "pygments_lexer": "ipython3",
   "version": "3.10.16"
  },
  "toc-autonumbering": false,
  "toc-showcode": false,
  "toc-showmarkdowntxt": false,
  "toc-showtags": true
 },
 "nbformat": 4,
 "nbformat_minor": 5
}
