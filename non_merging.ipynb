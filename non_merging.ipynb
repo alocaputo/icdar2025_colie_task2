{
 "cells": [
  {
   "cell_type": "markdown",
   "id": "c693fdf9-c06a-4a47-b631-b4b17485178a",
   "metadata": {},
   "source": [
    "# Non merging inputs\n",
    "\n",
    "TODO:\n",
    " - [X] Is it better with full or the balanced dataset? -> Non balanced (even better when excluding non-coherent data)\n",
    " - [X] Try conformal with the decade -> Too few classes, argmax is way better"
   ]
  },
  {
   "cell_type": "code",
   "execution_count": 1,
   "id": "e8088807-fe57-460b-a6bf-772898aabeab",
   "metadata": {
    "tags": []
   },
   "outputs": [
    {
     "name": "stderr",
     "output_type": "stream",
     "text": [
      "[nltk_data] Downloading package punkt to /home/alocaputo/nltk_data...\n",
      "[nltk_data]   Package punkt is already up-to-date!\n",
      "[nltk_data] Downloading package punkt_tab to\n",
      "[nltk_data]     /home/alocaputo/nltk_data...\n",
      "[nltk_data]   Package punkt_tab is already up-to-date!\n",
      "[nltk_data] Downloading package stopwords to\n",
      "[nltk_data]     /home/alocaputo/nltk_data...\n",
      "[nltk_data]   Package stopwords is already up-to-date!\n",
      "[nltk_data] Downloading package wordnet to\n",
      "[nltk_data]     /home/alocaputo/nltk_data...\n",
      "[nltk_data]   Package wordnet is already up-to-date!\n",
      "/data01/alocaputo/miniconda3/envs/icdar2025/lib/python3.10/site-packages/tqdm/auto.py:21: TqdmWarning: IProgress not found. Please update jupyter and ipywidgets. See https://ipywidgets.readthedocs.io/en/stable/user_install.html\n",
      "  from .autonotebook import tqdm as notebook_tqdm\n",
      "Downloading https://raw.githubusercontent.com/stanfordnlp/stanza-resources/main/resources_1.10.0.json: 424kB [00:00, 29.9MB/s]                                                                                        \n",
      "2025-03-26 08:50:18 INFO: Downloaded file to /home/alocaputo/stanza_resources/resources.json\n",
      "2025-03-26 08:50:18 INFO: Downloading default packages for language: en (English) ...\n",
      "2025-03-26 08:50:19 INFO: File exists: /home/alocaputo/stanza_resources/en/default.zip\n",
      "2025-03-26 08:50:22 INFO: Finished downloading models and saved to /home/alocaputo/stanza_resources\n"
     ]
    }
   ],
   "source": [
    "import os\n",
    "# cuda_visible_devices = 0,1,2,3\n",
    "os.environ[\"CUDA_VISIBLE_DEVICES\"] = \"7\"\n",
    "# os.environ[\"CUDA_VISIBLE_DEVICES\"] = \"0,1,2,3,4,5,6,7\"\n",
    "\n",
    "import pandas as pd\n",
    "\n",
    "import numpy as np\n",
    "from tabulate import tabulate\n",
    "import seaborn as sns\n",
    "from tqdm import tqdm\n",
    "\n",
    "import nltk\n",
    "from nltk import WordPunctTokenizer\n",
    "from nltk import TreebankWordTokenizer\n",
    "\n",
    "nltk.download('punkt')\n",
    "nltk.download('punkt_tab')\n",
    "nltk.download('stopwords')\n",
    "nltk.download('wordnet')\n",
    "\n",
    "from nltk.corpus import stopwords\n",
    "\n",
    "import stanza\n",
    "stanza.download('en')\n",
    "\n",
    "\n",
    "import matplotlib.pyplot as plt\n",
    "from sklearn.metrics import confusion_matrix\n",
    "\n",
    "import torch\n",
    "\n",
    "from tabulate import tabulate\n",
    "\n",
    "RANDOM_SEED = 42"
   ]
  },
  {
   "cell_type": "markdown",
   "id": "38c4bc7b-669a-4ad2-b51a-5c3e31578067",
   "metadata": {
    "tags": []
   },
   "source": [
    "## Data Loading"
   ]
  },
  {
   "cell_type": "code",
   "execution_count": 2,
   "id": "8c6919b0-51ed-4f15-8474-1a71c1f489eb",
   "metadata": {
    "tags": []
   },
   "outputs": [],
   "source": [
    "texts_path = './data/Task2/texts'\n",
    "\n",
    "train_path = os.path.join(texts_path, 'train')\n",
    "valid_path = os.path.join(texts_path, 'valid')\n",
    "\n",
    "train_files = os.listdir(train_path)\n",
    "valid_files = os.listdir(valid_path)\n",
    "\n",
    "f\"Train: {len(train_files)}, Test: {len(valid_files)}\"\n",
    "\n",
    "label2century = {1: '17th century', 2: '18th century', 3: '19th century', 4: '20th century', 5: '21st century'}\n",
    "\n",
    "train21 = pd.read_csv('./data/Task2/task2.1/train.csv')\n",
    "valid21 = pd.read_csv('./data/Task2/task2.1/valid.csv')\n",
    "\n",
    "train22 = pd.read_csv('./data/Task2/task2.2/train.csv')\n",
    "valid22 = pd.read_csv('./data/Task2/task2.2/valid.csv')\n",
    "\n",
    "train21.rename(columns={'label': 'century'}, inplace=True)\n",
    "train21['file_name'] = train21['id']\n",
    "train21['id'] = train21.id.str.replace('train_text', '').str.replace('.txt', '').astype(int)\n",
    "train21.set_index('id', inplace=True)\n",
    "\n",
    "valid21.rename(columns={'label': 'century'}, inplace=True)\n",
    "valid21['file_name'] = valid21['id']\n",
    "valid21['id'] = valid21.id.str.replace('valid_text', '').str.replace('.txt', '').astype(int)\n",
    "valid21.set_index('id', inplace=True)"
   ]
  },
  {
   "cell_type": "code",
   "execution_count": 3,
   "id": "7fddc6a9-f223-45e8-904c-4700949a128b",
   "metadata": {
    "tags": []
   },
   "outputs": [],
   "source": [
    "train22 = pd.read_csv('./data/Task2/task2.2/train.csv')\n",
    "valid22 = pd.read_csv('./data/Task2/task2.2/valid.csv')\n",
    "\n",
    "train22.rename(columns={'label': 'decade'}, inplace=True)\n",
    "train22['file_name'] = train22['id']\n",
    "train22['id'] = train22.id.str.replace('train_text', '').str.replace('.txt', '').astype(int)\n",
    "train22.set_index('id', inplace=True)\n",
    "\n",
    "valid22.rename(columns={'label': 'decade'}, inplace=True)\n",
    "valid22['file_name'] = valid22['id']\n",
    "valid22['id'] = valid22.id.str.replace('valid_text', '').str.replace('.txt', '').astype(int)\n",
    "valid22.set_index('id', inplace=True)"
   ]
  },
  {
   "cell_type": "code",
   "execution_count": 4,
   "id": "0ace0902-c99f-42cc-add3-8940c2102260",
   "metadata": {
    "tags": []
   },
   "outputs": [],
   "source": [
    "import pickle\n",
    "with open('blacklist.pkl', 'rb') as f:\n",
    "    blacklist = pickle.load(f)\n",
    "\n",
    "blacklist_train = blacklist['train']\n",
    "blacklist_valid = blacklist['valid']"
   ]
  },
  {
   "cell_type": "code",
   "execution_count": 5,
   "id": "133dfe13-5c1a-4ea5-8404-33d7c77705f3",
   "metadata": {
    "tags": []
   },
   "outputs": [],
   "source": [
    "def decade2year(deca):\n",
    "    return ((deca // 10) + 16) * 100 + ((deca % 10)) * 10\n",
    "\n",
    "def year2cd(year):\n",
    "    return ((year // 100 - 16) * 10  + (year - (year // 100)*100)//10)"
   ]
  },
  {
   "cell_type": "code",
   "execution_count": 6,
   "id": "c073f879-ccf7-4fb6-8948-fdba9623f6bb",
   "metadata": {
    "tags": []
   },
   "outputs": [],
   "source": [
    "import ftfy\n",
    "\n",
    "def get_clean_text(path):\n",
    "    \n",
    "    with open(path, 'rb') as infile:\n",
    "        txt_ry = infile.read()\n",
    "    misdecoded_text = txt_ry.decode(\"utf-8\", errors=\"ignore\")\n",
    "\n",
    "    return ftfy.fix_text(misdecoded_text)"
   ]
  },
  {
   "cell_type": "code",
   "execution_count": 7,
   "id": "ef5ddd73-83cd-4a1c-9201-c0a855af85dd",
   "metadata": {
    "tags": []
   },
   "outputs": [],
   "source": [
    "from torch.utils.data import DataLoader, Dataset\n",
    "\n",
    "class TextDataset(Dataset):\n",
    "    def __init__(self, file_names, labels, path, clear=False):\n",
    "        self.file_names = file_names\n",
    "        self.labels = labels\n",
    "        self.path = path\n",
    "        self.clear = clear\n",
    "\n",
    "    def __len__(self):\n",
    "        return len(self.file_names)\n",
    "\n",
    "    def __getitem__(self, idx):\n",
    "        file_name = self.file_names[idx]\n",
    "        if self.clear:\n",
    "            text = get_clean_text(os.path.join(self.path, file_name))\n",
    "        else:\n",
    "            with open(os.path.join(self.path, file_name), 'r') as file:\n",
    "                text = file.read()\n",
    "\n",
    "        return text, self.labels[idx]"
   ]
  },
  {
   "cell_type": "code",
   "execution_count": 8,
   "id": "4121975c-cebb-4d7c-878d-35e57ef217f4",
   "metadata": {
    "tags": []
   },
   "outputs": [],
   "source": [
    "X_train_21 = []\n",
    "y_train_21 = []\n",
    "\n",
    "X_valid_21 = []\n",
    "y_valid_21 = []\n",
    "\n",
    "for idx, row in train21.iterrows():\n",
    "    file_name = row.file_name\n",
    "    century = row.century\n",
    "    X_train_21.append(file_name)\n",
    "    y_train_21.append(century-1)\n",
    "\n",
    "for idx, row in valid21.iterrows():\n",
    "    file_name = row.file_name\n",
    "    century = row.century\n",
    "    X_valid_21.append(file_name)\n",
    "    y_valid_21.append(century-1)"
   ]
  },
  {
   "cell_type": "code",
   "execution_count": 9,
   "id": "980c031a-c62c-40a2-99f9-3ef8b88ee692",
   "metadata": {
    "tags": []
   },
   "outputs": [],
   "source": [
    "np.random.seed(RANDOM_SEED)\n",
    "\n",
    "X_train_21_eq = []\n",
    "y_train_21_eq = []\n",
    "for i in range(1, 6):\n",
    "    x = train21[train21['century'] == i].sample(1834)\n",
    "    X_train_21_eq.extend(x['file_name'])\n",
    "    y_train_21_eq.extend(x['century']-1)\n",
    "\n",
    "X_valid_21_eq = []\n",
    "y_valid_21_eq = []\n",
    "for i in range(1, 6):\n",
    "    x = valid21[valid21['century'] == i].sample(457)\n",
    "    X_valid_21_eq.extend(x['file_name'])\n",
    "    y_valid_21_eq.extend(x['century']-1)"
   ]
  },
  {
   "cell_type": "code",
   "execution_count": 10,
   "id": "7d27a69d-15a1-49df-9eb7-2e9f5b950c58",
   "metadata": {
    "tags": []
   },
   "outputs": [],
   "source": [
    "X_train_22 = []\n",
    "y_train_22 = []\n",
    "\n",
    "X_valid_22 = []\n",
    "y_valid_22 = []\n",
    "\n",
    "for idx, row in train22.iterrows():\n",
    "    file_name = row.file_name\n",
    "    decade = row.decade\n",
    "    X_train_22.append(file_name)\n",
    "    y_train_22.append(decade-1)\n",
    "\n",
    "for idx, row in valid22.iterrows():\n",
    "    file_name = row.file_name\n",
    "    decade = row.decade\n",
    "    X_valid_22.append(file_name)\n",
    "    y_valid_22.append(decade-1)"
   ]
  },
  {
   "cell_type": "code",
   "execution_count": 11,
   "id": "fbda3396-6e1e-4968-bb11-18f9546ebd64",
   "metadata": {
    "tags": []
   },
   "outputs": [
    {
     "name": "stderr",
     "output_type": "stream",
     "text": [
      "  0%|                                                                                                                                                                                        | 0/9170 [00:00<?, ?it/s]/tmp/ipykernel_2953525/2300074627.py:5: FutureWarning: Calling int on a single element Series is deprecated and will raise a TypeError in the future. Use int(ser.iloc[0]) instead\n",
      "  decade = int(row.decade)\n",
      "100%|█████████████████████████████████████████████████████████████████████████████████████████████████████████████████████████████████████████████████████████████████████████████| 9170/9170 [02:16<00:00, 67.30it/s]\n",
      "/tmp/ipykernel_2953525/2300074627.py:13: FutureWarning: Calling int on a single element Series is deprecated and will raise a TypeError in the future. Use int(ser.iloc[0]) instead\n",
      "  decade = int(row.decade)\n"
     ]
    }
   ],
   "source": [
    "X_train_22_eq = []\n",
    "y_train_22_eq = []\n",
    "for x in tqdm(X_train_21_eq):\n",
    "    row = train22[train22['file_name'] == x]\n",
    "    decade = int(row.decade)\n",
    "    X_train_22_eq.append(x)\n",
    "    y_train_22_eq.append(decade)\n",
    "    \n",
    "X_valid_22_eq = []\n",
    "y_valid_22_eq = []\n",
    "for x in X_valid_21_eq:\n",
    "    row = valid22[valid22['file_name'] == x]\n",
    "    decade = int(row.decade)\n",
    "    X_valid_22_eq.append(x)\n",
    "    y_valid_22_eq.append(decade)"
   ]
  },
  {
   "cell_type": "code",
   "execution_count": 12,
   "id": "b14f8ad5-3394-48ed-a6ed-d06cf0d85e78",
   "metadata": {},
   "outputs": [],
   "source": [
    "train21_dataset = TextDataset(X_train_21, y_train_21, train_path)\n",
    "valid21_dataset = TextDataset(X_valid_21, y_valid_21, valid_path)\n",
    "\n",
    "batch_size = 16\n",
    "train21_dataloader = DataLoader(train21_dataset, batch_size=batch_size, shuffle=True)\n",
    "valid21_dataloader = DataLoader(valid21_dataset, batch_size=batch_size, shuffle=False)\n",
    "\n",
    "train21_eq_dataset = TextDataset(X_train_21_eq, y_train_21_eq, train_path)\n",
    "valid21_eq_dataset = TextDataset(X_valid_21_eq, y_valid_21_eq, valid_path)\n",
    "\n",
    "batch_size = 16\n",
    "train21_eq_dataloader = DataLoader(train21_eq_dataset, batch_size=batch_size, shuffle=True)\n",
    "valid21_eq_dataloader = DataLoader(valid21_eq_dataset, batch_size=batch_size, shuffle=False)\n",
    "\n",
    "train22_dataset = TextDataset(X_train_22, y_train_22, train_path)\n",
    "valid22_dataset = TextDataset(X_valid_22, y_valid_22, valid_path)\n",
    "\n",
    "batch_size = 16\n",
    "train22_dataloader = DataLoader(train22_dataset, batch_size=batch_size, shuffle=True)\n",
    "valid22_dataloader = DataLoader(valid22_dataset, batch_size=batch_size, shuffle=False)\n",
    "\n",
    "train22_eq_dataset = TextDataset(X_train_22_eq, y_train_22_eq, train_path)\n",
    "valid22_eq_dataset = TextDataset(X_valid_22_eq, y_valid_22_eq, valid_path)\n",
    "\n",
    "batch_size = 16\n",
    "train22_eq_dataloader = DataLoader(train22_eq_dataset, batch_size=batch_size, shuffle=True)\n",
    "valid22_eq_dataloader = DataLoader(valid22_eq_dataset, batch_size=batch_size, shuffle=False)"
   ]
  },
  {
   "cell_type": "code",
   "execution_count": 13,
   "id": "c62b058b-3178-4467-8efb-854a15354b67",
   "metadata": {
    "tags": []
   },
   "outputs": [],
   "source": [
    "def mean_avg_error(y_true, y_pred):\n",
    "    return np.mean(np.abs(y_true - y_pred))"
   ]
  },
  {
   "cell_type": "markdown",
   "id": "d5336cc2-0035-42e0-aa37-16bf971d8404",
   "metadata": {},
   "source": [
    "## Century classifier"
   ]
  },
  {
   "cell_type": "code",
   "execution_count": 131,
   "id": "309fc8e5-4cfe-4858-b8ab-beecfcddb587",
   "metadata": {
    "tags": []
   },
   "outputs": [],
   "source": [
    "from transformers import AutoModel, AutoTokenizer\n",
    "import torch\n",
    "import torch.nn as nn\n",
    "import torch.optim as optim\n",
    "\n",
    "device = torch.device(\"cuda\" if torch.cuda.is_available() else \"cpu\")\n",
    "\n",
    "class CenturyClassifier(nn.Module):\n",
    "    def __init__(self, longformer, num_classes):\n",
    "        super(CenturyClassifier, self).__init__()\n",
    "        self.bert = longformer\n",
    "        self.dropout = nn.Dropout(0.1)\n",
    "        self.classifier = nn.Linear(longformer.config.hidden_size, num_classes)\n",
    "\n",
    "    def forward(self, input_ids, attention_mask, token_type_ids=None):\n",
    "        outputs = self.bert(input_ids, token_type_ids=token_type_ids, attention_mask=attention_mask)\n",
    "        pooled_output = outputs.pooler_output\n",
    "        pooled_output = self.dropout(pooled_output)\n",
    "        return self.classifier(pooled_output)"
   ]
  },
  {
   "cell_type": "code",
   "execution_count": 132,
   "id": "6485b3ed-e52d-4b25-86fb-684df178e4e9",
   "metadata": {
    "tags": []
   },
   "outputs": [],
   "source": [
    "def train_century_classifier(model, tokenizer, train_dataloader, n_epochs=3):\n",
    "    \n",
    "    model_century_classifier = CenturyClassifier(model, 5)\n",
    "    model_century_classifier.to(device)\n",
    "    \n",
    "    optimizer = optim.Adam(model_century_classifier.parameters(), lr=1e-5)\n",
    "    criterion = nn.CrossEntropyLoss()\n",
    "    \n",
    "    model_century_classifier.train()\n",
    "    \n",
    "    for epoch in range(n_epochs):\n",
    "        for text, labels in tqdm(train_dataloader):\n",
    "            optimizer.zero_grad()\n",
    "            tokens = tokenizer(text, padding='max_length', truncation=True, return_tensors=\"pt\", max_length=512,).to(device)\n",
    "            labels = torch.tensor(labels).to(device)\n",
    "            output = model_century_classifier(**tokens)\n",
    "            loss = criterion(output.view(-1, 5), labels.view(-1))\n",
    "            loss.backward()\n",
    "            optimizer.step()\n",
    "        print(\"Epoch:\", epoch, \"Loss:\", loss.item())\n",
    "    \n",
    "    return model_century_classifier"
   ]
  },
  {
   "cell_type": "code",
   "execution_count": 135,
   "id": "facb6c13-09fb-4fa6-9517-f4d64dcf5488",
   "metadata": {
    "tags": []
   },
   "outputs": [
    {
     "name": "stderr",
     "output_type": "stream",
     "text": [
      "  0%|                                                                                                                                                                                         | 0/574 [00:00<?, ?it/s]/tmp/ipykernel_518077/2369404271.py:15: UserWarning: To copy construct from a tensor, it is recommended to use sourceTensor.clone().detach() or sourceTensor.clone().detach().requires_grad_(True), rather than torch.tensor(sourceTensor).\n",
      "  labels = torch.tensor(labels).to(device)\n",
      "100%|███████████████████████████████████████████████████████████████████████████████████████████████████████████████████████████████████████████████████████████████████████████████| 574/574 [05:59<00:00,  1.60it/s]\n"
     ]
    },
    {
     "name": "stdout",
     "output_type": "stream",
     "text": [
      "Epoch: 0 Loss: 1.28499174118042\n"
     ]
    },
    {
     "name": "stderr",
     "output_type": "stream",
     "text": [
      "100%|███████████████████████████████████████████████████████████████████████████████████████████████████████████████████████████████████████████████████████████████████████████████| 574/574 [05:59<00:00,  1.60it/s]\n"
     ]
    },
    {
     "name": "stdout",
     "output_type": "stream",
     "text": [
      "Epoch: 1 Loss: 1.2889608144760132\n"
     ]
    },
    {
     "name": "stderr",
     "output_type": "stream",
     "text": [
      "100%|███████████████████████████████████████████████████████████████████████████████████████████████████████████████████████████████████████████████████████████████████████████████| 574/574 [05:59<00:00,  1.60it/s]"
     ]
    },
    {
     "name": "stdout",
     "output_type": "stream",
     "text": [
      "Epoch: 2 Loss: 0.39171406626701355\n"
     ]
    },
    {
     "name": "stderr",
     "output_type": "stream",
     "text": [
      "\n"
     ]
    }
   ],
   "source": [
    "tokenizer = AutoTokenizer.from_pretrained(\"allenai/longformer-base-4096\")\n",
    "model = AutoModel.from_pretrained(\"allenai/longformer-base-4096\")\n",
    "\n",
    "# Balanced dataset\n",
    "model_century_classifier_eq = train_century_classifier(model, tokenizer, train21_eq_dataloader)\n",
    "\n",
    "tokenizer = AutoTokenizer.from_pretrained(\"allenai/longformer-base-4096\")\n",
    "model = AutoModel.from_pretrained(\"allenai/longformer-base-4096\")\n",
    "\n",
    "# Full dataset\n",
    "model_century_classifier = train_century_classifier(model, tokenizer, train21_dataloader)"
   ]
  },
  {
   "cell_type": "markdown",
   "id": "f4cfc748-7d43-4385-8c65-817325b93f25",
   "metadata": {},
   "source": [
    "### Standard"
   ]
  },
  {
   "cell_type": "code",
   "execution_count": 138,
   "id": "33808cc4-0d31-4b02-b625-668b2cdde914",
   "metadata": {
    "tags": []
   },
   "outputs": [
    {
     "name": "stderr",
     "output_type": "stream",
     "text": [
      "100%|█████████████████████████████████████████████████████████████████████████████████████████████████████████████████████████████████████████████████████████████████████████████| 3416/3416 [10:19<00:00,  5.52it/s]"
     ]
    },
    {
     "name": "stdout",
     "output_type": "stream",
     "text": [
      "MAE: 0.9219959378602405\n"
     ]
    },
    {
     "name": "stderr",
     "output_type": "stream",
     "text": [
      "\n"
     ]
    }
   ],
   "source": [
    "model_century_classifier_eq.eval()\n",
    "y_pred_21_eq = []\n",
    "y_true_21_eq = []\n",
    "\n",
    "with torch.no_grad():\n",
    "    for text, labels in tqdm(valid21_dataloader):\n",
    "        tokens = tokenizer(text, padding='max_length', truncation=True, return_tensors=\"pt\", max_length=512,).to(device)\n",
    "        output = model_century_classifier_eq(**tokens)\n",
    "        predictions = output.argmax(dim=1)\n",
    "        y_pred_21_eq.extend(predictions.detach().cpu().numpy())\n",
    "        y_true_21_eq.extend(labels.cpu().numpy())\n",
    "        \n",
    "print(f\"MAE: {mean_avg_error(np.array(y_true_21_eq), np.array(y_pred_21_eq))}\")"
   ]
  },
  {
   "cell_type": "code",
   "execution_count": 49,
   "id": "66a8ce38-76f6-4d8a-aa56-46a27ee0b1d9",
   "metadata": {
    "tags": []
   },
   "outputs": [
    {
     "name": "stderr",
     "output_type": "stream",
     "text": [
      "100%|█████████████████████████████████████████████████████████████████████████████████████████████████████████████████████████████████████████████████████████████████████████████| 3416/3416 [10:24<00:00,  5.47it/s]"
     ]
    },
    {
     "name": "stdout",
     "output_type": "stream",
     "text": [
      "MAE: 2.0821210956798595\n"
     ]
    },
    {
     "name": "stderr",
     "output_type": "stream",
     "text": [
      "\n"
     ]
    }
   ],
   "source": [
    "model_century_classifier.eval()\n",
    "y_pred = []\n",
    "y_true = []\n",
    "\n",
    "with torch.no_grad():\n",
    "    for text, labels in tqdm(valid21_dataloader):\n",
    "        tokens = tokenizer(text, padding='max_length', truncation=True, return_tensors=\"pt\", max_length=512,).to(device)\n",
    "        output = model_decade_classifier(**tokens)\n",
    "        predictions = output.argmax(dim=1)\n",
    "        y_pred.extend(predictions.detach().cpu().numpy())\n",
    "        y_true.extend(labels.cpu().numpy())\n",
    "        \n",
    "print(f\"MAE: {mean_avg_error(np.array(y_true), np.array(y_pred))}\")"
   ]
  },
  {
   "cell_type": "markdown",
   "id": "b6afb9d4-489c-47b8-90cf-6ab5b214b76b",
   "metadata": {},
   "source": [
    "### Conformal Prediction"
   ]
  },
  {
   "cell_type": "code",
   "execution_count": 141,
   "id": "f43457e7-2b46-4a0b-b28e-f0532a4c3bf3",
   "metadata": {
    "tags": []
   },
   "outputs": [],
   "source": [
    "from sklearn.model_selection import train_test_split\n",
    "\n",
    "\n",
    "X_calib_21_eq, X_test_21_eq, y_calib_21_eq, y_test_21_eq = train_test_split(\n",
    "    X_valid_21_eq, y_valid_21_eq, test_size=0.5, random_state=RANDOM_SEED\n",
    ")\n",
    "\n",
    "calib_21_eq_dataset = TextDataset(X_calib_21_eq, y_calib_21_eq, valid_path)\n",
    "test_21_eq_dataset = TextDataset(X_test_21_eq, y_test_21_eq, valid_path)\n",
    "calib_21_eq_dataloader = DataLoader(calib_21_eq_dataset, batch_size=16, shuffle=False)\n",
    "test_21_eq_dataloader = DataLoader(test_21_eq_dataset, batch_size=16, shuffle=False)"
   ]
  },
  {
   "cell_type": "code",
   "execution_count": 142,
   "id": "b84031d2-3a87-4151-b2c2-3ce2ca0c54bd",
   "metadata": {
    "tags": []
   },
   "outputs": [],
   "source": [
    "X_calib_21, X_test_21, y_calib_21, y_test_21 = train_test_split(\n",
    "    X_valid_21, y_valid_21, test_size=0.5, random_state=RANDOM_SEED\n",
    ")\n",
    "\n",
    "calib_21_dataset = TextDataset(X_calib_21, y_calib_21, valid_path)\n",
    "test_21_dataset = TextDataset(X_test_21, y_test_21, valid_path)\n",
    "calib_21_dataloader = DataLoader(calib_21_dataset, batch_size=16, shuffle=False)\n",
    "test_21_dataloader = DataLoader(test_21_dataset, batch_size=16, shuffle=False)"
   ]
  },
  {
   "cell_type": "code",
   "execution_count": 153,
   "id": "61af1155-5914-4a69-b5e1-2607f9385b67",
   "metadata": {
    "tags": []
   },
   "outputs": [
    {
     "name": "stderr",
     "output_type": "stream",
     "text": [
      "100%|█████████████████████████████████████████████████████████████████████████████████████████████████████████████████████████████████████████████████████████████████████████████| 1708/1708 [05:09<00:00,  5.52it/s]\n"
     ]
    }
   ],
   "source": [
    "# Calibration\n",
    "calib_21_probs = []\n",
    "calib_21_preds = []\n",
    "calib_21_true = []\n",
    "\n",
    "model_century_classifier_eq.eval()\n",
    "\n",
    "with torch.no_grad():\n",
    "    for text, labels in tqdm(calib_21_dataloader):\n",
    "        tokens = tokenizer(text, padding='max_length', truncation=True, return_tensors=\"pt\", max_length=512).to(device)\n",
    "        output = model_century_classifier_eq(**tokens)\n",
    "        probabilities = torch.softmax(output, dim=1)\n",
    "        predictions = output.argmax(dim=1)\n",
    "        calib_21_probs.extend(probabilities.detach().cpu().numpy())\n",
    "        calib_21_preds.extend(predictions.detach().cpu().numpy())\n",
    "        calib_21_true.extend(labels.cpu().numpy())"
   ]
  },
  {
   "cell_type": "code",
   "execution_count": 156,
   "id": "c7a6cf7e-38d6-41f8-8078-dbfd1158b1d6",
   "metadata": {
    "tags": []
   },
   "outputs": [],
   "source": [
    "# Group calibration data by true class\n",
    "class_nonconformity_21 = {class_idx: [] for class_idx in range(5)}\n",
    "\n",
    "# Compute class-specific nonconformity scores\n",
    "for i, (prob, true_label) in enumerate(zip(calib_21_probs, calib_21_true)):\n",
    "    nonconformity = 1 - prob[true_label]\n",
    "    class_nonconformity_21[true_label].append(nonconformity)\n",
    "\n",
    "# Calculate threshold for each class\n",
    "class_thresholds_21 = {}\n",
    "confidence_level = 0.90\n",
    "alpha = 1 - confidence_level\n",
    "\n",
    "n_samples = len(calib_21_true)\n",
    "for class_idx, scores in class_nonconformity_21.items():\n",
    "    q = np.ceil((n_samples + 1) * (1 - alpha)) / n_samples # corrected formula\n",
    "    class_thresholds_21[class_idx] = np.quantile(scores, q)        "
   ]
  },
  {
   "cell_type": "code",
   "execution_count": 157,
   "id": "623454b9-05fe-4c0d-9ecb-a1c6c64ef80a",
   "metadata": {
    "tags": []
   },
   "outputs": [
    {
     "name": "stderr",
     "output_type": "stream",
     "text": [
      "100%|█████████████████████████████████████████████████████████████████████████████████████████████████████████████████████████████████████████████████████████████████████████████| 1708/1708 [05:11<00:00,  5.48it/s]\n"
     ]
    }
   ],
   "source": [
    "test_preds_21 = []\n",
    "test_intervals_21 = []\n",
    "test_true_21 = []\n",
    "test_probs_21 = []\n",
    "\n",
    "with torch.no_grad():\n",
    "    for text, labels in tqdm(test_21_dataloader):\n",
    "        tokens = tokenizer(text, padding='max_length', truncation=True, return_tensors=\"pt\", max_length=512).to(device)\n",
    "        output = model_century_classifier_eq(**tokens)\n",
    "        probabilities = torch.softmax(output, dim=1)\n",
    "        predictions = output.argmax(dim=1)      \n",
    "        for i, prob in enumerate(probabilities):\n",
    "            pred = predictions[i].item()\n",
    "            true_label = labels[i].item()          \n",
    "            # Create prediction set using class-specific thresholds\n",
    "            prediction_set = []\n",
    "            for label in range(5):\n",
    "                # Use threshold specific to the candidate class\n",
    "                if 1 - prob[label].item() <= class_thresholds_21[label]:\n",
    "                    prediction_set.append(label)  \n",
    "                    \n",
    "            test_preds_21.append(pred)\n",
    "            test_intervals_21.append(prediction_set)\n",
    "            test_true_21.append(true_label)\n",
    "            test_probs_21.append(prob.detach().cpu().numpy())"
   ]
  },
  {
   "cell_type": "code",
   "execution_count": 159,
   "id": "782d2b71-5bca-463d-983a-49b2e77ac934",
   "metadata": {
    "tags": []
   },
   "outputs": [
    {
     "name": "stdout",
     "output_type": "stream",
     "text": [
      "argmax (MAE): 0.9223450193954476\n",
      "variance (MAE): 0.9301763887872356\n",
      "variance rel (MAE): 1.0139793603161824\n"
     ]
    }
   ],
   "source": [
    "test_preds_argmax_21 = []\n",
    "test_preds_var_21 = []\n",
    "test_preds_var_rel_21 = []\n",
    "\n",
    "test_true_var_21 = []\n",
    "thslds_21 = [ 1 - x for x in class_thresholds_21.values()]\n",
    "\n",
    "for idx in range(len(test_probs_21)):\n",
    "    intervals = test_intervals_21[idx]\n",
    "    #if len(intervals) != 1:\n",
    "    #    continue\n",
    "    true_label = test_true_21[idx]\n",
    "    probs = test_probs_21[idx]\n",
    "    \n",
    "    exeeding_idx = np.zeros(5)\n",
    "    exeeding_rel_idx = np.zeros(5)\n",
    "    \n",
    "    for interval in intervals:\n",
    "        if probs[interval] > thslds_21[interval]:\n",
    "            \n",
    "            exeeding_idx[interval] = abs(probs[interval]-thslds_21[interval])\n",
    "            \n",
    "            exeeding_rel_idx[interval] = abs(probs[interval]-thslds_21[interval]) / thslds_21[interval] #probs[interval]\n",
    "            \n",
    "    test_preds_argmax_21.append(np.argmax(probs))\n",
    "    test_preds_var_21.append(np.argmax(exeeding_idx))\n",
    "    test_preds_var_rel_21.append(np.argmax(exeeding_rel_idx))\n",
    "    test_true_var_21.append(true_label)\n",
    "    \n",
    "print(f\"argmax (MAE): {mean_avg_error(np.array(test_true_var_21), np.array(test_preds_argmax_21))}\")\n",
    "print(f\"variance (MAE): {mean_avg_error(np.array(test_true_var_21), np.array(test_preds_var_21))}\")\n",
    "print(f\"variance rel (MAE): {mean_avg_error(np.array(test_true_var_21), np.array(test_preds_var_rel_21))}\")"
   ]
  },
  {
   "cell_type": "code",
   "execution_count": 41,
   "id": "e6e65502-f166-46be-ad6b-61c13a61159f",
   "metadata": {
    "tags": []
   },
   "outputs": [
    {
     "data": {
      "image/png": "[encoded data removed]",
      "text/plain": [
       "<Figure size 2000x800 with 4 Axes>"
      ]
     },
     "metadata": {},
     "output_type": "display_data"
    }
   ],
   "source": [
    "fig, (ax1, ax2) = plt.subplots(1, 2, figsize=(20, 8))\n",
    "\n",
    "tick_positions = np.arange(5)\n",
    "\n",
    "cm = confusion_matrix(y_test_true, y_test_pred, labels=np.arange(5))\n",
    "cm = cm.astype('float') / cm.sum(axis=1)[:, np.newaxis]\n",
    "\n",
    "sns.heatmap(cm, cmap='Blues', ax=ax1)\n",
    "\n",
    "ax1.set_xticks(tick_positions + 0.5)\n",
    "ax1.set_xticklabels(tick_positions)\n",
    "ax1.set_title('Normalized Confusion Matrix')\n",
    "\n",
    "\n",
    "freq3 = np.zeros((5,5))\n",
    "for b, c in zip(y_test_true, y_test_pred):\n",
    "    freq3[b,c] += 1\n",
    "\n",
    "sns.heatmap(freq3, cmap='rocket', ax=ax2)\n",
    "\n",
    "ax2.set_xticks(tick_positions + 0.5)\n",
    "ax2.set_xticklabels(tick_positions)\n",
    "ax2.set_title('Frequency Heatmap')\n",
    "\n",
    "plt.tight_layout()\n",
    "plt.show()"
   ]
  },
  {
   "cell_type": "code",
   "execution_count": 37,
   "id": "ab4fc727-0a24-411d-95a0-e2a4995b63a8",
   "metadata": {
    "tags": []
   },
   "outputs": [
    {
     "data": {
      "image/png": "[encoded data removed]",
      "text/plain": [
       "<Figure size 2000x800 with 4 Axes>"
      ]
     },
     "metadata": {},
     "output_type": "display_data"
    }
   ],
   "source": [
    "fig, (ax1, ax2) = plt.subplots(1, 2, figsize=(20, 8))\n",
    "\n",
    "tick_positions = np.arange(5)\n",
    "\n",
    "cm = confusion_matrix(test_true_var, test_preds_var_rel, labels=np.arange(5))\n",
    "cm = cm.astype('float') / cm.sum(axis=1)[:, np.newaxis]\n",
    "\n",
    "sns.heatmap(cm, cmap='Blues', ax=ax1)\n",
    "\n",
    "ax1.set_xticks(tick_positions + 0.5)\n",
    "ax1.set_xticklabels(tick_positions)\n",
    "ax1.set_title('Normalized Confusion Matrix')\n",
    "\n",
    "\n",
    "freq3 = np.zeros((5,5))\n",
    "for b, c in zip(test_true_var, test_preds_var_rel):\n",
    "    freq3[b,c] += 1\n",
    "\n",
    "sns.heatmap(freq3, cmap='rocket', ax=ax2)\n",
    "\n",
    "ax2.set_xticks(tick_positions + 0.5)\n",
    "ax2.set_xticklabels(tick_positions)\n",
    "ax2.set_title('Frequency Heatmap')\n",
    "\n",
    "for dec_line in range(10,50,10):\n",
    "    ax1.axvline(dec_line, color='red')\n",
    "    ax1.axhline(dec_line, color='red')\n",
    "    ax2.axvline(dec_line, color='red')\n",
    "    ax2.axhline(dec_line, color='red')\n",
    "\n",
    "plt.tight_layout()\n",
    "plt.show()"
   ]
  },
  {
   "cell_type": "code",
   "execution_count": 48,
   "id": "3ec02a1e-537a-439a-a9a2-25c8cf5edcba",
   "metadata": {
    "tags": []
   },
   "outputs": [
    {
     "name": "stderr",
     "output_type": "stream",
     "text": [
      "100%|█████████████████████████████████████████████████████████████████████████████████████████████████████████████████████████████████████████████████████████████████████████████| 3416/3416 [10:18<00:00,  5.52it/s]"
     ]
    },
    {
     "name": "stdout",
     "output_type": "stream",
     "text": [
      "MAE (without CP) [All]: 1.3576329801833453\n"
     ]
    },
    {
     "name": "stderr",
     "output_type": "stream",
     "text": [
      "\n"
     ]
    }
   ],
   "source": [
    "y_test_pred_all = []\n",
    "y_test_true_all = []\n",
    "\n",
    "with torch.no_grad():\n",
    "    for text, labels in tqdm(valid21_dataloader):\n",
    "        tokens = tokenizer(text, padding='max_length', truncation=True, return_tensors=\"pt\", max_length=512,).to(device)\n",
    "        output = model_century_classifier(**tokens)\n",
    "        predictions = output.argmax(dim=1)\n",
    "        y_test_pred_all.extend(predictions.detach().cpu().numpy())\n",
    "        y_test_true_all.extend(labels.cpu().numpy())\n",
    "        \n",
    "print(f\"MAE (without CP) [All]: {mean_avg_error(np.array(y_test_true_all), np.array(y_test_pred_all))}\")"
   ]
  },
  {
   "cell_type": "code",
   "execution_count": 50,
   "id": "e4f71d27-2c83-4e7b-a01d-95131b6d7d4e",
   "metadata": {
    "tags": []
   },
   "outputs": [
    {
     "name": "stderr",
     "output_type": "stream",
     "text": [
      "100%|█████████████████████████████████████████████████████████████████████████████████████████████████████████████████████████████████████████████████████████████████████████████| 1708/1708 [05:11<00:00,  5.48it/s]\n"
     ]
    }
   ],
   "source": [
    "# Calibration\n",
    "calib_probs_all = []\n",
    "calib_preds_all = []\n",
    "calib_true_all = []\n",
    "\n",
    "model_century_classifier.eval()\n",
    "\n",
    "with torch.no_grad():\n",
    "    for text, labels in tqdm(calib_all_dataloader):\n",
    "        tokens = tokenizer(text, padding='max_length', truncation=True, return_tensors=\"pt\", max_length=512).to(device)\n",
    "        output = model_century_classifier(**tokens)\n",
    "        probabilities = torch.softmax(output, dim=1)\n",
    "        predictions = output.argmax(dim=1)\n",
    "        calib_probs_all.extend(probabilities.detach().cpu().numpy())\n",
    "        calib_preds_all.extend(predictions.detach().cpu().numpy())\n",
    "        calib_true_all.extend(labels.cpu().numpy())"
   ]
  },
  {
   "cell_type": "code",
   "execution_count": 51,
   "id": "9aef888a-c7bd-44b7-be42-92848eb5ae72",
   "metadata": {
    "tags": []
   },
   "outputs": [],
   "source": [
    "# Group calibration data by true class\n",
    "class_nonconformity_all = {class_idx: [] for class_idx in range(5)}\n",
    "\n",
    "# Compute class-specific nonconformity scores\n",
    "for i, (prob, true_label) in enumerate(zip(calib_probs_all, calib_true_all)):\n",
    "    nonconformity = 1 - prob[true_label]\n",
    "    class_nonconformity_all[true_label].append(nonconformity)\n",
    "\n",
    "# Calculate threshold for each class\n",
    "class_thresholds_all = {}\n",
    "confidence_level = 0.90\n",
    "alpha = 1 - confidence_level\n",
    "\n",
    "n_samples = len(calib_true_all)\n",
    "for class_idx, scores in class_nonconformity_all.items():\n",
    "    # class_thresholds_longformer2[class_idx] = np.quantile(scores, 1 - alpha)\n",
    "    if len(scores) > 0:\n",
    "        q = np.ceil((n_samples + 1) * (1 - alpha)) / n_samples # corrected formula\n",
    "        class_thresholds_all[class_idx] = np.quantile(scores, q)\n",
    "    else:\n",
    "        class_thresholds_all[class_idx] = threshold\n",
    "        "
   ]
  },
  {
   "cell_type": "code",
   "execution_count": 52,
   "id": "45fb5edc-66ce-46b0-bb33-9515ce83007a",
   "metadata": {
    "tags": []
   },
   "outputs": [
    {
     "name": "stderr",
     "output_type": "stream",
     "text": [
      "100%|█████████████████████████████████████████████████████████████████████████████████████████████████████████████████████████████████████████████████████████████████████████████| 3416/3416 [10:27<00:00,  5.44it/s]\n"
     ]
    }
   ],
   "source": [
    "test_preds_all = []\n",
    "test_intervals_all = []\n",
    "test_true_all = []\n",
    "test_probs_all = []\n",
    "\n",
    "with torch.no_grad():\n",
    "    for text, labels in tqdm(valid21_dataloader):\n",
    "        tokens = tokenizer(text, padding='max_length', truncation=True, return_tensors=\"pt\", max_length=512).to(device)\n",
    "        output = model_century_classifier(**tokens)\n",
    "        probabilities = torch.softmax(output, dim=1)\n",
    "        predictions = output.argmax(dim=1)      \n",
    "        for i, prob in enumerate(probabilities): # Iterate on the batch\n",
    "            pred = predictions[i].item()\n",
    "            true_label = labels[i].item()          \n",
    "            # Create prediction set using class-specific thresholds\n",
    "            prediction_set = []\n",
    "            for label in range(5):\n",
    "                # Use threshold specific to the candidate class\n",
    "                if 1 - prob[label].item() <= class_thresholds[label]:\n",
    "                    prediction_set.append(label)  \n",
    "                    \n",
    "            test_preds_all.append(pred)\n",
    "            test_intervals_all.append(prediction_set)\n",
    "            test_true_all.append(true_label)\n",
    "            test_probs_all.append(prob.detach().cpu().numpy())"
   ]
  },
  {
   "cell_type": "code",
   "execution_count": 53,
   "id": "92d6c4c9-325e-41e2-8324-962755b0e00f",
   "metadata": {
    "tags": []
   },
   "outputs": [
    {
     "name": "stdout",
     "output_type": "stream",
     "text": [
      "argmax (MAE) [All]: 0.849890590809628\n",
      "variance (MAE) [All]: 0.8512035010940919\n",
      "variance rel (MAE) [All]: 0.8183807439824945\n"
     ]
    }
   ],
   "source": [
    "test_preds_argmax = []\n",
    "test_preds_var = []\n",
    "test_preds_var_rel = []\n",
    "\n",
    "test_true_var = []\n",
    "thslds = [ 1 - x for x in class_thresholds.values()]\n",
    "\n",
    "for idx in range(len(test_probs)):\n",
    "    intervals = test_intervals[idx]\n",
    "    #if len(intervals) != 1:\n",
    "    #    continue\n",
    "    true_label = test_true[idx]\n",
    "    probs = test_probs[idx]\n",
    "    \n",
    "    exeeding_idx = np.zeros(5)\n",
    "    exeeding_rel_idx = np.zeros(5)\n",
    "    \n",
    "    for interval in intervals:\n",
    "        if probs[interval] > thslds[interval]:\n",
    "            \n",
    "            exeeding_idx[interval] = abs(probs[interval]-thslds[interval])\n",
    "            \n",
    "            exeeding_rel_idx[interval] = abs(probs[interval]-thslds[interval]) / thslds[interval] #probs[interval]\n",
    "            \n",
    "    test_preds_argmax.append(np.argmax(probs))\n",
    "    test_preds_var.append(np.argmax(exeeding_idx))\n",
    "    test_preds_var_rel.append(np.argmax(exeeding_rel_idx))\n",
    "    test_true_var.append(true_label)\n",
    "    \n",
    "print(f\"argmax (MAE) [All]: {mean_avg_error(np.array(test_true_var), np.array(test_preds_argmax))}\")\n",
    "print(f\"variance (MAE) [All]: {mean_avg_error(np.array(test_true_var), np.array(test_preds_var))}\")\n",
    "print(f\"variance rel (MAE) [All]: {mean_avg_error(np.array(test_true_var), np.array(test_preds_var_rel))}\")"
   ]
  },
  {
   "cell_type": "code",
   "execution_count": 56,
   "id": "3ad4ec55-f147-4b57-ab21-4f423dfe8863",
   "metadata": {
    "tags": []
   },
   "outputs": [
    {
     "data": {
      "image/png": "[encoded data removed]",
      "text/plain": [
       "<Figure size 2000x800 with 4 Axes>"
      ]
     },
     "metadata": {},
     "output_type": "display_data"
    }
   ],
   "source": [
    "fig, (ax1, ax2) = plt.subplots(1, 2, figsize=(20, 8))\n",
    "\n",
    "tick_positions = np.arange(5)\n",
    "\n",
    "cm = confusion_matrix(test_true_var, test_preds_var_rel, labels=np.arange(5))\n",
    "cm = cm.astype('float') / cm.sum(axis=1)[:, np.newaxis]\n",
    "\n",
    "sns.heatmap(cm, cmap='Blues', ax=ax1)\n",
    "\n",
    "ax1.set_xticks(tick_positions + 0.5)\n",
    "ax1.set_xticklabels(tick_positions)\n",
    "ax1.set_title('Normalized Confusion Matrix')\n",
    "\n",
    "\n",
    "freq3 = np.zeros((5,5))\n",
    "for b, c in zip(test_true_var, test_preds_var_rel):\n",
    "    freq3[b,c] += 1\n",
    "\n",
    "sns.heatmap(freq3, cmap='rocket', ax=ax2)\n",
    "\n",
    "ax2.set_xticks(tick_positions + 0.5)\n",
    "ax2.set_xticklabels(tick_positions)\n",
    "ax2.set_title('Frequency Heatmap')\n",
    "\n",
    "for dec_line in range(10,50,10):\n",
    "    ax1.axvline(dec_line, color='red')\n",
    "    ax1.axhline(dec_line, color='red')\n",
    "    ax2.axvline(dec_line, color='red')\n",
    "    ax2.axhline(dec_line, color='red')\n",
    "\n",
    "plt.tight_layout()\n",
    "plt.show()"
   ]
  },
  {
   "cell_type": "markdown",
   "id": "c92ffd6d-8685-4248-9245-37c4b653c83d",
   "metadata": {},
   "source": [
    "### Evaluation"
   ]
  },
  {
   "cell_type": "code",
   "execution_count": 49,
   "id": "2056dbd7-0431-4d91-ba05-c1887d74d7a4",
   "metadata": {
    "tags": []
   },
   "outputs": [],
   "source": [
    "def plot_confusion_matrix(y_true, y_pred, n_classes=5):\n",
    "    fig, (ax1, ax2) = plt.subplots(1, 2, figsize=(20, 8))\n",
    "\n",
    "    tick_positions = np.arange(n_classes)\n",
    "\n",
    "    cm = confusion_matrix(y_true, y_pred, labels=np.arange(n_classes))\n",
    "    cm = cm.astype('float') / cm.sum(axis=1)[:, np.newaxis]\n",
    "\n",
    "    sns.heatmap(cm, cmap='Blues', ax=ax1)\n",
    "\n",
    "    ax1.set_xticks(tick_positions + 0.5)\n",
    "    ax1.set_xticklabels(tick_positions)\n",
    "    ax1.set_title('Normalized Confusion Matrix')\n",
    "\n",
    "\n",
    "    freq3 = np.zeros((n_classes,n_classes))\n",
    "    for b, c in zip(y_true, y_pred):\n",
    "        freq3[b,c] += 1\n",
    "\n",
    "    sns.heatmap(freq3, cmap='rocket', ax=ax2, vmin=10, vmax=1000)\n",
    "\n",
    "    ax2.set_xticks(tick_positions + 0.5)\n",
    "    ax2.set_xticklabels(tick_positions)\n",
    "    ax2.set_title('Frequency Heatmap')\n",
    "\n",
    "    for dec_line in range(10,50,10):\n",
    "        ax1.axvline(dec_line, color='red')\n",
    "        ax1.axhline(dec_line, color='red')\n",
    "        ax2.axvline(dec_line, color='red')\n",
    "        ax2.axhline(dec_line, color='red')\n",
    "\n",
    "    plt.tight_layout()\n",
    "    plt.show()"
   ]
  },
  {
   "cell_type": "code",
   "execution_count": 14,
   "id": "4d33221e-908c-48bb-b85e-30fea3b555ff",
   "metadata": {
    "tags": []
   },
   "outputs": [],
   "source": [
    "from transformers import AutoModel, AutoTokenizer\n",
    "import torch\n",
    "import torch.nn as nn\n",
    "import torch.optim as optim\n",
    "\n",
    "device = torch.device(\"cuda\" if torch.cuda.is_available() else \"cpu\")\n",
    "\n",
    "tokenizer = AutoTokenizer.from_pretrained(\"allenai/longformer-base-4096\")\n",
    "model = AutoModel.from_pretrained(\"allenai/longformer-base-4096\")\n",
    "\n",
    "class CenturyClassifier(nn.Module):\n",
    "    def __init__(self, longformer, num_classes):\n",
    "        super(CenturyClassifier, self).__init__()\n",
    "        self.bert = longformer\n",
    "        self.dropout = nn.Dropout(0.1)\n",
    "        self.classifier = nn.Linear(longformer.config.hidden_size, num_classes)\n",
    "\n",
    "    def forward(self, input_ids, attention_mask, token_type_ids=None):\n",
    "        outputs = self.bert(input_ids, token_type_ids=token_type_ids, attention_mask=attention_mask)\n",
    "        pooled_output = outputs.pooler_output\n",
    "        pooled_output = self.dropout(pooled_output)\n",
    "        return self.classifier(pooled_output)"
   ]
  },
  {
   "cell_type": "code",
   "execution_count": 15,
   "id": "3af700f1-b445-4f8f-a5c9-d7df0103ae92",
   "metadata": {
    "tags": []
   },
   "outputs": [
    {
     "name": "stdout",
     "output_type": "stream",
     "text": [
      "Loaded\n"
     ]
    }
   ],
   "source": [
    "model_century_classifier = CenturyClassifier(model, 5)\n",
    "model_century_classifier.load_state_dict(torch.load('models/task21/century_classifier_weights_3.pt'))\n",
    "model_century_classifier.to(device)\n",
    "model_century_classifier.eval()\n",
    "\n",
    "model_century_classifier_equal = CenturyClassifier(model, 5)\n",
    "model_century_classifier_equal.load_state_dict(torch.load('models/task21/century_classifier_weights_3_equal.pt'))\n",
    "model_century_classifier_equal.to(device)\n",
    "model_century_classifier_equal.eval()\n",
    "\n",
    "model_century_classifier_blacklist = CenturyClassifier(model, 5)\n",
    "model_century_classifier_blacklist.load_state_dict(torch.load('models/task21/century_classifier_weights_3_blacklist.pt'))\n",
    "model_century_classifier_blacklist.to(device)\n",
    "model_century_classifier_blacklist.eval()\n",
    "\n",
    "model_century_classifier_equal_blacklist = CenturyClassifier(model, 5)\n",
    "model_century_classifier_equal_blacklist.load_state_dict(torch.load('models/task21/century_classifier_weights_3_equal_blacklist.pt'))\n",
    "model_century_classifier_equal_blacklist.to(device)\n",
    "model_century_classifier_equal_blacklist.eval()\n",
    "print(\"Loaded\")"
   ]
  },
  {
   "cell_type": "markdown",
   "id": "ef95b91a-a76c-433f-bef1-73610799549a",
   "metadata": {},
   "source": [
    "#### Standard"
   ]
  },
  {
   "cell_type": "code",
   "execution_count": 20,
   "id": "a18f7564-e81a-4aea-b889-08a03a3fcb61",
   "metadata": {
    "tags": []
   },
   "outputs": [],
   "source": [
    "## Run \n",
    "\n",
    "## CUDA_VISIBLE_DEVICES={ID} python3 eval_task21.py [--equal] [--blacklist]"
   ]
  },
  {
   "cell_type": "code",
   "execution_count": 51,
   "id": "a3603a44-13d7-46ad-af5e-3ea84d811d39",
   "metadata": {
    "tags": []
   },
   "outputs": [],
   "source": [
    "# Load results\n",
    "\n",
    "with open('results/task21/full/century_classifier_weights_3.pkl', 'rb') as f:\n",
    "    mcc = pickle.load(f)\n",
    "    \n",
    "with open('results/task21/full/century_classifier_weights_3_equal.pkl', 'rb') as f:\n",
    "    mcce = pickle.load(f)\n",
    "    \n",
    "with open('results/task21/full/century_classifier_weights_3_blacklist.pkl', 'rb') as f:\n",
    "    mccb = pickle.load(f)\n",
    "    \n",
    "with open('results/task21/full/century_classifier_weights_3_equal_blacklist.pkl', 'rb') as f:\n",
    "    mcceb = pickle.load(f)\n",
    "    \n",
    "    \n",
    "with open('results/task21/blacklist/century_classifier_weights_3.pkl', 'rb') as f:\n",
    "    bmcc = pickle.load(f)\n",
    "    \n",
    "with open('results/task21/blacklist/century_classifier_weights_3_equal.pkl', 'rb') as f:\n",
    "    bmcce = pickle.load(f)\n",
    "    \n",
    "with open('results/task21/blacklist/century_classifier_weights_3_blacklist.pkl', 'rb') as f:\n",
    "    bmccb = pickle.load(f)\n",
    "    \n",
    "with open('results/task21/blacklist/century_classifier_weights_3_equal_blacklist.pkl', 'rb') as f:\n",
    "    bmcceb = pickle.load(f)"
   ]
  },
  {
   "cell_type": "code",
   "execution_count": 62,
   "id": "8ceee7c2-88a4-430d-b947-2d437ca3b9f4",
   "metadata": {
    "tags": []
   },
   "outputs": [],
   "source": [
    "def compute_class_mae(y_true, y_pred, n_classes=5):\n",
    "    class_maes = []\n",
    "    for i in range(n_classes):\n",
    "        indices = [idx for idx, label in enumerate(y_true) if label == i]\n",
    "        if indices:\n",
    "            class_mae = mean_avg_error(np.array([y_true[idx] for idx in indices]), \n",
    "                                        np.array([y_pred[idx] for idx in indices]))\n",
    "            class_maes.append(class_mae)\n",
    "        else:\n",
    "            class_maes.append(float('nan'))\n",
    "    return class_maes\n",
    "\n",
    "def count_class_frequencies(y_true, n_classes=5):\n",
    "    frequencies = [0] * n_classes\n",
    "    for label in y_true:\n",
    "        frequencies[label] += 1\n",
    "    return frequencies"
   ]
  },
  {
   "cell_type": "code",
   "execution_count": 63,
   "id": "ef3a7c45-270b-455b-8a02-7ee4cf4c2cf9",
   "metadata": {
    "tags": []
   },
   "outputs": [
    {
     "name": "stdout",
     "output_type": "stream",
     "text": [
      "+-----------------+----------------+---------------+---------------+----------------+---------------+--------------+\n",
      "| Model           | Overall MAE    | Century 0     | Century 1     | Century 2      | Century 3     | Century 4    |\n",
      "+=================+================+===============+===============+================+===============+==============+\n",
      "| Base            | 0.1993 [54651] | 1.5580 [3077] | 0.7470 [3340] | 0.0712 [44528] | 0.0890 [3249] | 0.3129 [457] |\n",
      "+-----------------+----------------+---------------+---------------+----------------+---------------+--------------+\n",
      "| Equal           | 1.0868 [54651] | 1.1901 [3077] | 1.0114 [3340] | 1.1466 [44528] | 0.3598 [3249] | 0.2823 [457] |\n",
      "+-----------------+----------------+---------------+---------------+----------------+---------------+--------------+\n",
      "| Blacklist       | 0.1849 [54651] | 2.0101 [3077] | 0.9174 [3340] | 0.0086 [44528] | 0.0883 [3249] | 0.4026 [457] |\n",
      "+-----------------+----------------+---------------+---------------+----------------+---------------+--------------+\n",
      "| Equal-Blacklist | 1.1093 [54651] | 1.9916 [3077] | 1.8701 [3340] | 1.0152 [44528] | 0.7695 [3249] | 1.1904 [457] |\n",
      "+-----------------+----------------+---------------+---------------+----------------+---------------+--------------+\n"
     ]
    }
   ],
   "source": [
    "table_data = []\n",
    "\n",
    "# Base model\n",
    "overall_mae_base = mean_avg_error(np.array(mcc['true_labels']), np.array(mcc['predictions']))\n",
    "class_maes_base = compute_class_mae(mcc['true_labels'], mcc['predictions'])\n",
    "class_freqs_base = count_class_frequencies(mcc['true_labels'])\n",
    "base_row = [\"Base\", f\"{overall_mae_base:.4f} [{len(mcc['true_labels'])}]\"]\n",
    "for i, mae in enumerate(class_maes_base):\n",
    "    base_row.append(f\"{mae:.4f} [{class_freqs_base[i]}]\")\n",
    "table_data.append(base_row)\n",
    "\n",
    "# Equal model\n",
    "overall_mae_equal = mean_avg_error(np.array(mcce['true_labels']), np.array(mcce['predictions']))\n",
    "class_maes_equal = compute_class_mae(mcce['true_labels'], mcce['predictions'])\n",
    "class_freqs_equal = count_class_frequencies(mcce['true_labels'])\n",
    "equal_row = [\"Equal\", f\"{overall_mae_equal:.4f} [{len(mcce['true_labels'])}]\"]\n",
    "for i, mae in enumerate(class_maes_equal):\n",
    "    equal_row.append(f\"{mae:.4f} [{class_freqs_equal[i]}]\")\n",
    "table_data.append(equal_row)\n",
    "\n",
    "# Blacklist model\n",
    "overall_mae_blacklist = mean_avg_error(np.array(mccb['true_labels']), np.array(mccb['predictions']))\n",
    "class_maes_blacklist = compute_class_mae(mccb['true_labels'], mccb['predictions'])\n",
    "class_freqs_blacklist = count_class_frequencies(mccb['true_labels'])\n",
    "blacklist_row = [\"Blacklist\", f\"{overall_mae_blacklist:.4f} [{len(mccb['true_labels'])}]\"]\n",
    "for i, mae in enumerate(class_maes_blacklist):\n",
    "    blacklist_row.append(f\"{mae:.4f} [{class_freqs_blacklist[i]}]\")\n",
    "table_data.append(blacklist_row)\n",
    "\n",
    "# Equal-Blacklist model\n",
    "overall_mae_equal_blacklist = mean_avg_error(np.array(mcceb['true_labels']), np.array(mcceb['predictions']))\n",
    "class_maes_equal_blacklist = compute_class_mae(mcceb['true_labels'], mcceb['predictions'])\n",
    "class_freqs_equal_blacklist = count_class_frequencies(mcceb['true_labels'])\n",
    "equal_blacklist_row = [\"Equal-Blacklist\", f\"{overall_mae_equal_blacklist:.4f} [{len(mcceb['true_labels'])}]\"]\n",
    "for i, mae in enumerate(class_maes_equal_blacklist):\n",
    "    equal_blacklist_row.append(f\"{mae:.4f} [{class_freqs_equal_blacklist[i]}]\")\n",
    "table_data.append(equal_blacklist_row)\n",
    "\n",
    "print(tabulate(table_data,\n",
    "               [\"Model\", \"Overall MAE\", \"Century 0\", \"Century 1\", \"Century 2\", \"Century 3\", \"Century 4\"], \n",
    "               tablefmt=\"grid\"))"
   ]
  },
  {
   "cell_type": "code",
   "execution_count": 64,
   "id": "db099c96-3b6d-4eb8-9e51-401f6f694169",
   "metadata": {
    "tags": []
   },
   "outputs": [
    {
     "name": "stdout",
     "output_type": "stream",
     "text": [
      "+-----------------+----------------+-------------+--------------+----------------+---------------+--------------+\n",
      "| Model           | Overall MAE    | Century 0   | Century 1    | Century 2      | Century 3     | Century 4    |\n",
      "+=================+================+=============+==============+================+===============+==============+\n",
      "| Base            | 0.0764 [48400] | 0.0000 [11] | 0.2633 [471] | 0.0710 [44212] | 0.0890 [3249] | 0.3129 [457] |\n",
      "+-----------------+----------------+-------------+--------------+----------------+---------------+--------------+\n",
      "| Equal           | 1.0748 [48400] | 1.0000 [11] | 0.0807 [471] | 1.1461 [44212] | 0.3598 [3249] | 0.2823 [457] |\n",
      "+-----------------+----------------+-------------+--------------+----------------+---------------+--------------+\n",
      "| Blacklist       | 0.0170 [48400] | 0.0000 [11] | 0.0722 [471] | 0.0072 [44212] | 0.0883 [3249] | 0.4026 [457] |\n",
      "+-----------------+----------------+-------------+--------------+----------------+---------------+--------------+\n",
      "| Equal-Blacklist | 0.9968 [48400] | 0.5455 [11] | 0.8217 [471] | 1.0135 [44212] | 0.7695 [3249] | 1.1904 [457] |\n",
      "+-----------------+----------------+-------------+--------------+----------------+---------------+--------------+\n"
     ]
    }
   ],
   "source": [
    "table_data = []\n",
    "\n",
    "\n",
    "# Base model\n",
    "overall_mae_base = mean_avg_error(np.array(bmcc['true_labels']), np.array(bmcc['predictions']))\n",
    "class_maes_base = compute_class_mae(bmcc['true_labels'], bmcc['predictions'])\n",
    "class_freqs_base = count_class_frequencies(bmcc['true_labels'])\n",
    "base_row = [\"Base\", f\"{overall_mae_base:.4f} [{len(bmcc['true_labels'])}]\"]\n",
    "for i, mae in enumerate(class_maes_base):\n",
    "    base_row.append(f\"{mae:.4f} [{class_freqs_base[i]}]\")\n",
    "table_data.append(base_row)\n",
    "\n",
    "# Equal model\n",
    "overall_mae_equal = mean_avg_error(np.array(bmcce['true_labels']), np.array(bmcce['predictions']))\n",
    "class_maes_equal = compute_class_mae(bmcce['true_labels'], bmcce['predictions'])\n",
    "class_freqs_equal = count_class_frequencies(bmcce['true_labels'])\n",
    "equal_row = [\"Equal\", f\"{overall_mae_equal:.4f} [{len(bmcce['true_labels'])}]\"]\n",
    "for i, mae in enumerate(class_maes_equal):\n",
    "    equal_row.append(f\"{mae:.4f} [{class_freqs_equal[i]}]\")\n",
    "table_data.append(equal_row)\n",
    "\n",
    "# Blacklist model\n",
    "overall_mae_blacklist = mean_avg_error(np.array(bmccb['true_labels']), np.array(bmccb['predictions']))\n",
    "class_maes_blacklist = compute_class_mae(bmccb['true_labels'], bmccb['predictions'])\n",
    "class_freqs_blacklist = count_class_frequencies(bmccb['true_labels'])\n",
    "blacklist_row = [\"Blacklist\", f\"{overall_mae_blacklist:.4f} [{len(bmccb['true_labels'])}]\"]\n",
    "for i, mae in enumerate(class_maes_blacklist):\n",
    "    blacklist_row.append(f\"{mae:.4f} [{class_freqs_blacklist[i]}]\")\n",
    "table_data.append(blacklist_row)\n",
    "\n",
    "# Equal-Blacklist model\n",
    "overall_mae_equal_blacklist = mean_avg_error(np.array(bmcceb['true_labels']), np.array(bmcceb['predictions']))\n",
    "class_maes_equal_blacklist = compute_class_mae(bmcceb['true_labels'], bmcceb['predictions'])\n",
    "class_freqs_equal_blacklist = count_class_frequencies(bmcceb['true_labels'])\n",
    "equal_blacklist_row = [\"Equal-Blacklist\", f\"{overall_mae_equal_blacklist:.4f} [{len(bmcceb['true_labels'])}]\"]\n",
    "for i, mae in enumerate(class_maes_equal_blacklist):\n",
    "    equal_blacklist_row.append(f\"{mae:.4f} [{class_freqs_equal_blacklist[i]}]\")\n",
    "table_data.append(equal_blacklist_row)\n",
    "\n",
    "print(tabulate(table_data,\n",
    "               [\"Model\", \"Overall MAE\", \"Century 0\", \"Century 1\", \"Century 2\", \"Century 3\", \"Century 4\"], \n",
    "               tablefmt=\"grid\"))"
   ]
  },
  {
   "cell_type": "code",
   "execution_count": 65,
   "id": "7a16cc26-897d-49b8-be75-2ad94fb57351",
   "metadata": {
    "tags": []
   },
   "outputs": [
    {
     "data": {
      "image/png": "[encoded data removed]",
      "text/plain": [
       "<Figure size 2000x800 with 4 Axes>"
      ]
     },
     "metadata": {},
     "output_type": "display_data"
    }
   ],
   "source": [
    "plot_confusion_matrix(bmccb['true_labels'], bmccb['predictions'], n_classes=5)"
   ]
  },
  {
   "cell_type": "markdown",
   "id": "3cb3d819-9c2f-44c9-8922-3a5e6938d006",
   "metadata": {},
   "source": [
    "#### Conformal Prediction"
   ]
  },
  {
   "cell_type": "code",
   "execution_count": 68,
   "id": "3cdf304a-8a16-4d70-b5aa-5e8dc2933b8d",
   "metadata": {
    "tags": []
   },
   "outputs": [],
   "source": [
    "X_calib_21, X_test_21, y_calib_21, y_test_21 = train_test_split(\n",
    "    X_valid_21, y_valid_21, test_size=0.5, random_state=RANDOM_SEED\n",
    ")\n",
    "\n",
    "calib_21_dataset = TextDataset(X_calib_21, y_calib_21, valid_path)\n",
    "test_21_dataset = TextDataset(X_test_21, y_test_21, valid_path)\n",
    "calib_21_dataloader = DataLoader(calib_21_dataset, batch_size=16, shuffle=False)\n",
    "test_21_dataloader = DataLoader(test_21_dataset, batch_size=16, shuffle=False)"
   ]
  },
  {
   "cell_type": "code",
   "execution_count": null,
   "id": "330d5e36-b29e-4778-b8a5-98cd331f02dd",
   "metadata": {},
   "outputs": [
    {
     "name": "stderr",
     "output_type": "stream",
     "text": [
      "100%|█████████████████████████████████████████████████████████████████████████████████████████████████████████████████████████████████████████████████████████████████████████████| 1708/1708 [25:17<00:00,  1.13it/s]\n"
     ]
    }
   ],
   "source": [
    "# Calibration\n",
    "calib_21_probs = []\n",
    "calib_21_preds = []\n",
    "calib_21_true = []\n",
    "\n",
    "model_century_classifier.eval()\n",
    "\n",
    "with torch.no_grad():\n",
    "    for text, labels in tqdm(calib_21_dataloader):\n",
    "        tokens = tokenizer(text, padding='max_length', truncation=True, return_tensors=\"pt\", max_length=512*3).to(device)\n",
    "        output = model_century_classifier(**tokens)\n",
    "        probabilities = torch.softmax(output, dim=1)\n",
    "        predictions = output.argmax(dim=1)\n",
    "        calib_21_probs.extend(probabilities.detach().cpu().numpy())\n",
    "        calib_21_preds.extend(predictions.detach().cpu().numpy())\n",
    "        calib_21_true.extend(labels.cpu().numpy())"
   ]
  },
  {
   "cell_type": "code",
   "execution_count": null,
   "id": "479f3278-70a6-49fd-b0e6-697036a3356f",
   "metadata": {},
   "outputs": [],
   "source": [
    "# Group calibration data by true class\n",
    "class_nonconformity_21 = {class_idx: [] for class_idx in range(5)}\n",
    "\n",
    "# Compute class-specific nonconformity scores\n",
    "for i, (prob, true_label) in enumerate(zip(calib_21_probs, calib_21_true)):\n",
    "    nonconformity = 1 - prob[true_label]\n",
    "    class_nonconformity_21[true_label].append(nonconformity)\n",
    "\n",
    "# Calculate threshold for each class\n",
    "class_thresholds_21 = {}\n",
    "confidence_level = 0.90\n",
    "alpha = 1 - confidence_level\n",
    "\n",
    "n_samples = len(calib_21_true)\n",
    "for class_idx, scores in class_nonconformity_21.items():\n",
    "    q = np.ceil((n_samples + 1) * (1 - alpha)) / n_samples # corrected formula\n",
    "    class_thresholds_21[class_idx] = np.quantile(scores, q)   "
   ]
  },
  {
   "cell_type": "code",
   "execution_count": null,
   "id": "cc2f68cb-d687-430b-a564-9e12d01e70a1",
   "metadata": {},
   "outputs": [
    {
     "name": "stderr",
     "output_type": "stream",
     "text": [
      "100%|█████████████████████████████████████████████████████████████████████████████████████████████████████████████████████████████████████████████████████████████████████████████| 1708/1708 [25:00<00:00,  1.14it/s]\n"
     ]
    }
   ],
   "source": [
    "test_preds_21 = []\n",
    "test_intervals_21 = []\n",
    "test_true_21 = []\n",
    "test_probs_21 = []\n",
    "\n",
    "with torch.no_grad():\n",
    "    for text, labels in tqdm(test_21_dataloader):\n",
    "        tokens = tokenizer(text, padding='max_length', truncation=True, return_tensors=\"pt\", max_length=512*3).to(device)\n",
    "        output = model_century_classifier(**tokens)\n",
    "        probabilities = torch.softmax(output, dim=1)\n",
    "        predictions = output.argmax(dim=1)      \n",
    "        for i, prob in enumerate(probabilities): # Iterate on the batch\n",
    "            pred = predictions[i].item()\n",
    "            true_label = labels[i].item()          \n",
    "            # Create prediction set using class-specific thresholds\n",
    "            prediction_set = []\n",
    "            for label in range(5):\n",
    "                # Use threshold specific to the candidate class\n",
    "                if 1 - prob[label].item() <= class_thresholds_21[label]:\n",
    "                    prediction_set.append(label)  \n",
    "                    \n",
    "            test_preds_21.append(pred)\n",
    "            test_intervals_21.append(prediction_set)\n",
    "            test_true_21.append(true_label)\n",
    "            test_probs_21.append(prob.detach().cpu().numpy())"
   ]
  },
  {
   "cell_type": "code",
   "execution_count": 127,
   "id": "92242db4-13b6-4a71-a059-5480386d324b",
   "metadata": {
    "tags": []
   },
   "outputs": [
    {
     "name": "stdout",
     "output_type": "stream",
     "text": [
      "argmax (MAE): 0.2504574398009222\n",
      "argmax int (MAE): 0.41023201346702776\n",
      "variance (MAE): 1.0482324526092366\n",
      "variance rel (MAE): 1.0225792285735198\n"
     ]
    }
   ],
   "source": [
    "test_preds_argmax_21 = []\n",
    "test_preds_argmax_int_21 = []\n",
    "test_preds_var_21 = []\n",
    "test_preds_var_rel_21 = []\n",
    "\n",
    "\n",
    "test_true_var_21 = []\n",
    "thslds_21 = [ 1 - x for x in class_thresholds_21.values()]\n",
    "\n",
    "#for idx in range(len(test_probs_21)):\n",
    "for idx, tidx in enumerate(X_test_21):\n",
    "    \n",
    "    tidx = int(tidx.replace('valid_text', '').replace('.txt', ''))\n",
    "    # if tidx in blacklist_valid:\n",
    "    #    continue\n",
    "    \n",
    "    intervals = test_intervals_21[idx]\n",
    "    #if len(intervals) != 1:\n",
    "    #    continue\n",
    "    true_label = test_true_21[idx]\n",
    "    probs = test_probs_21[idx]\n",
    "    \n",
    "    exeeding_argmax = np.zeros(5)\n",
    "    exeeding_idx = np.zeros(5)\n",
    "    exeeding_rel_idx = np.zeros(5)\n",
    "    \n",
    "    for interval in intervals:\n",
    "        if probs[interval] > thslds_21[interval]:\n",
    "            \n",
    "            exeeding_argmax[interval] = probs[interval]\n",
    "            \n",
    "            exeeding_idx[interval] = abs(probs[interval]-thslds_21[interval])\n",
    "            \n",
    "            exeeding_rel_idx[interval] = abs(probs[interval]-thslds_21[interval]) / (1-thslds_21[interval]) #thslds_21[interval] #probs[interval]\n",
    "            \n",
    "    test_preds_argmax_21.append(np.argmax(probs))\n",
    "    test_preds_argmax_int_21.append(np.argmax(exeeding_argmax))\n",
    "    test_preds_var_21.append(np.argmax(exeeding_idx))\n",
    "    test_preds_var_rel_21.append(np.argmax(exeeding_rel_idx))\n",
    "    \n",
    "    test_true_var_21.append(true_label)\n",
    "    \n",
    "print(f\"argmax (MAE): {mean_avg_error(np.array(test_true_var_21), np.array(test_preds_argmax_21))}\")\n",
    "print(f\"argmax int (MAE): {mean_avg_error(np.array(test_true_var_21), np.array(test_preds_argmax_int_21))}\")\n",
    "print(f\"variance (MAE): {mean_avg_error(np.array(test_true_var_21), np.array(test_preds_var_21))}\")\n",
    "print(f\"variance rel (MAE): {mean_avg_error(np.array(test_true_var_21), np.array(test_preds_var_rel_21))}\")"
   ]
  },
  {
   "cell_type": "code",
   "execution_count": 128,
   "id": "2433f149-85dd-49a6-8123-bf1f3cef81f1",
   "metadata": {
    "tags": []
   },
   "outputs": [
    {
     "name": "stdout",
     "output_type": "stream",
     "text": [
      "+-----------------+----------------+---------------+---------------+----------------+---------------+--------------+\n",
      "| Mode            | Overall MAE    | Century 0     | Century 1     | Century 2      | Century 3     | Century 4    |\n",
      "+=================+================+===============+===============+================+===============+==============+\n",
      "| argmax          | 0.2505 [27326] | 2.0000 [1508] | 1.0000 [1696] | 0.0007 [22243] | 1.0024 [1652] | 2.0264 [227] |\n",
      "+-----------------+----------------+---------------+---------------+----------------+---------------+--------------+\n",
      "| argmax interval | 0.4102 [27326] | 1.8130 [1508] | 1.0106 [1696] | 0.1966 [22243] | 1.1429 [1652] | 2.2115 [227] |\n",
      "+-----------------+----------------+---------------+---------------+----------------+---------------+--------------+\n",
      "| var             | 1.0482 [27326] | 1.4980 [1508] | 0.8066 [1696] | 0.9855 [22243] | 1.5738 [1652] | 2.1850 [227] |\n",
      "+-----------------+----------------+---------------+---------------+----------------+---------------+--------------+\n",
      "| var rel         | 1.0226 [27326] | 1.4894 [1508] | 0.7807 [1696] | 0.9562 [22243] | 1.5732 [1652] | 2.2247 [227] |\n",
      "+-----------------+----------------+---------------+---------------+----------------+---------------+--------------+\n"
     ]
    }
   ],
   "source": [
    "table_data = []\n",
    "\n",
    "\n",
    "# Argmax model\n",
    "overall_mae_base = mean_avg_error(np.array(test_true_var_21), np.array(test_preds_argmax_21))\n",
    "class_maes_base = compute_class_mae(test_true_var_21, test_preds_argmax_21)\n",
    "class_freqs_base = count_class_frequencies(test_true_var_21)\n",
    "argmax_row = [\"argmax\", f\"{overall_mae_base:.4f} [{len(test_true_var_21)}]\"]\n",
    "for i, mae in enumerate(class_maes_base):\n",
    "    argmax_row.append(f\"{mae:.4f} [{class_freqs_base[i]}]\")\n",
    "table_data.append(argmax_row)\n",
    "\n",
    "# Argmax int model\n",
    "overall_mae_base = mean_avg_error(np.array(test_true_var_21), np.array(test_preds_argmax_int_21))\n",
    "class_maes_base = compute_class_mae(test_true_var_21, test_preds_argmax_int_21)\n",
    "class_freqs_base = count_class_frequencies(test_true_var_21)\n",
    "argmax_int_row = [\"argmax interval\", f\"{overall_mae_base:.4f} [{len(test_true_var_21)}]\"]\n",
    "for i, mae in enumerate(class_maes_base):\n",
    "    argmax_int_row.append(f\"{mae:.4f} [{class_freqs_base[i]}]\")\n",
    "table_data.append(argmax_int_row)\n",
    "\n",
    "# Variance model\n",
    "overall_mae_base = mean_avg_error(np.array(test_true_var_21), np.array(test_preds_var_21))\n",
    "class_maes_base = compute_class_mae(test_true_var_21, test_preds_var_21)\n",
    "class_freqs_base = count_class_frequencies(test_true_var_21)\n",
    "var_row = [\"var\", f\"{overall_mae_base:.4f} [{len(test_true_var_21)}]\"]\n",
    "for i, mae in enumerate(class_maes_base):\n",
    "    var_row.append(f\"{mae:.4f} [{class_freqs_base[i]}]\")\n",
    "table_data.append(var_row)\n",
    "\n",
    "# Var rel model\n",
    "overall_mae_base = mean_avg_error(np.array(test_true_var_21), np.array(test_preds_var_rel_21))\n",
    "class_maes_base = compute_class_mae(test_true_var_21, test_preds_var_rel_21)\n",
    "class_freqs_base = count_class_frequencies(test_true_var_21)\n",
    "var_rel_row = [\"var rel\", f\"{overall_mae_base:.4f} [{len(test_true_var_21)}]\"]\n",
    "for i, mae in enumerate(class_maes_base):\n",
    "    var_rel_row.append(f\"{mae:.4f} [{class_freqs_base[i]}]\")\n",
    "table_data.append(var_rel_row)\n",
    "\n",
    "print(tabulate(table_data,\n",
    "               [\"Mode\", \"Overall MAE\", \"Century 0\", \"Century 1\", \"Century 2\", \"Century 3\", \"Century 4\"], \n",
    "               tablefmt=\"grid\"))"
   ]
  },
  {
   "cell_type": "code",
   "execution_count": 129,
   "id": "e0aac866-9ed7-4896-9987-55122fe604c5",
   "metadata": {},
   "outputs": [
    {
     "name": "stdout",
     "output_type": "stream",
     "text": [
      "[34] Pred: 2 - True 1\n",
      "[0, 1, 2, 3]\n",
      "2\n"
     ]
    },
    {
     "data": {
      "image/png": "[encoded data removed]",
      "text/plain": [
       "<Figure size 640x480 with 1 Axes>"
      ]
     },
     "metadata": {},
     "output_type": "display_data"
    }
   ],
   "source": [
    "limit = 1\n",
    "for idx in range(len(test_probs_21)):\n",
    "    ex_prob = test_probs_21[idx]\n",
    "    if np.argmax(ex_prob) == test_true_21[idx]:\n",
    "        continue\n",
    "        \n",
    "    #if abs(np.argmax(ex_prob) - test_true_21[idx]) < 5:\n",
    "    #    continue\n",
    "        \n",
    "    print(f\"[{idx}] Pred: {np.argmax(ex_prob)} - True {test_true_21[idx]}\")\n",
    "    print(test_intervals_21[idx])\n",
    "    print(test_preds_21[idx])\n",
    "    oks = [ x if 1 - x <= y else 0  for x, y in zip(ex_prob, class_thresholds_21.values()) ]\n",
    "    not_oks = [ x if 1 - x > y else 0  for x, y in zip(ex_prob, class_thresholds_21.values()) ]\n",
    "\n",
    "    plt.bar(class_thresholds_21.keys(), [ 1 - x for x in class_thresholds_21.values()], color='grey', alpha=0.3, label='threshold')\n",
    "    #plt.bar(range(43), ex_prob, alpha=0.3)\n",
    "    plt.bar(range(5), oks, alpha=0.3, color='green', label='over')\n",
    "    plt.bar(range(5), not_oks, alpha=0.3, color='red', label='under')\n",
    "    \n",
    "    gt = np.zeros(5)\n",
    "    gt[test_true_21[idx]] = 1\n",
    "    plt.bar(range(5), gt, alpha=0.2, edgecolor='black', label='truth value')\n",
    "    plt.ylim(0,1)\n",
    "    plt.legend()\n",
    "    plt.show()\n",
    "    \n",
    "    limit -= 1\n",
    "    if limit == 0:\n",
    "        break"
   ]
  },
  {
   "cell_type": "markdown",
   "id": "e692eaff-927b-4ec0-a51c-cf4e13094aee",
   "metadata": {},
   "source": [
    "## Decade"
   ]
  },
  {
   "cell_type": "code",
   "execution_count": 131,
   "id": "8329f13e-3862-4fcd-9180-cda8b2790ef1",
   "metadata": {
    "tags": []
   },
   "outputs": [],
   "source": [
    "class DecadeClassifier(nn.Module):\n",
    "    def __init__(self, century_model, num_decades=10):\n",
    "        super(DecadeClassifier, self).__init__()\n",
    "       \n",
    "        self.bert = century_model.bert\n",
    "        \n",
    "        for param in self.bert.parameters():\n",
    "            param.requires_grad = False\n",
    "            \n",
    "        self.dropout = nn.Dropout(0.1)\n",
    "        \n",
    "        self.classifier = nn.Linear(self.bert.config.hidden_size, num_decades)\n",
    "        self.century_to_decade = nn.Linear(5, num_decades)\n",
    "        \n",
    "    def forward(self, input_ids, attention_mask, century_logits=None, token_type_ids=None):\n",
    "        \n",
    "        outputs = self.bert(input_ids, token_type_ids=token_type_ids, attention_mask=attention_mask)\n",
    "        pooled_output = outputs.pooler_output\n",
    "        pooled_output = self.dropout(pooled_output)\n",
    "        \n",
    "        \n",
    "        decade_logits = self.classifier(pooled_output)\n",
    "        \n",
    "        if century_logits is not None:\n",
    "            century_contribution = self.century_to_decade(century_logits)\n",
    "            decade_logits = decade_logits + century_contribution\n",
    "            \n",
    "        return decade_logits"
   ]
  },
  {
   "cell_type": "markdown",
   "id": "a4a7fa88-e69e-4245-abe7-cc438851a32b",
   "metadata": {},
   "source": [
    "### Evaluation"
   ]
  },
  {
   "cell_type": "code",
   "execution_count": 137,
   "id": "93ead00d-2171-4610-89f3-afde41c9298d",
   "metadata": {
    "tags": []
   },
   "outputs": [
    {
     "name": "stdout",
     "output_type": "stream",
     "text": [
      "Model loaded!\n"
     ]
    }
   ],
   "source": [
    "# Base model\n",
    "\n",
    "model_century_classifier = CenturyClassifier(model, 5)\n",
    "model_century_classifier.load_state_dict(torch.load('models/task21/century_classifier_weights_3.pt'))\n",
    "model_century_classifier.to(device)\n",
    "\n",
    "model_decade_classifier = DecadeClassifier(model_century_classifier)\n",
    "model_decade_classifier.load_state_dict(torch.load('models/task22/decade_classifier_weights_3_frozen.pt'))\n",
    "model_decade_classifier.to(device)\n",
    "\n",
    "model_century_classifier_blk = CenturyClassifier(model, 5)\n",
    "model_century_classifier_blk.load_state_dict(torch.load('models/task21/century_classifier_weights_3_blacklist.pt'))\n",
    "model_century_classifier_blk.to(device)\n",
    "\n",
    "model_decade_classifier_blk = DecadeClassifier(model_century_classifier_blk)\n",
    "model_decade_classifier_blk.load_state_dict(torch.load('models/task22/decade_classifier_weights_3_blacklist_frozen.pt'))\n",
    "model_decade_classifier_blk.to(device)\n",
    "\n",
    "print('Model loaded!')"
   ]
  },
  {
   "cell_type": "markdown",
   "id": "18160ba8-2c47-41d7-b3fc-573eedf15197",
   "metadata": {},
   "source": [
    "#### Standrard"
   ]
  },
  {
   "cell_type": "code",
   "execution_count": 136,
   "id": "ef8578a7-f974-4431-bb8f-dda39b915bfa",
   "metadata": {
    "tags": []
   },
   "outputs": [
    {
     "name": "stderr",
     "output_type": "stream",
     "text": [
      "100%|█████████████████████████████████████████████████████████████████████████████████████████████████████████████████████████████████████████████████████████████████████████████| 3416/3416 [38:02<00:00,  1.50it/s]"
     ]
    },
    {
     "name": "stdout",
     "output_type": "stream",
     "text": [
      "MAE (without CP) [All]: 2.545900349490403\n"
     ]
    },
    {
     "name": "stderr",
     "output_type": "stream",
     "text": [
      "\n"
     ]
    }
   ],
   "source": [
    "y_test_pred_22 = []\n",
    "y_test_true_22 = []\n",
    "\n",
    "with torch.no_grad():\n",
    "    for text, labels in tqdm(valid22_dataloader):\n",
    "        tokens = tokenizer(text, padding='max_length', truncation=True, return_tensors=\"pt\", max_length=512*3,).to(device)\n",
    "        output = model_decade_classifier(**tokens)\n",
    "        predictions = output.argmax(dim=1)\n",
    "        y_test_pred_22.extend(predictions.detach().cpu().numpy())\n",
    "        y_test_true_22.extend(labels.cpu().numpy())\n",
    "        \n",
    "print(f\"MAE (without CP) [All]: {mean_avg_error(np.array(y_test_true_22), np.array(y_test_pred_22))}\")"
   ]
  },
  {
   "cell_type": "code",
   "execution_count": 138,
   "id": "0e3622ea-b6f2-460c-bdf4-c12f7258b4e3",
   "metadata": {
    "tags": []
   },
   "outputs": [
    {
     "name": "stderr",
     "output_type": "stream",
     "text": [
      "100%|█████████████████████████████████████████████████████████████████████████████████████████████████████████████████████████████████████████████████████████████████████████████| 3416/3416 [38:01<00:00,  1.50it/s]"
     ]
    },
    {
     "name": "stdout",
     "output_type": "stream",
     "text": [
      "MAE (without CP) [All]: 2.508261513970467\n"
     ]
    },
    {
     "name": "stderr",
     "output_type": "stream",
     "text": [
      "\n"
     ]
    }
   ],
   "source": [
    "y_test_pred_22_blk = []\n",
    "y_test_true_22_blk = []\n",
    "\n",
    "with torch.no_grad():\n",
    "    for text, labels in tqdm(valid22_dataloader):\n",
    "        tokens = tokenizer(text, padding='max_length', truncation=True, return_tensors=\"pt\", max_length=512*3,).to(device)\n",
    "        output = model_decade_classifier_blk(**tokens)\n",
    "        predictions = output.argmax(dim=1)\n",
    "        y_test_pred_22_blk.extend(predictions.detach().cpu().numpy())\n",
    "        y_test_true_22_blk.extend(labels.cpu().numpy())\n",
    "        \n",
    "print(f\"MAE (without CP) [All]: {mean_avg_error(np.array(y_test_true_22_blk), np.array(y_test_pred_22_blk))}\")"
   ]
  },
  {
   "cell_type": "markdown",
   "id": "a89843bf-5c00-4aaf-b6e6-5783257a9e0f",
   "metadata": {},
   "source": [
    "#### Confromal "
   ]
  },
  {
   "cell_type": "code",
   "execution_count": 139,
   "id": "460fa99b-410c-45df-97bb-74fa008aeb3a",
   "metadata": {
    "tags": []
   },
   "outputs": [],
   "source": [
    "X_calib_22, X_test_22, y_calib_22, y_test_22 = train_test_split(\n",
    "    X_valid_22, y_valid_22, test_size=0.5, random_state=RANDOM_SEED\n",
    ")\n",
    "\n",
    "calib_22_dataset = TextDataset(X_calib_22, y_calib_22, valid_path)\n",
    "test_22_dataset = TextDataset(X_test_22, y_test_22, valid_path)\n",
    "calib_22_dataloader = DataLoader(calib_22_dataset, batch_size=16, shuffle=False)\n",
    "test_22_dataloader = DataLoader(test_22_dataset, batch_size=16, shuffle=False)"
   ]
  },
  {
   "cell_type": "code",
   "execution_count": 140,
   "id": "d061ebd6-6884-40d8-97d3-8cd83c76f3f5",
   "metadata": {
    "tags": []
   },
   "outputs": [
    {
     "name": "stderr",
     "output_type": "stream",
     "text": [
      "100%|█████████████████████████████████████████████████████████████████████████████████████████████████████████████████████████████████████████████████████████████████████████████| 1708/1708 [18:53<00:00,  1.51it/s]\n"
     ]
    }
   ],
   "source": [
    "# Calibration\n",
    "calib_22_probs = []\n",
    "calib_22_preds = []\n",
    "calib_22_true = []\n",
    "\n",
    "model_decade_classifier.eval()\n",
    "\n",
    "with torch.no_grad():\n",
    "    for text, labels in tqdm(calib_22_dataloader):\n",
    "        tokens = tokenizer(text, padding='max_length', truncation=True, return_tensors=\"pt\", max_length=512*3).to(device)\n",
    "        output = model_decade_classifier(**tokens)\n",
    "        probabilities = torch.softmax(output, dim=1)\n",
    "        predictions = output.argmax(dim=1)\n",
    "        calib_22_probs.extend(probabilities.detach().cpu().numpy())\n",
    "        calib_22_preds.extend(predictions.detach().cpu().numpy())\n",
    "        calib_22_true.extend(labels.cpu().numpy())"
   ]
  },
  {
   "cell_type": "code",
   "execution_count": 142,
   "id": "f47a4a37-6ddf-47ea-83a4-6e07378bbd8b",
   "metadata": {
    "tags": []
   },
   "outputs": [],
   "source": [
    "# Group calibration data by true class\n",
    "class_nonconformity_22 = {class_idx: [] for class_idx in range(10)}\n",
    "\n",
    "# Compute class-specific nonconformity scores\n",
    "for i, (prob, true_label) in enumerate(zip(calib_22_probs, calib_22_true)):\n",
    "    nonconformity = 1 - prob[true_label]\n",
    "    class_nonconformity_22[true_label].append(nonconformity)\n",
    "\n",
    "# Calculate threshold for each class\n",
    "class_thresholds_22 = {}\n",
    "confidence_level = 0.90\n",
    "alpha = 1 - confidence_level\n",
    "\n",
    "n_samples = len(calib_22_true)\n",
    "for class_idx, scores in class_nonconformity_22.items():\n",
    "    q = np.ceil((n_samples + 1) * (1 - alpha)) / n_samples # corrected formula\n",
    "    class_thresholds_22[class_idx] = np.quantile(scores, q)   "
   ]
  },
  {
   "cell_type": "code",
   "execution_count": 143,
   "id": "e1c6a961-fcae-4b55-bb9e-b50a501f6048",
   "metadata": {
    "tags": []
   },
   "outputs": [
    {
     "name": "stderr",
     "output_type": "stream",
     "text": [
      "100%|█████████████████████████████████████████████████████████████████████████████████████████████████████████████████████████████████████████████████████████████████████████████| 1708/1708 [18:57<00:00,  1.50it/s]\n"
     ]
    }
   ],
   "source": [
    "test_preds_22 = []\n",
    "test_intervals_22 = []\n",
    "test_true_22 = []\n",
    "test_probs_22 = []\n",
    "\n",
    "with torch.no_grad():\n",
    "    for text, labels in tqdm(test_22_dataloader):\n",
    "        tokens = tokenizer(text, padding='max_length', truncation=True, return_tensors=\"pt\", max_length=512*3).to(device)\n",
    "        output = model_decade_classifier(**tokens)\n",
    "        probabilities = torch.softmax(output, dim=1)\n",
    "        predictions = output.argmax(dim=1)      \n",
    "        for i, prob in enumerate(probabilities): # Iterate on the batch\n",
    "            pred = predictions[i].item()\n",
    "            true_label = labels[i].item()          \n",
    "            # Create prediction set using class-specific thresholds\n",
    "            prediction_set = []\n",
    "            for label in range(10):\n",
    "                # Use threshold specific to the candidate class\n",
    "                if 1 - prob[label].item() <= class_thresholds_22[label]:\n",
    "                    prediction_set.append(label)  \n",
    "                    \n",
    "            test_preds_22.append(pred)\n",
    "            test_intervals_22.append(prediction_set)\n",
    "            test_true_22.append(true_label)\n",
    "            test_probs_22.append(prob.detach().cpu().numpy())"
   ]
  },
  {
   "cell_type": "code",
   "execution_count": 144,
   "id": "8b6d5c63-6798-4e63-8b54-559a9b49546b",
   "metadata": {
    "tags": []
   },
   "outputs": [
    {
     "name": "stdout",
     "output_type": "stream",
     "text": [
      "argmax (MAE): 2.56367562028837\n",
      "argmax int (MAE): 2.53004464612457\n",
      "variance (MAE): 2.703944960843153\n",
      "variance rel (MAE): 2.696735709580619\n"
     ]
    }
   ],
   "source": [
    "test_preds_argmax_22 = []\n",
    "test_preds_argmax_int_22 = []\n",
    "test_preds_var_22 = []\n",
    "test_preds_var_rel_22 = []\n",
    "\n",
    "\n",
    "test_true_var_22 = []\n",
    "thslds_22 = [ 1 - x for x in class_thresholds_22.values()]\n",
    "\n",
    "#for idx in range(len(test_probs_21)):\n",
    "for idx, tidx in enumerate(X_test_22):\n",
    "    \n",
    "    tidx = int(tidx.replace('valid_text', '').replace('.txt', ''))\n",
    "    # if tidx in blacklist_valid:\n",
    "    #    continue\n",
    "    \n",
    "    intervals = test_intervals_22[idx]\n",
    "    #if len(intervals) != 1:\n",
    "    #    continue\n",
    "    true_label = test_true_22[idx]\n",
    "    probs = test_probs_22[idx]\n",
    "    \n",
    "    exeeding_argmax = np.zeros(10)\n",
    "    exeeding_idx = np.zeros(10)\n",
    "    exeeding_rel_idx = np.zeros(10)\n",
    "    \n",
    "    for interval in intervals:\n",
    "        if probs[interval] > thslds_22[interval]:\n",
    "            \n",
    "            exeeding_argmax[interval] = probs[interval]\n",
    "            \n",
    "            exeeding_idx[interval] = abs(probs[interval]-thslds_22[interval])\n",
    "            \n",
    "            exeeding_rel_idx[interval] = abs(probs[interval]-thslds_22[interval]) / (1-thslds_22[interval]) #thslds_21[interval] #probs[interval]\n",
    "            \n",
    "    test_preds_argmax_22.append(np.argmax(probs))\n",
    "    test_preds_argmax_int_22.append(np.argmax(exeeding_argmax))\n",
    "    test_preds_var_22.append(np.argmax(exeeding_idx))\n",
    "    test_preds_var_rel_22.append(np.argmax(exeeding_rel_idx))\n",
    "    \n",
    "    test_true_var_22.append(true_label)\n",
    "    \n",
    "print(f\"argmax (MAE): {mean_avg_error(np.array(test_true_var_22), np.array(test_preds_argmax_22))}\")\n",
    "print(f\"argmax int (MAE): {mean_avg_error(np.array(test_true_var_22), np.array(test_preds_argmax_int_22))}\")\n",
    "print(f\"variance (MAE): {mean_avg_error(np.array(test_true_var_22), np.array(test_preds_var_22))}\")\n",
    "print(f\"variance rel (MAE): {mean_avg_error(np.array(test_true_var_22), np.array(test_preds_var_rel_22))}\")"
   ]
  },
  {
   "cell_type": "code",
   "execution_count": 154,
   "id": "cd938e3e-e093-43f7-bd20-774d994a4ecf",
   "metadata": {
    "tags": []
   },
   "outputs": [
    {
     "name": "stdout",
     "output_type": "stream",
     "text": [
      "+--------------+---------------+------------+------------+------------+------------+------------+------------+------------+------------+------------+------------+\n",
      "| Mode         | Overall MAE   |   Decade 0 |   Decade 1 |   Decade 2 |   Decade 3 |   Decade 4 |   Decade 5 |   Decade 6 |   Decade 7 |   Decade 8 |   Decade 9 |\n",
      "+==============+===============+============+============+============+============+============+============+============+============+============+============+\n",
      "| argmax       | 2.564 [27326] |      7.451 |      6.693 |      5.97  |      5.035 |      4.046 |      2.996 |      2.083 |      1.151 |      0.337 |      1.134 |\n",
      "+--------------+---------------+------------+------------+------------+------------+------------+------------+------------+------------+------------+------------+\n",
      "| [CP] argmax  | 2.530 [27326] |      7.195 |      6.416 |      5.847 |      5.014 |      4.035 |      2.984 |      2.085 |      1.155 |      0.345 |      1.147 |\n",
      "+--------------+---------------+------------+------------+------------+------------+------------+------------+------------+------------+------------+------------+\n",
      "| [CP] var     | 2.704 [27326] |      4.685 |      3.886 |      3.811 |      3.38  |      2.29  |      2.166 |      2.247 |      2.342 |      2.482 |      2.578 |\n",
      "+--------------+---------------+------------+------------+------------+------------+------------+------------+------------+------------+------------+------------+\n",
      "| [CP] var rel | 2.697 [27326] |      4.815 |      3.98  |      3.897 |      3.474 |      2.358 |      2.191 |      2.235 |      2.3   |      2.392 |      2.517 |\n",
      "+--------------+---------------+------------+------------+------------+------------+------------+------------+------------+------------+------------+------------+\n"
     ]
    }
   ],
   "source": [
    "table_data = []\n",
    "\n",
    "\n",
    "# Argmax model\n",
    "overall_mae_base = mean_avg_error(np.array(test_true_var_22), np.array(test_preds_argmax_22))\n",
    "class_maes_base = compute_class_mae(test_true_var_22, test_preds_argmax_22, n_classes=10)\n",
    "class_freqs_base = count_class_frequencies(test_true_var_22, n_classes=10)\n",
    "argmax_row = [\"argmax\", f\"{overall_mae_base:.3f} [{len(test_true_var_22)}]\"]\n",
    "for i, mae in enumerate(class_maes_base):\n",
    "    # argmax_row.append(f\"{mae:.3f} [{class_freqs_base[i]}]\")\n",
    "    argmax_row.append(f\"{mae:.3f}\")\n",
    "    \n",
    "table_data.append(argmax_row)\n",
    "\n",
    "# Argmax int model\n",
    "overall_mae_base = mean_avg_error(np.array(test_true_var_22), np.array(test_preds_argmax_int_22))\n",
    "class_maes_base = compute_class_mae(test_true_var_22, test_preds_argmax_int_22, n_classes=10)\n",
    "class_freqs_base = count_class_frequencies(test_true_var_22, n_classes=10)\n",
    "argmax_int_row = [\"[CP] argmax\", f\"{overall_mae_base:.3f} [{len(test_true_var_22)}]\"]\n",
    "for i, mae in enumerate(class_maes_base):\n",
    "    # argmax_int_row.append(f\"{mae:.3f} [{class_freqs_base[i]}]\")\n",
    "    argmax_int_row.append(f\"{mae:.3f}\")\n",
    "table_data.append(argmax_int_row)\n",
    "\n",
    "# Variance model\n",
    "overall_mae_base = mean_avg_error(np.array(test_true_var_22), np.array(test_preds_var_22))\n",
    "class_maes_base = compute_class_mae(test_true_var_22, test_preds_var_22, n_classes=10)\n",
    "class_freqs_base = count_class_frequencies(test_true_var_22, n_classes=10)\n",
    "var_row = [\"[CP] var\", f\"{overall_mae_base:.3f} [{len(test_true_var_22)}]\"]\n",
    "for i, mae in enumerate(class_maes_base):\n",
    "    # var_row.append(f\"{mae:.3f} [{class_freqs_base[i]}]\")\n",
    "    var_row.append(f\"{mae:.3f}\")\n",
    "table_data.append(var_row)\n",
    "\n",
    "# Var rel model\n",
    "overall_mae_base = mean_avg_error(np.array(test_true_var_22), np.array(test_preds_var_rel_22))\n",
    "class_maes_base = compute_class_mae(test_true_var_22, test_preds_var_rel_22, n_classes=10)\n",
    "class_freqs_base = count_class_frequencies(test_true_var_22, n_classes=10)\n",
    "var_rel_row = [\"[CP] var rel\", f\"{overall_mae_base:.3f} [{len(test_true_var_22)}]\"]\n",
    "for i, mae in enumerate(class_maes_base):\n",
    "    # var_rel_row.append(f\"{mae:.3f} [{class_freqs_base[i]}]\")\n",
    "    var_rel_row.append(f\"{mae:.3f}\")\n",
    "\n",
    "table_data.append(var_rel_row)\n",
    "\n",
    "print(tabulate(table_data,\n",
    "               [\"Mode\", \"Overall MAE\", \"Decade 0\", \"Decade 1\", \"Decade 2\", \"Decade 3\", \"Decade 4\", \"Decade 5\"\n",
    "               , \"Decade 6\", \"Decade 7\", \"Decade 8\", \"Decade 9\"], \n",
    "               tablefmt=\"grid\"))"
   ]
  },
  {
   "cell_type": "code",
   "execution_count": null,
   "id": "e38cea22-4ee3-47e3-9cc1-66f7ed40a959",
   "metadata": {},
   "outputs": [],
   "source": []
  }
 ],
 "metadata": {
  "kernelspec": {
   "display_name": "Python 3 (ipykernel)",
   "language": "python",
   "name": "python3"
  },
  "language_info": {
   "codemirror_mode": {
    "name": "ipython",
    "version": 3
   },
   "file_extension": ".py",
   "mimetype": "text/x-python",
   "name": "python",
   "nbconvert_exporter": "python",
   "pygments_lexer": "ipython3",
   "version": "3.10.16"
  },
  "toc-autonumbering": false,
  "toc-showcode": false,
  "toc-showmarkdowntxt": false,
  "toc-showtags": true
 },
 "nbformat": 4,
 "nbformat_minor": 5
}
